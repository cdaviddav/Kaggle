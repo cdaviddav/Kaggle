{
 "cells": [
  {
   "cell_type": "markdown",
   "metadata": {},
   "source": [
    "# Create mlflow experiment to test different classifier on their performance\n",
    "\n",
    "## Used algorithms\n",
    "- [x] LogisticRegression\n",
    "- [x] DecisionTreeClassifier\n",
    "- [x] ExtraTreesClassifier\n",
    "- [x] GradientBoostingClassifier\n",
    "- [x] RandomForestClassifier\n",
    "- [x] SVC\n",
    "- [x] xgboost\n",
    "  - [ ] implement early stopping only for xgboost (maybe use a new Jupyter notebbok but write into the same mlflow experiment)\n",
    "- [x] lightgbm\n",
    "  - [ ] implement early stopping only for lightgbm (maybe use a new Jupyter notebbok but write into the same mlflow experiment)"
   ]
  },
  {
   "cell_type": "code",
   "execution_count": 1,
   "metadata": {},
   "outputs": [
    {
     "name": "stdout",
     "output_type": "stream",
     "text": [
      "pandas version: 1.4.3\n",
      "numpy version: 1.21.5\n",
      "sklearn version: 1.1.1\n",
      "xgboost version: 1.6.1\n",
      "lightgbm version: 3.3.2\n"
     ]
    },
    {
     "name": "stderr",
     "output_type": "stream",
     "text": [
      "e:\\programs\\anaconda3\\envs\\mlflow_optuna\\lib\\site-packages\\tqdm\\auto.py:22: TqdmWarning: IProgress not found. Please update jupyter and ipywidgets. See https://ipywidgets.readthedocs.io/en/stable/user_install.html\n",
      "  from .autonotebook import tqdm as notebook_tqdm\n"
     ]
    },
    {
     "name": "stdout",
     "output_type": "stream",
     "text": [
      "optuna version: 2.10.1\n",
      "mlflow version: 1.28.0\n"
     ]
    }
   ],
   "source": [
    "import pandas as pd\n",
    "print(\"pandas version: {}\". format(pd.__version__))\n",
    "\n",
    "# numpy: support for large, multi-dimensional arrays and matrices and high-level mathematical functions\n",
    "import numpy as np\n",
    "print(\"numpy version: {}\". format(np.__version__))\n",
    "\n",
    "import sklearn\n",
    "from sklearn.preprocessing import StandardScaler, MinMaxScaler\n",
    "from sklearn.linear_model import LogisticRegression\n",
    "from sklearn.tree import DecisionTreeClassifier\n",
    "from sklearn.ensemble import ExtraTreesClassifier, GradientBoostingClassifier, RandomForestClassifier\n",
    "from sklearn.svm import SVC\n",
    "from sklearn.compose import ColumnTransformer\n",
    "from sklearn.pipeline import Pipeline\n",
    "from sklearn.decomposition import PCA\n",
    "from sklearn.model_selection import ShuffleSplit, StratifiedShuffleSplit, train_test_split, cross_val_score, learning_curve\n",
    "from sklearn.feature_selection import VarianceThreshold\n",
    "from sklearn.metrics import precision_recall_curve, roc_curve, confusion_matrix, roc_auc_score\n",
    "print(\"sklearn version: {}\". format(sklearn.__version__))\n",
    "\n",
    "import xgboost\n",
    "from xgboost import XGBClassifier\n",
    "print(\"xgboost version: {}\". format(xgboost.__version__))\n",
    "\n",
    "import lightgbm\n",
    "from lightgbm import LGBMClassifier\n",
    "print(\"lightgbm version: {}\". format(lightgbm.__version__))\n",
    "\n",
    "import optuna\n",
    "print(\"optuna version: {}\". format(optuna.__version__))\n",
    "\n",
    "import mlflow\n",
    "from mlflow.utils.mlflow_tags import MLFLOW_PARENT_RUN_ID\n",
    "from mlflow.tracking import MlflowClient\n",
    "print(\"mlflow version: {}\". format(mlflow.__version__))\n",
    "\n",
    "import matplotlib.pyplot as plt\n",
    "import seaborn as sns\n",
    "\n",
    "from datetime import datetime\n",
    "import warnings\n",
    "warnings.simplefilter('ignore')"
   ]
  },
  {
   "cell_type": "code",
   "execution_count": 2,
   "metadata": {},
   "outputs": [],
   "source": [
    "RANDOM_STATE=42\n",
    "N_TRAILS=50 # run for 50 runs\n",
    "TIMEOUT=600 # run for max 10 minutes (if the last run at 9 minutes runs for 1h, the active run is not killed)"
   ]
  },
  {
   "cell_type": "code",
   "execution_count": 3,
   "metadata": {},
   "outputs": [],
   "source": [
    "client = MlflowClient()\n",
    "try:\n",
    "    experiment = client.create_experiment(\"Titanic\")\n",
    "except:\n",
    "    experiment = client.get_experiment_by_name(\"Titanic\").experiment_id\n",
    "\n",
    "parent_run = client.create_run(experiment_id=experiment)"
   ]
  },
  {
   "cell_type": "code",
   "execution_count": 4,
   "metadata": {},
   "outputs": [],
   "source": [
    "def load_data():\n",
    "    # load prepared training and test dataset\n",
    "    df_train = pd.read_pickle('../03_dataCleaningPreparation/df_train_prepared_reduced.pkl')\n",
    "    df_test = pd.read_pickle('../03_dataCleaningPreparation/df_test_prepared_reduced.pkl')\n",
    "\n",
    "    # split the training and test dataset to the input features (x_train, x_test) and the survival class (y_train)\n",
    "    y_train = df_train['Survived']\n",
    "    x_train = df_train.drop(['Survived'], axis=1)\n",
    "    x_test = df_test\n",
    "\n",
    "    x_train, x_validate, y_train, y_validate = train_test_split(x_train, y_train, test_size=0.3, stratify = y_train, random_state = 42)\n",
    "\n",
    "    return x_train, y_train, x_validate, y_validate, x_test\n",
    "\n",
    "x_train, y_train, x_validate, y_validate, x_test = load_data()"
   ]
  },
  {
   "cell_type": "code",
   "execution_count": 5,
   "metadata": {},
   "outputs": [],
   "source": [
    "# only scale the features that are not one-hot-encoded [0,1]\n",
    "transformer_num = [\n",
    "    \"Pclass\",\n",
    "    \"Parch\",\n",
    "    \"Family\",\n",
    "    \"TNlen\",\n",
    "    \"LeadingDigit\",\n",
    "    \"Fare_bin\",\n",
    "    \"Age_bin\",\n",
    "    ]\n",
    "\n",
    "\n",
    "\n",
    "# define cross validation\n",
    "cv = ShuffleSplit(\n",
    "    n_splits = 5,\n",
    "    test_size = 0.3,\n",
    "    train_size = 0.7,\n",
    "    random_state = RANDOM_STATE\n",
    "    )"
   ]
  },
  {
   "cell_type": "code",
   "execution_count": 6,
   "metadata": {},
   "outputs": [],
   "source": [
    "def create_model(trial):   \n",
    "\n",
    "    child_run = client.create_run(\n",
    "        experiment_id=experiment,\n",
    "        tags={\n",
    "            MLFLOW_PARENT_RUN_ID: parent_run.info.run_id\n",
    "        }\n",
    "    )\n",
    "\n",
    "    ''' feature selection '''\n",
    "    feature_selection = trial.suggest_categorical(\"feature_selection\", [\"none\", \"reduce\"])\n",
    "    client.log_param(child_run.info.run_id, \"feature_selection\", feature_selection)\n",
    "\n",
    "\n",
    "\n",
    "    ''' columnprep '''\n",
    "    columnprep__transformers_num = trial.suggest_categorical(\"columnprep__transformers_num\", [\"StandardScaler\", \"MinMaxScaler\"])\n",
    "\n",
    "    if columnprep__transformers_num == \"StandardScaler\":\n",
    "        col_transform = ColumnTransformer(\n",
    "                    transformers=[\n",
    "                        ('num', StandardScaler(), transformer_num)\n",
    "                    ], remainder='passthrough'\n",
    "                )\n",
    "    elif columnprep__transformers_num == \"MinMaxScaler\":\n",
    "        col_transform = ColumnTransformer(\n",
    "            transformers=[\n",
    "                ('num', MinMaxScaler(), transformer_num)\n",
    "            ], remainder='passthrough'\n",
    "        )\n",
    "\n",
    "\n",
    "    ''' reducedim '''\n",
    "    reducedim__n_components = trial.suggest_float(\"reducedim__n_components\", 0.7, 0.9)\n",
    "    client.log_param(child_run.info.run_id, \"reducedim__n_components\", reducedim__n_components)\n",
    "\n",
    "\n",
    "    ''' algo '''\n",
    "    model_type = trial.suggest_categorical('model_type',\n",
    "        [\n",
    "            'logistic-regression',\n",
    "            'decision-tree',\n",
    "            # 'svm',\n",
    "            'xgb',\n",
    "            'lgb',\n",
    "            # 'extra_tree',\n",
    "            'randomforest-classifier',\n",
    "            # 'gradient-boosting'\n",
    "            ]\n",
    "        )\n",
    "\n",
    "\n",
    "    if model_type == 'svm':\n",
    "        svm_kernel = trial.suggest_categorical('svm_kernel', ['linear', 'poly', 'rbf', 'sigmoid'])\n",
    "        svm_C = trial.suggest_float('svm_C', 1, 500, log=True)\n",
    "        svm_degree = trial.suggest_discrete_uniform('svm_degree', 1, 5, 1)\n",
    "        \n",
    "        model = SVC(\n",
    "            kernel=svm_kernel,\n",
    "            C=svm_C,\n",
    "            degree=svm_degree,\n",
    "            probability=True,\n",
    "            random_state=RANDOM_STATE\n",
    "        )\n",
    "\n",
    "        client.log_param(child_run.info.run_id, \"svm_kernel\", svm_kernel)\n",
    "        client.log_param(child_run.info.run_id, \"svm_C\", svm_C)\n",
    "        client.log_param(child_run.info.run_id, \"svm_degree\", svm_degree)\n",
    "    \n",
    "\n",
    "    if model_type == 'logistic-regression':\n",
    "        lr_C = trial.suggest_float(\"lr_C\", 1, 500, log=True)\n",
    "        lr_penalty = trial.suggest_categorical('lr_penalty', ['l2', 'l1'])\n",
    "        if lr_penalty == 'l1':\n",
    "            lr_solver = 'saga'\n",
    "        else:\n",
    "            lr_solver = 'lbfgs'\n",
    "        \n",
    "        model = LogisticRegression(\n",
    "            C=lr_C,\n",
    "            penalty=lr_penalty,\n",
    "            solver=lr_solver,\n",
    "            random_state=RANDOM_STATE,\n",
    "            n_jobs=-1\n",
    "        )\n",
    "\n",
    "        client.log_param(child_run.info.run_id, \"lr_C\", lr_C)\n",
    "        client.log_param(child_run.info.run_id, \"lr_penalty\", lr_penalty)\n",
    "        client.log_param(child_run.info.run_id, \"lr_solver\", lr_solver)\n",
    "\n",
    "\n",
    "    if model_type == 'decision-tree':\n",
    "        dt_max_depth = trial.suggest_int('dt_max_depth', 5, x_train.shape[1])\n",
    "        dt_criterion = trial.suggest_categorical(\"dt_criterion\", ['gini', 'entropy'])\n",
    "        dt_max_leaf_nodes = trial.suggest_int(\"dt_max_leaf_nodes\", 2, 10)\n",
    "        \n",
    "        model = DecisionTreeClassifier(\n",
    "            max_depth=dt_max_depth,\n",
    "            criterion=dt_criterion,\n",
    "            max_leaf_nodes=dt_max_leaf_nodes,\n",
    "            random_state=RANDOM_STATE\n",
    "          )\n",
    "    \n",
    "        client.log_param(child_run.info.run_id, \"dt_max_depth\", dt_max_depth)\n",
    "        client.log_param(child_run.info.run_id, \"dt_criterion\", dt_criterion)\n",
    "        client.log_param(child_run.info.run_id, \"dt_max_leaf_nodes\", dt_max_leaf_nodes)\n",
    "\n",
    "\n",
    "    if model_type == 'extra_tree':\n",
    "        etc_n_estimators = trial.suggest_int('etc_n_estimators', 10, 5000)\n",
    "        etc_max_depth = trial.suggest_int('etc_max_depth', 5, x_train.shape[1])\n",
    "        etc_min_samples_split = trial.suggest_float('etc_min_samples_split', 0.05, 0.2)\n",
    "        etc_min_samples_leaf = trial.suggest_float('etc_min_samples_leaf', 0.05, 0.2)\n",
    "        etc_criterion = trial.suggest_categorical(\"etc_criterion\", ['gini', 'entropy'])\n",
    "        etc_max_leaf_nodes = trial.suggest_int(\"etc_max_leaf_nodes\", 2, 10)\n",
    "        \n",
    "        model = ExtraTreesClassifier(\n",
    "            n_estimators=etc_n_estimators,\n",
    "            max_depth=etc_max_depth,\n",
    "            min_samples_split=etc_min_samples_split,\n",
    "            min_samples_leaf=etc_min_samples_leaf,\n",
    "            criterion=etc_criterion,\n",
    "            max_leaf_nodes=etc_max_leaf_nodes,\n",
    "            random_state=RANDOM_STATE,\n",
    "            n_jobs=-1\n",
    "          )\n",
    "    \n",
    "        client.log_param(child_run.info.run_id, \"etc_n_estimators\", etc_n_estimators)\n",
    "        client.log_param(child_run.info.run_id, \"etc_max_depth\", etc_max_depth)\n",
    "        client.log_param(child_run.info.run_id, \"etc_min_samples_split\", etc_min_samples_split)\n",
    "        client.log_param(child_run.info.run_id, \"etc_min_samples_leaf\", etc_min_samples_leaf)\n",
    "        client.log_param(child_run.info.run_id, \"etc_criterion\", etc_criterion)\n",
    "        client.log_param(child_run.info.run_id, \"etc_max_leaf_nodes\", etc_max_leaf_nodes)\n",
    "\n",
    "\n",
    "    if model_type == 'randomforest-classifier':\n",
    "        rfc_n_estimators = trial.suggest_int('rfc_n_estimators', 10, 5000)\n",
    "        rfc_max_depth = trial.suggest_int('rfc_max_depth', 5, x_train.shape[1])\n",
    "        rfc_min_samples_split = trial.suggest_float('rfc_min_samples_split', 0.05, 0.2)\n",
    "        rfc_min_samples_leaf = trial.suggest_float('rfc_min_samples_leaf', 0.05, 0.2)\n",
    "        rfc_criterion = trial.suggest_categorical(\"rfc_criterion\", ['gini', 'entropy'])\n",
    "        rfc_max_leaf_nodes = trial.suggest_int(\"rfc_max_leaf_nodes\", 2, 10)\n",
    "        \n",
    "        model = RandomForestClassifier(\n",
    "            n_estimators=rfc_n_estimators,\n",
    "            max_depth=rfc_max_depth,\n",
    "            min_samples_split=rfc_min_samples_split,\n",
    "            min_samples_leaf=rfc_min_samples_leaf,\n",
    "            criterion=rfc_criterion,\n",
    "            max_leaf_nodes=rfc_max_leaf_nodes,\n",
    "            random_state=RANDOM_STATE,\n",
    "            n_jobs=-1\n",
    "          )\n",
    "    \n",
    "        client.log_param(child_run.info.run_id, \"rfc_n_estimators\", rfc_n_estimators)\n",
    "        client.log_param(child_run.info.run_id, \"rfc_max_depth\", rfc_max_depth)\n",
    "        client.log_param(child_run.info.run_id, \"rfc_min_samples_split\", rfc_min_samples_split)\n",
    "        client.log_param(child_run.info.run_id, \"rfc_min_samples_leaf\", rfc_min_samples_leaf)\n",
    "        client.log_param(child_run.info.run_id, \"rfc_criterion\", rfc_criterion)\n",
    "        client.log_param(child_run.info.run_id, \"rfc_max_leaf_nodes\", rfc_max_leaf_nodes)\n",
    "\n",
    "\n",
    "    if model_type == 'xgb':\n",
    "        xgb_n_estimators = trial.suggest_int('xgb_n_estimators', 10, 5000)\n",
    "        xgb_learning_rate = trial.suggest_float(\"xgb_learning_rate\", 0.01, 1, log=True)\n",
    "        xgb_reg_lambda = trial.suggest_float(\"xgb_reg_lambda\", 1e-9, 100, log=True)\n",
    "        xgb_reg_alpha = trial.suggest_float(\"xgb_reg_alpha\", 1e-9, 100, log=True)\n",
    "        \n",
    "        model = XGBClassifier(\n",
    "            n_estimators=xgb_n_estimators,\n",
    "            learning_rate=xgb_learning_rate,\n",
    "            reg_lambda=xgb_reg_lambda,\n",
    "            reg_alpha=xgb_reg_alpha,\n",
    "            random_state=RANDOM_STATE,\n",
    "            n_jobs = -1\n",
    "          )\n",
    "    \n",
    "        client.log_param(child_run.info.run_id, \"xgb_n_estimators\", xgb_n_estimators)\n",
    "        client.log_param(child_run.info.run_id, \"xgb_learning_rate\", xgb_learning_rate)\n",
    "        client.log_param(child_run.info.run_id, \"xgb_reg_lambda\", xgb_reg_lambda)\n",
    "        client.log_param(child_run.info.run_id, \"xgb_reg_alpha\", xgb_reg_alpha)\n",
    "\n",
    "\n",
    "    if model_type == 'lgb':\n",
    "        lgb_n_estimators = trial.suggest_int('lgb_n_estimators', 10, 5000)\n",
    "        lgb_learning_rate = trial.suggest_float(\"lgb_learning_rate\", 0.01, 10, log=True)\n",
    "        lgb_max_depth = trial.suggest_int('lgb_max_depth', 1, 16)\n",
    "        lgb_num_leaves = trial.suggest_int('lgb_num_leaves', 2, 2^lgb_max_depth+3)\n",
    "        lgb_min_data_in_leaf = trial.suggest_int('lgb_min_data_in_leaf', 0, 300)\n",
    "        lgb_subsample = trial.suggest_float('lgb_subsample', 0.01, 1)\n",
    "        lgb_feature_fraction = trial.suggest_float('lgb_feature_fraction', 0.1, 1)\n",
    "        lgb_reg_lambda = trial.suggest_float(\"lgb_reg_lambda\", 0.01, 100, log=True)\n",
    "        lgb_reg_alpha = trial.suggest_float(\"lgb_reg_alpha\", 0.01, 100, log=True)\n",
    "        \n",
    "        model = LGBMClassifier(\n",
    "            n_estimators=lgb_n_estimators,\n",
    "            learning_rate=lgb_learning_rate,\n",
    "            max_depth=lgb_max_depth,\n",
    "            num_leaves=lgb_num_leaves,\n",
    "            min_data_in_leaf=lgb_min_data_in_leaf,\n",
    "            subsample=lgb_subsample,\n",
    "            feature_fraction=lgb_feature_fraction,\n",
    "            reg_lambda=lgb_reg_lambda,\n",
    "            reg_alpha=lgb_reg_alpha,\n",
    "            # num_threads = 4,\n",
    "            random_state=RANDOM_STATE,\n",
    "            n_jobs=-1\n",
    "            # device_type='cuda_exp'\n",
    "          )\n",
    "    \n",
    "        client.log_param(child_run.info.run_id, \"lgb_n_estimators\", lgb_n_estimators)\n",
    "        client.log_param(child_run.info.run_id, \"lgb_learning_rate\", lgb_learning_rate)\n",
    "        client.log_param(child_run.info.run_id, \"lgb_max_depth\", lgb_max_depth)\n",
    "        client.log_param(child_run.info.run_id, \"lgb_num_leaves\", lgb_num_leaves)\n",
    "        client.log_param(child_run.info.run_id, \"lgb_min_data_in_leaf\", lgb_min_data_in_leaf)\n",
    "        client.log_param(child_run.info.run_id, \"lgb_subsample\", lgb_subsample)\n",
    "        client.log_param(child_run.info.run_id, \"lgb_feature_fraction\", lgb_feature_fraction)\n",
    "        client.log_param(child_run.info.run_id, \"lgb_reg_lambda\", lgb_reg_lambda)\n",
    "        client.log_param(child_run.info.run_id, \"lgb_reg_alpha\", lgb_reg_alpha)\n",
    "\n",
    "\n",
    "    if model_type == 'gradient-boosting':\n",
    "        gbc_n_estimators = trial.suggest_int('gbc_n_estimators', 10, 5000)\n",
    "        gbc_learning_rate = trial.suggest_float(\"gbc_learning_rate\", 0.01, 10, log=True)\n",
    "        gbc_max_depth = trial.suggest_int('gbc_max_depth', 1, 16)\n",
    "        gbc_min_samples_split = trial.suggest_float('gbc_min_samples_split', 0.05, 0.2)\n",
    "        gbc_min_samples_leaf = trial.suggest_float('gbc_min_samples_leaf', 0.05, 0.2)\n",
    "        gbc_max_leaf_nodes = trial.suggest_int(\"gbc_max_leaf_nodes\", 2, 10)\n",
    "        \n",
    "        model = GradientBoostingClassifier(\n",
    "            n_estimators=gbc_n_estimators,\n",
    "            learning_rate=gbc_learning_rate,\n",
    "            max_depth=gbc_max_depth,\n",
    "            min_samples_split=gbc_min_samples_split,\n",
    "            min_samples_leaf=gbc_min_samples_leaf,\n",
    "            max_leaf_nodes=gbc_max_leaf_nodes,\n",
    "            random_state=RANDOM_STATE,\n",
    "          )\n",
    "    \n",
    "        client.log_param(child_run.info.run_id, \"gbc_n_estimators\", gbc_n_estimators)\n",
    "        client.log_param(child_run.info.run_id, \"gbc_learning_rate\", gbc_learning_rate)\n",
    "        client.log_param(child_run.info.run_id, \"gbc_max_depth\", gbc_max_depth)\n",
    "        client.log_param(child_run.info.run_id, \"gbc_min_samples_split\", gbc_min_samples_split)\n",
    "        client.log_param(child_run.info.run_id, \"gbc_min_samples_leaf\", gbc_min_samples_leaf)\n",
    "        client.log_param(child_run.info.run_id, \"gbc_max_leaf_nodes\", gbc_max_leaf_nodes)\n",
    "\n",
    "\n",
    "    ''' create pipeline '''\n",
    "    client.log_param(child_run.info.run_id, \"algo\", model.__class__.__name__)\n",
    "\n",
    "    if feature_selection == \"reduce\":\n",
    "        pipeline = Pipeline(steps=[\n",
    "            ('columnprep', col_transform),\n",
    "            # ('selector', VarianceThreshold(threshold=(.95 * (1 - .95)))),\n",
    "            ('reducedim', PCA(n_components=reducedim__n_components)),\n",
    "            ('algo', model)\n",
    "        ])\n",
    "\n",
    "    else:\n",
    "        pipeline = Pipeline(steps=[\n",
    "            ('columnprep', col_transform),\n",
    "            # ('reducedim', PCA(n_components=reducedim__n_components)),\n",
    "            ('algo', model)\n",
    "        ])\n",
    "\n",
    "    # save time with pruning\n",
    "    # if an experiment seems unpromising based on some intermediate values of loss or validation metric\n",
    "    # the experiment is discontinued\n",
    "    # if trial.should_prune():\n",
    "    #         raise optuna.TrialPruned()\n",
    "            \n",
    "    return pipeline, child_run"
   ]
  },
  {
   "cell_type": "code",
   "execution_count": 7,
   "metadata": {},
   "outputs": [],
   "source": [
    "def evaluate_model(x_train, y_train, y_validate, y_validate_pred, y_validate_scores, pipeline, child_run):\n",
    "    \"\"\"\n",
    "    evaluate the classification model with\n",
    "    - classification report\n",
    "    - precision-recall-curve\n",
    "    - ROC curve\n",
    "    \"\"\"\n",
    "\n",
    "    def plot_learning_curve(pipeline, x_train, y_train):\n",
    "\n",
    "        train_sizes, train_scores, test_scores = learning_curve(\n",
    "            pipeline,\n",
    "            x_train,\n",
    "            y_train,\n",
    "            cv=5,\n",
    "            n_jobs=-1,\n",
    "            train_sizes=np.linspace(.1, 1.0, 8)\n",
    "            )\n",
    "\n",
    "\n",
    "        fig1, ax1 = plt.subplots()\n",
    "        ax1.set_xlabel(\"Training examples\")\n",
    "        ax1.set_ylabel(\"Score\")\n",
    "        train_scores_mean = np.mean(train_scores, axis=1)\n",
    "        train_scores_std = np.std(train_scores, axis=1)\n",
    "        test_scores_mean = np.mean(test_scores, axis=1)\n",
    "        test_scores_std = np.std(test_scores, axis=1)\n",
    "        ax1.grid()\n",
    "\n",
    "        ax1.fill_between(train_sizes, train_scores_mean - train_scores_std,\n",
    "                        train_scores_mean + train_scores_std, alpha=0.1,\n",
    "                        color=\"r\")\n",
    "        ax1.fill_between(train_sizes, test_scores_mean - test_scores_std,\n",
    "                        test_scores_mean + test_scores_std, alpha=0.1, color=\"g\")\n",
    "        ax1.plot(train_sizes, train_scores_mean, 'o-', color=\"r\",\n",
    "                label=\"Training score\")\n",
    "        ax1.plot(train_sizes, test_scores_mean, 'o-', color=\"g\",\n",
    "                label=\"Cross-validation score\")\n",
    "\n",
    "        ax1.legend(loc=\"best\")\n",
    "        ax1.set_title(\"Difference between training and CV: \"\\\n",
    "            + str(round(test_scores_mean[7] / train_scores_mean[7] * 100, 2))\\\n",
    "            + \"%\")\n",
    "        client.log_figure(child_run.info.run_id, fig1, 'plot_learning_curve.png')\n",
    "        plt.close()\n",
    "\n",
    "\n",
    "    def plot_confusion_matrix(y_validate, y_validate_pred):\n",
    "        group_names = [\"True Neg\", \"False Pos\", \"False Neg\", \"True Pos\"]\n",
    "        group_counts = [\"{0:0.0f}\".format(value) for value in\n",
    "                        confusion_matrix(y_validate, y_validate_pred).flatten()]\n",
    "        group_percentages = [\"{0:.2%}\".format(value) for value in\n",
    "                             confusion_matrix(y_validate, y_validate_pred).flatten()/np.sum(confusion_matrix(y_validate, y_validate_pred))]\n",
    "        labels = [f\"{v1}\\n{v2}\\n{v3}\" for v1, v2, v3 in\n",
    "                  zip(group_names,group_counts,group_percentages)]\n",
    "        labels = np.asarray(labels).reshape(2,2)\n",
    "\n",
    "        fig2, ax2 = plt.subplots()\n",
    "        sns.heatmap(confusion_matrix(y_validate, y_validate_pred), annot=labels, fmt=\"\", cmap='Blues')\n",
    "        plt.xlabel('Predicted Label')\n",
    "        plt.ylabel('True Label')\n",
    "        client.log_figure(child_run.info.run_id, fig2, 'plot_confusion_matrix.png')\n",
    "        plt.close()\n",
    "\n",
    "\n",
    "    def plot_precision_recall_vs_threshold(y_validate, y_scores, child_run):\n",
    "        precisions, recalls, thresholds = precision_recall_curve(y_validate, y_scores)\n",
    "\n",
    "        # convert to f score\n",
    "        fscore = (2 * precisions * recalls) / (precisions + recalls)\n",
    "        # locate the index of the largest f score\n",
    "        ix = np.argmax(fscore)\n",
    "        \n",
    "        client.log_metric(child_run.info.run_id, \"f1_score\", round(fscore[ix], 5))\n",
    "\n",
    "        fig3, ax3 = plt.subplots()\n",
    "        ax3.plot(thresholds, precisions[:-1], \"b\", label=\"Precision\")\n",
    "        ax3.plot(thresholds, recalls[:-1], \"g\", label=\"Recall\")\n",
    "        ax3.plot(thresholds, fscore[:-1], \"r\", label=\"F1 Score\")\n",
    "        ax3.axvline(x=thresholds[ix], color='red', linestyle='--')\n",
    "        plt.axhline(y=precisions[ix], color='b', linestyle='--')\n",
    "        plt.axhline(y=recalls[ix], color='g', linestyle='--')\n",
    "        ax3.set_xlabel(\"Threshold\")\n",
    "        ax3.legend(loc=\"upper left\")\n",
    "        ax3.set_ylim([0,1])\n",
    "        client.log_figure(child_run.info.run_id, fig3, 'plot_f1.png')\n",
    "        plt.close()\n",
    "\n",
    "        fig4, ax4 = plt.subplots()\n",
    "        ax4.plot(recalls, precisions, marker='.', label='Logistic')\n",
    "        ax4.scatter(recalls[ix], precisions[ix], 200, marker='o', color='red', label='Best')\n",
    "        ax4.set_xlabel('Recall')\n",
    "        ax4.set_ylabel('Precision')\n",
    "        client.log_figure(child_run.info.run_id, fig4, 'plot_precision_recall.png')\n",
    "        plt.close()\n",
    "        \n",
    "\n",
    "    def plot_roc_curve(y_validate, y_scores, child_run):\n",
    "        fpr, tpr, thresholds = roc_curve(y_validate, y_scores)\n",
    "\n",
    "        roc_auc = round(roc_auc_score(y_validate, y_scores), 3)\n",
    "        \n",
    "        optimal_idx = np.argmax(tpr - fpr)\n",
    "\n",
    "        fig5, ax5 = plt.subplots()\n",
    "        ax5.plot(fpr, tpr, linewidth=2)\n",
    "        ax5.plot([0,1], [0,1], 'k--')\n",
    "        ax5.axis([0,1,0,1])\n",
    "        ax5.scatter(fpr[optimal_idx], tpr[optimal_idx], 200, marker='o', color='red', label='Best')\n",
    "        ax5.set_xlabel('False Positive Rate')\n",
    "        ax5.set_ylabel('True Positive Rate')\n",
    "        client.log_figure(child_run.info.run_id, fig5, 'plot_roc_curve.png')\n",
    "        plt.close()\n",
    "\n",
    "        client.log_metric(child_run.info.run_id, \"roc_auc\", roc_auc)\n",
    "\n",
    "        \n",
    "\n",
    "    plot_confusion_matrix(y_validate, y_validate_pred)\n",
    "    plot_precision_recall_vs_threshold(y_validate, y_validate_scores, child_run)\n",
    "    plot_roc_curve(y_validate, y_validate_scores, child_run)\n",
    "    plot_learning_curve(pipeline, x_train, y_train)"
   ]
  },
  {
   "cell_type": "code",
   "execution_count": 8,
   "metadata": {},
   "outputs": [],
   "source": [
    "class Objective:\n",
    "    \n",
    "    def __init__(self):\n",
    "        self.best_model = None\n",
    "        self._model = None\n",
    "\n",
    "    \n",
    "    def __call__(self, trial):\n",
    "    \n",
    "        pipeline, child_run = create_model(trial)\n",
    "\n",
    "        score = cross_val_score(\n",
    "            pipeline,\n",
    "            x_train,\n",
    "            y_train,\n",
    "            cv=cv,\n",
    "            scoring=\"accuracy\",\n",
    "            n_jobs=-1\n",
    "        ).mean()\n",
    "\n",
    "        client.log_metric(child_run.info.run_id, \"cv_score\", score)\n",
    "\n",
    "\n",
    "        # fit the pipeline to compute the validation results\n",
    "        pipeline.fit(x_train, y_train)\n",
    "        self._model = pipeline\n",
    "\n",
    "        # predict the training outcome\n",
    "        y_validate_pred = pipeline.predict(x_validate)\n",
    "\n",
    "        # predict probabilities\n",
    "        y_validate_proba = pipeline.predict_proba(x_validate)\n",
    "        # keep probabilities for the positive outcome only\n",
    "        y_validate_scores = y_validate_proba[:, 1]\n",
    "\n",
    "        evaluate_model(x_train, y_train, y_validate, y_validate_pred, y_validate_scores, pipeline, child_run)\n",
    "\n",
    "\n",
    "        return score\n",
    "\n",
    "    def callback(self, study, trial):\n",
    "        if study.best_trial == trial:\n",
    "            self.best_model = self._model\n"
   ]
  },
  {
   "cell_type": "code",
   "execution_count": 9,
   "metadata": {},
   "outputs": [],
   "source": [
    "def create_submission(best_model, x_test, name=None):\n",
    "    # predict the test values with the training classification model\n",
    "    y_pred = best_model.predict(x_test).astype(int)\n",
    "    \n",
    "    df_submission = pd.read_csv(\"../01_rawdata/gender_submission.csv\")\n",
    "    df_submission['Survived'] = y_pred\n",
    "    \n",
    "    if name == None:\n",
    "        df_submission.to_csv('submissions/%s.csv'%parent_run.info.run_id, index=False)\n",
    "    else:\n",
    "        df_submission.to_csv('submissions/%s.csv'%name, index=False)\n"
   ]
  },
  {
   "cell_type": "code",
   "execution_count": 10,
   "metadata": {},
   "outputs": [
    {
     "name": "stderr",
     "output_type": "stream",
     "text": [
      "\u001b[32m[I 2022-09-19 20:53:40,622]\u001b[0m A new study created in memory with name: no-name-b6b61271-1b37-4ff5-b04b-4360e2e71fbb\u001b[0m\n",
      "\u001b[32m[I 2022-09-19 20:53:48,326]\u001b[0m Trial 0 finished with value: 0.7989304812834225 and parameters: {'feature_selection': 'reduce', 'columnprep__transformers_num': 'StandardScaler', 'reducedim__n_components': 0.8522825529733893, 'model_type': 'decision-tree', 'dt_max_depth': 21, 'dt_criterion': 'gini', 'dt_max_leaf_nodes': 10}. Best is trial 0 with value: 0.7989304812834225.\u001b[0m\n",
      "\u001b[32m[I 2022-09-19 20:54:04,353]\u001b[0m Trial 3 finished with value: 0.827807486631016 and parameters: {'feature_selection': 'none', 'columnprep__transformers_num': 'MinMaxScaler', 'reducedim__n_components': 0.8491907372057212, 'model_type': 'xgb', 'xgb_n_estimators': 2526, 'xgb_learning_rate': 0.3100892201891197, 'xgb_reg_lambda': 30.52564401458145, 'xgb_reg_alpha': 10.418247753290977}. Best is trial 3 with value: 0.827807486631016.\u001b[0m\n",
      "\u001b[32m[I 2022-09-19 20:54:58,737]\u001b[0m Trial 4 finished with value: 0.7518716577540107 and parameters: {'feature_selection': 'reduce', 'columnprep__transformers_num': 'StandardScaler', 'reducedim__n_components': 0.7749414210612212, 'model_type': 'randomforest-classifier', 'rfc_n_estimators': 1940, 'rfc_max_depth': 15, 'rfc_min_samples_split': 0.16910695768610778, 'rfc_min_samples_leaf': 0.1994689455217778, 'rfc_criterion': 'gini', 'rfc_max_leaf_nodes': 5}. Best is trial 3 with value: 0.827807486631016.\u001b[0m\n",
      "\u001b[32m[I 2022-09-19 20:54:59,763]\u001b[0m Trial 2 finished with value: 0.6919786096256685 and parameters: {'feature_selection': 'none', 'columnprep__transformers_num': 'MinMaxScaler', 'reducedim__n_components': 0.7829783599036644, 'model_type': 'lgb', 'lgb_n_estimators': 4796, 'lgb_learning_rate': 0.13468690875104458, 'lgb_max_depth': 14, 'lgb_num_leaves': 14, 'lgb_min_data_in_leaf': 193, 'lgb_subsample': 0.581731909038506, 'lgb_feature_fraction': 0.16033031235410705, 'lgb_reg_lambda': 0.01989843269045524, 'lgb_reg_alpha': 5.811577476546704}. Best is trial 3 with value: 0.827807486631016.\u001b[0m\n",
      "\u001b[32m[I 2022-09-19 20:55:02,347]\u001b[0m Trial 6 finished with value: 0.8310160427807485 and parameters: {'feature_selection': 'none', 'columnprep__transformers_num': 'MinMaxScaler', 'reducedim__n_components': 0.7686138718095998, 'model_type': 'logistic-regression', 'lr_C': 258.2272650758121, 'lr_penalty': 'l1'}. Best is trial 6 with value: 0.8310160427807485.\u001b[0m\n",
      "\u001b[32m[I 2022-09-19 20:55:04,308]\u001b[0m Trial 7 finished with value: 0.8320855614973262 and parameters: {'feature_selection': 'none', 'columnprep__transformers_num': 'MinMaxScaler', 'reducedim__n_components': 0.8786671667753035, 'model_type': 'logistic-regression', 'lr_C': 53.55535556143691, 'lr_penalty': 'l1'}. Best is trial 7 with value: 0.8320855614973262.\u001b[0m\n",
      "\u001b[32m[I 2022-09-19 20:55:13,422]\u001b[0m Trial 1 finished with value: 0.8042780748663102 and parameters: {'feature_selection': 'none', 'columnprep__transformers_num': 'MinMaxScaler', 'reducedim__n_components': 0.7626685993722259, 'model_type': 'xgb', 'xgb_n_estimators': 941, 'xgb_learning_rate': 0.2699123348326689, 'xgb_reg_lambda': 0.0002580019799343634, 'xgb_reg_alpha': 7.548728985769219e-07}. Best is trial 7 with value: 0.8320855614973262.\u001b[0m\n",
      "\u001b[32m[I 2022-09-19 20:55:17,774]\u001b[0m Trial 5 finished with value: 0.6235294117647059 and parameters: {'feature_selection': 'none', 'columnprep__transformers_num': 'StandardScaler', 'reducedim__n_components': 0.7077352717012027, 'model_type': 'lgb', 'lgb_n_estimators': 2993, 'lgb_learning_rate': 2.6488275223684035, 'lgb_max_depth': 5, 'lgb_num_leaves': 9, 'lgb_min_data_in_leaf': 233, 'lgb_subsample': 0.8404484977553369, 'lgb_feature_fraction': 0.6307889034766461, 'lgb_reg_lambda': 18.673314162706966, 'lgb_reg_alpha': 41.48082078773521}. Best is trial 7 with value: 0.8320855614973262.\u001b[0m\n",
      "\u001b[32m[I 2022-09-19 20:55:22,055]\u001b[0m Trial 9 finished with value: 0.8352941176470589 and parameters: {'feature_selection': 'none', 'columnprep__transformers_num': 'StandardScaler', 'reducedim__n_components': 0.7645350556023152, 'model_type': 'xgb', 'xgb_n_estimators': 1537, 'xgb_learning_rate': 0.1868123643903144, 'xgb_reg_lambda': 0.00676065998918621, 'xgb_reg_alpha': 19.22839072284539}. Best is trial 9 with value: 0.8352941176470589.\u001b[0m\n",
      "\u001b[32m[I 2022-09-19 20:55:22,966]\u001b[0m Trial 11 finished with value: 0.8160427807486631 and parameters: {'feature_selection': 'reduce', 'columnprep__transformers_num': 'MinMaxScaler', 'reducedim__n_components': 0.8455918788352832, 'model_type': 'decision-tree', 'dt_max_depth': 11, 'dt_criterion': 'gini', 'dt_max_leaf_nodes': 7}. Best is trial 9 with value: 0.8352941176470589.\u001b[0m\n",
      "\u001b[32m[I 2022-09-19 20:55:23,578]\u001b[0m Trial 12 finished with value: 0.8192513368983956 and parameters: {'feature_selection': 'reduce', 'columnprep__transformers_num': 'StandardScaler', 'reducedim__n_components': 0.8519842561332699, 'model_type': 'logistic-regression', 'lr_C': 411.2410859520293, 'lr_penalty': 'l2'}. Best is trial 9 with value: 0.8352941176470589.\u001b[0m\n",
      "\u001b[32m[I 2022-09-19 20:55:30,941]\u001b[0m Trial 8 finished with value: 0.7775401069518717 and parameters: {'feature_selection': 'reduce', 'columnprep__transformers_num': 'MinMaxScaler', 'reducedim__n_components': 0.7441259140247283, 'model_type': 'xgb', 'xgb_n_estimators': 780, 'xgb_learning_rate': 0.8623556303927036, 'xgb_reg_lambda': 2.9622379170950145e-08, 'xgb_reg_alpha': 1.481114299620675e-07}. Best is trial 9 with value: 0.8352941176470589.\u001b[0m\n",
      "\u001b[32m[I 2022-09-19 20:55:32,389]\u001b[0m Trial 15 finished with value: 0.8320855614973262 and parameters: {'feature_selection': 'none', 'columnprep__transformers_num': 'StandardScaler', 'reducedim__n_components': 0.8230336593883673, 'model_type': 'logistic-regression', 'lr_C': 4.243179899022837, 'lr_penalty': 'l1'}. Best is trial 9 with value: 0.8352941176470589.\u001b[0m\n",
      "\u001b[32m[I 2022-09-19 20:56:03,606]\u001b[0m Trial 13 finished with value: 0.6235294117647059 and parameters: {'feature_selection': 'none', 'columnprep__transformers_num': 'StandardScaler', 'reducedim__n_components': 0.7201378104750318, 'model_type': 'xgb', 'xgb_n_estimators': 4885, 'xgb_learning_rate': 0.014372463094119905, 'xgb_reg_lambda': 8.751067077091723e-09, 'xgb_reg_alpha': 64.1295939977705}. Best is trial 9 with value: 0.8352941176470589.\u001b[0m\n",
      "\u001b[32m[I 2022-09-19 20:56:19,477]\u001b[0m Trial 14 finished with value: 0.8235294117647058 and parameters: {'feature_selection': 'none', 'columnprep__transformers_num': 'StandardScaler', 'reducedim__n_components': 0.7333979754428344, 'model_type': 'xgb', 'xgb_n_estimators': 4975, 'xgb_learning_rate': 0.019547422019590057, 'xgb_reg_lambda': 1.265321144322534e-09, 'xgb_reg_alpha': 34.90595696988794}. Best is trial 9 with value: 0.8352941176470589.\u001b[0m\n",
      "\u001b[32m[I 2022-09-19 20:57:59,822]\u001b[0m Trial 16 finished with value: 0.8171122994652406 and parameters: {'feature_selection': 'none', 'columnprep__transformers_num': 'StandardScaler', 'reducedim__n_components': 0.898847040320774, 'model_type': 'randomforest-classifier', 'rfc_n_estimators': 4741, 'rfc_max_depth': 5, 'rfc_min_samples_split': 0.05951857412540146, 'rfc_min_samples_leaf': 0.06047085424739644, 'rfc_criterion': 'entropy', 'rfc_max_leaf_nodes': 10}. Best is trial 9 with value: 0.8352941176470589.\u001b[0m\n",
      "\u001b[32m[I 2022-09-19 20:58:39,493]\u001b[0m Trial 10 finished with value: 0.8 and parameters: {'feature_selection': 'reduce', 'columnprep__transformers_num': 'StandardScaler', 'reducedim__n_components': 0.7576558562851359, 'model_type': 'xgb', 'xgb_n_estimators': 2154, 'xgb_learning_rate': 0.2446180361535937, 'xgb_reg_lambda': 2.088799255803503, 'xgb_reg_alpha': 1.2469150189123156e-05}. Best is trial 9 with value: 0.8352941176470589.\u001b[0m\n",
      "\u001b[32m[I 2022-09-19 21:00:06,813]\u001b[0m Trial 19 finished with value: 0.829946524064171 and parameters: {'feature_selection': 'none', 'columnprep__transformers_num': 'MinMaxScaler', 'reducedim__n_components': 0.8852557772268357, 'model_type': 'logistic-regression', 'lr_C': 20.20046880277447, 'lr_penalty': 'l1'}. Best is trial 9 with value: 0.8352941176470589.\u001b[0m\n",
      "\u001b[32m[I 2022-09-19 21:00:07,045]\u001b[0m Trial 17 finished with value: 0.8171122994652406 and parameters: {'feature_selection': 'none', 'columnprep__transformers_num': 'MinMaxScaler', 'reducedim__n_components': 0.8879911618964412, 'model_type': 'randomforest-classifier', 'rfc_n_estimators': 4159, 'rfc_max_depth': 5, 'rfc_min_samples_split': 0.06653648929813782, 'rfc_min_samples_leaf': 0.0627465615061796, 'rfc_criterion': 'entropy', 'rfc_max_leaf_nodes': 10}. Best is trial 9 with value: 0.8352941176470589.\u001b[0m\n",
      "\u001b[32m[I 2022-09-19 21:01:54,830]\u001b[0m Trial 20 finished with value: 0.8320855614973262 and parameters: {'feature_selection': 'none', 'columnprep__transformers_num': 'MinMaxScaler', 'reducedim__n_components': 0.8995087262088921, 'model_type': 'logistic-regression', 'lr_C': 27.51318622428257, 'lr_penalty': 'l1'}. Best is trial 9 with value: 0.8352941176470589.\u001b[0m\n",
      "\u001b[32m[I 2022-09-19 21:02:00,164]\u001b[0m Trial 23 finished with value: 0.7871657754010696 and parameters: {'feature_selection': 'none', 'columnprep__transformers_num': 'StandardScaler', 'reducedim__n_components': 0.8000012984319702, 'model_type': 'decision-tree', 'dt_max_depth': 5, 'dt_criterion': 'entropy', 'dt_max_leaf_nodes': 3}. Best is trial 9 with value: 0.8352941176470589.\u001b[0m\n",
      "\u001b[32m[I 2022-09-19 21:02:02,067]\u001b[0m Trial 22 finished with value: 0.8320855614973262 and parameters: {'feature_selection': 'none', 'columnprep__transformers_num': 'StandardScaler', 'reducedim__n_components': 0.8096094977242151, 'model_type': 'logistic-regression', 'lr_C': 1.169468118074716, 'lr_penalty': 'l2'}. Best is trial 9 with value: 0.8352941176470589.\u001b[0m\n",
      "\u001b[32m[I 2022-09-19 21:02:03,530]\u001b[0m Trial 18 finished with value: 0.8203208556149733 and parameters: {'feature_selection': 'none', 'columnprep__transformers_num': 'MinMaxScaler', 'reducedim__n_components': 0.8963611534854264, 'model_type': 'randomforest-classifier', 'rfc_n_estimators': 4949, 'rfc_max_depth': 5, 'rfc_min_samples_split': 0.05761299594496032, 'rfc_min_samples_leaf': 0.05345452066983067, 'rfc_criterion': 'entropy', 'rfc_max_leaf_nodes': 10}. Best is trial 9 with value: 0.8352941176470589.\u001b[0m\n",
      "\u001b[32m[I 2022-09-19 21:02:04,794]\u001b[0m Trial 21 finished with value: 0.8331550802139036 and parameters: {'feature_selection': 'none', 'columnprep__transformers_num': 'StandardScaler', 'reducedim__n_components': 0.8109582743709816, 'model_type': 'logistic-regression', 'lr_C': 1.5651039743280792, 'lr_penalty': 'l2'}. Best is trial 9 with value: 0.8352941176470589.\u001b[0m\n",
      "\u001b[32m[I 2022-09-19 21:02:06,863]\u001b[0m Trial 24 finished with value: 0.8374331550802138 and parameters: {'feature_selection': 'none', 'columnprep__transformers_num': 'StandardScaler', 'reducedim__n_components': 0.8086671801121819, 'model_type': 'logistic-regression', 'lr_C': 1.122451275410539, 'lr_penalty': 'l1'}. Best is trial 24 with value: 0.8374331550802138.\u001b[0m\n",
      "\u001b[32m[I 2022-09-19 21:02:07,566]\u001b[0m Trial 25 finished with value: 0.8320855614973262 and parameters: {'feature_selection': 'none', 'columnprep__transformers_num': 'MinMaxScaler', 'reducedim__n_components': 0.8693650864289559, 'model_type': 'logistic-regression', 'lr_C': 43.81434003006058, 'lr_penalty': 'l1'}. Best is trial 24 with value: 0.8374331550802138.\u001b[0m\n",
      "\u001b[32m[I 2022-09-19 21:02:08,532]\u001b[0m Trial 26 finished with value: 0.8320855614973262 and parameters: {'feature_selection': 'none', 'columnprep__transformers_num': 'MinMaxScaler', 'reducedim__n_components': 0.8682140180339433, 'model_type': 'logistic-regression', 'lr_C': 41.48656387300635, 'lr_penalty': 'l1'}. Best is trial 24 with value: 0.8374331550802138.\u001b[0m\n",
      "\u001b[32m[I 2022-09-19 21:02:09,617]\u001b[0m Trial 27 finished with value: 0.8288770053475935 and parameters: {'feature_selection': 'none', 'columnprep__transformers_num': 'StandardScaler', 'reducedim__n_components': 0.8241563229719933, 'model_type': 'logistic-regression', 'lr_C': 23.053156385763412, 'lr_penalty': 'l2'}. Best is trial 24 with value: 0.8374331550802138.\u001b[0m\n",
      "\u001b[32m[I 2022-09-19 21:02:12,172]\u001b[0m Trial 28 finished with value: 0.8320855614973262 and parameters: {'feature_selection': 'none', 'columnprep__transformers_num': 'StandardScaler', 'reducedim__n_components': 0.8237326141363266, 'model_type': 'logistic-regression', 'lr_C': 1.121048524326297, 'lr_penalty': 'l2'}. Best is trial 24 with value: 0.8374331550802138.\u001b[0m\n",
      "\u001b[32m[I 2022-09-19 21:02:12,360]\u001b[0m Trial 29 finished with value: 0.6235294117647059 and parameters: {'feature_selection': 'none', 'columnprep__transformers_num': 'StandardScaler', 'reducedim__n_components': 0.8198558790006878, 'model_type': 'lgb', 'lgb_n_estimators': 25, 'lgb_learning_rate': 0.010862020238596481, 'lgb_max_depth': 1, 'lgb_num_leaves': 2, 'lgb_min_data_in_leaf': 15, 'lgb_subsample': 0.06743604772184159, 'lgb_feature_fraction': 0.9958065137021178, 'lgb_reg_lambda': 0.010253599966571218, 'lgb_reg_alpha': 0.013917634046717975}. Best is trial 24 with value: 0.8374331550802138.\u001b[0m\n",
      "\u001b[32m[I 2022-09-19 21:02:12,791]\u001b[0m Trial 31 finished with value: 0.8032085561497325 and parameters: {'feature_selection': 'none', 'columnprep__transformers_num': 'StandardScaler', 'reducedim__n_components': 0.7899688362039157, 'model_type': 'lgb', 'lgb_n_estimators': 66, 'lgb_learning_rate': 0.010833895717609234, 'lgb_max_depth': 1, 'lgb_num_leaves': 2, 'lgb_min_data_in_leaf': 11, 'lgb_subsample': 0.050229560081446245, 'lgb_feature_fraction': 0.9420120925161243, 'lgb_reg_lambda': 0.10926848968059359, 'lgb_reg_alpha': 0.01976188337524843}. Best is trial 24 with value: 0.8374331550802138.\u001b[0m\n",
      "\u001b[32m[I 2022-09-19 21:02:13,898]\u001b[0m Trial 30 finished with value: 0.802139037433155 and parameters: {'feature_selection': 'none', 'columnprep__transformers_num': 'StandardScaler', 'reducedim__n_components': 0.8252207994570148, 'model_type': 'lgb', 'lgb_n_estimators': 333, 'lgb_learning_rate': 0.010377691281364072, 'lgb_max_depth': 1, 'lgb_num_leaves': 2, 'lgb_min_data_in_leaf': 20, 'lgb_subsample': 0.010746191296618968, 'lgb_feature_fraction': 0.8385909643281315, 'lgb_reg_lambda': 84.40499308536593, 'lgb_reg_alpha': 0.025625249871494043}. Best is trial 24 with value: 0.8374331550802138.\u001b[0m\n",
      "\u001b[32m[I 2022-09-19 21:02:15,170]\u001b[0m Trial 33 finished with value: 0.774331550802139 and parameters: {'feature_selection': 'reduce', 'columnprep__transformers_num': 'StandardScaler', 'reducedim__n_components': 0.7879198755211375, 'model_type': 'decision-tree', 'dt_max_depth': 21, 'dt_criterion': 'entropy', 'dt_max_leaf_nodes': 2}. Best is trial 24 with value: 0.8374331550802138.\u001b[0m\n",
      "\u001b[32m[I 2022-09-19 21:02:15,853]\u001b[0m Trial 34 finished with value: 0.8320855614973262 and parameters: {'feature_selection': 'none', 'columnprep__transformers_num': 'StandardScaler', 'reducedim__n_components': 0.7985926654361427, 'model_type': 'logistic-regression', 'lr_C': 1.0444088205532924, 'lr_penalty': 'l2'}. Best is trial 24 with value: 0.8374331550802138.\u001b[0m\n",
      "\u001b[32m[I 2022-09-19 21:02:16,852]\u001b[0m Trial 35 finished with value: 0.8320855614973262 and parameters: {'feature_selection': 'none', 'columnprep__transformers_num': 'StandardScaler', 'reducedim__n_components': 0.8026960474463163, 'model_type': 'logistic-regression', 'lr_C': 1.096800193663509, 'lr_penalty': 'l2'}. Best is trial 24 with value: 0.8374331550802138.\u001b[0m\n",
      "\u001b[32m[I 2022-09-19 21:02:17,222]\u001b[0m Trial 32 finished with value: 0.6235294117647059 and parameters: {'feature_selection': 'reduce', 'columnprep__transformers_num': 'StandardScaler', 'reducedim__n_components': 0.8019328220613466, 'model_type': 'lgb', 'lgb_n_estimators': 105, 'lgb_learning_rate': 0.01222378452560933, 'lgb_max_depth': 2, 'lgb_num_leaves': 2, 'lgb_min_data_in_leaf': 0, 'lgb_subsample': 0.01543274639006137, 'lgb_feature_fraction': 0.1196340674631714, 'lgb_reg_lambda': 90.3190247802907, 'lgb_reg_alpha': 0.057042991160501384}. Best is trial 24 with value: 0.8374331550802138.\u001b[0m\n",
      "\u001b[32m[I 2022-09-19 21:02:20,343]\u001b[0m Trial 36 finished with value: 0.8320855614973262 and parameters: {'feature_selection': 'none', 'columnprep__transformers_num': 'StandardScaler', 'reducedim__n_components': 0.8372403480750022, 'model_type': 'logistic-regression', 'lr_C': 4.329537513261049, 'lr_penalty': 'l1'}. Best is trial 24 with value: 0.8374331550802138.\u001b[0m\n",
      "\u001b[32m[I 2022-09-19 21:02:46,316]\u001b[0m Trial 38 finished with value: 0.8096256684491978 and parameters: {'feature_selection': 'none', 'columnprep__transformers_num': 'StandardScaler', 'reducedim__n_components': 0.8400436259743729, 'model_type': 'xgb', 'xgb_n_estimators': 2316, 'xgb_learning_rate': 0.05686503669540652, 'xgb_reg_lambda': 0.003073769729092121, 'xgb_reg_alpha': 0.008311470275084717}. Best is trial 24 with value: 0.8374331550802138.\u001b[0m\n",
      "\u001b[32m[I 2022-09-19 21:03:02,984]\u001b[0m Trial 37 finished with value: 0.8053475935828878 and parameters: {'feature_selection': 'none', 'columnprep__transformers_num': 'StandardScaler', 'reducedim__n_components': 0.8375657269915696, 'model_type': 'xgb', 'xgb_n_estimators': 2548, 'xgb_learning_rate': 0.06279407674214854, 'xgb_reg_lambda': 0.002523649393382052, 'xgb_reg_alpha': 0.01185877658427742}. Best is trial 24 with value: 0.8374331550802138.\u001b[0m\n",
      "\u001b[32m[I 2022-09-19 21:03:15,205]\u001b[0m Trial 40 finished with value: 0.8106951871657755 and parameters: {'feature_selection': 'none', 'columnprep__transformers_num': 'StandardScaler', 'reducedim__n_components': 0.8378987429938543, 'model_type': 'xgb', 'xgb_n_estimators': 2600, 'xgb_learning_rate': 0.05638301152742637, 'xgb_reg_lambda': 0.0011722295155906005, 'xgb_reg_alpha': 0.005758636927847314}. Best is trial 24 with value: 0.8374331550802138.\u001b[0m\n",
      "\u001b[32m[I 2022-09-19 21:03:31,261]\u001b[0m Trial 39 finished with value: 0.813903743315508 and parameters: {'feature_selection': 'none', 'columnprep__transformers_num': 'StandardScaler', 'reducedim__n_components': 0.8429362777777317, 'model_type': 'xgb', 'xgb_n_estimators': 2634, 'xgb_learning_rate': 0.05617759745773429, 'xgb_reg_lambda': 0.003180635258744247, 'xgb_reg_alpha': 0.014689296158066212}. Best is trial 24 with value: 0.8374331550802138.\u001b[0m\n",
      "\u001b[32m[I 2022-09-19 21:03:31,372]\u001b[0m Trial 42 finished with value: 0.8342245989304813 and parameters: {'feature_selection': 'none', 'columnprep__transformers_num': 'StandardScaler', 'reducedim__n_components': 0.7768441345613664, 'model_type': 'logistic-regression', 'lr_C': 3.4846229775012336, 'lr_penalty': 'l2'}. Best is trial 24 with value: 0.8374331550802138.\u001b[0m\n",
      "\u001b[32m[I 2022-09-19 21:03:32,045]\u001b[0m Trial 43 finished with value: 0.8342245989304813 and parameters: {'feature_selection': 'none', 'columnprep__transformers_num': 'StandardScaler', 'reducedim__n_components': 0.7736001936284808, 'model_type': 'logistic-regression', 'lr_C': 3.366680936215195, 'lr_penalty': 'l2'}. Best is trial 24 with value: 0.8374331550802138.\u001b[0m\n",
      "\u001b[32m[I 2022-09-19 21:03:33,696]\u001b[0m Trial 44 finished with value: 0.8352941176470587 and parameters: {'feature_selection': 'none', 'columnprep__transformers_num': 'MinMaxScaler', 'reducedim__n_components': 0.7543550143591171, 'model_type': 'logistic-regression', 'lr_C': 3.5582479999477856, 'lr_penalty': 'l1'}. Best is trial 24 with value: 0.8374331550802138.\u001b[0m\n",
      "\u001b[32m[I 2022-09-19 21:03:34,175]\u001b[0m Trial 45 finished with value: 0.8342245989304813 and parameters: {'feature_selection': 'none', 'columnprep__transformers_num': 'StandardScaler', 'reducedim__n_components': 0.7764607970286803, 'model_type': 'logistic-regression', 'lr_C': 4.051965842551522, 'lr_penalty': 'l2'}. Best is trial 24 with value: 0.8374331550802138.\u001b[0m\n",
      "\u001b[32m[I 2022-09-19 21:03:34,810]\u001b[0m Trial 46 finished with value: 0.8331550802139036 and parameters: {'feature_selection': 'none', 'columnprep__transformers_num': 'StandardScaler', 'reducedim__n_components': 0.7556864877853439, 'model_type': 'logistic-regression', 'lr_C': 3.1178862778864254, 'lr_penalty': 'l2'}. Best is trial 24 with value: 0.8374331550802138.\u001b[0m\n",
      "\u001b[32m[I 2022-09-19 21:03:36,304]\u001b[0m Trial 47 finished with value: 0.8310160427807485 and parameters: {'feature_selection': 'none', 'columnprep__transformers_num': 'MinMaxScaler', 'reducedim__n_components': 0.7567831930860959, 'model_type': 'logistic-regression', 'lr_C': 3.582107148065848, 'lr_penalty': 'l2'}. Best is trial 24 with value: 0.8374331550802138.\u001b[0m\n",
      "\u001b[32m[I 2022-09-19 21:03:36,755]\u001b[0m Trial 48 finished with value: 0.8192513368983956 and parameters: {'feature_selection': 'reduce', 'columnprep__transformers_num': 'MinMaxScaler', 'reducedim__n_components': 0.7577141091056939, 'model_type': 'logistic-regression', 'lr_C': 6.734630632190999, 'lr_penalty': 'l1'}. Best is trial 24 with value: 0.8374331550802138.\u001b[0m\n",
      "\u001b[32m[I 2022-09-19 21:03:36,872]\u001b[0m Trial 49 finished with value: 0.8042780748663102 and parameters: {'feature_selection': 'reduce', 'columnprep__transformers_num': 'MinMaxScaler', 'reducedim__n_components': 0.7489717728055191, 'model_type': 'decision-tree', 'dt_max_depth': 14, 'dt_criterion': 'entropy', 'dt_max_leaf_nodes': 6}. Best is trial 24 with value: 0.8374331550802138.\u001b[0m\n",
      "\u001b[32m[I 2022-09-19 21:03:55,280]\u001b[0m Trial 41 finished with value: 0.8106951871657755 and parameters: {'feature_selection': 'none', 'columnprep__transformers_num': 'StandardScaler', 'reducedim__n_components': 0.7556505759236637, 'model_type': 'xgb', 'xgb_n_estimators': 3560, 'xgb_learning_rate': 0.06628674308735481, 'xgb_reg_lambda': 0.0008371218292474824, 'xgb_reg_alpha': 0.012139979983146608}. Best is trial 24 with value: 0.8374331550802138.\u001b[0m\n"
     ]
    },
    {
     "name": "stdout",
     "output_type": "stream",
     "text": [
      "Study statistics: \n",
      "Number of finished trials:  50\n",
      "Number of pruned trials:  0\n",
      "Number of complete trials:  50\n",
      "Best trial:\n",
      "0.8374331550802138\n",
      "{'feature_selection': 'none', 'columnprep__transformers_num': 'StandardScaler', 'reducedim__n_components': 0.8086671801121819, 'model_type': 'logistic-regression', 'lr_C': 1.122451275410539, 'lr_penalty': 'l1'}\n"
     ]
    }
   ],
   "source": [
    "objective = Objective()\n",
    "\n",
    "study = optuna.create_study(\n",
    "  pruner=optuna.pruners.MedianPruner(n_startup_trials=1, n_warmup_steps=2, interval_steps=3),\n",
    "  sampler = optuna.samplers.TPESampler(),\n",
    "  direction=\"maximize\"\n",
    "  )\n",
    "\n",
    "study.optimize(\n",
    "  objective,\n",
    "  n_trials=N_TRAILS,\n",
    "  timeout=TIMEOUT,\n",
    "  n_jobs=-1,\n",
    "  callbacks=[objective.callback]\n",
    "  )\n",
    "\n",
    "pruned_trials = [t for t in study.trials if t.state == optuna.trial.TrialState.PRUNED]\n",
    "complete_trials = [t for t in study.trials if t.state == optuna.trial.TrialState.COMPLETE]\n",
    "\n",
    "print(\"Study statistics: \")\n",
    "print(\"Number of finished trials: \", len(study.trials))\n",
    "print(\"Number of pruned trials: \", len(pruned_trials))\n",
    "print(\"Number of complete trials: \", len(complete_trials))\n",
    "\n",
    "print(\"Best trial:\")\n",
    "print(study.best_value)\n",
    "print(study.best_params)\n",
    "\n",
    "client.log_metric(parent_run.info.run_id, \"best_cv_score\", round(study.best_value, 3))\n",
    "client.log_param(parent_run.info.run_id, \"transformer_num\", str(transformer_num))\n",
    "\n",
    "client.log_param(parent_run.info.run_id, \"cv_n_splits\", cv.n_splits)\n",
    "client.log_param(parent_run.info.run_id, \"cv_train_size\", cv.train_size)\n",
    "client.log_param(parent_run.info.run_id, \"cv_test_size\", cv.test_size)\n",
    "client.log_param(parent_run.info.run_id, \"cv_random_state\", cv.random_state)\n",
    "\n",
    "for param in study.best_params:\n",
    "  client.log_param(parent_run.info.run_id, param, study.best_params[param])\n",
    "\n",
    "\n",
    "# save the best model as file\n",
    "best_model = objective.best_model\n",
    "mlflow.sklearn.save_model(best_model, \"models/%s/\"%parent_run.info.run_id)\n",
    "\n",
    "# create submission of best model\n",
    "create_submission(best_model, x_test)\n",
    "\n",
    "\n",
    "mlflow.end_run()"
   ]
  },
  {
   "cell_type": "code",
   "execution_count": 11,
   "metadata": {},
   "outputs": [],
   "source": [
    "mlflow.end_run()"
   ]
  },
  {
   "cell_type": "code",
   "execution_count": 12,
   "metadata": {},
   "outputs": [
    {
     "data": {
      "application/vnd.plotly.v1+json": {
       "config": {
        "plotlyServerURL": "https://plot.ly"
       },
       "data": [
        {
         "mode": "markers",
         "name": "Objective Value",
         "type": "scatter",
         "x": [
          0,
          1,
          2,
          3,
          4,
          5,
          6,
          7,
          8,
          9,
          10,
          11,
          12,
          13,
          14,
          15,
          16,
          17,
          18,
          19,
          20,
          21,
          22,
          23,
          24,
          25,
          26,
          27,
          28,
          29,
          30,
          31,
          32,
          33,
          34,
          35,
          36,
          37,
          38,
          39,
          40,
          41,
          42,
          43,
          44,
          45,
          46,
          47,
          48,
          49
         ],
         "y": [
          0.7989304812834225,
          0.8042780748663102,
          0.6919786096256685,
          0.827807486631016,
          0.7518716577540107,
          0.6235294117647059,
          0.8310160427807485,
          0.8320855614973262,
          0.7775401069518717,
          0.8352941176470589,
          0.8,
          0.8160427807486631,
          0.8192513368983956,
          0.6235294117647059,
          0.8235294117647058,
          0.8320855614973262,
          0.8171122994652406,
          0.8171122994652406,
          0.8203208556149733,
          0.829946524064171,
          0.8320855614973262,
          0.8331550802139036,
          0.8320855614973262,
          0.7871657754010696,
          0.8374331550802138,
          0.8320855614973262,
          0.8320855614973262,
          0.8288770053475935,
          0.8320855614973262,
          0.6235294117647059,
          0.802139037433155,
          0.8032085561497325,
          0.6235294117647059,
          0.774331550802139,
          0.8320855614973262,
          0.8320855614973262,
          0.8320855614973262,
          0.8053475935828878,
          0.8096256684491978,
          0.813903743315508,
          0.8106951871657755,
          0.8106951871657755,
          0.8342245989304813,
          0.8342245989304813,
          0.8352941176470587,
          0.8342245989304813,
          0.8331550802139036,
          0.8310160427807485,
          0.8192513368983956,
          0.8042780748663102
         ]
        },
        {
         "name": "Best Value",
         "type": "scatter",
         "x": [
          0,
          1,
          2,
          3,
          4,
          5,
          6,
          7,
          8,
          9,
          10,
          11,
          12,
          13,
          14,
          15,
          16,
          17,
          18,
          19,
          20,
          21,
          22,
          23,
          24,
          25,
          26,
          27,
          28,
          29,
          30,
          31,
          32,
          33,
          34,
          35,
          36,
          37,
          38,
          39,
          40,
          41,
          42,
          43,
          44,
          45,
          46,
          47,
          48,
          49
         ],
         "y": [
          0.7989304812834225,
          0.8042780748663102,
          0.8042780748663102,
          0.827807486631016,
          0.827807486631016,
          0.827807486631016,
          0.8310160427807485,
          0.8320855614973262,
          0.8320855614973262,
          0.8352941176470589,
          0.8352941176470589,
          0.8352941176470589,
          0.8352941176470589,
          0.8352941176470589,
          0.8352941176470589,
          0.8352941176470589,
          0.8352941176470589,
          0.8352941176470589,
          0.8352941176470589,
          0.8352941176470589,
          0.8352941176470589,
          0.8352941176470589,
          0.8352941176470589,
          0.8352941176470589,
          0.8374331550802138,
          0.8374331550802138,
          0.8374331550802138,
          0.8374331550802138,
          0.8374331550802138,
          0.8374331550802138,
          0.8374331550802138,
          0.8374331550802138,
          0.8374331550802138,
          0.8374331550802138,
          0.8374331550802138,
          0.8374331550802138,
          0.8374331550802138,
          0.8374331550802138,
          0.8374331550802138,
          0.8374331550802138,
          0.8374331550802138,
          0.8374331550802138,
          0.8374331550802138,
          0.8374331550802138,
          0.8374331550802138,
          0.8374331550802138,
          0.8374331550802138,
          0.8374331550802138,
          0.8374331550802138,
          0.8374331550802138
         ]
        }
       ],
       "layout": {
        "template": {
         "data": {
          "bar": [
           {
            "error_x": {
             "color": "#2a3f5f"
            },
            "error_y": {
             "color": "#2a3f5f"
            },
            "marker": {
             "line": {
              "color": "#E5ECF6",
              "width": 0.5
             },
             "pattern": {
              "fillmode": "overlay",
              "size": 10,
              "solidity": 0.2
             }
            },
            "type": "bar"
           }
          ],
          "barpolar": [
           {
            "marker": {
             "line": {
              "color": "#E5ECF6",
              "width": 0.5
             },
             "pattern": {
              "fillmode": "overlay",
              "size": 10,
              "solidity": 0.2
             }
            },
            "type": "barpolar"
           }
          ],
          "carpet": [
           {
            "aaxis": {
             "endlinecolor": "#2a3f5f",
             "gridcolor": "white",
             "linecolor": "white",
             "minorgridcolor": "white",
             "startlinecolor": "#2a3f5f"
            },
            "baxis": {
             "endlinecolor": "#2a3f5f",
             "gridcolor": "white",
             "linecolor": "white",
             "minorgridcolor": "white",
             "startlinecolor": "#2a3f5f"
            },
            "type": "carpet"
           }
          ],
          "choropleth": [
           {
            "colorbar": {
             "outlinewidth": 0,
             "ticks": ""
            },
            "type": "choropleth"
           }
          ],
          "contour": [
           {
            "colorbar": {
             "outlinewidth": 0,
             "ticks": ""
            },
            "colorscale": [
             [
              0,
              "#0d0887"
             ],
             [
              0.1111111111111111,
              "#46039f"
             ],
             [
              0.2222222222222222,
              "#7201a8"
             ],
             [
              0.3333333333333333,
              "#9c179e"
             ],
             [
              0.4444444444444444,
              "#bd3786"
             ],
             [
              0.5555555555555556,
              "#d8576b"
             ],
             [
              0.6666666666666666,
              "#ed7953"
             ],
             [
              0.7777777777777778,
              "#fb9f3a"
             ],
             [
              0.8888888888888888,
              "#fdca26"
             ],
             [
              1,
              "#f0f921"
             ]
            ],
            "type": "contour"
           }
          ],
          "contourcarpet": [
           {
            "colorbar": {
             "outlinewidth": 0,
             "ticks": ""
            },
            "type": "contourcarpet"
           }
          ],
          "heatmap": [
           {
            "colorbar": {
             "outlinewidth": 0,
             "ticks": ""
            },
            "colorscale": [
             [
              0,
              "#0d0887"
             ],
             [
              0.1111111111111111,
              "#46039f"
             ],
             [
              0.2222222222222222,
              "#7201a8"
             ],
             [
              0.3333333333333333,
              "#9c179e"
             ],
             [
              0.4444444444444444,
              "#bd3786"
             ],
             [
              0.5555555555555556,
              "#d8576b"
             ],
             [
              0.6666666666666666,
              "#ed7953"
             ],
             [
              0.7777777777777778,
              "#fb9f3a"
             ],
             [
              0.8888888888888888,
              "#fdca26"
             ],
             [
              1,
              "#f0f921"
             ]
            ],
            "type": "heatmap"
           }
          ],
          "heatmapgl": [
           {
            "colorbar": {
             "outlinewidth": 0,
             "ticks": ""
            },
            "colorscale": [
             [
              0,
              "#0d0887"
             ],
             [
              0.1111111111111111,
              "#46039f"
             ],
             [
              0.2222222222222222,
              "#7201a8"
             ],
             [
              0.3333333333333333,
              "#9c179e"
             ],
             [
              0.4444444444444444,
              "#bd3786"
             ],
             [
              0.5555555555555556,
              "#d8576b"
             ],
             [
              0.6666666666666666,
              "#ed7953"
             ],
             [
              0.7777777777777778,
              "#fb9f3a"
             ],
             [
              0.8888888888888888,
              "#fdca26"
             ],
             [
              1,
              "#f0f921"
             ]
            ],
            "type": "heatmapgl"
           }
          ],
          "histogram": [
           {
            "marker": {
             "pattern": {
              "fillmode": "overlay",
              "size": 10,
              "solidity": 0.2
             }
            },
            "type": "histogram"
           }
          ],
          "histogram2d": [
           {
            "colorbar": {
             "outlinewidth": 0,
             "ticks": ""
            },
            "colorscale": [
             [
              0,
              "#0d0887"
             ],
             [
              0.1111111111111111,
              "#46039f"
             ],
             [
              0.2222222222222222,
              "#7201a8"
             ],
             [
              0.3333333333333333,
              "#9c179e"
             ],
             [
              0.4444444444444444,
              "#bd3786"
             ],
             [
              0.5555555555555556,
              "#d8576b"
             ],
             [
              0.6666666666666666,
              "#ed7953"
             ],
             [
              0.7777777777777778,
              "#fb9f3a"
             ],
             [
              0.8888888888888888,
              "#fdca26"
             ],
             [
              1,
              "#f0f921"
             ]
            ],
            "type": "histogram2d"
           }
          ],
          "histogram2dcontour": [
           {
            "colorbar": {
             "outlinewidth": 0,
             "ticks": ""
            },
            "colorscale": [
             [
              0,
              "#0d0887"
             ],
             [
              0.1111111111111111,
              "#46039f"
             ],
             [
              0.2222222222222222,
              "#7201a8"
             ],
             [
              0.3333333333333333,
              "#9c179e"
             ],
             [
              0.4444444444444444,
              "#bd3786"
             ],
             [
              0.5555555555555556,
              "#d8576b"
             ],
             [
              0.6666666666666666,
              "#ed7953"
             ],
             [
              0.7777777777777778,
              "#fb9f3a"
             ],
             [
              0.8888888888888888,
              "#fdca26"
             ],
             [
              1,
              "#f0f921"
             ]
            ],
            "type": "histogram2dcontour"
           }
          ],
          "mesh3d": [
           {
            "colorbar": {
             "outlinewidth": 0,
             "ticks": ""
            },
            "type": "mesh3d"
           }
          ],
          "parcoords": [
           {
            "line": {
             "colorbar": {
              "outlinewidth": 0,
              "ticks": ""
             }
            },
            "type": "parcoords"
           }
          ],
          "pie": [
           {
            "automargin": true,
            "type": "pie"
           }
          ],
          "scatter": [
           {
            "fillpattern": {
             "fillmode": "overlay",
             "size": 10,
             "solidity": 0.2
            },
            "type": "scatter"
           }
          ],
          "scatter3d": [
           {
            "line": {
             "colorbar": {
              "outlinewidth": 0,
              "ticks": ""
             }
            },
            "marker": {
             "colorbar": {
              "outlinewidth": 0,
              "ticks": ""
             }
            },
            "type": "scatter3d"
           }
          ],
          "scattercarpet": [
           {
            "marker": {
             "colorbar": {
              "outlinewidth": 0,
              "ticks": ""
             }
            },
            "type": "scattercarpet"
           }
          ],
          "scattergeo": [
           {
            "marker": {
             "colorbar": {
              "outlinewidth": 0,
              "ticks": ""
             }
            },
            "type": "scattergeo"
           }
          ],
          "scattergl": [
           {
            "marker": {
             "colorbar": {
              "outlinewidth": 0,
              "ticks": ""
             }
            },
            "type": "scattergl"
           }
          ],
          "scattermapbox": [
           {
            "marker": {
             "colorbar": {
              "outlinewidth": 0,
              "ticks": ""
             }
            },
            "type": "scattermapbox"
           }
          ],
          "scatterpolar": [
           {
            "marker": {
             "colorbar": {
              "outlinewidth": 0,
              "ticks": ""
             }
            },
            "type": "scatterpolar"
           }
          ],
          "scatterpolargl": [
           {
            "marker": {
             "colorbar": {
              "outlinewidth": 0,
              "ticks": ""
             }
            },
            "type": "scatterpolargl"
           }
          ],
          "scatterternary": [
           {
            "marker": {
             "colorbar": {
              "outlinewidth": 0,
              "ticks": ""
             }
            },
            "type": "scatterternary"
           }
          ],
          "surface": [
           {
            "colorbar": {
             "outlinewidth": 0,
             "ticks": ""
            },
            "colorscale": [
             [
              0,
              "#0d0887"
             ],
             [
              0.1111111111111111,
              "#46039f"
             ],
             [
              0.2222222222222222,
              "#7201a8"
             ],
             [
              0.3333333333333333,
              "#9c179e"
             ],
             [
              0.4444444444444444,
              "#bd3786"
             ],
             [
              0.5555555555555556,
              "#d8576b"
             ],
             [
              0.6666666666666666,
              "#ed7953"
             ],
             [
              0.7777777777777778,
              "#fb9f3a"
             ],
             [
              0.8888888888888888,
              "#fdca26"
             ],
             [
              1,
              "#f0f921"
             ]
            ],
            "type": "surface"
           }
          ],
          "table": [
           {
            "cells": {
             "fill": {
              "color": "#EBF0F8"
             },
             "line": {
              "color": "white"
             }
            },
            "header": {
             "fill": {
              "color": "#C8D4E3"
             },
             "line": {
              "color": "white"
             }
            },
            "type": "table"
           }
          ]
         },
         "layout": {
          "annotationdefaults": {
           "arrowcolor": "#2a3f5f",
           "arrowhead": 0,
           "arrowwidth": 1
          },
          "autotypenumbers": "strict",
          "coloraxis": {
           "colorbar": {
            "outlinewidth": 0,
            "ticks": ""
           }
          },
          "colorscale": {
           "diverging": [
            [
             0,
             "#8e0152"
            ],
            [
             0.1,
             "#c51b7d"
            ],
            [
             0.2,
             "#de77ae"
            ],
            [
             0.3,
             "#f1b6da"
            ],
            [
             0.4,
             "#fde0ef"
            ],
            [
             0.5,
             "#f7f7f7"
            ],
            [
             0.6,
             "#e6f5d0"
            ],
            [
             0.7,
             "#b8e186"
            ],
            [
             0.8,
             "#7fbc41"
            ],
            [
             0.9,
             "#4d9221"
            ],
            [
             1,
             "#276419"
            ]
           ],
           "sequential": [
            [
             0,
             "#0d0887"
            ],
            [
             0.1111111111111111,
             "#46039f"
            ],
            [
             0.2222222222222222,
             "#7201a8"
            ],
            [
             0.3333333333333333,
             "#9c179e"
            ],
            [
             0.4444444444444444,
             "#bd3786"
            ],
            [
             0.5555555555555556,
             "#d8576b"
            ],
            [
             0.6666666666666666,
             "#ed7953"
            ],
            [
             0.7777777777777778,
             "#fb9f3a"
            ],
            [
             0.8888888888888888,
             "#fdca26"
            ],
            [
             1,
             "#f0f921"
            ]
           ],
           "sequentialminus": [
            [
             0,
             "#0d0887"
            ],
            [
             0.1111111111111111,
             "#46039f"
            ],
            [
             0.2222222222222222,
             "#7201a8"
            ],
            [
             0.3333333333333333,
             "#9c179e"
            ],
            [
             0.4444444444444444,
             "#bd3786"
            ],
            [
             0.5555555555555556,
             "#d8576b"
            ],
            [
             0.6666666666666666,
             "#ed7953"
            ],
            [
             0.7777777777777778,
             "#fb9f3a"
            ],
            [
             0.8888888888888888,
             "#fdca26"
            ],
            [
             1,
             "#f0f921"
            ]
           ]
          },
          "colorway": [
           "#636efa",
           "#EF553B",
           "#00cc96",
           "#ab63fa",
           "#FFA15A",
           "#19d3f3",
           "#FF6692",
           "#B6E880",
           "#FF97FF",
           "#FECB52"
          ],
          "font": {
           "color": "#2a3f5f"
          },
          "geo": {
           "bgcolor": "white",
           "lakecolor": "white",
           "landcolor": "#E5ECF6",
           "showlakes": true,
           "showland": true,
           "subunitcolor": "white"
          },
          "hoverlabel": {
           "align": "left"
          },
          "hovermode": "closest",
          "mapbox": {
           "style": "light"
          },
          "paper_bgcolor": "white",
          "plot_bgcolor": "#E5ECF6",
          "polar": {
           "angularaxis": {
            "gridcolor": "white",
            "linecolor": "white",
            "ticks": ""
           },
           "bgcolor": "#E5ECF6",
           "radialaxis": {
            "gridcolor": "white",
            "linecolor": "white",
            "ticks": ""
           }
          },
          "scene": {
           "xaxis": {
            "backgroundcolor": "#E5ECF6",
            "gridcolor": "white",
            "gridwidth": 2,
            "linecolor": "white",
            "showbackground": true,
            "ticks": "",
            "zerolinecolor": "white"
           },
           "yaxis": {
            "backgroundcolor": "#E5ECF6",
            "gridcolor": "white",
            "gridwidth": 2,
            "linecolor": "white",
            "showbackground": true,
            "ticks": "",
            "zerolinecolor": "white"
           },
           "zaxis": {
            "backgroundcolor": "#E5ECF6",
            "gridcolor": "white",
            "gridwidth": 2,
            "linecolor": "white",
            "showbackground": true,
            "ticks": "",
            "zerolinecolor": "white"
           }
          },
          "shapedefaults": {
           "line": {
            "color": "#2a3f5f"
           }
          },
          "ternary": {
           "aaxis": {
            "gridcolor": "white",
            "linecolor": "white",
            "ticks": ""
           },
           "baxis": {
            "gridcolor": "white",
            "linecolor": "white",
            "ticks": ""
           },
           "bgcolor": "#E5ECF6",
           "caxis": {
            "gridcolor": "white",
            "linecolor": "white",
            "ticks": ""
           }
          },
          "title": {
           "x": 0.05
          },
          "xaxis": {
           "automargin": true,
           "gridcolor": "white",
           "linecolor": "white",
           "ticks": "",
           "title": {
            "standoff": 15
           },
           "zerolinecolor": "white",
           "zerolinewidth": 2
          },
          "yaxis": {
           "automargin": true,
           "gridcolor": "white",
           "linecolor": "white",
           "ticks": "",
           "title": {
            "standoff": 15
           },
           "zerolinecolor": "white",
           "zerolinewidth": 2
          }
         }
        },
        "title": {
         "text": "Optimization History Plot"
        },
        "xaxis": {
         "title": {
          "text": "#Trials"
         }
        },
        "yaxis": {
         "title": {
          "text": "Objective Value"
         }
        }
       }
      }
     },
     "metadata": {},
     "output_type": "display_data"
    }
   ],
   "source": [
    "optuna.visualization.plot_optimization_history(study)"
   ]
  },
  {
   "cell_type": "code",
   "execution_count": null,
   "metadata": {},
   "outputs": [],
   "source": []
  }
 ],
 "metadata": {
  "kernelspec": {
   "display_name": "Python 3.9.12 ('mlflow_optuna')",
   "language": "python",
   "name": "python3"
  },
  "language_info": {
   "codemirror_mode": {
    "name": "ipython",
    "version": 3
   },
   "file_extension": ".py",
   "mimetype": "text/x-python",
   "name": "python",
   "nbconvert_exporter": "python",
   "pygments_lexer": "ipython3",
   "version": "3.9.12"
  },
  "orig_nbformat": 4,
  "vscode": {
   "interpreter": {
    "hash": "4aa63c7bcea9117a32328ad03333d01dc516bdcdb33b6eb92ab7a393341400f2"
   }
  }
 },
 "nbformat": 4,
 "nbformat_minor": 2
}
