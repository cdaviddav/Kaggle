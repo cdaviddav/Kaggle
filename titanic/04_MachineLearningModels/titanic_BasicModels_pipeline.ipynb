{
 "cells": [
  {
   "cell_type": "markdown",
   "metadata": {},
   "source": [
    "# Build basic ML models with advanced pipeline"
   ]
  },
  {
   "cell_type": "code",
   "execution_count": 21,
   "metadata": {},
   "outputs": [
    {
     "name": "stdout",
     "output_type": "stream",
     "text": [
      "pandas version: 1.4.3\n",
      "numpy version: 1.21.5\n",
      "sklearn version: 1.1.1\n",
      "xgboost version: 1.6.1\n",
      "lightgbm version: 3.3.2\n",
      "optuna version: 2.10.1\n",
      "mlflow version: 1.28.0\n"
     ]
    }
   ],
   "source": [
    "import pandas as pd\n",
    "print(\"pandas version: {}\". format(pd.__version__))\n",
    "\n",
    "# numpy: support for large, multi-dimensional arrays and matrices and high-level mathematical functions\n",
    "import numpy as np\n",
    "print(\"numpy version: {}\". format(np.__version__))\n",
    "\n",
    "import sklearn\n",
    "from sklearn.base import BaseEstimator, TransformerMixin\n",
    "from sklearn.preprocessing import StandardScaler, MinMaxScaler, OneHotEncoder\n",
    "from sklearn.linear_model import LogisticRegression\n",
    "from sklearn.tree import DecisionTreeClassifier\n",
    "from sklearn.ensemble import ExtraTreesClassifier, GradientBoostingClassifier, RandomForestClassifier\n",
    "from sklearn.svm import SVC\n",
    "from sklearn.pipeline import make_pipeline\n",
    "from sklearn.decomposition import PCA\n",
    "from sklearn.model_selection import ShuffleSplit, StratifiedShuffleSplit, train_test_split, cross_val_score, learning_curve\n",
    "from sklearn.feature_selection import VarianceThreshold\n",
    "from sklearn.metrics import precision_recall_curve, roc_curve, confusion_matrix, roc_auc_score\n",
    "print(\"sklearn version: {}\". format(sklearn.__version__))\n",
    "sklearn .set_config(display=\"diagram\")\n",
    "\n",
    "import xgboost\n",
    "from xgboost import XGBClassifier\n",
    "print(\"xgboost version: {}\". format(xgboost.__version__))\n",
    "\n",
    "import lightgbm\n",
    "from lightgbm import LGBMClassifier\n",
    "print(\"lightgbm version: {}\". format(lightgbm.__version__))\n",
    "\n",
    "\n",
    "from typing import Optional, Tuple\n",
    "\n",
    "\n",
    "import optuna\n",
    "print(\"optuna version: {}\". format(optuna.__version__))\n",
    "\n",
    "import mlflow\n",
    "from mlflow.utils.mlflow_tags import MLFLOW_PARENT_RUN_ID\n",
    "from mlflow.tracking import MlflowClient\n",
    "print(\"mlflow version: {}\". format(mlflow.__version__))\n",
    "\n",
    "import matplotlib.pyplot as plt\n",
    "import seaborn as sns\n",
    "\n",
    "from datetime import datetime\n",
    "import warnings\n",
    "warnings.simplefilter('ignore')\n",
    "\n",
    "\n",
    "import yaml\n",
    "with open('ml_parameter.yaml') as file:\n",
    "  config_data= yaml.safe_load(file)"
   ]
  },
  {
   "cell_type": "code",
   "execution_count": 22,
   "metadata": {},
   "outputs": [],
   "source": [
    "VERSION = \"3.3\"\n",
    "\n",
    "# define cross validation\n",
    "cv = StratifiedShuffleSplit(\n",
    "    n_splits = 5,\n",
    "    test_size = 0.2,\n",
    "    random_state = config_data[\"RANDOM_STATE\"]\n",
    "    )"
   ]
  },
  {
   "cell_type": "code",
   "execution_count": 23,
   "metadata": {},
   "outputs": [],
   "source": [
    "client = MlflowClient()\n",
    "try:\n",
    "    experiment = client.create_experiment(config_data[\"experiment_name\"])\n",
    "except:\n",
    "    experiment = client.get_experiment_by_name(config_data[\"experiment_name\"]).experiment_id"
   ]
  },
  {
   "cell_type": "code",
   "execution_count": 24,
   "metadata": {},
   "outputs": [],
   "source": [
    "def load_data():\n",
    "    df_train = pd.read_pickle('../03_DataPreprocessing/df_train_prepared_unfinished.pkl')\n",
    "    df_test = pd.read_pickle('../03_DataPreprocessing/df_test_prepared_unfinished.pkl')\n",
    "\n",
    "    df_train.drop(['Last', 'TGroup'], axis=1, inplace=True)\n",
    "    df_test.drop(['Last', 'TGroup'], axis=1, inplace=True)\n",
    "\n",
    "    return df_train, df_test\n",
    "\n",
    "df_train, df_test = load_data()"
   ]
  },
  {
   "cell_type": "code",
   "execution_count": 25,
   "metadata": {},
   "outputs": [],
   "source": [
    "df_train.drop(['PassengerId', 'Name', 'dataset', 'First'], axis=1, inplace=True)\n",
    "df_test.drop(['PassengerId', 'Name',  'dataset', 'Survived', 'First'], axis=1, inplace=True)"
   ]
  },
  {
   "cell_type": "code",
   "execution_count": 26,
   "metadata": {},
   "outputs": [],
   "source": [
    "class DataSplitter:\n",
    "    \"\"\"The class is used to split the data\"\"\"\n",
    "\n",
    "    def __init__(self, test_size:float):\n",
    "        self.test_size = test_size\n",
    "\n",
    "        self.X_train: pd.DataFrame = None\n",
    "        self.y_train: pd.DataFrame = None\n",
    "        self.X_validate: pd.DataFrame = None\n",
    "        self.y_validate: pd.DataFrame = None\n",
    "\n",
    "\n",
    "    def split(self, df_train: pd.DataFrame) -> Tuple[pd.DataFrame, pd.Series, pd.DataFrame, pd.Series]:\n",
    "        \"\"\"Split the data between train and test.\"\"\"\n",
    "        y_train = df_train['Survived']\n",
    "        x_train = df_train.drop(['Survived'], axis=1)\n",
    "\n",
    "        self.X_train, self.X_validate, self.y_train, self.y_validate = train_test_split(x_train, y_train, test_size=self.test_size)\n",
    "\n",
    "        return self.X_train, self.y_train, self.X_validate, self.y_validate"
   ]
  },
  {
   "cell_type": "code",
   "execution_count": 27,
   "metadata": {},
   "outputs": [
    {
     "name": "stdout",
     "output_type": "stream",
     "text": [
      "Nan values of x_train: 0\n",
      "Nan values of x_validate: 0\n"
     ]
    }
   ],
   "source": [
    "data_splitter = DataSplitter(test_size=0.2)\n",
    "x_train, y_train, x_validate, y_validate = data_splitter.split(df_train)\n",
    "\n",
    "print(\"Nan values of x_train: {}\".format(x_train.isna().sum().sum()))\n",
    "print(\"Nan values of x_validate: {}\".format(x_validate.isna().sum().sum()))"
   ]
  },
  {
   "cell_type": "code",
   "execution_count": 28,
   "metadata": {},
   "outputs": [],
   "source": [
    "class BiningTransformer(BaseEstimator, TransformerMixin):\n",
    "\n",
    "    def __init__(self, n_bins_fare:int, n_bins_age:int):\n",
    "        self.n_bins_fare = n_bins_fare\n",
    "        self.n_bins_age = n_bins_age\n",
    "\n",
    "    def fit(self, x:pd.DataFrame, y:Optional[pd.DataFrame]=None) -> \"BiningTransformer\":\n",
    "        self.x_train = x.copy()\n",
    "        return self\n",
    "\n",
    "    def transform(self, x:pd.DataFrame) -> pd.DataFrame:\n",
    "\n",
    "        x['Fare_bin'] = pd.qcut(x['Fare'], self.n_bins_fare, labels=False)\n",
    "        x['Age_bin'] = pd.qcut(x['Age'], self.n_bins_age, labels=False)\n",
    "        return x"
   ]
  },
  {
   "cell_type": "code",
   "execution_count": 29,
   "metadata": {},
   "outputs": [],
   "source": [
    "class SkewedFeatureTransformer(BaseEstimator, TransformerMixin):\n",
    "\n",
    "    def __init__(self, transform_skewed_features_flag:bool):\n",
    "        self.transform_skewed_features_flag = transform_skewed_features_flag\n",
    "\n",
    "    def fit(self, x:pd.DataFrame, y:Optional[pd.DataFrame]=None) -> \"BiningTransformer\":\n",
    "        self.x_train = x.copy()\n",
    "        return self\n",
    "\n",
    "    def transform(self, x:pd.DataFrame) -> pd.DataFrame:\n",
    "        if self.transform_skewed_features_flag==True:\n",
    "            x[\"Fare\"] = x[\"Fare\"].apply(np.log)\n",
    "             # the not transformed data that contains 0\n",
    "            # after the transformation we have -inf values that have to be replaced by 0\n",
    "            x[\"Fare\"][np.isneginf(x[\"Fare\"])]=0\n",
    "\n",
    "        return x"
   ]
  },
  {
   "cell_type": "code",
   "execution_count": 30,
   "metadata": {},
   "outputs": [],
   "source": [
    "class OneHotEncoderTransformer(BaseEstimator, TransformerMixin):\n",
    "\n",
    "    def __init__(self, ohe_min_frequency:float, ohe_max_categories:float):\n",
    "        self.ohe_min_frequency = ohe_min_frequency\n",
    "        self.ohe_max_categories = ohe_max_categories\n",
    "        self.cat_vars=None\n",
    "        self.enc=None\n",
    "\n",
    "    def fit(self, x:pd.DataFrame, y:Optional[pd.DataFrame]=None) -> \"OneHotEncoderTransformer\":\n",
    "        enc = OneHotEncoder(handle_unknown='ignore', sparse=False, drop=\"if_binary\",\n",
    "            min_frequency=self.ohe_min_frequency, max_categories=self.ohe_max_categories)\n",
    "\n",
    "        self.cat_vars = x.dtypes[x.dtypes == \"object\"].index\n",
    "        self.enc = enc.fit(x[self.cat_vars])\n",
    "        return self\n",
    "\n",
    "    \n",
    "    def transform(self, x:pd.DataFrame) -> pd.DataFrame:\n",
    "        ohe = pd.DataFrame(self.enc.transform(x[self.cat_vars]), columns=self.enc.get_feature_names())\n",
    "        \n",
    "        x.reset_index(drop=True, inplace=True)\n",
    "        ohe.reset_index(drop=True, inplace=True)\n",
    "\n",
    "        x = pd.concat([x, ohe], axis=1).drop(self.cat_vars, axis=1)\n",
    "        return x\n",
    "    "
   ]
  },
  {
   "cell_type": "code",
   "execution_count": 31,
   "metadata": {},
   "outputs": [],
   "source": [
    "class LowVarianceTransformer(BaseEstimator, TransformerMixin):\n",
    "\n",
    "    def __init__(self, variance_threshold:float):\n",
    "        self.variance_threshold = variance_threshold\n",
    "        self.sel_features=None\n",
    "        self.sel=None\n",
    "        self.sel_features_reduced=None\n",
    "\n",
    "    def fit(self, x:pd.DataFrame, y:Optional[pd.DataFrame]=None) -> \"LowVarianceTransformer\":\n",
    "        # remove all features that are either one or zero in more than 95% of the samples\n",
    "        sel = VarianceThreshold(threshold=(self.variance_threshold * (1 - self.variance_threshold)))\n",
    "        self.sel_features = list(x)\n",
    "        # fit the VarianceThreshold object to the training data\n",
    "        self.sel = sel.fit(x[self.sel_features])\n",
    "\n",
    "        # get the column names after the variance threshold reduction\n",
    "        self.sel_features_reduced = [self.sel_features[i] for i in self.sel.get_support(indices=True)]\n",
    "        return self\n",
    "\n",
    "\n",
    "    def transform(self, x:pd.DataFrame) -> pd.DataFrame:\n",
    "        x = pd.DataFrame(self.sel.transform(x[self.sel_features]), columns=self.sel_features_reduced)\n",
    "        return x"
   ]
  },
  {
   "cell_type": "code",
   "execution_count": 32,
   "metadata": {},
   "outputs": [],
   "source": [
    "class CorrelationTransformer(BaseEstimator, TransformerMixin):\n",
    "\n",
    "    def __init__(self, correlation_threshold:float):\n",
    "        self.correlation_threshold = correlation_threshold\n",
    "        self.to_drop=None\n",
    "\n",
    "    def fit(self, x:pd.DataFrame, y:Optional[pd.DataFrame]=None) -> \"CorrelationTransformer\":\n",
    "        corr_matrix = x.corr().abs()\n",
    "\n",
    "        # Select upper triangle of correlation matrix\n",
    "        upper = corr_matrix.where(np.triu(np.ones(corr_matrix.shape), k=1).astype(np.bool))\n",
    "\n",
    "        # Find features with correlation higher than 0.9 or lower -0.9\n",
    "        self.to_drop = [column for column in upper.columns if any((upper[column] > self.correlation_threshold) | (upper[column] < -self.correlation_threshold))]\n",
    "        return self\n",
    "\n",
    "\n",
    "    def transform(self, x:pd.DataFrame) -> pd.DataFrame:\n",
    "        x =  x.drop(self.to_drop, axis=1)\n",
    "        return x"
   ]
  },
  {
   "cell_type": "code",
   "execution_count": 33,
   "metadata": {},
   "outputs": [],
   "source": [
    "class ScalerTransformer(BaseEstimator, TransformerMixin):\n",
    "\n",
    "    def __init__(self, columnprep__transformers_num) -> None:\n",
    "        self.columnprep__transformers_num = columnprep__transformers_num\n",
    "        self.transformer_not_num=None\n",
    "        self.transformer_num=None\n",
    "\n",
    "        if columnprep__transformers_num == \"StandardScaler\":\n",
    "            self.scaler = StandardScaler()\n",
    "        elif columnprep__transformers_num == \"MinMaxScaler\":\n",
    "            self.scaler = MinMaxScaler()\n",
    "\n",
    "    def fit(self, x:pd.DataFrame, y:Optional[pd.DataFrame]=None) -> \"ScalerTransformer\":\n",
    "        self.transformer_not_num = [col for col in list(x) if (col.startswith(\"x\") & col[1].isnumeric())]\n",
    "        self.transformer_num = [col for col in list(x) if col not in self.transformer_not_num]\n",
    "        \n",
    "        self.scaler.fit(x[self.transformer_num], y)\n",
    "        return self\n",
    "\n",
    "\n",
    "    def transform(self, x:pd.DataFrame) -> pd.DataFrame:\n",
    "        x_transform = self.scaler.transform(x[self.transformer_num])\n",
    "        x_transform = pd.DataFrame(x_transform, index=x.index, columns=x[self.transformer_num].columns)\n",
    "        \n",
    "        return pd.concat([x_transform, x[self.transformer_not_num]], axis=1)"
   ]
  },
  {
   "cell_type": "code",
   "execution_count": 34,
   "metadata": {},
   "outputs": [],
   "source": [
    "def create_model(trial, model_type, child_run):\n",
    "\n",
    "    # create parameter for data preprocessing pipeline\n",
    "    n_bins_fare=trial.suggest_int('preprocessing_n_bins_fare', 5, 15)\n",
    "    n_bins_age=trial.suggest_int('preprocessing_n_bins_age', 5, 15)\n",
    "    transform_skewed_features_flag=trial.suggest_categorical(\"preprocessing_transform_skewed_features_flag\", [True, False])\n",
    "    ohe_min_frequency=trial.suggest_float(\"preprocessing_ohe_min_frequency\", 0, 0.2, log=False)\n",
    "    ohe_max_categories=trial.suggest_int('preprocessing_ohe_max_categories', 5, 20)\n",
    "    feature_selection_low_variance_flag=trial.suggest_categorical(\"preprocessing_feature_selection_low_variance_flag\", [True, False])\n",
    "    correlation=trial.suggest_float(\"preprocessing_correlation\", 0.7, 0.95, log=False)\n",
    "\n",
    "    # log all parameters of the data preprocessing with mlflow\n",
    "    client.log_param(child_run.info.run_id, \"preprocessing_n_bins_fare\", n_bins_fare)\n",
    "    client.log_param(child_run.info.run_id, \"preprocessing_n_bins_age\", n_bins_age)\n",
    "    client.log_param(child_run.info.run_id, \"preprocessing_transform_skewed_features_flag\", transform_skewed_features_flag)\n",
    "    client.log_param(child_run.info.run_id, \"preprocessing_ohe_min_frequency\", ohe_min_frequency)\n",
    "    client.log_param(child_run.info.run_id, \"preprocessing_ohe_max_categories\", ohe_max_categories)\n",
    "    client.log_param(child_run.info.run_id, \"preprocessing_feature_selection_low_variance_flag\", feature_selection_low_variance_flag)\n",
    "    client.log_param(child_run.info.run_id, \"preprocessing_correlation\", correlation)  \n",
    "\n",
    "\n",
    "    ''' columnprep '''\n",
    "    columnprep__transformers_num = trial.suggest_categorical(\"columnprep__transformers_num\", [\"StandardScaler\", \"MinMaxScaler\"])\n",
    "\n",
    "\n",
    "    ''' algo '''\n",
    "    if model_type == 'SVC':\n",
    "        svm_kernel = trial.suggest_categorical('svm_kernel', config_data[\"svm_kernel\"])\n",
    "        svm_C = trial.suggest_float('svm_C', config_data[\"svm_C\"][0], config_data[\"svm_C\"][1], log=True)\n",
    "        svm_degree = trial.suggest_discrete_uniform('svm_degree', config_data[\"svm_degree\"][0], config_data[\"svm_degree\"][1], config_data[\"svm_degree\"][2])\n",
    "        \n",
    "        model = SVC(\n",
    "            kernel=svm_kernel,\n",
    "            C=svm_C,\n",
    "            degree=svm_degree,\n",
    "            probability=True,\n",
    "            random_state=config_data[\"RANDOM_STATE\"]\n",
    "        )\n",
    "\n",
    "        client.log_param(child_run.info.run_id, \"svm_kernel\", svm_kernel)\n",
    "        client.log_param(child_run.info.run_id, \"svm_C\", svm_C)\n",
    "        client.log_param(child_run.info.run_id, \"svm_degree\", svm_degree)\n",
    "    \n",
    "\n",
    "    if model_type == 'LogisticRegression':\n",
    "        lr_C = trial.suggest_float(\"lr_C\", config_data[\"lr_C\"][0], config_data[\"lr_C\"][1], log=True)\n",
    "        lr_penalty = trial.suggest_categorical('lr_penalty', config_data[\"lr_penalty\"])\n",
    "        if lr_penalty == 'l1':\n",
    "            lr_solver = 'saga'\n",
    "        else:\n",
    "            lr_solver = 'lbfgs'\n",
    "        \n",
    "        model = LogisticRegression(\n",
    "            C=lr_C,\n",
    "            penalty=lr_penalty,\n",
    "            solver=lr_solver,\n",
    "            random_state=config_data[\"RANDOM_STATE\"],\n",
    "            n_jobs=-1\n",
    "        )\n",
    "\n",
    "        client.log_param(child_run.info.run_id, \"lr_C\", lr_C)\n",
    "        client.log_param(child_run.info.run_id, \"lr_penalty\", lr_penalty)\n",
    "        client.log_param(child_run.info.run_id, \"lr_solver\", lr_solver)\n",
    "\n",
    "\n",
    "    if model_type == 'DecisionTreeClassifier':\n",
    "        dt_max_depth = trial.suggest_int('dt_max_depth', config_data[\"dt_max_depth\"][0], x_train.shape[1])\n",
    "        dt_criterion = trial.suggest_categorical(\"dt_criterion\", config_data[\"dt_criterion\"])\n",
    "        dt_max_leaf_nodes = trial.suggest_int(\"dt_max_leaf_nodes\", config_data[\"dt_max_leaf_nodes\"][0], config_data[\"dt_max_leaf_nodes\"][1])\n",
    "        \n",
    "        model = DecisionTreeClassifier(\n",
    "            max_depth=dt_max_depth,\n",
    "            criterion=dt_criterion,\n",
    "            max_leaf_nodes=dt_max_leaf_nodes,\n",
    "            random_state=config_data[\"RANDOM_STATE\"]\n",
    "          )\n",
    "    \n",
    "        client.log_param(child_run.info.run_id, \"dt_max_depth\", dt_max_depth)\n",
    "        client.log_param(child_run.info.run_id, \"dt_criterion\", dt_criterion)\n",
    "        client.log_param(child_run.info.run_id, \"dt_max_leaf_nodes\", dt_max_leaf_nodes)\n",
    "    \n",
    "\n",
    "\n",
    "    if model_type == 'ExtraTreesClassifier':\n",
    "        etc_n_estimators = trial.suggest_int('etc_n_estimators', config_data[\"etc_n_estimators\"][0], config_data[\"etc_n_estimators\"][1])\n",
    "        etc_max_depth = trial.suggest_int('etc_max_depth', config_data[\"etc_max_depth\"][0], x_train.shape[1])\n",
    "        etc_min_samples_split = trial.suggest_float('etc_min_samples_split', config_data[\"etc_min_samples_split\"][0], config_data[\"etc_min_samples_split\"][1])\n",
    "        etc_min_samples_leaf = trial.suggest_float('etc_min_samples_leaf', config_data[\"etc_min_samples_leaf\"][0], config_data[\"etc_min_samples_leaf\"][1])\n",
    "        etc_criterion = trial.suggest_categorical(\"etc_criterion\", config_data[\"etc_criterion\"])\n",
    "        etc_max_leaf_nodes = trial.suggest_int(\"etc_max_leaf_nodes\", config_data[\"etc_max_leaf_nodes\"][0], config_data[\"etc_max_leaf_nodes\"][1])\n",
    "        \n",
    "        model = ExtraTreesClassifier(\n",
    "            n_estimators=etc_n_estimators,\n",
    "            max_depth=etc_max_depth,\n",
    "            min_samples_split=etc_min_samples_split,\n",
    "            min_samples_leaf=etc_min_samples_leaf,\n",
    "            criterion=etc_criterion,\n",
    "            max_leaf_nodes=etc_max_leaf_nodes,\n",
    "            random_state=config_data[\"RANDOM_STATE\"],\n",
    "            n_jobs=-1\n",
    "          )\n",
    "    \n",
    "        client.log_param(child_run.info.run_id, \"etc_n_estimators\", etc_n_estimators)\n",
    "        client.log_param(child_run.info.run_id, \"etc_max_depth\", etc_max_depth)\n",
    "        client.log_param(child_run.info.run_id, \"etc_min_samples_split\", etc_min_samples_split)\n",
    "        client.log_param(child_run.info.run_id, \"etc_min_samples_leaf\", etc_min_samples_leaf)\n",
    "        client.log_param(child_run.info.run_id, \"etc_criterion\", etc_criterion)\n",
    "        client.log_param(child_run.info.run_id, \"etc_max_leaf_nodes\", etc_max_leaf_nodes)\n",
    "\n",
    "\n",
    "    if model_type == 'RandomForestClassifier':\n",
    "        rfc_n_estimators = trial.suggest_int('rfc_n_estimators', config_data[\"rfc_n_estimators\"][0], config_data[\"rfc_n_estimators\"][1])\n",
    "        rfc_max_depth = trial.suggest_int('rfc_max_depth', config_data[\"rfc_max_depth\"][0], x_train.shape[1])\n",
    "        rfc_min_samples_split = trial.suggest_float('rfc_min_samples_split', config_data[\"rfc_min_samples_split\"][0], config_data[\"rfc_min_samples_split\"][1])\n",
    "        rfc_min_samples_leaf = trial.suggest_float('rfc_min_samples_leaf', config_data[\"rfc_min_samples_leaf\"][0], config_data[\"rfc_min_samples_leaf\"][1])\n",
    "        rfc_criterion = trial.suggest_categorical(\"rfc_criterion\", config_data[\"rfc_criterion\"])\n",
    "        rfc_max_leaf_nodes = trial.suggest_int(\"rfc_max_leaf_nodes\", config_data[\"rfc_max_leaf_nodes\"][0], config_data[\"rfc_max_leaf_nodes\"][1])\n",
    "        \n",
    "        model = RandomForestClassifier(\n",
    "            n_estimators=rfc_n_estimators,\n",
    "            max_depth=rfc_max_depth,\n",
    "            min_samples_split=rfc_min_samples_split,\n",
    "            min_samples_leaf=rfc_min_samples_leaf,\n",
    "            criterion=rfc_criterion,\n",
    "            max_leaf_nodes=rfc_max_leaf_nodes,\n",
    "            random_state=config_data[\"RANDOM_STATE\"],\n",
    "            n_jobs=-1\n",
    "          )\n",
    "    \n",
    "        client.log_param(child_run.info.run_id, \"rfc_n_estimators\", rfc_n_estimators)\n",
    "        client.log_param(child_run.info.run_id, \"rfc_max_depth\", rfc_max_depth)\n",
    "        client.log_param(child_run.info.run_id, \"rfc_min_samples_split\", rfc_min_samples_split)\n",
    "        client.log_param(child_run.info.run_id, \"rfc_min_samples_leaf\", rfc_min_samples_leaf)\n",
    "        client.log_param(child_run.info.run_id, \"rfc_criterion\", rfc_criterion)\n",
    "        client.log_param(child_run.info.run_id, \"rfc_max_leaf_nodes\", rfc_max_leaf_nodes)\n",
    "\n",
    "\n",
    "    if model_type == 'XGBClassifier':\n",
    "        xgb_n_estimators = trial.suggest_int('xgb_n_estimators', config_data[\"xgb_n_estimators\"][0], config_data[\"xgb_n_estimators\"][1])\n",
    "        xgb_learning_rate = trial.suggest_float(\"xgb_learning_rate\", config_data[\"xgb_learning_rate\"][0], config_data[\"xgb_learning_rate\"][1], log=True)\n",
    "        xgb_reg_lambda = trial.suggest_float(\"xgb_reg_lambda\", config_data[\"xgb_reg_lambda\"][0], config_data[\"xgb_reg_lambda\"][1], log=True)\n",
    "        xgb_reg_alpha = trial.suggest_float(\"xgb_reg_alpha\", config_data[\"xgb_reg_alpha\"][0], config_data[\"xgb_reg_alpha\"][1], log=True)\n",
    "        \n",
    "        model = XGBClassifier(\n",
    "            n_estimators=xgb_n_estimators,\n",
    "            learning_rate=xgb_learning_rate,\n",
    "            reg_lambda=xgb_reg_lambda,\n",
    "            reg_alpha=xgb_reg_alpha,\n",
    "            random_state=config_data[\"RANDOM_STATE\"],\n",
    "            n_jobs = -1\n",
    "          )\n",
    "    \n",
    "        client.log_param(child_run.info.run_id, \"xgb_n_estimators\", xgb_n_estimators)\n",
    "        client.log_param(child_run.info.run_id, \"xgb_learning_rate\", xgb_learning_rate)\n",
    "        client.log_param(child_run.info.run_id, \"xgb_reg_lambda\", xgb_reg_lambda)\n",
    "        client.log_param(child_run.info.run_id, \"xgb_reg_alpha\", xgb_reg_alpha)\n",
    "\n",
    "\n",
    "    if model_type == 'LGBMClassifier':\n",
    "        lgb_n_estimators = trial.suggest_int('lgb_n_estimators', config_data[\"lgb_n_estimators\"][0], config_data[\"lgb_n_estimators\"][1])\n",
    "        lgb_learning_rate = trial.suggest_float(\"lgb_learning_rate\", config_data[\"lgb_learning_rate\"][0], config_data[\"lgb_learning_rate\"][1], log=True)\n",
    "        lgb_max_depth = trial.suggest_int('lgb_max_depth', config_data[\"lgb_max_depth\"][0], config_data[\"lgb_max_depth\"][1])\n",
    "        lgb_num_leaves = trial.suggest_int('lgb_num_leaves', config_data[\"lgb_num_leaves\"][0], 2^lgb_max_depth+3)\n",
    "        lgb_min_data_in_leaf = trial.suggest_int('lgb_min_data_in_leaf', config_data[\"lgb_min_data_in_leaf\"][0], config_data[\"lgb_min_data_in_leaf\"][1])\n",
    "        lgb_subsample = trial.suggest_float('lgb_subsample', config_data[\"lgb_subsample\"][0], config_data[\"lgb_subsample\"][1])\n",
    "        lgb_feature_fraction = trial.suggest_float('lgb_feature_fraction', config_data[\"lgb_feature_fraction\"][0], config_data[\"lgb_feature_fraction\"][1])\n",
    "        lgb_reg_lambda = trial.suggest_float(\"lgb_reg_lambda\", config_data[\"lgb_reg_lambda\"][0], config_data[\"lgb_reg_lambda\"][1], log=True)\n",
    "        lgb_reg_alpha = trial.suggest_float(\"lgb_reg_alpha\", config_data[\"lgb_reg_alpha\"][0], config_data[\"lgb_reg_alpha\"][1], log=True)\n",
    "        \n",
    "        model = LGBMClassifier(\n",
    "            n_estimators=lgb_n_estimators,\n",
    "            learning_rate=lgb_learning_rate,\n",
    "            max_depth=lgb_max_depth,\n",
    "            num_leaves=lgb_num_leaves,\n",
    "            min_data_in_leaf=lgb_min_data_in_leaf,\n",
    "            subsample=lgb_subsample,\n",
    "            feature_fraction=lgb_feature_fraction,\n",
    "            reg_lambda=lgb_reg_lambda,\n",
    "            reg_alpha=lgb_reg_alpha,\n",
    "            # num_threads = 4,\n",
    "            random_state=config_data[\"RANDOM_STATE\"],\n",
    "            n_jobs=-1\n",
    "            # device_type='cuda_exp'\n",
    "          )\n",
    "    \n",
    "        client.log_param(child_run.info.run_id, \"lgb_n_estimators\", lgb_n_estimators)\n",
    "        client.log_param(child_run.info.run_id, \"lgb_learning_rate\", lgb_learning_rate)\n",
    "        client.log_param(child_run.info.run_id, \"lgb_max_depth\", lgb_max_depth)\n",
    "        client.log_param(child_run.info.run_id, \"lgb_num_leaves\", lgb_num_leaves)\n",
    "        client.log_param(child_run.info.run_id, \"lgb_min_data_in_leaf\", lgb_min_data_in_leaf)\n",
    "        client.log_param(child_run.info.run_id, \"lgb_subsample\", lgb_subsample)\n",
    "        client.log_param(child_run.info.run_id, \"lgb_feature_fraction\", lgb_feature_fraction)\n",
    "        client.log_param(child_run.info.run_id, \"lgb_reg_lambda\", lgb_reg_lambda)\n",
    "        client.log_param(child_run.info.run_id, \"lgb_reg_alpha\", lgb_reg_alpha)\n",
    "\n",
    "\n",
    "    if model_type == 'GradientBoostingClassifier':\n",
    "        gbc_n_estimators = trial.suggest_int('gbc_n_estimators', config_data[\"gbc_n_estimators\"][0], config_data[\"gbc_n_estimators\"][1])\n",
    "        gbc_learning_rate = trial.suggest_float(\"gbc_learning_rate\", config_data[\"gbc_learning_rate\"][0], config_data[\"gbc_learning_rate\"][1], log=True)\n",
    "        gbc_max_depth = trial.suggest_int('gbc_max_depth', config_data[\"gbc_max_depth\"][0], config_data[\"gbc_max_depth\"][1])\n",
    "        gbc_min_samples_split = trial.suggest_float('gbc_min_samples_split', config_data[\"gbc_min_samples_split\"][0], config_data[\"gbc_min_samples_split\"][1])\n",
    "        gbc_min_samples_leaf = trial.suggest_float('gbc_min_samples_leaf', config_data[\"gbc_min_samples_leaf\"][0], config_data[\"gbc_min_samples_leaf\"][1])\n",
    "        gbc_max_leaf_nodes = trial.suggest_int(\"gbc_max_leaf_nodes\", config_data[\"gbc_max_leaf_nodes\"][0], config_data[\"gbc_max_leaf_nodes\"][1])\n",
    "        \n",
    "        model = GradientBoostingClassifier(\n",
    "            n_estimators=gbc_n_estimators,\n",
    "            learning_rate=gbc_learning_rate,\n",
    "            max_depth=gbc_max_depth,\n",
    "            min_samples_split=gbc_min_samples_split,\n",
    "            min_samples_leaf=gbc_min_samples_leaf,\n",
    "            max_leaf_nodes=gbc_max_leaf_nodes,\n",
    "            random_state=config_data[\"RANDOM_STATE\"],\n",
    "          )\n",
    "    \n",
    "        client.log_param(child_run.info.run_id, \"gbc_n_estimators\", gbc_n_estimators)\n",
    "        client.log_param(child_run.info.run_id, \"gbc_learning_rate\", gbc_learning_rate)\n",
    "        client.log_param(child_run.info.run_id, \"gbc_max_depth\", gbc_max_depth)\n",
    "        client.log_param(child_run.info.run_id, \"gbc_min_samples_split\", gbc_min_samples_split)\n",
    "        client.log_param(child_run.info.run_id, \"gbc_min_samples_leaf\", gbc_min_samples_leaf)\n",
    "        client.log_param(child_run.info.run_id, \"gbc_max_leaf_nodes\", gbc_max_leaf_nodes)\n",
    "\n",
    "\n",
    "\n",
    "    client.log_param(child_run.info.run_id, \"algo\", model.__class__.__name__)\n",
    "\n",
    "\n",
    "    pipeline = make_pipeline(\n",
    "        BiningTransformer(n_bins_fare=n_bins_fare, n_bins_age=n_bins_age),\n",
    "        SkewedFeatureTransformer(transform_skewed_features_flag=transform_skewed_features_flag),\n",
    "        OneHotEncoderTransformer(ohe_min_frequency=ohe_min_frequency, ohe_max_categories=ohe_max_categories),\n",
    "        LowVarianceTransformer(variance_threshold=0.95),\n",
    "        CorrelationTransformer(correlation_threshold=correlation),\n",
    "        ScalerTransformer(columnprep__transformers_num=columnprep__transformers_num),\n",
    "        model,\n",
    "        verbose=True\n",
    "    )\n",
    "            \n",
    "    return pipeline"
   ]
  },
  {
   "cell_type": "code",
   "execution_count": 35,
   "metadata": {},
   "outputs": [],
   "source": [
    "def evaluate_model(x_train, y_train, y_validate, y_validate_pred, y_validate_scores, pipeline, child_run):\n",
    "\n",
    "    \"\"\"\n",
    "    evaluate the classification model with\n",
    "    - classification report\n",
    "    - precision-recall-curve\n",
    "    - ROC curve\n",
    "    \"\"\"\n",
    "\n",
    "    def plot_learning_curve(pipeline, x_train, y_train):\n",
    "\n",
    "        train_sizes, train_scores, test_scores = learning_curve(\n",
    "            pipeline,\n",
    "            x_train,\n",
    "            y_train,\n",
    "            cv=cv,\n",
    "            n_jobs=-1,\n",
    "            train_sizes=np.linspace(.1, 1.0, 8)\n",
    "            )\n",
    "\n",
    "\n",
    "        fig1, ax1 = plt.subplots()\n",
    "        ax1.set_xlabel(\"Training examples\")\n",
    "        ax1.set_ylabel(\"Score\")\n",
    "        train_scores_mean = np.mean(train_scores, axis=1)\n",
    "        train_scores_std = np.std(train_scores, axis=1)\n",
    "        test_scores_mean = np.mean(test_scores, axis=1)\n",
    "        test_scores_std = np.std(test_scores, axis=1)\n",
    "        ax1.grid()\n",
    "\n",
    "        ax1.fill_between(train_sizes, train_scores_mean - train_scores_std,\n",
    "                        train_scores_mean + train_scores_std, alpha=0.1,\n",
    "                        color=\"r\")\n",
    "        ax1.fill_between(train_sizes, test_scores_mean - test_scores_std,\n",
    "                        test_scores_mean + test_scores_std, alpha=0.1, color=\"g\")\n",
    "        ax1.plot(train_sizes, train_scores_mean, 'o-', color=\"r\",\n",
    "                label=\"Training score\")\n",
    "        ax1.plot(train_sizes, test_scores_mean, 'o-', color=\"g\",\n",
    "                label=\"Cross-validation score\")\n",
    "\n",
    "        ax1.legend(loc=\"best\")\n",
    "        ax1.set_title(\"Difference between training and CV: \"\\\n",
    "            + str(round(test_scores_mean[7] / train_scores_mean[7] * 100, 2))\\\n",
    "            + \"%\")\n",
    "        client.log_figure(child_run.info.run_id, fig1, 'plot_learning_curve.png')\n",
    "        plt.close()\n",
    "\n",
    "\n",
    "    def plot_confusion_matrix(y_validate, y_validate_pred):\n",
    "        group_names = [\"True Neg\", \"False Pos\", \"False Neg\", \"True Pos\"]\n",
    "        group_counts = [\"{0:0.0f}\".format(value) for value in\n",
    "                        confusion_matrix(y_validate, y_validate_pred).flatten()]\n",
    "        group_percentages = [\"{0:.2%}\".format(value) for value in\n",
    "                             confusion_matrix(y_validate, y_validate_pred).flatten()/np.sum(confusion_matrix(y_validate, y_validate_pred))]\n",
    "        labels = [f\"{v1}\\n{v2}\\n{v3}\" for v1, v2, v3 in\n",
    "                  zip(group_names,group_counts,group_percentages)]\n",
    "        labels = np.asarray(labels).reshape(2,2)\n",
    "\n",
    "        fig2, ax2 = plt.subplots()\n",
    "        sns.heatmap(confusion_matrix(y_validate, y_validate_pred), annot=labels, fmt=\"\", cmap='Blues')\n",
    "        plt.xlabel('Predicted Label')\n",
    "        plt.ylabel('True Label')\n",
    "        client.log_figure(child_run.info.run_id, fig2, 'plot_confusion_matrix.png')\n",
    "        plt.close()\n",
    "\n",
    "\n",
    "    def plot_precision_recall_vs_threshold(y_validate, y_scores, child_run):\n",
    "        precisions, recalls, thresholds = precision_recall_curve(y_validate, y_scores)\n",
    "\n",
    "        # convert to f score\n",
    "        fscore = (2 * precisions * recalls) / (precisions + recalls)\n",
    "        # locate the index of the largest f score\n",
    "        ix = np.argmax(fscore)\n",
    "        \n",
    "        client.log_metric(child_run.info.run_id, \"f1_score\", round(fscore[ix], 5))\n",
    "\n",
    "        fig3, ax3 = plt.subplots()\n",
    "        ax3.plot(thresholds, precisions[:-1], \"b\", label=\"Precision\")\n",
    "        ax3.plot(thresholds, recalls[:-1], \"g\", label=\"Recall\")\n",
    "        ax3.plot(thresholds, fscore[:-1], \"r\", label=\"F1 Score\")\n",
    "        ax3.axvline(x=thresholds[ix], color='red', linestyle='--')\n",
    "        plt.axhline(y=precisions[ix], color='b', linestyle='--')\n",
    "        plt.axhline(y=recalls[ix], color='g', linestyle='--')\n",
    "        ax3.set_xlabel(\"Threshold\")\n",
    "        ax3.legend(loc=\"upper left\")\n",
    "        ax3.set_ylim([0,1])\n",
    "        client.log_figure(child_run.info.run_id, fig3, 'plot_f1.png')\n",
    "        plt.close()\n",
    "\n",
    "        fig4, ax4 = plt.subplots()\n",
    "        ax4.plot(recalls, precisions, marker='.', label='Logistic')\n",
    "        ax4.scatter(recalls[ix], precisions[ix], 200, marker='o', color='red', label='Best')\n",
    "        ax4.set_xlabel('Recall')\n",
    "        ax4.set_ylabel('Precision')\n",
    "        client.log_figure(child_run.info.run_id, fig4, 'plot_precision_recall.png')\n",
    "        plt.close()\n",
    "        \n",
    "\n",
    "    def plot_roc_curve(y_validate, y_scores, child_run):\n",
    "        fpr, tpr, thresholds = roc_curve(y_validate, y_scores)\n",
    "\n",
    "        roc_auc = round(roc_auc_score(y_validate, y_scores), 3)\n",
    "        \n",
    "        optimal_idx = np.argmax(tpr - fpr)\n",
    "\n",
    "        fig5, ax5 = plt.subplots()\n",
    "        ax5.plot(fpr, tpr, linewidth=2)\n",
    "        ax5.plot([0,1], [0,1], 'k--')\n",
    "        ax5.axis([0,1,0,1])\n",
    "        ax5.scatter(fpr[optimal_idx], tpr[optimal_idx], 200, marker='o', color='red', label='Best')\n",
    "        ax5.set_xlabel('False Positive Rate')\n",
    "        ax5.set_ylabel('True Positive Rate')\n",
    "        client.log_figure(child_run.info.run_id, fig5, 'plot_roc_curve.png')\n",
    "        plt.close()\n",
    "\n",
    "        client.log_metric(child_run.info.run_id, \"roc_auc\", roc_auc)\n",
    "\n",
    "        \n",
    "\n",
    "    plot_confusion_matrix(y_validate, y_validate_pred)\n",
    "    plot_precision_recall_vs_threshold(y_validate, y_validate_scores, child_run)\n",
    "    plot_roc_curve(y_validate, y_validate_scores, child_run)\n",
    "    plot_learning_curve(pipeline, x_train, y_train)"
   ]
  },
  {
   "cell_type": "code",
   "execution_count": 36,
   "metadata": {},
   "outputs": [],
   "source": [
    "class Objective:\n",
    "    \n",
    "    def __init__(self, model_type, parent_run):\n",
    "        self.best_model = None\n",
    "        self._model = None\n",
    "        \n",
    "        self.model_type = model_type\n",
    "        self.parent_run = parent_run\n",
    "\n",
    "    \n",
    "    def __call__(self, trial):\n",
    "\n",
    "        child_run = client.create_run(\n",
    "            experiment_id=experiment,\n",
    "            tags={\n",
    "                MLFLOW_PARENT_RUN_ID: self.parent_run.info.run_id\n",
    "            }\n",
    "        )\n",
    "\n",
    "\n",
    "        \"\"\" Machine Learning Model Creation \"\"\"\n",
    "        pipeline = create_model(trial, self.model_type, child_run)\n",
    "        self._model = pipeline\n",
    "\n",
    "        \"\"\" Train and Cross Validation of Machine Learning Model \"\"\"\n",
    "        score = cross_val_score(\n",
    "            pipeline,\n",
    "            x_train,\n",
    "            y_train,\n",
    "            cv=cv,\n",
    "            scoring=\"accuracy\",\n",
    "            n_jobs=-1\n",
    "        ).mean()\n",
    "\n",
    "        client.log_metric(child_run.info.run_id, \"cv_score\", score)\n",
    "\n",
    "        return score\n",
    "\n",
    "    def callback(self, study, trial):\n",
    "        if study.best_trial == trial:\n",
    "            self.best_model = self._model"
   ]
  },
  {
   "cell_type": "code",
   "execution_count": 37,
   "metadata": {},
   "outputs": [],
   "source": [
    "def create_submission(best_model, x_test, parent_run):\n",
    "    # predict the test values with the training classification model\n",
    "    y_pred = best_model.predict(x_test).astype(int)\n",
    "    \n",
    "    df_submission = pd.read_csv(\"../01_RawData/gender_submission.csv\")\n",
    "    df_submission['Survived'] = y_pred\n",
    "    \n",
    "    df_submission.to_csv('submissions/%s.csv'%parent_run.info.run_id, index=False)\n"
   ]
  },
  {
   "cell_type": "code",
   "execution_count": 38,
   "metadata": {},
   "outputs": [],
   "source": [
    "def create_new_mlrun(model_type):\n",
    "\n",
    "  parent_run = client.create_run(experiment_id=experiment, tags={\"Version\": VERSION})\n",
    "\n",
    "  objective = Objective(model_type, parent_run)\n",
    "\n",
    "  study = optuna.create_study(\n",
    "    sampler = optuna.samplers.TPESampler(),\n",
    "    direction=\"maximize\"\n",
    "    )\n",
    "\n",
    "  study.optimize(\n",
    "    objective,\n",
    "    n_trials=config_data[\"N_TRAILS\"],\n",
    "    timeout=config_data[\"TIMEOUT\"],\n",
    "    n_jobs=-1,\n",
    "    callbacks=[objective.callback]\n",
    "    )\n",
    "\n",
    "  print(\"Best trial:\")\n",
    "  print(study.best_value)\n",
    "  print(study.best_params)\n",
    "\n",
    "  client.log_metric(parent_run.info.run_id, \"best_cv_score\", round(study.best_value, 3))\n",
    "  # client.log_param(parent_run.info.run_id, \"transformer_num\", str(transformer_num))\n",
    "\n",
    "  client.log_param(parent_run.info.run_id, \"cv_n_splits\", cv.n_splits)\n",
    "  client.log_param(parent_run.info.run_id, \"cv_train_size\", cv.train_size)\n",
    "  client.log_param(parent_run.info.run_id, \"cv_test_size\", cv.test_size)\n",
    "  client.log_param(parent_run.info.run_id, \"cv_random_state\", cv.random_state)\n",
    "\n",
    "  print(\"Log best parameters\")\n",
    "  for param in study.best_params:\n",
    "    client.log_param(parent_run.info.run_id, param, study.best_params[param])\n",
    "\n",
    "\n",
    "  print(\"Save best model\")\n",
    "  # save the best model as file\n",
    "  best_model = objective.best_model\n",
    "  mlflow.sklearn.save_model(best_model, \"models/%s/\"%parent_run.info.run_id)\n",
    "\n",
    "  print(\"Fit best model\")\n",
    "  # fit the pipeline with the total training dataset to compute the validation results\n",
    "  best_model.fit(x_train, y_train)\n",
    "\n",
    "  print(\"Create submission\")\n",
    "  # create submission of best model\n",
    "  create_submission(best_model, df_test, parent_run)\n",
    "\n",
    "  print(\"Predict training outcome\")\n",
    "  # predict the training outcome\n",
    "  y_validate_pred = best_model.predict(x_validate)\n",
    "\n",
    "  # predict probabilities\n",
    "  y_validate_proba = best_model.predict_proba(x_validate)\n",
    "  # keep probabilities for the positive outcome only\n",
    "  y_validate_scores = y_validate_proba[:, 1]\n",
    "\n",
    "  print(\"Evaluate model performance\")\n",
    "  evaluate_model(x_train, y_train, y_validate, y_validate_pred, y_validate_scores, best_model, parent_run)\n",
    "\n",
    "  mlflow.end_run()\n",
    "\n",
    "  return study"
   ]
  },
  {
   "cell_type": "code",
   "execution_count": 39,
   "metadata": {},
   "outputs": [],
   "source": [
    "# study_lr = create_new_mlrun(model_type='LogisticRegression')\n",
    "# optuna.visualization.plot_optimization_history(study_lr)"
   ]
  },
  {
   "cell_type": "code",
   "execution_count": 40,
   "metadata": {},
   "outputs": [],
   "source": [
    "# study_dt = create_new_mlrun(model_type='DecisionTreeClassifier')\n",
    "# optuna.visualization.plot_optimization_history(study_dt)"
   ]
  },
  {
   "cell_type": "code",
   "execution_count": 41,
   "metadata": {},
   "outputs": [],
   "source": [
    "# study_svm = create_new_mlrun(model_type='SVC')\n",
    "# optuna.visualization.plot_optimization_history(study_svm)"
   ]
  },
  {
   "cell_type": "code",
   "execution_count": 42,
   "metadata": {},
   "outputs": [],
   "source": [
    "# study_svm = create_new_mlrun(model_type='ExtraTreesClassifier')\n",
    "# optuna.visualization.plot_optimization_history(study_svm)"
   ]
  },
  {
   "cell_type": "code",
   "execution_count": 43,
   "metadata": {},
   "outputs": [],
   "source": [
    "# study_svm = create_new_mlrun(model_type='GradientBoostingClassifier')\n",
    "# optuna.visualization.plot_optimization_history(study_svm)"
   ]
  },
  {
   "cell_type": "code",
   "execution_count": 44,
   "metadata": {},
   "outputs": [
    {
     "name": "stderr",
     "output_type": "stream",
     "text": [
      "\u001b[32m[I 2022-12-05 20:56:33,005]\u001b[0m A new study created in memory with name: no-name-bb04e63c-a950-4d2a-ac20-496e89eb16de\u001b[0m\n",
      "\u001b[32m[I 2022-12-05 20:57:13,001]\u001b[0m Trial 3 finished with value: 0.7832167832167832 and parameters: {'preprocessing_n_bins_fare': 6, 'preprocessing_n_bins_age': 13, 'preprocessing_transform_skewed_features_flag': False, 'preprocessing_ohe_min_frequency': 0.1716485513790844, 'preprocessing_ohe_max_categories': 19, 'preprocessing_feature_selection_low_variance_flag': True, 'preprocessing_correlation': 0.8873774105198653, 'columnprep__transformers_num': 'StandardScaler', 'rfc_n_estimators': 4111, 'rfc_max_depth': 11, 'rfc_min_samples_split': 0.0807231227538936, 'rfc_min_samples_leaf': 0.1569011799749207, 'rfc_criterion': 'entropy', 'rfc_max_leaf_nodes': 3}. Best is trial 3 with value: 0.7832167832167832.\u001b[0m\n",
      "\u001b[32m[I 2022-12-05 20:57:29,274]\u001b[0m Trial 0 finished with value: 0.8153846153846154 and parameters: {'preprocessing_n_bins_fare': 6, 'preprocessing_n_bins_age': 12, 'preprocessing_transform_skewed_features_flag': False, 'preprocessing_ohe_min_frequency': 0.1690797925015768, 'preprocessing_ohe_max_categories': 11, 'preprocessing_feature_selection_low_variance_flag': False, 'preprocessing_correlation': 0.8553602457824006, 'columnprep__transformers_num': 'MinMaxScaler', 'rfc_n_estimators': 2343, 'rfc_max_depth': 7, 'rfc_min_samples_split': 0.09419954304631645, 'rfc_min_samples_leaf': 0.07826643480088147, 'rfc_criterion': 'gini', 'rfc_max_leaf_nodes': 10}. Best is trial 0 with value: 0.8153846153846154.\u001b[0m\n",
      "\u001b[32m[I 2022-12-05 20:57:36,076]\u001b[0m Trial 1 finished with value: 0.7776223776223775 and parameters: {'preprocessing_n_bins_fare': 14, 'preprocessing_n_bins_age': 14, 'preprocessing_transform_skewed_features_flag': True, 'preprocessing_ohe_min_frequency': 0.09695698427550399, 'preprocessing_ohe_max_categories': 16, 'preprocessing_feature_selection_low_variance_flag': False, 'preprocessing_correlation': 0.7912460046131367, 'columnprep__transformers_num': 'MinMaxScaler', 'rfc_n_estimators': 2418, 'rfc_max_depth': 12, 'rfc_min_samples_split': 0.09925393230953089, 'rfc_min_samples_leaf': 0.1265830779470618, 'rfc_criterion': 'entropy', 'rfc_max_leaf_nodes': 5}. Best is trial 0 with value: 0.8153846153846154.\u001b[0m\n",
      "\u001b[32m[I 2022-12-05 20:57:49,221]\u001b[0m Trial 2 finished with value: 0.7986013986013986 and parameters: {'preprocessing_n_bins_fare': 12, 'preprocessing_n_bins_age': 5, 'preprocessing_transform_skewed_features_flag': True, 'preprocessing_ohe_min_frequency': 0.029502822445524626, 'preprocessing_ohe_max_categories': 11, 'preprocessing_feature_selection_low_variance_flag': True, 'preprocessing_correlation': 0.9335458254256174, 'columnprep__transformers_num': 'MinMaxScaler', 'rfc_n_estimators': 1964, 'rfc_max_depth': 10, 'rfc_min_samples_split': 0.0678720868523391, 'rfc_min_samples_leaf': 0.12144396008407699, 'rfc_criterion': 'gini', 'rfc_max_leaf_nodes': 7}. Best is trial 0 with value: 0.8153846153846154.\u001b[0m\n",
      "\u001b[32m[I 2022-12-05 20:58:15,173]\u001b[0m Trial 4 finished with value: 0.8013986013986013 and parameters: {'preprocessing_n_bins_fare': 15, 'preprocessing_n_bins_age': 6, 'preprocessing_transform_skewed_features_flag': False, 'preprocessing_ohe_min_frequency': 0.017127348077426552, 'preprocessing_ohe_max_categories': 19, 'preprocessing_feature_selection_low_variance_flag': True, 'preprocessing_correlation': 0.7591072530052785, 'columnprep__transformers_num': 'MinMaxScaler', 'rfc_n_estimators': 2946, 'rfc_max_depth': 15, 'rfc_min_samples_split': 0.09240566751413318, 'rfc_min_samples_leaf': 0.07931468437274652, 'rfc_criterion': 'gini', 'rfc_max_leaf_nodes': 9}. Best is trial 0 with value: 0.8153846153846154.\u001b[0m\n",
      "\u001b[32m[I 2022-12-05 20:58:34,338]\u001b[0m Trial 5 finished with value: 0.7608391608391607 and parameters: {'preprocessing_n_bins_fare': 12, 'preprocessing_n_bins_age': 7, 'preprocessing_transform_skewed_features_flag': False, 'preprocessing_ohe_min_frequency': 0.12368121988278967, 'preprocessing_ohe_max_categories': 12, 'preprocessing_feature_selection_low_variance_flag': False, 'preprocessing_correlation': 0.7422302447204492, 'columnprep__transformers_num': 'MinMaxScaler', 'rfc_n_estimators': 2996, 'rfc_max_depth': 15, 'rfc_min_samples_split': 0.11150450196547843, 'rfc_min_samples_leaf': 0.14849540989638835, 'rfc_criterion': 'entropy', 'rfc_max_leaf_nodes': 4}. Best is trial 0 with value: 0.8153846153846154.\u001b[0m\n",
      "\u001b[32m[I 2022-12-05 20:58:59,854]\u001b[0m Trial 6 finished with value: 0.765034965034965 and parameters: {'preprocessing_n_bins_fare': 13, 'preprocessing_n_bins_age': 7, 'preprocessing_transform_skewed_features_flag': False, 'preprocessing_ohe_min_frequency': 0.18277097396486788, 'preprocessing_ohe_max_categories': 6, 'preprocessing_feature_selection_low_variance_flag': False, 'preprocessing_correlation': 0.8521596076756319, 'columnprep__transformers_num': 'MinMaxScaler', 'rfc_n_estimators': 3804, 'rfc_max_depth': 13, 'rfc_min_samples_split': 0.06015128344315428, 'rfc_min_samples_leaf': 0.14941639674953044, 'rfc_criterion': 'entropy', 'rfc_max_leaf_nodes': 6}. Best is trial 0 with value: 0.8153846153846154.\u001b[0m\n",
      "\u001b[32m[I 2022-12-05 20:59:17,545]\u001b[0m Trial 7 finished with value: 0.8153846153846154 and parameters: {'preprocessing_n_bins_fare': 9, 'preprocessing_n_bins_age': 5, 'preprocessing_transform_skewed_features_flag': True, 'preprocessing_ohe_min_frequency': 0.1808748022850176, 'preprocessing_ohe_max_categories': 16, 'preprocessing_feature_selection_low_variance_flag': False, 'preprocessing_correlation': 0.8326856832323497, 'columnprep__transformers_num': 'StandardScaler', 'rfc_n_estimators': 3414, 'rfc_max_depth': 16, 'rfc_min_samples_split': 0.12431516800005755, 'rfc_min_samples_leaf': 0.057173949176728384, 'rfc_criterion': 'gini', 'rfc_max_leaf_nodes': 6}. Best is trial 0 with value: 0.8153846153846154.\u001b[0m\n",
      "\u001b[32m[I 2022-12-05 20:59:28,269]\u001b[0m Trial 8 finished with value: 0.772027972027972 and parameters: {'preprocessing_n_bins_fare': 15, 'preprocessing_n_bins_age': 10, 'preprocessing_transform_skewed_features_flag': True, 'preprocessing_ohe_min_frequency': 0.1315849530461059, 'preprocessing_ohe_max_categories': 14, 'preprocessing_feature_selection_low_variance_flag': False, 'preprocessing_correlation': 0.7891637303053467, 'columnprep__transformers_num': 'StandardScaler', 'rfc_n_estimators': 1874, 'rfc_max_depth': 13, 'rfc_min_samples_split': 0.1145295420364299, 'rfc_min_samples_leaf': 0.13789251554099105, 'rfc_criterion': 'entropy', 'rfc_max_leaf_nodes': 5}. Best is trial 0 with value: 0.8153846153846154.\u001b[0m\n",
      "\u001b[32m[I 2022-12-05 20:59:59,011]\u001b[0m Trial 9 finished with value: 0.786013986013986 and parameters: {'preprocessing_n_bins_fare': 5, 'preprocessing_n_bins_age': 12, 'preprocessing_transform_skewed_features_flag': True, 'preprocessing_ohe_min_frequency': 0.137115236898907, 'preprocessing_ohe_max_categories': 12, 'preprocessing_feature_selection_low_variance_flag': False, 'preprocessing_correlation': 0.9084316224743205, 'columnprep__transformers_num': 'StandardScaler', 'rfc_n_estimators': 4801, 'rfc_max_depth': 12, 'rfc_min_samples_split': 0.11700517523089903, 'rfc_min_samples_leaf': 0.1991362935923469, 'rfc_criterion': 'entropy', 'rfc_max_leaf_nodes': 9}. Best is trial 0 with value: 0.8153846153846154.\u001b[0m\n",
      "\u001b[32m[I 2022-12-05 21:00:09,961]\u001b[0m Trial 10 finished with value: 0.813986013986014 and parameters: {'preprocessing_n_bins_fare': 9, 'preprocessing_n_bins_age': 13, 'preprocessing_transform_skewed_features_flag': True, 'preprocessing_ohe_min_frequency': 0.1778476386618091, 'preprocessing_ohe_max_categories': 20, 'preprocessing_feature_selection_low_variance_flag': False, 'preprocessing_correlation': 0.8145144794483152, 'columnprep__transformers_num': 'MinMaxScaler', 'rfc_n_estimators': 2813, 'rfc_max_depth': 8, 'rfc_min_samples_split': 0.17800259962489423, 'rfc_min_samples_leaf': 0.08343571802475959, 'rfc_criterion': 'gini', 'rfc_max_leaf_nodes': 6}. Best is trial 0 with value: 0.8153846153846154.\u001b[0m\n",
      "\u001b[32m[I 2022-12-05 21:00:21,249]\u001b[0m Trial 11 finished with value: 0.8083916083916083 and parameters: {'preprocessing_n_bins_fare': 5, 'preprocessing_n_bins_age': 8, 'preprocessing_transform_skewed_features_flag': True, 'preprocessing_ohe_min_frequency': 0.057988820622608885, 'preprocessing_ohe_max_categories': 19, 'preprocessing_feature_selection_low_variance_flag': False, 'preprocessing_correlation': 0.944863968207867, 'columnprep__transformers_num': 'MinMaxScaler', 'rfc_n_estimators': 1973, 'rfc_max_depth': 16, 'rfc_min_samples_split': 0.1012633301968981, 'rfc_min_samples_leaf': 0.11175122098800193, 'rfc_criterion': 'gini', 'rfc_max_leaf_nodes': 7}. Best is trial 0 with value: 0.8153846153846154.\u001b[0m\n",
      "\u001b[32m[I 2022-12-05 21:00:28,782]\u001b[0m Trial 12 finished with value: 0.7818181818181819 and parameters: {'preprocessing_n_bins_fare': 10, 'preprocessing_n_bins_age': 9, 'preprocessing_transform_skewed_features_flag': True, 'preprocessing_ohe_min_frequency': 0.031070003199527754, 'preprocessing_ohe_max_categories': 19, 'preprocessing_feature_selection_low_variance_flag': True, 'preprocessing_correlation': 0.8017438209557143, 'columnprep__transformers_num': 'MinMaxScaler', 'rfc_n_estimators': 801, 'rfc_max_depth': 15, 'rfc_min_samples_split': 0.11726139373056715, 'rfc_min_samples_leaf': 0.1224420488577138, 'rfc_criterion': 'entropy', 'rfc_max_leaf_nodes': 6}. Best is trial 0 with value: 0.8153846153846154.\u001b[0m\n",
      "\u001b[32m[I 2022-12-05 21:00:38,399]\u001b[0m Trial 13 finished with value: 0.7944055944055944 and parameters: {'preprocessing_n_bins_fare': 8, 'preprocessing_n_bins_age': 10, 'preprocessing_transform_skewed_features_flag': False, 'preprocessing_ohe_min_frequency': 0.06747888566483293, 'preprocessing_ohe_max_categories': 7, 'preprocessing_feature_selection_low_variance_flag': False, 'preprocessing_correlation': 0.7021611901872344, 'columnprep__transformers_num': 'MinMaxScaler', 'rfc_n_estimators': 387, 'rfc_max_depth': 6, 'rfc_min_samples_split': 0.16371504032849454, 'rfc_min_samples_leaf': 0.09575453289496387, 'rfc_criterion': 'gini', 'rfc_max_leaf_nodes': 10}. Best is trial 0 with value: 0.8153846153846154.\u001b[0m\n",
      "\u001b[32m[I 2022-12-05 21:00:47,102]\u001b[0m Trial 14 finished with value: 0.8041958041958042 and parameters: {'preprocessing_n_bins_fare': 8, 'preprocessing_n_bins_age': 10, 'preprocessing_transform_skewed_features_flag': False, 'preprocessing_ohe_min_frequency': 0.07013154313562103, 'preprocessing_ohe_max_categories': 8, 'preprocessing_feature_selection_low_variance_flag': False, 'preprocessing_correlation': 0.8575142477500269, 'columnprep__transformers_num': 'StandardScaler', 'rfc_n_estimators': 597, 'rfc_max_depth': 5, 'rfc_min_samples_split': 0.15205287514114363, 'rfc_min_samples_leaf': 0.0502830432279614, 'rfc_criterion': 'gini', 'rfc_max_leaf_nodes': 10}. Best is trial 0 with value: 0.8153846153846154.\u001b[0m\n",
      "\u001b[32m[I 2022-12-05 21:00:50,981]\u001b[0m Trial 15 finished with value: 0.7902097902097902 and parameters: {'preprocessing_n_bins_fare': 8, 'preprocessing_n_bins_age': 10, 'preprocessing_transform_skewed_features_flag': False, 'preprocessing_ohe_min_frequency': 0.19316729997557675, 'preprocessing_ohe_max_categories': 7, 'preprocessing_feature_selection_low_variance_flag': False, 'preprocessing_correlation': 0.8546988210645811, 'columnprep__transformers_num': 'StandardScaler', 'rfc_n_estimators': 453, 'rfc_max_depth': 5, 'rfc_min_samples_split': 0.15084515755998995, 'rfc_min_samples_leaf': 0.05195569791137196, 'rfc_criterion': 'gini', 'rfc_max_leaf_nodes': 10}. Best is trial 0 with value: 0.8153846153846154.\u001b[0m\n",
      "\u001b[32m[I 2022-12-05 21:01:00,925]\u001b[0m Trial 16 finished with value: 0.7846153846153847 and parameters: {'preprocessing_n_bins_fare': 8, 'preprocessing_n_bins_age': 11, 'preprocessing_transform_skewed_features_flag': False, 'preprocessing_ohe_min_frequency': 0.1996428222906491, 'preprocessing_ohe_max_categories': 9, 'preprocessing_feature_selection_low_variance_flag': False, 'preprocessing_correlation': 0.8527177766082199, 'columnprep__transformers_num': 'StandardScaler', 'rfc_n_estimators': 589, 'rfc_max_depth': 5, 'rfc_min_samples_split': 0.149638993783833, 'rfc_min_samples_leaf': 0.05089081830466394, 'rfc_criterion': 'gini', 'rfc_max_leaf_nodes': 10}. Best is trial 0 with value: 0.8153846153846154.\u001b[0m\n",
      "\u001b[32m[I 2022-12-05 21:01:33,657]\u001b[0m Trial 17 finished with value: 0.7608391608391608 and parameters: {'preprocessing_n_bins_fare': 7, 'preprocessing_n_bins_age': 15, 'preprocessing_transform_skewed_features_flag': False, 'preprocessing_ohe_min_frequency': 0.15821654297294097, 'preprocessing_ohe_max_categories': 9, 'preprocessing_feature_selection_low_variance_flag': False, 'preprocessing_correlation': 0.8528382406230326, 'columnprep__transformers_num': 'StandardScaler', 'rfc_n_estimators': 3700, 'rfc_max_depth': 5, 'rfc_min_samples_split': 0.14282709615621525, 'rfc_min_samples_leaf': 0.05132672842385137, 'rfc_criterion': 'gini', 'rfc_max_leaf_nodes': 2}. Best is trial 0 with value: 0.8153846153846154.\u001b[0m\n",
      "\u001b[32m[I 2022-12-05 21:01:49,835]\u001b[0m Trial 18 finished with value: 0.7496503496503497 and parameters: {'preprocessing_n_bins_fare': 7, 'preprocessing_n_bins_age': 15, 'preprocessing_transform_skewed_features_flag': False, 'preprocessing_ohe_min_frequency': 0.19739740322739252, 'preprocessing_ohe_max_categories': 15, 'preprocessing_feature_selection_low_variance_flag': False, 'preprocessing_correlation': 0.8480262694462813, 'columnprep__transformers_num': 'StandardScaler', 'rfc_n_estimators': 3431, 'rfc_max_depth': 8, 'rfc_min_samples_split': 0.14006467866202474, 'rfc_min_samples_leaf': 0.05960248646322011, 'rfc_criterion': 'gini', 'rfc_max_leaf_nodes': 2}. Best is trial 0 with value: 0.8153846153846154.\u001b[0m\n",
      "\u001b[32m[I 2022-12-05 21:02:12,635]\u001b[0m Trial 19 finished with value: 0.8 and parameters: {'preprocessing_n_bins_fare': 7, 'preprocessing_n_bins_age': 15, 'preprocessing_transform_skewed_features_flag': True, 'preprocessing_ohe_min_frequency': 0.1543796769233278, 'preprocessing_ohe_max_categories': 16, 'preprocessing_feature_selection_low_variance_flag': False, 'preprocessing_correlation': 0.8877604847482681, 'columnprep__transformers_num': 'StandardScaler', 'rfc_n_estimators': 3565, 'rfc_max_depth': 8, 'rfc_min_samples_split': 0.13668619152158554, 'rfc_min_samples_leaf': 0.06883650451709741, 'rfc_criterion': 'gini', 'rfc_max_leaf_nodes': 2}. Best is trial 0 with value: 0.8153846153846154.\u001b[0m\n",
      "\u001b[32m[I 2022-12-05 21:02:41,151]\u001b[0m Trial 20 finished with value: 0.8 and parameters: {'preprocessing_n_bins_fare': 6, 'preprocessing_n_bins_age': 15, 'preprocessing_transform_skewed_features_flag': True, 'preprocessing_ohe_min_frequency': 0.15259041489711123, 'preprocessing_ohe_max_categories': 15, 'preprocessing_feature_selection_low_variance_flag': False, 'preprocessing_correlation': 0.8896757329547094, 'columnprep__transformers_num': 'StandardScaler', 'rfc_n_estimators': 3675, 'rfc_max_depth': 8, 'rfc_min_samples_split': 0.13049624152061584, 'rfc_min_samples_leaf': 0.07148756332111349, 'rfc_criterion': 'gini', 'rfc_max_leaf_nodes': 2}. Best is trial 0 with value: 0.8153846153846154.\u001b[0m\n",
      "\u001b[32m[I 2022-12-05 21:02:46,734]\u001b[0m Trial 21 finished with value: 0.8251748251748252 and parameters: {'preprocessing_n_bins_fare': 10, 'preprocessing_n_bins_age': 5, 'preprocessing_transform_skewed_features_flag': True, 'preprocessing_ohe_min_frequency': 0.1551498431691082, 'preprocessing_ohe_max_categories': 16, 'preprocessing_feature_selection_low_variance_flag': True, 'preprocessing_correlation': 0.8980379449275633, 'columnprep__transformers_num': 'StandardScaler', 'rfc_n_estimators': 1460, 'rfc_max_depth': 8, 'rfc_min_samples_split': 0.13287285320614145, 'rfc_min_samples_leaf': 0.07464330754321172, 'rfc_criterion': 'gini', 'rfc_max_leaf_nodes': 8}. Best is trial 21 with value: 0.8251748251748252.\u001b[0m\n",
      "\u001b[32m[I 2022-12-05 21:02:59,170]\u001b[0m Trial 22 finished with value: 0.8223776223776224 and parameters: {'preprocessing_n_bins_fare': 10, 'preprocessing_n_bins_age': 5, 'preprocessing_transform_skewed_features_flag': True, 'preprocessing_ohe_min_frequency': 0.15551760169073883, 'preprocessing_ohe_max_categories': 17, 'preprocessing_feature_selection_low_variance_flag': True, 'preprocessing_correlation': 0.8879906063790708, 'columnprep__transformers_num': 'StandardScaler', 'rfc_n_estimators': 1281, 'rfc_max_depth': 8, 'rfc_min_samples_split': 0.050976722613904984, 'rfc_min_samples_leaf': 0.07304109492383898, 'rfc_criterion': 'gini', 'rfc_max_leaf_nodes': 7}. Best is trial 21 with value: 0.8251748251748252.\u001b[0m\n",
      "\u001b[32m[I 2022-12-05 21:03:14,155]\u001b[0m Trial 23 finished with value: 0.7958041958041958 and parameters: {'preprocessing_n_bins_fare': 10, 'preprocessing_n_bins_age': 5, 'preprocessing_transform_skewed_features_flag': True, 'preprocessing_ohe_min_frequency': 0.10107934466957572, 'preprocessing_ohe_max_categories': 14, 'preprocessing_feature_selection_low_variance_flag': True, 'preprocessing_correlation': 0.8261127977545519, 'columnprep__transformers_num': 'MinMaxScaler', 'rfc_n_estimators': 1502, 'rfc_max_depth': 9, 'rfc_min_samples_split': 0.07416052097673478, 'rfc_min_samples_leaf': 0.09835370365935969, 'rfc_criterion': 'gini', 'rfc_max_leaf_nodes': 8}. Best is trial 21 with value: 0.8251748251748252.\u001b[0m\n",
      "\u001b[32m[I 2022-12-05 21:03:36,479]\u001b[0m Trial 24 finished with value: 0.806993006993007 and parameters: {'preprocessing_n_bins_fare': 10, 'preprocessing_n_bins_age': 12, 'preprocessing_transform_skewed_features_flag': True, 'preprocessing_ohe_min_frequency': 0.17188886132114833, 'preprocessing_ohe_max_categories': 20, 'preprocessing_feature_selection_low_variance_flag': False, 'preprocessing_correlation': 0.8260021709179791, 'columnprep__transformers_num': 'MinMaxScaler', 'rfc_n_estimators': 2584, 'rfc_max_depth': 7, 'rfc_min_samples_split': 0.19948436386236157, 'rfc_min_samples_leaf': 0.09752277536761844, 'rfc_criterion': 'gini', 'rfc_max_leaf_nodes': 7}. Best is trial 21 with value: 0.8251748251748252.\u001b[0m\n",
      "\u001b[32m[I 2022-12-05 21:03:43,918]\u001b[0m Trial 25 finished with value: 0.7986013986013986 and parameters: {'preprocessing_n_bins_fare': 11, 'preprocessing_n_bins_age': 5, 'preprocessing_transform_skewed_features_flag': True, 'preprocessing_ohe_min_frequency': 0.09490948459390272, 'preprocessing_ohe_max_categories': 17, 'preprocessing_feature_selection_low_variance_flag': True, 'preprocessing_correlation': 0.8250405860124477, 'columnprep__transformers_num': 'StandardScaler', 'rfc_n_estimators': 1258, 'rfc_max_depth': 7, 'rfc_min_samples_split': 0.07660324258331819, 'rfc_min_samples_leaf': 0.09563841216029355, 'rfc_criterion': 'gini', 'rfc_max_leaf_nodes': 8}. Best is trial 21 with value: 0.8251748251748252.\u001b[0m\n",
      "\u001b[32m[I 2022-12-05 21:03:54,137]\u001b[0m Trial 26 finished with value: 0.8167832167832169 and parameters: {'preprocessing_n_bins_fare': 10, 'preprocessing_n_bins_age': 5, 'preprocessing_transform_skewed_features_flag': True, 'preprocessing_ohe_min_frequency': 0.10980927957522917, 'preprocessing_ohe_max_categories': 17, 'preprocessing_feature_selection_low_variance_flag': True, 'preprocessing_correlation': 0.9078184408924429, 'columnprep__transformers_num': 'StandardScaler', 'rfc_n_estimators': 1149, 'rfc_max_depth': 10, 'rfc_min_samples_split': 0.18916330899816983, 'rfc_min_samples_leaf': 0.09184280271025813, 'rfc_criterion': 'gini', 'rfc_max_leaf_nodes': 8}. Best is trial 21 with value: 0.8251748251748252.\u001b[0m\n",
      "\u001b[32m[I 2022-12-05 21:04:05,007]\u001b[0m Trial 27 finished with value: 0.8181818181818181 and parameters: {'preprocessing_n_bins_fare': 11, 'preprocessing_n_bins_age': 6, 'preprocessing_transform_skewed_features_flag': True, 'preprocessing_ohe_min_frequency': 0.11103134447181356, 'preprocessing_ohe_max_categories': 17, 'preprocessing_feature_selection_low_variance_flag': True, 'preprocessing_correlation': 0.9126366693600856, 'columnprep__transformers_num': 'StandardScaler', 'rfc_n_estimators': 1233, 'rfc_max_depth': 7, 'rfc_min_samples_split': 0.05528761772601597, 'rfc_min_samples_leaf': 0.09396141295083613, 'rfc_criterion': 'gini', 'rfc_max_leaf_nodes': 8}. Best is trial 21 with value: 0.8251748251748252.\u001b[0m\n",
      "\u001b[32m[I 2022-12-05 21:04:15,886]\u001b[0m Trial 28 finished with value: 0.8153846153846154 and parameters: {'preprocessing_n_bins_fare': 11, 'preprocessing_n_bins_age': 6, 'preprocessing_transform_skewed_features_flag': True, 'preprocessing_ohe_min_frequency': 0.11176614057436755, 'preprocessing_ohe_max_categories': 17, 'preprocessing_feature_selection_low_variance_flag': True, 'preprocessing_correlation': 0.9154071142410801, 'columnprep__transformers_num': 'StandardScaler', 'rfc_n_estimators': 1220, 'rfc_max_depth': 7, 'rfc_min_samples_split': 0.05082613171961323, 'rfc_min_samples_leaf': 0.08584644436080169, 'rfc_criterion': 'gini', 'rfc_max_leaf_nodes': 8}. Best is trial 21 with value: 0.8251748251748252.\u001b[0m\n",
      "\u001b[32m[I 2022-12-05 21:04:27,610]\u001b[0m Trial 29 finished with value: 0.813986013986014 and parameters: {'preprocessing_n_bins_fare': 11, 'preprocessing_n_bins_age': 7, 'preprocessing_transform_skewed_features_flag': True, 'preprocessing_ohe_min_frequency': 0.11241050970249086, 'preprocessing_ohe_max_categories': 10, 'preprocessing_feature_selection_low_variance_flag': True, 'preprocessing_correlation': 0.9250416753732893, 'columnprep__transformers_num': 'StandardScaler', 'rfc_n_estimators': 1085, 'rfc_max_depth': 10, 'rfc_min_samples_split': 0.05294088947229345, 'rfc_min_samples_leaf': 0.08335226333733424, 'rfc_criterion': 'gini', 'rfc_max_leaf_nodes': 8}. Best is trial 21 with value: 0.8251748251748252.\u001b[0m\n",
      "\u001b[32m[I 2022-12-05 21:04:36,042]\u001b[0m Trial 30 finished with value: 0.813986013986014 and parameters: {'preprocessing_n_bins_fare': 11, 'preprocessing_n_bins_age': 7, 'preprocessing_transform_skewed_features_flag': True, 'preprocessing_ohe_min_frequency': 0.12035466997952571, 'preprocessing_ohe_max_categories': 17, 'preprocessing_feature_selection_low_variance_flag': True, 'preprocessing_correlation': 0.9211603868661027, 'columnprep__transformers_num': 'StandardScaler', 'rfc_n_estimators': 1127, 'rfc_max_depth': 9, 'rfc_min_samples_split': 0.19252693829079226, 'rfc_min_samples_leaf': 0.08753370190714044, 'rfc_criterion': 'gini', 'rfc_max_leaf_nodes': 8}. Best is trial 21 with value: 0.8251748251748252.\u001b[0m\n",
      "\u001b[32m[I 2022-12-05 21:04:49,206]\u001b[0m Trial 31 finished with value: 0.813986013986014 and parameters: {'preprocessing_n_bins_fare': 11, 'preprocessing_n_bins_age': 7, 'preprocessing_transform_skewed_features_flag': True, 'preprocessing_ohe_min_frequency': 0.11745566399962407, 'preprocessing_ohe_max_categories': 18, 'preprocessing_feature_selection_low_variance_flag': True, 'preprocessing_correlation': 0.9131009273640874, 'columnprep__transformers_num': 'StandardScaler', 'rfc_n_estimators': 992, 'rfc_max_depth': 9, 'rfc_min_samples_split': 0.053645010923361755, 'rfc_min_samples_leaf': 0.10874753232861441, 'rfc_criterion': 'gini', 'rfc_max_leaf_nodes': 9}. Best is trial 21 with value: 0.8251748251748252.\u001b[0m\n",
      "\u001b[32m[I 2022-12-05 21:05:01,469]\u001b[0m Trial 32 finished with value: 0.8181818181818181 and parameters: {'preprocessing_n_bins_fare': 11, 'preprocessing_n_bins_age': 7, 'preprocessing_transform_skewed_features_flag': True, 'preprocessing_ohe_min_frequency': 0.1432577546122771, 'preprocessing_ohe_max_categories': 18, 'preprocessing_feature_selection_low_variance_flag': True, 'preprocessing_correlation': 0.8779129281765954, 'columnprep__transformers_num': 'StandardScaler', 'rfc_n_estimators': 1650, 'rfc_max_depth': 9, 'rfc_min_samples_split': 0.05229074730212127, 'rfc_min_samples_leaf': 0.06726157980506248, 'rfc_criterion': 'gini', 'rfc_max_leaf_nodes': 9}. Best is trial 21 with value: 0.8251748251748252.\u001b[0m\n",
      "\u001b[32m[I 2022-12-05 21:05:02,922]\u001b[0m Trial 33 finished with value: 0.813986013986014 and parameters: {'preprocessing_n_bins_fare': 12, 'preprocessing_n_bins_age': 6, 'preprocessing_transform_skewed_features_flag': True, 'preprocessing_ohe_min_frequency': 0.14285582368474742, 'preprocessing_ohe_max_categories': 18, 'preprocessing_feature_selection_low_variance_flag': True, 'preprocessing_correlation': 0.8704205435145715, 'columnprep__transformers_num': 'StandardScaler', 'rfc_n_estimators': 164, 'rfc_max_depth': 9, 'rfc_min_samples_split': 0.08940359165438455, 'rfc_min_samples_leaf': 0.10758365127764555, 'rfc_criterion': 'gini', 'rfc_max_leaf_nodes': 9}. Best is trial 21 with value: 0.8251748251748252.\u001b[0m\n",
      "\u001b[32m[I 2022-12-05 21:05:15,435]\u001b[0m Trial 35 finished with value: 0.8251748251748252 and parameters: {'preprocessing_n_bins_fare': 9, 'preprocessing_n_bins_age': 6, 'preprocessing_transform_skewed_features_flag': True, 'preprocessing_ohe_min_frequency': 0.14057570601667882, 'preprocessing_ohe_max_categories': 14, 'preprocessing_feature_selection_low_variance_flag': True, 'preprocessing_correlation': 0.8733749830924988, 'columnprep__transformers_num': 'StandardScaler', 'rfc_n_estimators': 53, 'rfc_max_depth': 6, 'rfc_min_samples_split': 0.17309601337512442, 'rfc_min_samples_leaf': 0.0679623255747953, 'rfc_criterion': 'gini', 'rfc_max_leaf_nodes': 7}. Best is trial 21 with value: 0.8251748251748252.\u001b[0m\n",
      "\u001b[32m[I 2022-12-05 21:05:17,526]\u001b[0m Trial 34 finished with value: 0.8181818181818181 and parameters: {'preprocessing_n_bins_fare': 9, 'preprocessing_n_bins_age': 6, 'preprocessing_transform_skewed_features_flag': True, 'preprocessing_ohe_min_frequency': 0.13904284404018824, 'preprocessing_ohe_max_categories': 18, 'preprocessing_feature_selection_low_variance_flag': True, 'preprocessing_correlation': 0.8768665731867422, 'columnprep__transformers_num': 'StandardScaler', 'rfc_n_estimators': 1665, 'rfc_max_depth': 9, 'rfc_min_samples_split': 0.08466301428660528, 'rfc_min_samples_leaf': 0.07016002630468847, 'rfc_criterion': 'gini', 'rfc_max_leaf_nodes': 9}. Best is trial 21 with value: 0.8251748251748252.\u001b[0m\n",
      "\u001b[32m[I 2022-12-05 21:05:21,690]\u001b[0m Trial 36 finished with value: 0.8181818181818181 and parameters: {'preprocessing_n_bins_fare': 12, 'preprocessing_n_bins_age': 6, 'preprocessing_transform_skewed_features_flag': True, 'preprocessing_ohe_min_frequency': 0.14968276773797712, 'preprocessing_ohe_max_categories': 14, 'preprocessing_feature_selection_low_variance_flag': True, 'preprocessing_correlation': 0.8713706679332283, 'columnprep__transformers_num': 'StandardScaler', 'rfc_n_estimators': 130, 'rfc_max_depth': 6, 'rfc_min_samples_split': 0.06499573718223332, 'rfc_min_samples_leaf': 0.06982281830972747, 'rfc_criterion': 'gini', 'rfc_max_leaf_nodes': 7}. Best is trial 21 with value: 0.8251748251748252.\u001b[0m\n",
      "\u001b[32m[I 2022-12-05 21:05:37,200]\u001b[0m Trial 37 finished with value: 0.820979020979021 and parameters: {'preprocessing_n_bins_fare': 13, 'preprocessing_n_bins_age': 6, 'preprocessing_transform_skewed_features_flag': True, 'preprocessing_ohe_min_frequency': 0.1612768634971586, 'preprocessing_ohe_max_categories': 14, 'preprocessing_feature_selection_low_variance_flag': True, 'preprocessing_correlation': 0.8747649632488816, 'columnprep__transformers_num': 'StandardScaler', 'rfc_n_estimators': 1574, 'rfc_max_depth': 6, 'rfc_min_samples_split': 0.06675995285402671, 'rfc_min_samples_leaf': 0.06983042726444998, 'rfc_criterion': 'gini', 'rfc_max_leaf_nodes': 7}. Best is trial 21 with value: 0.8251748251748252.\u001b[0m\n",
      "\u001b[32m[I 2022-12-05 21:05:47,533]\u001b[0m Trial 38 finished with value: 0.820979020979021 and parameters: {'preprocessing_n_bins_fare': 9, 'preprocessing_n_bins_age': 8, 'preprocessing_transform_skewed_features_flag': True, 'preprocessing_ohe_min_frequency': 0.16341032180050402, 'preprocessing_ohe_max_categories': 14, 'preprocessing_feature_selection_low_variance_flag': True, 'preprocessing_correlation': 0.8759203120508426, 'columnprep__transformers_num': 'StandardScaler', 'rfc_n_estimators': 1680, 'rfc_max_depth': 6, 'rfc_min_samples_split': 0.17105456178483186, 'rfc_min_samples_leaf': 0.06868383232208128, 'rfc_criterion': 'gini', 'rfc_max_leaf_nodes': 7}. Best is trial 21 with value: 0.8251748251748252.\u001b[0m\n",
      "\u001b[32m[I 2022-12-05 21:05:58,288]\u001b[0m Trial 39 finished with value: 0.8223776223776224 and parameters: {'preprocessing_n_bins_fare': 13, 'preprocessing_n_bins_age': 8, 'preprocessing_transform_skewed_features_flag': True, 'preprocessing_ohe_min_frequency': 0.1619485131982811, 'preprocessing_ohe_max_categories': 14, 'preprocessing_feature_selection_low_variance_flag': True, 'preprocessing_correlation': 0.8962025448122523, 'columnprep__transformers_num': 'StandardScaler', 'rfc_n_estimators': 2212, 'rfc_max_depth': 6, 'rfc_min_samples_split': 0.1675679858378464, 'rfc_min_samples_leaf': 0.06294158262925775, 'rfc_criterion': 'gini', 'rfc_max_leaf_nodes': 7}. Best is trial 21 with value: 0.8251748251748252.\u001b[0m\n"
     ]
    },
    {
     "name": "stdout",
     "output_type": "stream",
     "text": [
      "Best trial:\n",
      "0.8251748251748252\n",
      "{'preprocessing_n_bins_fare': 10, 'preprocessing_n_bins_age': 5, 'preprocessing_transform_skewed_features_flag': True, 'preprocessing_ohe_min_frequency': 0.1551498431691082, 'preprocessing_ohe_max_categories': 16, 'preprocessing_feature_selection_low_variance_flag': True, 'preprocessing_correlation': 0.8980379449275633, 'columnprep__transformers_num': 'StandardScaler', 'rfc_n_estimators': 1460, 'rfc_max_depth': 8, 'rfc_min_samples_split': 0.13287285320614145, 'rfc_min_samples_leaf': 0.07464330754321172, 'rfc_criterion': 'gini', 'rfc_max_leaf_nodes': 8}\n",
      "Log best parameters\n",
      "Save best model\n",
      "Fit best model\n",
      "[Pipeline] . (step 1 of 7) Processing biningtransformer, total=   0.0s\n",
      "[Pipeline]  (step 2 of 7) Processing skewedfeaturetransformer, total=   0.0s\n",
      "[Pipeline]  (step 3 of 7) Processing onehotencodertransformer, total=   0.0s\n",
      "[Pipeline]  (step 4 of 7) Processing lowvariancetransformer, total=   0.0s\n",
      "[Pipeline]  (step 5 of 7) Processing correlationtransformer, total=   0.0s\n",
      "[Pipeline] . (step 6 of 7) Processing scalertransformer, total=   0.0s\n",
      "[Pipeline]  (step 7 of 7) Processing randomforestclassifier, total=   4.6s\n",
      "Create submission\n",
      "Predict training outcome\n",
      "Evaluate model performance\n"
     ]
    },
    {
     "data": {
      "application/vnd.plotly.v1+json": {
       "config": {
        "plotlyServerURL": "https://plot.ly"
       },
       "data": [
        {
         "mode": "markers",
         "name": "Objective Value",
         "type": "scatter",
         "x": [
          0,
          1,
          2,
          3,
          4,
          5,
          6,
          7,
          8,
          9,
          10,
          11,
          12,
          13,
          14,
          15,
          16,
          17,
          18,
          19,
          20,
          21,
          22,
          23,
          24,
          25,
          26,
          27,
          28,
          29,
          30,
          31,
          32,
          33,
          34,
          35,
          36,
          37,
          38,
          39
         ],
         "y": [
          0.8153846153846154,
          0.7776223776223775,
          0.7986013986013986,
          0.7832167832167832,
          0.8013986013986013,
          0.7608391608391607,
          0.765034965034965,
          0.8153846153846154,
          0.772027972027972,
          0.786013986013986,
          0.813986013986014,
          0.8083916083916083,
          0.7818181818181819,
          0.7944055944055944,
          0.8041958041958042,
          0.7902097902097902,
          0.7846153846153847,
          0.7608391608391608,
          0.7496503496503497,
          0.8,
          0.8,
          0.8251748251748252,
          0.8223776223776224,
          0.7958041958041958,
          0.806993006993007,
          0.7986013986013986,
          0.8167832167832169,
          0.8181818181818181,
          0.8153846153846154,
          0.813986013986014,
          0.813986013986014,
          0.813986013986014,
          0.8181818181818181,
          0.813986013986014,
          0.8181818181818181,
          0.8251748251748252,
          0.8181818181818181,
          0.820979020979021,
          0.820979020979021,
          0.8223776223776224
         ]
        },
        {
         "name": "Best Value",
         "type": "scatter",
         "x": [
          0,
          1,
          2,
          3,
          4,
          5,
          6,
          7,
          8,
          9,
          10,
          11,
          12,
          13,
          14,
          15,
          16,
          17,
          18,
          19,
          20,
          21,
          22,
          23,
          24,
          25,
          26,
          27,
          28,
          29,
          30,
          31,
          32,
          33,
          34,
          35,
          36,
          37,
          38,
          39
         ],
         "y": [
          0.8153846153846154,
          0.8153846153846154,
          0.8153846153846154,
          0.8153846153846154,
          0.8153846153846154,
          0.8153846153846154,
          0.8153846153846154,
          0.8153846153846154,
          0.8153846153846154,
          0.8153846153846154,
          0.8153846153846154,
          0.8153846153846154,
          0.8153846153846154,
          0.8153846153846154,
          0.8153846153846154,
          0.8153846153846154,
          0.8153846153846154,
          0.8153846153846154,
          0.8153846153846154,
          0.8153846153846154,
          0.8153846153846154,
          0.8251748251748252,
          0.8251748251748252,
          0.8251748251748252,
          0.8251748251748252,
          0.8251748251748252,
          0.8251748251748252,
          0.8251748251748252,
          0.8251748251748252,
          0.8251748251748252,
          0.8251748251748252,
          0.8251748251748252,
          0.8251748251748252,
          0.8251748251748252,
          0.8251748251748252,
          0.8251748251748252,
          0.8251748251748252,
          0.8251748251748252,
          0.8251748251748252,
          0.8251748251748252
         ]
        }
       ],
       "layout": {
        "template": {
         "data": {
          "bar": [
           {
            "error_x": {
             "color": "#2a3f5f"
            },
            "error_y": {
             "color": "#2a3f5f"
            },
            "marker": {
             "line": {
              "color": "#E5ECF6",
              "width": 0.5
             },
             "pattern": {
              "fillmode": "overlay",
              "size": 10,
              "solidity": 0.2
             }
            },
            "type": "bar"
           }
          ],
          "barpolar": [
           {
            "marker": {
             "line": {
              "color": "#E5ECF6",
              "width": 0.5
             },
             "pattern": {
              "fillmode": "overlay",
              "size": 10,
              "solidity": 0.2
             }
            },
            "type": "barpolar"
           }
          ],
          "carpet": [
           {
            "aaxis": {
             "endlinecolor": "#2a3f5f",
             "gridcolor": "white",
             "linecolor": "white",
             "minorgridcolor": "white",
             "startlinecolor": "#2a3f5f"
            },
            "baxis": {
             "endlinecolor": "#2a3f5f",
             "gridcolor": "white",
             "linecolor": "white",
             "minorgridcolor": "white",
             "startlinecolor": "#2a3f5f"
            },
            "type": "carpet"
           }
          ],
          "choropleth": [
           {
            "colorbar": {
             "outlinewidth": 0,
             "ticks": ""
            },
            "type": "choropleth"
           }
          ],
          "contour": [
           {
            "colorbar": {
             "outlinewidth": 0,
             "ticks": ""
            },
            "colorscale": [
             [
              0,
              "#0d0887"
             ],
             [
              0.1111111111111111,
              "#46039f"
             ],
             [
              0.2222222222222222,
              "#7201a8"
             ],
             [
              0.3333333333333333,
              "#9c179e"
             ],
             [
              0.4444444444444444,
              "#bd3786"
             ],
             [
              0.5555555555555556,
              "#d8576b"
             ],
             [
              0.6666666666666666,
              "#ed7953"
             ],
             [
              0.7777777777777778,
              "#fb9f3a"
             ],
             [
              0.8888888888888888,
              "#fdca26"
             ],
             [
              1,
              "#f0f921"
             ]
            ],
            "type": "contour"
           }
          ],
          "contourcarpet": [
           {
            "colorbar": {
             "outlinewidth": 0,
             "ticks": ""
            },
            "type": "contourcarpet"
           }
          ],
          "heatmap": [
           {
            "colorbar": {
             "outlinewidth": 0,
             "ticks": ""
            },
            "colorscale": [
             [
              0,
              "#0d0887"
             ],
             [
              0.1111111111111111,
              "#46039f"
             ],
             [
              0.2222222222222222,
              "#7201a8"
             ],
             [
              0.3333333333333333,
              "#9c179e"
             ],
             [
              0.4444444444444444,
              "#bd3786"
             ],
             [
              0.5555555555555556,
              "#d8576b"
             ],
             [
              0.6666666666666666,
              "#ed7953"
             ],
             [
              0.7777777777777778,
              "#fb9f3a"
             ],
             [
              0.8888888888888888,
              "#fdca26"
             ],
             [
              1,
              "#f0f921"
             ]
            ],
            "type": "heatmap"
           }
          ],
          "heatmapgl": [
           {
            "colorbar": {
             "outlinewidth": 0,
             "ticks": ""
            },
            "colorscale": [
             [
              0,
              "#0d0887"
             ],
             [
              0.1111111111111111,
              "#46039f"
             ],
             [
              0.2222222222222222,
              "#7201a8"
             ],
             [
              0.3333333333333333,
              "#9c179e"
             ],
             [
              0.4444444444444444,
              "#bd3786"
             ],
             [
              0.5555555555555556,
              "#d8576b"
             ],
             [
              0.6666666666666666,
              "#ed7953"
             ],
             [
              0.7777777777777778,
              "#fb9f3a"
             ],
             [
              0.8888888888888888,
              "#fdca26"
             ],
             [
              1,
              "#f0f921"
             ]
            ],
            "type": "heatmapgl"
           }
          ],
          "histogram": [
           {
            "marker": {
             "pattern": {
              "fillmode": "overlay",
              "size": 10,
              "solidity": 0.2
             }
            },
            "type": "histogram"
           }
          ],
          "histogram2d": [
           {
            "colorbar": {
             "outlinewidth": 0,
             "ticks": ""
            },
            "colorscale": [
             [
              0,
              "#0d0887"
             ],
             [
              0.1111111111111111,
              "#46039f"
             ],
             [
              0.2222222222222222,
              "#7201a8"
             ],
             [
              0.3333333333333333,
              "#9c179e"
             ],
             [
              0.4444444444444444,
              "#bd3786"
             ],
             [
              0.5555555555555556,
              "#d8576b"
             ],
             [
              0.6666666666666666,
              "#ed7953"
             ],
             [
              0.7777777777777778,
              "#fb9f3a"
             ],
             [
              0.8888888888888888,
              "#fdca26"
             ],
             [
              1,
              "#f0f921"
             ]
            ],
            "type": "histogram2d"
           }
          ],
          "histogram2dcontour": [
           {
            "colorbar": {
             "outlinewidth": 0,
             "ticks": ""
            },
            "colorscale": [
             [
              0,
              "#0d0887"
             ],
             [
              0.1111111111111111,
              "#46039f"
             ],
             [
              0.2222222222222222,
              "#7201a8"
             ],
             [
              0.3333333333333333,
              "#9c179e"
             ],
             [
              0.4444444444444444,
              "#bd3786"
             ],
             [
              0.5555555555555556,
              "#d8576b"
             ],
             [
              0.6666666666666666,
              "#ed7953"
             ],
             [
              0.7777777777777778,
              "#fb9f3a"
             ],
             [
              0.8888888888888888,
              "#fdca26"
             ],
             [
              1,
              "#f0f921"
             ]
            ],
            "type": "histogram2dcontour"
           }
          ],
          "mesh3d": [
           {
            "colorbar": {
             "outlinewidth": 0,
             "ticks": ""
            },
            "type": "mesh3d"
           }
          ],
          "parcoords": [
           {
            "line": {
             "colorbar": {
              "outlinewidth": 0,
              "ticks": ""
             }
            },
            "type": "parcoords"
           }
          ],
          "pie": [
           {
            "automargin": true,
            "type": "pie"
           }
          ],
          "scatter": [
           {
            "fillpattern": {
             "fillmode": "overlay",
             "size": 10,
             "solidity": 0.2
            },
            "type": "scatter"
           }
          ],
          "scatter3d": [
           {
            "line": {
             "colorbar": {
              "outlinewidth": 0,
              "ticks": ""
             }
            },
            "marker": {
             "colorbar": {
              "outlinewidth": 0,
              "ticks": ""
             }
            },
            "type": "scatter3d"
           }
          ],
          "scattercarpet": [
           {
            "marker": {
             "colorbar": {
              "outlinewidth": 0,
              "ticks": ""
             }
            },
            "type": "scattercarpet"
           }
          ],
          "scattergeo": [
           {
            "marker": {
             "colorbar": {
              "outlinewidth": 0,
              "ticks": ""
             }
            },
            "type": "scattergeo"
           }
          ],
          "scattergl": [
           {
            "marker": {
             "colorbar": {
              "outlinewidth": 0,
              "ticks": ""
             }
            },
            "type": "scattergl"
           }
          ],
          "scattermapbox": [
           {
            "marker": {
             "colorbar": {
              "outlinewidth": 0,
              "ticks": ""
             }
            },
            "type": "scattermapbox"
           }
          ],
          "scatterpolar": [
           {
            "marker": {
             "colorbar": {
              "outlinewidth": 0,
              "ticks": ""
             }
            },
            "type": "scatterpolar"
           }
          ],
          "scatterpolargl": [
           {
            "marker": {
             "colorbar": {
              "outlinewidth": 0,
              "ticks": ""
             }
            },
            "type": "scatterpolargl"
           }
          ],
          "scatterternary": [
           {
            "marker": {
             "colorbar": {
              "outlinewidth": 0,
              "ticks": ""
             }
            },
            "type": "scatterternary"
           }
          ],
          "surface": [
           {
            "colorbar": {
             "outlinewidth": 0,
             "ticks": ""
            },
            "colorscale": [
             [
              0,
              "#0d0887"
             ],
             [
              0.1111111111111111,
              "#46039f"
             ],
             [
              0.2222222222222222,
              "#7201a8"
             ],
             [
              0.3333333333333333,
              "#9c179e"
             ],
             [
              0.4444444444444444,
              "#bd3786"
             ],
             [
              0.5555555555555556,
              "#d8576b"
             ],
             [
              0.6666666666666666,
              "#ed7953"
             ],
             [
              0.7777777777777778,
              "#fb9f3a"
             ],
             [
              0.8888888888888888,
              "#fdca26"
             ],
             [
              1,
              "#f0f921"
             ]
            ],
            "type": "surface"
           }
          ],
          "table": [
           {
            "cells": {
             "fill": {
              "color": "#EBF0F8"
             },
             "line": {
              "color": "white"
             }
            },
            "header": {
             "fill": {
              "color": "#C8D4E3"
             },
             "line": {
              "color": "white"
             }
            },
            "type": "table"
           }
          ]
         },
         "layout": {
          "annotationdefaults": {
           "arrowcolor": "#2a3f5f",
           "arrowhead": 0,
           "arrowwidth": 1
          },
          "autotypenumbers": "strict",
          "coloraxis": {
           "colorbar": {
            "outlinewidth": 0,
            "ticks": ""
           }
          },
          "colorscale": {
           "diverging": [
            [
             0,
             "#8e0152"
            ],
            [
             0.1,
             "#c51b7d"
            ],
            [
             0.2,
             "#de77ae"
            ],
            [
             0.3,
             "#f1b6da"
            ],
            [
             0.4,
             "#fde0ef"
            ],
            [
             0.5,
             "#f7f7f7"
            ],
            [
             0.6,
             "#e6f5d0"
            ],
            [
             0.7,
             "#b8e186"
            ],
            [
             0.8,
             "#7fbc41"
            ],
            [
             0.9,
             "#4d9221"
            ],
            [
             1,
             "#276419"
            ]
           ],
           "sequential": [
            [
             0,
             "#0d0887"
            ],
            [
             0.1111111111111111,
             "#46039f"
            ],
            [
             0.2222222222222222,
             "#7201a8"
            ],
            [
             0.3333333333333333,
             "#9c179e"
            ],
            [
             0.4444444444444444,
             "#bd3786"
            ],
            [
             0.5555555555555556,
             "#d8576b"
            ],
            [
             0.6666666666666666,
             "#ed7953"
            ],
            [
             0.7777777777777778,
             "#fb9f3a"
            ],
            [
             0.8888888888888888,
             "#fdca26"
            ],
            [
             1,
             "#f0f921"
            ]
           ],
           "sequentialminus": [
            [
             0,
             "#0d0887"
            ],
            [
             0.1111111111111111,
             "#46039f"
            ],
            [
             0.2222222222222222,
             "#7201a8"
            ],
            [
             0.3333333333333333,
             "#9c179e"
            ],
            [
             0.4444444444444444,
             "#bd3786"
            ],
            [
             0.5555555555555556,
             "#d8576b"
            ],
            [
             0.6666666666666666,
             "#ed7953"
            ],
            [
             0.7777777777777778,
             "#fb9f3a"
            ],
            [
             0.8888888888888888,
             "#fdca26"
            ],
            [
             1,
             "#f0f921"
            ]
           ]
          },
          "colorway": [
           "#636efa",
           "#EF553B",
           "#00cc96",
           "#ab63fa",
           "#FFA15A",
           "#19d3f3",
           "#FF6692",
           "#B6E880",
           "#FF97FF",
           "#FECB52"
          ],
          "font": {
           "color": "#2a3f5f"
          },
          "geo": {
           "bgcolor": "white",
           "lakecolor": "white",
           "landcolor": "#E5ECF6",
           "showlakes": true,
           "showland": true,
           "subunitcolor": "white"
          },
          "hoverlabel": {
           "align": "left"
          },
          "hovermode": "closest",
          "mapbox": {
           "style": "light"
          },
          "paper_bgcolor": "white",
          "plot_bgcolor": "#E5ECF6",
          "polar": {
           "angularaxis": {
            "gridcolor": "white",
            "linecolor": "white",
            "ticks": ""
           },
           "bgcolor": "#E5ECF6",
           "radialaxis": {
            "gridcolor": "white",
            "linecolor": "white",
            "ticks": ""
           }
          },
          "scene": {
           "xaxis": {
            "backgroundcolor": "#E5ECF6",
            "gridcolor": "white",
            "gridwidth": 2,
            "linecolor": "white",
            "showbackground": true,
            "ticks": "",
            "zerolinecolor": "white"
           },
           "yaxis": {
            "backgroundcolor": "#E5ECF6",
            "gridcolor": "white",
            "gridwidth": 2,
            "linecolor": "white",
            "showbackground": true,
            "ticks": "",
            "zerolinecolor": "white"
           },
           "zaxis": {
            "backgroundcolor": "#E5ECF6",
            "gridcolor": "white",
            "gridwidth": 2,
            "linecolor": "white",
            "showbackground": true,
            "ticks": "",
            "zerolinecolor": "white"
           }
          },
          "shapedefaults": {
           "line": {
            "color": "#2a3f5f"
           }
          },
          "ternary": {
           "aaxis": {
            "gridcolor": "white",
            "linecolor": "white",
            "ticks": ""
           },
           "baxis": {
            "gridcolor": "white",
            "linecolor": "white",
            "ticks": ""
           },
           "bgcolor": "#E5ECF6",
           "caxis": {
            "gridcolor": "white",
            "linecolor": "white",
            "ticks": ""
           }
          },
          "title": {
           "x": 0.05
          },
          "xaxis": {
           "automargin": true,
           "gridcolor": "white",
           "linecolor": "white",
           "ticks": "",
           "title": {
            "standoff": 15
           },
           "zerolinecolor": "white",
           "zerolinewidth": 2
          },
          "yaxis": {
           "automargin": true,
           "gridcolor": "white",
           "linecolor": "white",
           "ticks": "",
           "title": {
            "standoff": 15
           },
           "zerolinecolor": "white",
           "zerolinewidth": 2
          }
         }
        },
        "title": {
         "text": "Optimization History Plot"
        },
        "xaxis": {
         "title": {
          "text": "#Trials"
         }
        },
        "yaxis": {
         "title": {
          "text": "Objective Value"
         }
        }
       }
      }
     },
     "metadata": {},
     "output_type": "display_data"
    }
   ],
   "source": [
    "study_svm = create_new_mlrun(model_type='RandomForestClassifier')\n",
    "optuna.visualization.plot_optimization_history(study_svm)"
   ]
  },
  {
   "cell_type": "code",
   "execution_count": null,
   "metadata": {},
   "outputs": [],
   "source": [
    "mlflow.end_run()"
   ]
  },
  {
   "cell_type": "code",
   "execution_count": null,
   "metadata": {},
   "outputs": [],
   "source": [
    "def add_Kaggle_score(run_id, kaggle_score):\n",
    "    # show if kaggle_score is already present\n",
    "    if \"kaggle_score\" not in dict(dict(mlflow.get_run(run_id))[\"data\"])[\"metrics\"].keys():\n",
    "        # if no kaggle_score is present, start run and write kaggle_score\n",
    "        with mlflow.start_run(run_id=run_id):\n",
    "            mlflow.log_metric(\"kaggle_score\", kaggle_score)"
   ]
  },
  {
   "cell_type": "code",
   "execution_count": null,
   "metadata": {},
   "outputs": [],
   "source": [
    "add_Kaggle_score(run_id=\"9de764cc084145ecb78ac80ac69c8e16\", kaggle_score=0.77272) # SCV\n",
    "add_Kaggle_score(run_id=\"bb4cc975082b4558a5aa36fa5f10caa7\", kaggle_score=0.78229) # DecisionTreeClassifier\n",
    "add_Kaggle_score(run_id=\"0f17ada2ca224d1ebd2ceea939c90e0b\", kaggle_score=0.78708) # LogisticRegression"
   ]
  },
  {
   "cell_type": "code",
   "execution_count": null,
   "metadata": {},
   "outputs": [],
   "source": [
    "add_Kaggle_score(run_id=\"e17cba6520e746beba20beed0f3b1fbc\", kaggle_score=0.78229) # GradientBoostingClassifier\n",
    "add_Kaggle_score(run_id=\"b000d21026a545188146ac997a60e209\", kaggle_score=0.77033) # ExtraTreesClassifier\n",
    "add_Kaggle_score(run_id=\"8195b99b2326474e911326557e29db42\", kaggle_score=0.76555) # RandomForestClassifier"
   ]
  },
  {
   "cell_type": "code",
   "execution_count": null,
   "metadata": {},
   "outputs": [],
   "source": [
    "df = mlflow.search_runs(experiment_names=[\"Titanic\"])\n",
    "df = df[df[\"run_id\"] == \"bb4cc975082b4558a5aa36fa5f10caa7\"]\n",
    "df.head().T"
   ]
  },
  {
   "cell_type": "code",
   "execution_count": null,
   "metadata": {},
   "outputs": [],
   "source": []
  }
 ],
 "metadata": {
  "kernelspec": {
   "display_name": "Python 3.9.12 ('mlflow_optuna')",
   "language": "python",
   "name": "python3"
  },
  "language_info": {
   "codemirror_mode": {
    "name": "ipython",
    "version": 3
   },
   "file_extension": ".py",
   "mimetype": "text/x-python",
   "name": "python",
   "nbconvert_exporter": "python",
   "pygments_lexer": "ipython3",
   "version": "3.9.12"
  },
  "orig_nbformat": 4,
  "vscode": {
   "interpreter": {
    "hash": "4aa63c7bcea9117a32328ad03333d01dc516bdcdb33b6eb92ab7a393341400f2"
   }
  }
 },
 "nbformat": 4,
 "nbformat_minor": 2
}
