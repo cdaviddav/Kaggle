{
 "cells": [
  {
   "attachments": {},
   "cell_type": "markdown",
   "metadata": {},
   "source": [
    "# ML Models with Advanced Pipeline and Threshold Moving"
   ]
  },
  {
   "cell_type": "code",
   "execution_count": 1,
   "metadata": {},
   "outputs": [
    {
     "name": "stdout",
     "output_type": "stream",
     "text": [
      "pandas version: 1.4.3\n",
      "numpy version: 1.21.5\n",
      "sklearn version: 1.1.1\n",
      "xgboost version: 1.6.1\n",
      "lightgbm version: 3.3.2\n"
     ]
    },
    {
     "name": "stderr",
     "output_type": "stream",
     "text": [
      "e:\\programs\\anaconda3\\envs\\mlflow_optuna\\lib\\site-packages\\tqdm\\auto.py:22: TqdmWarning: IProgress not found. Please update jupyter and ipywidgets. See https://ipywidgets.readthedocs.io/en/stable/user_install.html\n",
      "  from .autonotebook import tqdm as notebook_tqdm\n"
     ]
    },
    {
     "name": "stdout",
     "output_type": "stream",
     "text": [
      "optuna version: 2.10.1\n",
      "mlflow version: 1.28.0\n"
     ]
    }
   ],
   "source": [
    "import pandas as pd\n",
    "print(\"pandas version: {}\". format(pd.__version__))\n",
    "\n",
    "# numpy: support for large, multi-dimensional arrays and matrices and high-level mathematical functions\n",
    "import numpy as np\n",
    "print(\"numpy version: {}\". format(np.__version__))\n",
    "\n",
    "import sklearn\n",
    "from sklearn.base import BaseEstimator, TransformerMixin\n",
    "from sklearn.preprocessing import StandardScaler, MinMaxScaler, OneHotEncoder\n",
    "from sklearn.linear_model import LogisticRegression\n",
    "from sklearn.tree import DecisionTreeClassifier\n",
    "from sklearn.ensemble import ExtraTreesClassifier, GradientBoostingClassifier, RandomForestClassifier\n",
    "from sklearn.svm import SVC\n",
    "from sklearn.pipeline import make_pipeline\n",
    "from sklearn.decomposition import PCA\n",
    "from sklearn.model_selection import StratifiedShuffleSplit, learning_curve, train_test_split\n",
    "from sklearn.feature_selection import VarianceThreshold\n",
    "from sklearn.metrics import precision_recall_curve, roc_curve, confusion_matrix, roc_auc_score, f1_score, accuracy_score\n",
    "from sklearn.model_selection import cross_val_predict\n",
    "print(\"sklearn version: {}\". format(sklearn.__version__))\n",
    "sklearn .set_config(display=\"diagram\")\n",
    "\n",
    "import xgboost\n",
    "from xgboost import XGBClassifier\n",
    "print(\"xgboost version: {}\". format(xgboost.__version__))\n",
    "\n",
    "import lightgbm\n",
    "from lightgbm import LGBMClassifier\n",
    "print(\"lightgbm version: {}\". format(lightgbm.__version__))\n",
    "\n",
    "\n",
    "from typing import Optional, Tuple\n",
    "\n",
    "\n",
    "import optuna\n",
    "print(\"optuna version: {}\". format(optuna.__version__))\n",
    "\n",
    "import mlflow\n",
    "from mlflow.utils.mlflow_tags import MLFLOW_PARENT_RUN_ID\n",
    "from mlflow.tracking import MlflowClient\n",
    "print(\"mlflow version: {}\". format(mlflow.__version__))\n",
    "\n",
    "import matplotlib.pyplot as plt\n",
    "import seaborn as sns\n",
    "\n",
    "import time\n",
    "import warnings\n",
    "warnings.simplefilter('ignore')\n",
    "\n",
    "\n",
    "import yaml\n",
    "with open('ml_parameter.yaml') as file:\n",
    "  config_data= yaml.safe_load(file)"
   ]
  },
  {
   "cell_type": "code",
   "execution_count": 2,
   "metadata": {},
   "outputs": [],
   "source": [
    "VERSION = \"3.5\"\n",
    "SCRIPT = \"titanic_BasicModels_pipeline_threshold_moving\"\n",
    "\n",
    "# define cross validation\n",
    "cv = StratifiedShuffleSplit(\n",
    "    n_splits = config_data[\"N_SPLITS\"],\n",
    "    test_size = config_data[\"TEST_SIZE\"],\n",
    "    random_state = config_data[\"RANDOM_STATE\"]\n",
    "    )"
   ]
  },
  {
   "cell_type": "code",
   "execution_count": 3,
   "metadata": {},
   "outputs": [],
   "source": [
    "client = MlflowClient()\n",
    "try:\n",
    "    experiment = client.create_experiment(config_data[\"experiment_name\"])\n",
    "except:\n",
    "    experiment = client.get_experiment_by_name(config_data[\"experiment_name\"]).experiment_id"
   ]
  },
  {
   "cell_type": "code",
   "execution_count": 4,
   "metadata": {},
   "outputs": [],
   "source": [
    "def load_data():\n",
    "    df_train = pd.read_pickle('../03_DataPreprocessing/df_train_prepared_unfinished.pkl')\n",
    "    df_test = pd.read_pickle('../03_DataPreprocessing/df_test_prepared_unfinished.pkl')\n",
    "\n",
    "    df_train.drop(['PassengerId', 'Name', 'dataset', 'First', 'Last', 'TGroup'], axis=1, inplace=True)\n",
    "    df_test.drop(['PassengerId', 'Name',  'dataset', 'Survived', 'First', 'Last', 'TGroup'], axis=1, inplace=True)\n",
    "\n",
    "    return df_train, df_test\n",
    "\n",
    "df_train, df_test = load_data()"
   ]
  },
  {
   "cell_type": "code",
   "execution_count": 5,
   "metadata": {},
   "outputs": [],
   "source": [
    "class DataSplitter:\n",
    "    \"\"\"The class is used to split the data\"\"\"\n",
    "\n",
    "    def __init__(self, test_size:float):\n",
    "        self.test_size = test_size\n",
    "\n",
    "        self.X_train: pd.DataFrame = None\n",
    "        self.y_train: pd.DataFrame = None\n",
    "        self.X_validate: pd.DataFrame = None\n",
    "        self.y_validate: pd.DataFrame = None\n",
    "\n",
    "\n",
    "    def split(self, df_train: pd.DataFrame) -> Tuple[pd.DataFrame, pd.Series, pd.DataFrame, pd.Series]:\n",
    "        \"\"\"Split the data between train and test.\"\"\"\n",
    "        y_train = df_train['Survived']\n",
    "        x_train = df_train.drop(['Survived'], axis=1)\n",
    "\n",
    "        self.X_train, self.X_validate, self.y_train, self.y_validate = train_test_split(x_train, y_train, test_size=self.test_size)\n",
    "\n",
    "        return self.X_train, self.y_train, self.X_validate, self.y_validate"
   ]
  },
  {
   "cell_type": "code",
   "execution_count": 6,
   "metadata": {},
   "outputs": [],
   "source": [
    "data_splitter = DataSplitter(test_size=config_data[\"TEST_SIZE\"])\n",
    "x_train, y_train, x_validate, y_validate = data_splitter.split(df_train)"
   ]
  },
  {
   "cell_type": "code",
   "execution_count": 7,
   "metadata": {},
   "outputs": [],
   "source": [
    "class BiningTransformer(BaseEstimator, TransformerMixin):\n",
    "\n",
    "    def __init__(self, n_bins_fare:int, n_bins_age:int):\n",
    "        self.n_bins_fare = n_bins_fare\n",
    "        self.n_bins_age = n_bins_age\n",
    "\n",
    "    def fit(self, x:pd.DataFrame, y:Optional[pd.DataFrame]=None) -> \"BiningTransformer\":\n",
    "        self.x_train = x.copy()\n",
    "        return self\n",
    "\n",
    "    def transform(self, x:pd.DataFrame) -> pd.DataFrame:\n",
    "\n",
    "        x['Fare_bin'] = pd.qcut(x['Fare'], self.n_bins_fare, labels=False)\n",
    "        x['Age_bin'] = pd.qcut(x['Age'], self.n_bins_age, labels=False)\n",
    "        return x"
   ]
  },
  {
   "cell_type": "code",
   "execution_count": 8,
   "metadata": {},
   "outputs": [],
   "source": [
    "class SkewedFeatureTransformer(BaseEstimator, TransformerMixin):\n",
    "\n",
    "    def __init__(self, transform_skewed_features_flag:bool):\n",
    "        self.transform_skewed_features_flag = transform_skewed_features_flag\n",
    "\n",
    "    def fit(self, x:pd.DataFrame, y:Optional[pd.DataFrame]=None) -> \"BiningTransformer\":\n",
    "        self.x_train = x.copy()\n",
    "        return self\n",
    "\n",
    "    def transform(self, x:pd.DataFrame) -> pd.DataFrame:\n",
    "        if self.transform_skewed_features_flag==True:\n",
    "            x[\"Fare\"] = x[\"Fare\"].apply(np.log)\n",
    "             # the not transformed data that contains 0\n",
    "            # after the transformation we have -inf values that have to be replaced by 0\n",
    "            x[\"Fare\"][np.isneginf(x[\"Fare\"])]=0\n",
    "\n",
    "        return x"
   ]
  },
  {
   "cell_type": "code",
   "execution_count": 9,
   "metadata": {},
   "outputs": [],
   "source": [
    "class OneHotEncoderTransformer(BaseEstimator, TransformerMixin):\n",
    "\n",
    "    def __init__(self, ohe_min_frequency:float, ohe_max_categories:float):\n",
    "        self.ohe_min_frequency = ohe_min_frequency\n",
    "        self.ohe_max_categories = ohe_max_categories\n",
    "        self.cat_vars=None\n",
    "        self.enc=None\n",
    "\n",
    "    def fit(self, x:pd.DataFrame, y:Optional[pd.DataFrame]=None) -> \"OneHotEncoderTransformer\":\n",
    "        enc = OneHotEncoder(handle_unknown='ignore', sparse=False, drop=\"if_binary\",\n",
    "            min_frequency=self.ohe_min_frequency, max_categories=self.ohe_max_categories)\n",
    "\n",
    "        self.cat_vars = x.dtypes[x.dtypes == \"object\"].index\n",
    "        self.enc = enc.fit(x[self.cat_vars])\n",
    "        return self\n",
    "\n",
    "    \n",
    "    def transform(self, x:pd.DataFrame) -> pd.DataFrame:\n",
    "        ohe = pd.DataFrame(self.enc.transform(x[self.cat_vars]), columns=self.enc.get_feature_names())\n",
    "        \n",
    "        x.reset_index(drop=True, inplace=True)\n",
    "        ohe.reset_index(drop=True, inplace=True)\n",
    "\n",
    "        x = pd.concat([x, ohe], axis=1).drop(self.cat_vars, axis=1)\n",
    "        return x\n",
    "    "
   ]
  },
  {
   "cell_type": "code",
   "execution_count": 10,
   "metadata": {},
   "outputs": [],
   "source": [
    "class LowVarianceTransformer(BaseEstimator, TransformerMixin):\n",
    "\n",
    "    def __init__(self, variance_threshold:float):\n",
    "        self.variance_threshold = variance_threshold\n",
    "        self.sel_features=None\n",
    "        self.sel=None\n",
    "        self.sel_features_reduced=None\n",
    "\n",
    "    def fit(self, x:pd.DataFrame, y:Optional[pd.DataFrame]=None) -> \"LowVarianceTransformer\":\n",
    "        # remove all features that are either one or zero in more than 95% of the samples\n",
    "        sel = VarianceThreshold(threshold=(self.variance_threshold * (1 - self.variance_threshold)))\n",
    "        self.sel_features = list(x)\n",
    "        # fit the VarianceThreshold object to the training data\n",
    "        self.sel = sel.fit(x[self.sel_features])\n",
    "\n",
    "        # get the column names after the variance threshold reduction\n",
    "        self.sel_features_reduced = [self.sel_features[i] for i in self.sel.get_support(indices=True)]\n",
    "        return self\n",
    "\n",
    "\n",
    "    def transform(self, x:pd.DataFrame) -> pd.DataFrame:\n",
    "        x = pd.DataFrame(self.sel.transform(x[self.sel_features]), columns=self.sel_features_reduced)\n",
    "        return x"
   ]
  },
  {
   "cell_type": "code",
   "execution_count": 11,
   "metadata": {},
   "outputs": [],
   "source": [
    "class CorrelationTransformer(BaseEstimator, TransformerMixin):\n",
    "\n",
    "    def __init__(self, correlation_threshold:float):\n",
    "        self.correlation_threshold = correlation_threshold\n",
    "        self.to_drop=None\n",
    "\n",
    "    def fit(self, x:pd.DataFrame, y:Optional[pd.DataFrame]=None) -> \"CorrelationTransformer\":\n",
    "        corr_matrix = x.corr().abs()\n",
    "\n",
    "        # Select upper triangle of correlation matrix\n",
    "        upper = corr_matrix.where(np.triu(np.ones(corr_matrix.shape), k=1).astype(np.bool))\n",
    "\n",
    "        # Find features with correlation higher than 0.9 or lower -0.9\n",
    "        self.to_drop = [column for column in upper.columns if any((upper[column] > self.correlation_threshold) | (upper[column] < -self.correlation_threshold))]\n",
    "        return self\n",
    "\n",
    "\n",
    "    def transform(self, x:pd.DataFrame) -> pd.DataFrame:\n",
    "        x =  x.drop(self.to_drop, axis=1)\n",
    "        return x"
   ]
  },
  {
   "cell_type": "code",
   "execution_count": 12,
   "metadata": {},
   "outputs": [],
   "source": [
    "class ScalerTransformer(BaseEstimator, TransformerMixin):\n",
    "\n",
    "    def __init__(self, columnprep__transformers_num) -> None:\n",
    "        self.columnprep__transformers_num = columnprep__transformers_num\n",
    "        self.transformer_not_num=None\n",
    "        self.transformer_num=None\n",
    "\n",
    "        if columnprep__transformers_num == \"StandardScaler\":\n",
    "            self.scaler = StandardScaler()\n",
    "        elif columnprep__transformers_num == \"MinMaxScaler\":\n",
    "            self.scaler = MinMaxScaler()\n",
    "\n",
    "    def fit(self, x:pd.DataFrame, y:Optional[pd.DataFrame]=None) -> \"ScalerTransformer\":\n",
    "        self.transformer_not_num = [col for col in list(x) if (col.startswith(\"x\") & col[1].isnumeric())]\n",
    "        self.transformer_num = [col for col in list(x) if col not in self.transformer_not_num]\n",
    "        \n",
    "        self.scaler.fit(x[self.transformer_num], y)\n",
    "        return self\n",
    "\n",
    "\n",
    "    def transform(self, x:pd.DataFrame) -> pd.DataFrame:\n",
    "        x_transform = self.scaler.transform(x[self.transformer_num])\n",
    "        x_transform = pd.DataFrame(x_transform, index=x.index, columns=x[self.transformer_num].columns)\n",
    "        \n",
    "        return pd.concat([x_transform, x[self.transformer_not_num]], axis=1)"
   ]
  },
  {
   "cell_type": "code",
   "execution_count": 13,
   "metadata": {},
   "outputs": [],
   "source": [
    "def create_model(trial, model_type, child_run):\n",
    "\n",
    "    # create parameter for data preprocessing pipeline\n",
    "    n_bins_fare=trial.suggest_int('preprocessing_n_bins_fare', 5, 15)\n",
    "    n_bins_age=trial.suggest_int('preprocessing_n_bins_age', 5, 15)\n",
    "    transform_skewed_features_flag=trial.suggest_categorical(\"preprocessing_transform_skewed_features_flag\", [True, False])\n",
    "    ohe_min_frequency=trial.suggest_float(\"preprocessing_ohe_min_frequency\", 0, 0.2, log=False)\n",
    "    ohe_max_categories=trial.suggest_int('preprocessing_ohe_max_categories', 5, 20)\n",
    "    feature_selection_low_variance_flag=trial.suggest_categorical(\"preprocessing_feature_selection_low_variance_flag\", [True, False])\n",
    "    correlation=trial.suggest_float(\"preprocessing_correlation\", 0.7, 0.95, log=False)\n",
    "\n",
    "    # log all parameters of the data preprocessing with mlflow\n",
    "    client.log_param(child_run.info.run_id, \"preprocessing_n_bins_fare\", n_bins_fare)\n",
    "    client.log_param(child_run.info.run_id, \"preprocessing_n_bins_age\", n_bins_age)\n",
    "    client.log_param(child_run.info.run_id, \"preprocessing_transform_skewed_features_flag\", transform_skewed_features_flag)\n",
    "    client.log_param(child_run.info.run_id, \"preprocessing_ohe_min_frequency\", ohe_min_frequency)\n",
    "    client.log_param(child_run.info.run_id, \"preprocessing_ohe_max_categories\", ohe_max_categories)\n",
    "    client.log_param(child_run.info.run_id, \"preprocessing_feature_selection_low_variance_flag\", feature_selection_low_variance_flag)\n",
    "    client.log_param(child_run.info.run_id, \"preprocessing_correlation\", correlation)  \n",
    "\n",
    "\n",
    "    ''' columnprep '''\n",
    "    columnprep__transformers_num = trial.suggest_categorical(\"columnprep__transformers_num\", [\"StandardScaler\", \"MinMaxScaler\"])\n",
    "\n",
    "\n",
    "    ''' algo '''\n",
    "    if model_type == 'SVC':\n",
    "        svm_kernel = trial.suggest_categorical('svm_kernel', config_data[\"svm_kernel\"])\n",
    "        svm_C = trial.suggest_float('svm_C', config_data[\"svm_C\"][0], config_data[\"svm_C\"][1], log=True)\n",
    "        svm_degree = trial.suggest_discrete_uniform('svm_degree', config_data[\"svm_degree\"][0], config_data[\"svm_degree\"][1], config_data[\"svm_degree\"][2])\n",
    "        \n",
    "        model = SVC(\n",
    "            kernel=svm_kernel,\n",
    "            C=svm_C,\n",
    "            degree=svm_degree,\n",
    "            probability=True,\n",
    "            random_state=config_data[\"RANDOM_STATE\"]\n",
    "        )\n",
    "\n",
    "        client.log_param(child_run.info.run_id, \"svm_kernel\", svm_kernel)\n",
    "        client.log_param(child_run.info.run_id, \"svm_C\", svm_C)\n",
    "        client.log_param(child_run.info.run_id, \"svm_degree\", svm_degree)\n",
    "    \n",
    "\n",
    "    if model_type == 'LogisticRegression':\n",
    "        lr_C = trial.suggest_float(\"lr_C\", config_data[\"lr_C\"][0], config_data[\"lr_C\"][1], log=True)\n",
    "        lr_penalty = trial.suggest_categorical('lr_penalty', config_data[\"lr_penalty\"])\n",
    "        if lr_penalty == 'l1':\n",
    "            lr_solver = 'saga'\n",
    "        else:\n",
    "            lr_solver = 'lbfgs'\n",
    "        \n",
    "        model = LogisticRegression(\n",
    "            C=lr_C,\n",
    "            penalty=lr_penalty,\n",
    "            solver=lr_solver,\n",
    "            random_state=config_data[\"RANDOM_STATE\"],\n",
    "            n_jobs=-1\n",
    "        )\n",
    "\n",
    "        client.log_param(child_run.info.run_id, \"lr_C\", lr_C)\n",
    "        client.log_param(child_run.info.run_id, \"lr_penalty\", lr_penalty)\n",
    "        client.log_param(child_run.info.run_id, \"lr_solver\", lr_solver)\n",
    "\n",
    "\n",
    "    if model_type == 'DecisionTreeClassifier':\n",
    "        dt_max_depth = trial.suggest_int('dt_max_depth', config_data[\"dt_max_depth\"][0], x_train.shape[1])\n",
    "        dt_criterion = trial.suggest_categorical(\"dt_criterion\", config_data[\"dt_criterion\"])\n",
    "        dt_max_leaf_nodes = trial.suggest_int(\"dt_max_leaf_nodes\", config_data[\"dt_max_leaf_nodes\"][0], config_data[\"dt_max_leaf_nodes\"][1])\n",
    "        \n",
    "        model = DecisionTreeClassifier(\n",
    "            max_depth=dt_max_depth,\n",
    "            criterion=dt_criterion,\n",
    "            max_leaf_nodes=dt_max_leaf_nodes,\n",
    "            random_state=config_data[\"RANDOM_STATE\"]\n",
    "          )\n",
    "    \n",
    "        client.log_param(child_run.info.run_id, \"dt_max_depth\", dt_max_depth)\n",
    "        client.log_param(child_run.info.run_id, \"dt_criterion\", dt_criterion)\n",
    "        client.log_param(child_run.info.run_id, \"dt_max_leaf_nodes\", dt_max_leaf_nodes)\n",
    "    \n",
    "\n",
    "\n",
    "    if model_type == 'ExtraTreesClassifier':\n",
    "        etc_n_estimators = trial.suggest_int('etc_n_estimators', config_data[\"etc_n_estimators\"][0], config_data[\"etc_n_estimators\"][1])\n",
    "        etc_max_depth = trial.suggest_int('etc_max_depth', config_data[\"etc_max_depth\"][0], x_train.shape[1])\n",
    "        etc_min_samples_split = trial.suggest_float('etc_min_samples_split', config_data[\"etc_min_samples_split\"][0], config_data[\"etc_min_samples_split\"][1])\n",
    "        etc_min_samples_leaf = trial.suggest_float('etc_min_samples_leaf', config_data[\"etc_min_samples_leaf\"][0], config_data[\"etc_min_samples_leaf\"][1])\n",
    "        etc_criterion = trial.suggest_categorical(\"etc_criterion\", config_data[\"etc_criterion\"])\n",
    "        etc_max_leaf_nodes = trial.suggest_int(\"etc_max_leaf_nodes\", config_data[\"etc_max_leaf_nodes\"][0], config_data[\"etc_max_leaf_nodes\"][1])\n",
    "        \n",
    "        model = ExtraTreesClassifier(\n",
    "            n_estimators=etc_n_estimators,\n",
    "            max_depth=etc_max_depth,\n",
    "            min_samples_split=etc_min_samples_split,\n",
    "            min_samples_leaf=etc_min_samples_leaf,\n",
    "            criterion=etc_criterion,\n",
    "            max_leaf_nodes=etc_max_leaf_nodes,\n",
    "            random_state=config_data[\"RANDOM_STATE\"],\n",
    "            n_jobs=-1\n",
    "          )\n",
    "    \n",
    "        client.log_param(child_run.info.run_id, \"etc_n_estimators\", etc_n_estimators)\n",
    "        client.log_param(child_run.info.run_id, \"etc_max_depth\", etc_max_depth)\n",
    "        client.log_param(child_run.info.run_id, \"etc_min_samples_split\", etc_min_samples_split)\n",
    "        client.log_param(child_run.info.run_id, \"etc_min_samples_leaf\", etc_min_samples_leaf)\n",
    "        client.log_param(child_run.info.run_id, \"etc_criterion\", etc_criterion)\n",
    "        client.log_param(child_run.info.run_id, \"etc_max_leaf_nodes\", etc_max_leaf_nodes)\n",
    "\n",
    "\n",
    "    if model_type == 'RandomForestClassifier':\n",
    "        rfc_n_estimators = trial.suggest_int('rfc_n_estimators', config_data[\"rfc_n_estimators\"][0], config_data[\"rfc_n_estimators\"][1])\n",
    "        rfc_max_depth = trial.suggest_int('rfc_max_depth', config_data[\"rfc_max_depth\"][0], x_train.shape[1])\n",
    "        rfc_min_samples_split = trial.suggest_float('rfc_min_samples_split', config_data[\"rfc_min_samples_split\"][0], config_data[\"rfc_min_samples_split\"][1])\n",
    "        rfc_min_samples_leaf = trial.suggest_float('rfc_min_samples_leaf', config_data[\"rfc_min_samples_leaf\"][0], config_data[\"rfc_min_samples_leaf\"][1])\n",
    "        rfc_criterion = trial.suggest_categorical(\"rfc_criterion\", config_data[\"rfc_criterion\"])\n",
    "        rfc_max_leaf_nodes = trial.suggest_int(\"rfc_max_leaf_nodes\", config_data[\"rfc_max_leaf_nodes\"][0], config_data[\"rfc_max_leaf_nodes\"][1])\n",
    "        \n",
    "        model = RandomForestClassifier(\n",
    "            n_estimators=rfc_n_estimators,\n",
    "            max_depth=rfc_max_depth,\n",
    "            min_samples_split=rfc_min_samples_split,\n",
    "            min_samples_leaf=rfc_min_samples_leaf,\n",
    "            criterion=rfc_criterion,\n",
    "            max_leaf_nodes=rfc_max_leaf_nodes,\n",
    "            random_state=config_data[\"RANDOM_STATE\"],\n",
    "            n_jobs=-1\n",
    "          )\n",
    "    \n",
    "        client.log_param(child_run.info.run_id, \"rfc_n_estimators\", rfc_n_estimators)\n",
    "        client.log_param(child_run.info.run_id, \"rfc_max_depth\", rfc_max_depth)\n",
    "        client.log_param(child_run.info.run_id, \"rfc_min_samples_split\", rfc_min_samples_split)\n",
    "        client.log_param(child_run.info.run_id, \"rfc_min_samples_leaf\", rfc_min_samples_leaf)\n",
    "        client.log_param(child_run.info.run_id, \"rfc_criterion\", rfc_criterion)\n",
    "        client.log_param(child_run.info.run_id, \"rfc_max_leaf_nodes\", rfc_max_leaf_nodes)\n",
    "\n",
    "\n",
    "    if model_type == 'XGBClassifier':\n",
    "        xgb_n_estimators = trial.suggest_int('xgb_n_estimators', config_data[\"xgb_n_estimators\"][0], config_data[\"xgb_n_estimators\"][1])\n",
    "        xgb_learning_rate = trial.suggest_float(\"xgb_learning_rate\", config_data[\"xgb_learning_rate\"][0], config_data[\"xgb_learning_rate\"][1], log=True)\n",
    "        xgb_reg_lambda = trial.suggest_float(\"xgb_reg_lambda\", config_data[\"xgb_reg_lambda\"][0], config_data[\"xgb_reg_lambda\"][1], log=True)\n",
    "        xgb_reg_alpha = trial.suggest_float(\"xgb_reg_alpha\", config_data[\"xgb_reg_alpha\"][0], config_data[\"xgb_reg_alpha\"][1], log=True)\n",
    "        \n",
    "        model = XGBClassifier(\n",
    "            n_estimators=xgb_n_estimators,\n",
    "            learning_rate=xgb_learning_rate,\n",
    "            reg_lambda=xgb_reg_lambda,\n",
    "            reg_alpha=xgb_reg_alpha,\n",
    "            random_state=config_data[\"RANDOM_STATE\"],\n",
    "            n_jobs = -1\n",
    "          )\n",
    "    \n",
    "        client.log_param(child_run.info.run_id, \"xgb_n_estimators\", xgb_n_estimators)\n",
    "        client.log_param(child_run.info.run_id, \"xgb_learning_rate\", xgb_learning_rate)\n",
    "        client.log_param(child_run.info.run_id, \"xgb_reg_lambda\", xgb_reg_lambda)\n",
    "        client.log_param(child_run.info.run_id, \"xgb_reg_alpha\", xgb_reg_alpha)\n",
    "\n",
    "\n",
    "    if model_type == 'LGBMClassifier':\n",
    "        lgb_n_estimators = trial.suggest_int('lgb_n_estimators', config_data[\"lgb_n_estimators\"][0], config_data[\"lgb_n_estimators\"][1])\n",
    "        lgb_learning_rate = trial.suggest_float(\"lgb_learning_rate\", config_data[\"lgb_learning_rate\"][0], config_data[\"lgb_learning_rate\"][1], log=True)\n",
    "        lgb_max_depth = trial.suggest_int('lgb_max_depth', config_data[\"lgb_max_depth\"][0], config_data[\"lgb_max_depth\"][1])\n",
    "        lgb_num_leaves = trial.suggest_int('lgb_num_leaves', config_data[\"lgb_num_leaves\"][0], 2^lgb_max_depth+3)\n",
    "        lgb_min_data_in_leaf = trial.suggest_int('lgb_min_data_in_leaf', config_data[\"lgb_min_data_in_leaf\"][0], config_data[\"lgb_min_data_in_leaf\"][1])\n",
    "        lgb_subsample = trial.suggest_float('lgb_subsample', config_data[\"lgb_subsample\"][0], config_data[\"lgb_subsample\"][1])\n",
    "        lgb_feature_fraction = trial.suggest_float('lgb_feature_fraction', config_data[\"lgb_feature_fraction\"][0], config_data[\"lgb_feature_fraction\"][1])\n",
    "        lgb_reg_lambda = trial.suggest_float(\"lgb_reg_lambda\", config_data[\"lgb_reg_lambda\"][0], config_data[\"lgb_reg_lambda\"][1], log=True)\n",
    "        lgb_reg_alpha = trial.suggest_float(\"lgb_reg_alpha\", config_data[\"lgb_reg_alpha\"][0], config_data[\"lgb_reg_alpha\"][1], log=True)\n",
    "        \n",
    "        model = LGBMClassifier(\n",
    "            n_estimators=lgb_n_estimators,\n",
    "            learning_rate=lgb_learning_rate,\n",
    "            max_depth=lgb_max_depth,\n",
    "            num_leaves=lgb_num_leaves,\n",
    "            min_data_in_leaf=lgb_min_data_in_leaf,\n",
    "            subsample=lgb_subsample,\n",
    "            feature_fraction=lgb_feature_fraction,\n",
    "            reg_lambda=lgb_reg_lambda,\n",
    "            reg_alpha=lgb_reg_alpha,\n",
    "            # num_threads = 4,\n",
    "            random_state=config_data[\"RANDOM_STATE\"],\n",
    "            n_jobs=-1\n",
    "            # device_type='cuda_exp'\n",
    "          )\n",
    "    \n",
    "        client.log_param(child_run.info.run_id, \"lgb_n_estimators\", lgb_n_estimators)\n",
    "        client.log_param(child_run.info.run_id, \"lgb_learning_rate\", lgb_learning_rate)\n",
    "        client.log_param(child_run.info.run_id, \"lgb_max_depth\", lgb_max_depth)\n",
    "        client.log_param(child_run.info.run_id, \"lgb_num_leaves\", lgb_num_leaves)\n",
    "        client.log_param(child_run.info.run_id, \"lgb_min_data_in_leaf\", lgb_min_data_in_leaf)\n",
    "        client.log_param(child_run.info.run_id, \"lgb_subsample\", lgb_subsample)\n",
    "        client.log_param(child_run.info.run_id, \"lgb_feature_fraction\", lgb_feature_fraction)\n",
    "        client.log_param(child_run.info.run_id, \"lgb_reg_lambda\", lgb_reg_lambda)\n",
    "        client.log_param(child_run.info.run_id, \"lgb_reg_alpha\", lgb_reg_alpha)\n",
    "\n",
    "\n",
    "    if model_type == 'GradientBoostingClassifier':\n",
    "        gbc_n_estimators = trial.suggest_int('gbc_n_estimators', config_data[\"gbc_n_estimators\"][0], config_data[\"gbc_n_estimators\"][1])\n",
    "        gbc_learning_rate = trial.suggest_float(\"gbc_learning_rate\", config_data[\"gbc_learning_rate\"][0], config_data[\"gbc_learning_rate\"][1], log=True)\n",
    "        gbc_max_depth = trial.suggest_int('gbc_max_depth', config_data[\"gbc_max_depth\"][0], config_data[\"gbc_max_depth\"][1])\n",
    "        gbc_min_samples_split = trial.suggest_float('gbc_min_samples_split', config_data[\"gbc_min_samples_split\"][0], config_data[\"gbc_min_samples_split\"][1])\n",
    "        gbc_min_samples_leaf = trial.suggest_float('gbc_min_samples_leaf', config_data[\"gbc_min_samples_leaf\"][0], config_data[\"gbc_min_samples_leaf\"][1])\n",
    "        gbc_max_leaf_nodes = trial.suggest_int(\"gbc_max_leaf_nodes\", config_data[\"gbc_max_leaf_nodes\"][0], config_data[\"gbc_max_leaf_nodes\"][1])\n",
    "        \n",
    "        model = GradientBoostingClassifier(\n",
    "            n_estimators=gbc_n_estimators,\n",
    "            learning_rate=gbc_learning_rate,\n",
    "            max_depth=gbc_max_depth,\n",
    "            min_samples_split=gbc_min_samples_split,\n",
    "            min_samples_leaf=gbc_min_samples_leaf,\n",
    "            max_leaf_nodes=gbc_max_leaf_nodes,\n",
    "            random_state=config_data[\"RANDOM_STATE\"],\n",
    "          )\n",
    "    \n",
    "        client.log_param(child_run.info.run_id, \"gbc_n_estimators\", gbc_n_estimators)\n",
    "        client.log_param(child_run.info.run_id, \"gbc_learning_rate\", gbc_learning_rate)\n",
    "        client.log_param(child_run.info.run_id, \"gbc_max_depth\", gbc_max_depth)\n",
    "        client.log_param(child_run.info.run_id, \"gbc_min_samples_split\", gbc_min_samples_split)\n",
    "        client.log_param(child_run.info.run_id, \"gbc_min_samples_leaf\", gbc_min_samples_leaf)\n",
    "        client.log_param(child_run.info.run_id, \"gbc_max_leaf_nodes\", gbc_max_leaf_nodes)\n",
    "\n",
    "\n",
    "\n",
    "    client.log_param(child_run.info.run_id, \"algo\", model.__class__.__name__)\n",
    "\n",
    "\n",
    "    pipeline = make_pipeline(\n",
    "        BiningTransformer(n_bins_fare=n_bins_fare, n_bins_age=n_bins_age),\n",
    "        SkewedFeatureTransformer(transform_skewed_features_flag=transform_skewed_features_flag),\n",
    "        OneHotEncoderTransformer(ohe_min_frequency=ohe_min_frequency, ohe_max_categories=ohe_max_categories),\n",
    "        LowVarianceTransformer(variance_threshold=0.95),\n",
    "        CorrelationTransformer(correlation_threshold=correlation),\n",
    "        ScalerTransformer(columnprep__transformers_num=columnprep__transformers_num),\n",
    "        model,\n",
    "        verbose=True\n",
    "    )\n",
    "            \n",
    "    return pipeline"
   ]
  },
  {
   "cell_type": "code",
   "execution_count": 14,
   "metadata": {},
   "outputs": [],
   "source": [
    "def evaluate_model(x_train, y_train, y_validate, y_validate_pred, y_validate_scores, pipeline, child_run):\n",
    "    \"\"\"\n",
    "    evaluate the classification model with\n",
    "    - classification report\n",
    "    - precision-recall-curve\n",
    "    - ROC curve\n",
    "    \"\"\"\n",
    "\n",
    "    def plot_learning_curve(pipeline, x_train, y_train):\n",
    "\n",
    "        train_sizes, train_scores, test_scores = learning_curve(\n",
    "            pipeline,\n",
    "            x_train,\n",
    "            y_train,\n",
    "            cv=cv,\n",
    "            n_jobs=-1,\n",
    "            train_sizes=np.linspace(.1, 1.0, 8)\n",
    "            )\n",
    "\n",
    "\n",
    "        fig1, ax1 = plt.subplots()\n",
    "        ax1.set_xlabel(\"Training examples\")\n",
    "        ax1.set_ylabel(\"Score\")\n",
    "        train_scores_mean = np.mean(train_scores, axis=1)\n",
    "        train_scores_std = np.std(train_scores, axis=1)\n",
    "        test_scores_mean = np.mean(test_scores, axis=1)\n",
    "        test_scores_std = np.std(test_scores, axis=1)\n",
    "        ax1.grid()\n",
    "\n",
    "        ax1.fill_between(train_sizes, train_scores_mean - train_scores_std,\n",
    "                        train_scores_mean + train_scores_std, alpha=0.1,\n",
    "                        color=\"r\")\n",
    "        ax1.fill_between(train_sizes, test_scores_mean - test_scores_std,\n",
    "                        test_scores_mean + test_scores_std, alpha=0.1, color=\"g\")\n",
    "        ax1.plot(train_sizes, train_scores_mean, 'o-', color=\"r\",\n",
    "                label=\"Training score\")\n",
    "        ax1.plot(train_sizes, test_scores_mean, 'o-', color=\"g\",\n",
    "                label=\"Cross-validation score\")\n",
    "\n",
    "        ax1.legend(loc=\"best\")\n",
    "        ax1.set_title(\"Difference between training and CV: \"\\\n",
    "            + str(round(test_scores_mean[7] / train_scores_mean[7] * 100, 2))\\\n",
    "            + \"%\")\n",
    "        client.log_figure(child_run.info.run_id, fig1, 'plot_learning_curve.png')\n",
    "        plt.close()\n",
    "\n",
    "\n",
    "    def plot_confusion_matrix(y_validate, y_validate_pred):\n",
    "        group_names = [\"True Neg\", \"False Pos\", \"False Neg\", \"True Pos\"]\n",
    "        group_counts = [\"{0:0.0f}\".format(value) for value in\n",
    "                        confusion_matrix(y_validate, y_validate_pred).flatten()]\n",
    "        group_percentages = [\"{0:.2%}\".format(value) for value in\n",
    "                             confusion_matrix(y_validate, y_validate_pred).flatten()/np.sum(confusion_matrix(y_validate, y_validate_pred))]\n",
    "        labels = [f\"{v1}\\n{v2}\\n{v3}\" for v1, v2, v3 in\n",
    "                  zip(group_names,group_counts,group_percentages)]\n",
    "        labels = np.asarray(labels).reshape(2,2)\n",
    "\n",
    "        fig2, ax2 = plt.subplots()\n",
    "        sns.heatmap(confusion_matrix(y_validate, y_validate_pred), annot=labels, fmt=\"\", cmap='Blues')\n",
    "        plt.xlabel('Predicted Label')\n",
    "        plt.ylabel('True Label')\n",
    "        client.log_figure(child_run.info.run_id, fig2, 'plot_confusion_matrix.png')\n",
    "        plt.close()\n",
    "\n",
    "\n",
    "    def plot_precision_recall_vs_threshold(y_validate, y_scores, child_run):\n",
    "        precisions, recalls, thresholds = precision_recall_curve(y_validate, y_scores)\n",
    "\n",
    "        # convert to f score\n",
    "        fscore = (2 * precisions * recalls) / (precisions + recalls)\n",
    "        # locate the index of the largest f score\n",
    "        ix = np.argmax(fscore)\n",
    "        \n",
    "        client.log_metric(child_run.info.run_id, \"f1_score\", round(fscore[ix], 5))\n",
    "\n",
    "        fig3, ax3 = plt.subplots()\n",
    "        ax3.plot(thresholds, precisions[:-1], \"b\", label=\"Precision\")\n",
    "        ax3.plot(thresholds, recalls[:-1], \"g\", label=\"Recall\")\n",
    "        ax3.plot(thresholds, fscore[:-1], \"r\", label=\"F1 Score\")\n",
    "        ax3.axvline(x=thresholds[ix], color='red', linestyle='--')\n",
    "        plt.axhline(y=precisions[ix], color='b', linestyle='--')\n",
    "        plt.axhline(y=recalls[ix], color='g', linestyle='--')\n",
    "        ax3.set_xlabel(\"Threshold\")\n",
    "        ax3.legend(loc=\"upper left\")\n",
    "        ax3.set_ylim([0,1])\n",
    "        client.log_figure(child_run.info.run_id, fig3, 'plot_f1.png')\n",
    "        plt.close()\n",
    "\n",
    "        fig4, ax4 = plt.subplots()\n",
    "        ax4.plot(recalls, precisions, marker='.', label='Logistic')\n",
    "        ax4.scatter(recalls[ix], precisions[ix], 200, marker='o', color='red', label='Best')\n",
    "        ax4.set_xlabel('Recall')\n",
    "        ax4.set_ylabel('Precision')\n",
    "        client.log_figure(child_run.info.run_id, fig4, 'plot_precision_recall.png')\n",
    "        plt.close()\n",
    "        \n",
    "\n",
    "    def plot_roc_curve(y_validate, y_scores, child_run):\n",
    "        fpr, tpr, thresholds = roc_curve(y_validate, y_scores)\n",
    "\n",
    "        roc_auc = round(roc_auc_score(y_validate, y_scores), 3)\n",
    "        \n",
    "        optimal_idx = np.argmax(tpr - fpr)\n",
    "\n",
    "        fig5, ax5 = plt.subplots()\n",
    "        ax5.plot(fpr, tpr, linewidth=2)\n",
    "        ax5.plot([0,1], [0,1], 'k--')\n",
    "        ax5.axis([0,1,0,1])\n",
    "        ax5.scatter(fpr[optimal_idx], tpr[optimal_idx], 200, marker='o', color='red', label='Best')\n",
    "        ax5.set_xlabel('False Positive Rate')\n",
    "        ax5.set_ylabel('True Positive Rate')\n",
    "        client.log_figure(child_run.info.run_id, fig5, 'plot_roc_curve.png')\n",
    "        plt.close()\n",
    "\n",
    "        client.log_metric(child_run.info.run_id, \"roc_auc\", roc_auc)\n",
    "\n",
    "        \n",
    "\n",
    "    plot_confusion_matrix(y_validate, y_validate_pred)\n",
    "    plot_precision_recall_vs_threshold(y_validate, y_validate_scores, child_run)\n",
    "    plot_roc_curve(y_validate, y_validate_scores, child_run)\n",
    "    plot_learning_curve(pipeline, x_train, y_train)"
   ]
  },
  {
   "cell_type": "code",
   "execution_count": 15,
   "metadata": {},
   "outputs": [],
   "source": [
    "def create_submission(best_model, x_test, parent_run, best_threshold):\n",
    "    # predict the test values with the training classification model\n",
    "    y_pred = best_model.predict(x_test).astype(int)\n",
    "    y_pred = (best_model.predict_proba(x_test)[:,1] >= best_threshold).astype(bool)\n",
    "    \n",
    "    df_submission = pd.read_csv(\"../01_RawData/gender_submission.csv\")\n",
    "    df_submission['Survived'] = y_pred\n",
    "    \n",
    "    df_submission.to_csv('submissions/%s.csv'%parent_run.info.run_id, index=False)\n"
   ]
  },
  {
   "cell_type": "code",
   "execution_count": 16,
   "metadata": {},
   "outputs": [],
   "source": [
    "class Objective:\n",
    "    \n",
    "    def __init__(self, model_type, parent_run):\n",
    "        self.best_model = None\n",
    "        self._model = None\n",
    "        self._threshold = None\n",
    "        \n",
    "        self.model_type = model_type\n",
    "        self.parent_run = parent_run\n",
    "\n",
    "    \n",
    "    def __call__(self, trial):\n",
    "        start_time = time.time()\n",
    "\n",
    "        child_run = client.create_run(\n",
    "            experiment_id=experiment,\n",
    "            tags={\n",
    "                MLFLOW_PARENT_RUN_ID: self.parent_run.info.run_id,\n",
    "                \"mlflow.runName\": SCRIPT,\n",
    "                \"script_version\": VERSION\n",
    "            }\n",
    "        )\n",
    "\n",
    "        \"\"\" Machine Learning Model Creation \"\"\"\n",
    "        pipeline = create_model(trial, self.model_type, child_run)\n",
    "        self._model = pipeline\n",
    "\n",
    "\n",
    "        # predict probabilities\n",
    "        y_train_proba = cross_val_predict(pipeline, x_train, y_train, cv=5, n_jobs=-1, method='predict_proba')\n",
    "        # keep probabilities for the positive outcome only\n",
    "        y_train_scores = y_train_proba[:, 1]\n",
    "\n",
    "        # apply threshold to positive probabilities to create labels\n",
    "        def to_labels(pos_probs, threshold):\n",
    "            return (pos_probs >= threshold).astype('int')\n",
    "\n",
    "        # define thresholds\n",
    "        thresholds = np.arange(0, 1, 0.001)\n",
    "        # evaluate each threshold\n",
    "        scores = [f1_score(y_train, to_labels(y_train_scores, t)) for t in thresholds]\n",
    "        # get best threshold\n",
    "        ix = np.argmax(scores)\n",
    "        client.log_metric(child_run.info.run_id, \"classification_threshold\", thresholds[ix])\n",
    "        self._threshold = thresholds[ix]\n",
    "\n",
    "        y_train_pred = (y_train_scores >= thresholds[ix]).astype(bool)\n",
    "\n",
    "        score = accuracy_score(y_train, y_train_pred)\n",
    "        client.log_metric(child_run.info.run_id, \"cv_score\", score)\n",
    "\n",
    "        client.log_metric(child_run.info.run_id, \"runtime\", time.time() - start_time)\n",
    "\n",
    "        return score\n",
    "\n",
    "\n",
    "    def callback(self, study, trial):\n",
    "        if study.best_trial == trial:\n",
    "            self.best_model = self._model\n",
    "            self.best_threshold = self._threshold\n"
   ]
  },
  {
   "cell_type": "code",
   "execution_count": 17,
   "metadata": {},
   "outputs": [],
   "source": [
    "def create_new_mlrun(model_type):\n",
    "\n",
    "  parent_run = client.create_run(experiment_id=experiment, tags={\"mlflow.runName\": SCRIPT, \"script_version\": VERSION})\n",
    "\n",
    "  objective = Objective(model_type, parent_run)\n",
    "\n",
    "  study = optuna.create_study(\n",
    "    sampler = optuna.samplers.TPESampler(),\n",
    "    direction=\"maximize\"\n",
    "    )\n",
    "\n",
    "  study.optimize(\n",
    "    objective,\n",
    "    n_trials=config_data[\"N_TRAILS\"],\n",
    "    timeout=config_data[\"TIMEOUT\"],\n",
    "    n_jobs=-1,\n",
    "    callbacks=[objective.callback]\n",
    "    )\n",
    "\n",
    "  print(\"Best trial:\")\n",
    "  print(study.best_value)\n",
    "  print(study.best_params)\n",
    "\n",
    "  client.log_metric(parent_run.info.run_id, \"best_cv_score\", round(study.best_value, 3))\n",
    "\n",
    "  client.log_param(parent_run.info.run_id, \"cv_n_splits\", cv.n_splits)\n",
    "  client.log_param(parent_run.info.run_id, \"cv_train_size\", cv.train_size)\n",
    "  client.log_param(parent_run.info.run_id, \"cv_test_size\", cv.test_size)\n",
    "  client.log_param(parent_run.info.run_id, \"cv_random_state\", cv.random_state)\n",
    "\n",
    "  print(\"Log best parameters\")\n",
    "  for param in study.best_params:\n",
    "    client.log_param(parent_run.info.run_id, param, study.best_params[param])\n",
    "\n",
    "\n",
    "  print(\"Save best model\")\n",
    "  # save the best model as file\n",
    "  best_model = objective.best_model\n",
    "  best_threshold = objective.best_threshold\n",
    "  client.log_param(parent_run.info.run_id, \"classification_threshold\", best_threshold)\n",
    "\n",
    "  mlflow.sklearn.save_model(best_model, \"models/%s/\"%parent_run.info.run_id)\n",
    "  client.log_param(parent_run.info.run_id, \"algo\", best_model.get_params()[\"steps\"][-1][1].__class__.__name__)\n",
    "\n",
    "  print(\"Fit best model\")\n",
    "  # fit the pipeline with the total training dataset to compute the validation results\n",
    "  best_model.fit(df_train.drop(['Survived'], axis=1), df_train['Survived'])\n",
    "\n",
    "  print(\"Create submission\")\n",
    "  # create submission of best model\n",
    "  create_submission(best_model, df_test, parent_run, best_threshold)\n",
    "\n",
    "  # predict probabilities\n",
    "  y_validate_proba = best_model.predict_proba(x_validate)\n",
    "  # keep probabilities for the positive outcome only\n",
    "  y_validate_scores = y_validate_proba[:, 1]\n",
    "\n",
    "  print(\"Predict training outcome\")\n",
    "  # predict the training outcome\n",
    "  y_validate_pred = (y_validate_scores >= best_threshold).astype(bool)\n",
    "\n",
    "  print(\"Evaluate model performance\")\n",
    "  evaluate_model(x_train, y_train, y_validate, y_validate_pred, y_validate_scores, best_model, parent_run)\n",
    "\n",
    "  mlflow.end_run()\n",
    "\n",
    "  return study"
   ]
  },
  {
   "cell_type": "code",
   "execution_count": 18,
   "metadata": {},
   "outputs": [],
   "source": [
    "# study_lr = create_new_mlrun(model_type='LogisticRegression')\n",
    "# optuna.visualization.plot_optimization_history(study_lr)"
   ]
  },
  {
   "cell_type": "code",
   "execution_count": 19,
   "metadata": {},
   "outputs": [],
   "source": [
    "# study_dt = create_new_mlrun(model_type='DecisionTreeClassifier')\n",
    "# optuna.visualization.plot_optimization_history(study_dt)"
   ]
  },
  {
   "cell_type": "code",
   "execution_count": 20,
   "metadata": {},
   "outputs": [],
   "source": [
    "# study_svm = create_new_mlrun(model_type='SVC')\n",
    "# optuna.visualization.plot_optimization_history(study_svm)"
   ]
  },
  {
   "cell_type": "code",
   "execution_count": 21,
   "metadata": {},
   "outputs": [],
   "source": [
    "# study_svm = create_new_mlrun(model_type='ExtraTreesClassifier')\n",
    "# optuna.visualization.plot_optimization_history(study_svm)"
   ]
  },
  {
   "cell_type": "code",
   "execution_count": 22,
   "metadata": {},
   "outputs": [],
   "source": [
    "# study_svm = create_new_mlrun(model_type='GradientBoostingClassifier')\n",
    "# optuna.visualization.plot_optimization_history(study_svm)"
   ]
  },
  {
   "cell_type": "code",
   "execution_count": 23,
   "metadata": {},
   "outputs": [
    {
     "name": "stderr",
     "output_type": "stream",
     "text": [
      "\u001b[32m[I 2023-01-05 17:44:30,145]\u001b[0m A new study created in memory with name: no-name-e3eca0d6-f0d7-4694-80d6-d9a832a140c0\u001b[0m\n",
      "\u001b[32m[I 2023-01-05 17:44:37,642]\u001b[0m Trial 2 finished with value: 0.776685393258427 and parameters: {'preprocessing_n_bins_fare': 10, 'preprocessing_n_bins_age': 8, 'preprocessing_transform_skewed_features_flag': False, 'preprocessing_ohe_min_frequency': 0.0025957850203716104, 'preprocessing_ohe_max_categories': 5, 'preprocessing_feature_selection_low_variance_flag': True, 'preprocessing_correlation': 0.9107590235206507, 'columnprep__transformers_num': 'MinMaxScaler', 'rfc_n_estimators': 463, 'rfc_max_depth': 11, 'rfc_min_samples_split': 0.15252543979375888, 'rfc_min_samples_leaf': 0.17368264258521657, 'rfc_criterion': 'gini', 'rfc_max_leaf_nodes': 2}. Best is trial 2 with value: 0.776685393258427.\u001b[0m\n",
      "\u001b[32m[I 2023-01-05 17:44:43,760]\u001b[0m Trial 1 finished with value: 0.7457865168539326 and parameters: {'preprocessing_n_bins_fare': 10, 'preprocessing_n_bins_age': 14, 'preprocessing_transform_skewed_features_flag': True, 'preprocessing_ohe_min_frequency': 0.007124585704283471, 'preprocessing_ohe_max_categories': 12, 'preprocessing_feature_selection_low_variance_flag': True, 'preprocessing_correlation': 0.8508033620457318, 'columnprep__transformers_num': 'StandardScaler', 'rfc_n_estimators': 503, 'rfc_max_depth': 9, 'rfc_min_samples_split': 0.16111536008997984, 'rfc_min_samples_leaf': 0.19799670950950388, 'rfc_criterion': 'gini', 'rfc_max_leaf_nodes': 4}. Best is trial 2 with value: 0.776685393258427.\u001b[0m\n",
      "\u001b[32m[I 2023-01-05 17:44:47,444]\u001b[0m Trial 0 finished with value: 0.7668539325842697 and parameters: {'preprocessing_n_bins_fare': 15, 'preprocessing_n_bins_age': 13, 'preprocessing_transform_skewed_features_flag': False, 'preprocessing_ohe_min_frequency': 0.1917314265035729, 'preprocessing_ohe_max_categories': 5, 'preprocessing_feature_selection_low_variance_flag': True, 'preprocessing_correlation': 0.7123631090511034, 'columnprep__transformers_num': 'StandardScaler', 'rfc_n_estimators': 1618, 'rfc_max_depth': 10, 'rfc_min_samples_split': 0.19957584399603578, 'rfc_min_samples_leaf': 0.08870577125391972, 'rfc_criterion': 'entropy', 'rfc_max_leaf_nodes': 2}. Best is trial 2 with value: 0.776685393258427.\u001b[0m\n",
      "\u001b[32m[I 2023-01-05 17:44:47,830]\u001b[0m Trial 3 finished with value: 0.7528089887640449 and parameters: {'preprocessing_n_bins_fare': 12, 'preprocessing_n_bins_age': 13, 'preprocessing_transform_skewed_features_flag': False, 'preprocessing_ohe_min_frequency': 0.1331982498065539, 'preprocessing_ohe_max_categories': 18, 'preprocessing_feature_selection_low_variance_flag': False, 'preprocessing_correlation': 0.7191543761806637, 'columnprep__transformers_num': 'StandardScaler', 'rfc_n_estimators': 1416, 'rfc_max_depth': 12, 'rfc_min_samples_split': 0.07605175019266847, 'rfc_min_samples_leaf': 0.07673679603190561, 'rfc_criterion': 'entropy', 'rfc_max_leaf_nodes': 2}. Best is trial 2 with value: 0.776685393258427.\u001b[0m\n",
      "\u001b[32m[I 2023-01-05 17:44:54,771]\u001b[0m Trial 4 finished with value: 0.7219101123595506 and parameters: {'preprocessing_n_bins_fare': 11, 'preprocessing_n_bins_age': 12, 'preprocessing_transform_skewed_features_flag': False, 'preprocessing_ohe_min_frequency': 0.09583540496580448, 'preprocessing_ohe_max_categories': 17, 'preprocessing_feature_selection_low_variance_flag': True, 'preprocessing_correlation': 0.8196186555609315, 'columnprep__transformers_num': 'MinMaxScaler', 'rfc_n_estimators': 1475, 'rfc_max_depth': 7, 'rfc_min_samples_split': 0.09476557159968893, 'rfc_min_samples_leaf': 0.13393392085019873, 'rfc_criterion': 'gini', 'rfc_max_leaf_nodes': 10}. Best is trial 2 with value: 0.776685393258427.\u001b[0m\n",
      "\u001b[32m[I 2023-01-05 17:45:03,502]\u001b[0m Trial 6 finished with value: 0.6966292134831461 and parameters: {'preprocessing_n_bins_fare': 14, 'preprocessing_n_bins_age': 11, 'preprocessing_transform_skewed_features_flag': False, 'preprocessing_ohe_min_frequency': 0.07387786657791873, 'preprocessing_ohe_max_categories': 8, 'preprocessing_feature_selection_low_variance_flag': False, 'preprocessing_correlation': 0.8409870287865411, 'columnprep__transformers_num': 'StandardScaler', 'rfc_n_estimators': 383, 'rfc_max_depth': 13, 'rfc_min_samples_split': 0.08707368658454354, 'rfc_min_samples_leaf': 0.13984015398989397, 'rfc_criterion': 'entropy', 'rfc_max_leaf_nodes': 5}. Best is trial 2 with value: 0.776685393258427.\u001b[0m\n",
      "\u001b[32m[I 2023-01-05 17:45:08,050]\u001b[0m Trial 5 finished with value: 0.7387640449438202 and parameters: {'preprocessing_n_bins_fare': 12, 'preprocessing_n_bins_age': 7, 'preprocessing_transform_skewed_features_flag': True, 'preprocessing_ohe_min_frequency': 0.16399988511477115, 'preprocessing_ohe_max_categories': 9, 'preprocessing_feature_selection_low_variance_flag': False, 'preprocessing_correlation': 0.7390413372227707, 'columnprep__transformers_num': 'StandardScaler', 'rfc_n_estimators': 4188, 'rfc_max_depth': 14, 'rfc_min_samples_split': 0.06752527588023327, 'rfc_min_samples_leaf': 0.15100978173964047, 'rfc_criterion': 'gini', 'rfc_max_leaf_nodes': 5}. Best is trial 2 with value: 0.776685393258427.\u001b[0m\n",
      "\u001b[32m[I 2023-01-05 17:45:10,923]\u001b[0m Trial 7 finished with value: 0.7949438202247191 and parameters: {'preprocessing_n_bins_fare': 8, 'preprocessing_n_bins_age': 13, 'preprocessing_transform_skewed_features_flag': True, 'preprocessing_ohe_min_frequency': 0.006822118227252961, 'preprocessing_ohe_max_categories': 15, 'preprocessing_feature_selection_low_variance_flag': True, 'preprocessing_correlation': 0.891191572186727, 'columnprep__transformers_num': 'MinMaxScaler', 'rfc_n_estimators': 1490, 'rfc_max_depth': 12, 'rfc_min_samples_split': 0.12127701043175691, 'rfc_min_samples_leaf': 0.10345852573225682, 'rfc_criterion': 'gini', 'rfc_max_leaf_nodes': 3}. Best is trial 7 with value: 0.7949438202247191.\u001b[0m\n",
      "\u001b[32m[I 2023-01-05 17:45:17,091]\u001b[0m Trial 8 finished with value: 0.773876404494382 and parameters: {'preprocessing_n_bins_fare': 11, 'preprocessing_n_bins_age': 13, 'preprocessing_transform_skewed_features_flag': True, 'preprocessing_ohe_min_frequency': 0.035400051191618646, 'preprocessing_ohe_max_categories': 19, 'preprocessing_feature_selection_low_variance_flag': True, 'preprocessing_correlation': 0.9313286701425026, 'columnprep__transformers_num': 'MinMaxScaler', 'rfc_n_estimators': 2265, 'rfc_max_depth': 5, 'rfc_min_samples_split': 0.14835605589940326, 'rfc_min_samples_leaf': 0.18865643832483614, 'rfc_criterion': 'gini', 'rfc_max_leaf_nodes': 6}. Best is trial 7 with value: 0.7949438202247191.\u001b[0m\n",
      "\u001b[32m[I 2023-01-05 17:45:22,203]\u001b[0m Trial 9 finished with value: 0.7542134831460674 and parameters: {'preprocessing_n_bins_fare': 8, 'preprocessing_n_bins_age': 11, 'preprocessing_transform_skewed_features_flag': False, 'preprocessing_ohe_min_frequency': 0.0908507275351067, 'preprocessing_ohe_max_categories': 5, 'preprocessing_feature_selection_low_variance_flag': False, 'preprocessing_correlation': 0.8161779883286584, 'columnprep__transformers_num': 'StandardScaler', 'rfc_n_estimators': 2368, 'rfc_max_depth': 7, 'rfc_min_samples_split': 0.18352793425581648, 'rfc_min_samples_leaf': 0.17243277064512352, 'rfc_criterion': 'entropy', 'rfc_max_leaf_nodes': 7}. Best is trial 7 with value: 0.7949438202247191.\u001b[0m\n",
      "\u001b[32m[I 2023-01-05 17:45:38,812]\u001b[0m Trial 11 finished with value: 0.7626404494382022 and parameters: {'preprocessing_n_bins_fare': 12, 'preprocessing_n_bins_age': 7, 'preprocessing_transform_skewed_features_flag': True, 'preprocessing_ohe_min_frequency': 0.05191139007332364, 'preprocessing_ohe_max_categories': 15, 'preprocessing_feature_selection_low_variance_flag': True, 'preprocessing_correlation': 0.7977948210794061, 'columnprep__transformers_num': 'MinMaxScaler', 'rfc_n_estimators': 2225, 'rfc_max_depth': 10, 'rfc_min_samples_split': 0.13337919311533897, 'rfc_min_samples_leaf': 0.07088437397543015, 'rfc_criterion': 'gini', 'rfc_max_leaf_nodes': 3}. Best is trial 7 with value: 0.7949438202247191.\u001b[0m\n",
      "\u001b[32m[I 2023-01-05 17:45:39,527]\u001b[0m Trial 10 finished with value: 0.773876404494382 and parameters: {'preprocessing_n_bins_fare': 14, 'preprocessing_n_bins_age': 9, 'preprocessing_transform_skewed_features_flag': True, 'preprocessing_ohe_min_frequency': 0.08410488860877346, 'preprocessing_ohe_max_categories': 9, 'preprocessing_feature_selection_low_variance_flag': False, 'preprocessing_correlation': 0.7172177248027464, 'columnprep__transformers_num': 'MinMaxScaler', 'rfc_n_estimators': 4188, 'rfc_max_depth': 8, 'rfc_min_samples_split': 0.1254980526566009, 'rfc_min_samples_leaf': 0.08269189111791986, 'rfc_criterion': 'entropy', 'rfc_max_leaf_nodes': 6}. Best is trial 7 with value: 0.7949438202247191.\u001b[0m\n",
      "\u001b[32m[I 2023-01-05 17:45:49,742]\u001b[0m Trial 12 finished with value: 0.7626404494382022 and parameters: {'preprocessing_n_bins_fare': 5, 'preprocessing_n_bins_age': 12, 'preprocessing_transform_skewed_features_flag': False, 'preprocessing_ohe_min_frequency': 0.1725997794449254, 'preprocessing_ohe_max_categories': 14, 'preprocessing_feature_selection_low_variance_flag': True, 'preprocessing_correlation': 0.9298094271535807, 'columnprep__transformers_num': 'StandardScaler', 'rfc_n_estimators': 2309, 'rfc_max_depth': 15, 'rfc_min_samples_split': 0.15919363414395682, 'rfc_min_samples_leaf': 0.15797807061121183, 'rfc_criterion': 'entropy', 'rfc_max_leaf_nodes': 6}. Best is trial 7 with value: 0.7949438202247191.\u001b[0m\n",
      "\u001b[32m[I 2023-01-05 17:46:02,013]\u001b[0m Trial 13 finished with value: 0.7935393258426966 and parameters: {'preprocessing_n_bins_fare': 5, 'preprocessing_n_bins_age': 15, 'preprocessing_transform_skewed_features_flag': True, 'preprocessing_ohe_min_frequency': 0.050968923321773704, 'preprocessing_ohe_max_categories': 15, 'preprocessing_feature_selection_low_variance_flag': True, 'preprocessing_correlation': 0.889453195645381, 'columnprep__transformers_num': 'MinMaxScaler', 'rfc_n_estimators': 4094, 'rfc_max_depth': 14, 'rfc_min_samples_split': 0.11588414134408609, 'rfc_min_samples_leaf': 0.10279849389516929, 'rfc_criterion': 'gini', 'rfc_max_leaf_nodes': 8}. Best is trial 7 with value: 0.7949438202247191.\u001b[0m\n",
      "\u001b[32m[I 2023-01-05 17:46:10,352]\u001b[0m Trial 15 finished with value: 0.7865168539325843 and parameters: {'preprocessing_n_bins_fare': 5, 'preprocessing_n_bins_age': 5, 'preprocessing_transform_skewed_features_flag': False, 'preprocessing_ohe_min_frequency': 0.0057527105202490915, 'preprocessing_ohe_max_categories': 13, 'preprocessing_feature_selection_low_variance_flag': True, 'preprocessing_correlation': 0.9239539331706379, 'columnprep__transformers_num': 'MinMaxScaler', 'rfc_n_estimators': 57, 'rfc_max_depth': 15, 'rfc_min_samples_split': 0.11161246024179064, 'rfc_min_samples_leaf': 0.10849963469128006, 'rfc_criterion': 'gini', 'rfc_max_leaf_nodes': 3}. Best is trial 7 with value: 0.7949438202247191.\u001b[0m\n",
      "\u001b[32m[I 2023-01-05 17:46:11,953]\u001b[0m Trial 16 finished with value: 0.7935393258426966 and parameters: {'preprocessing_n_bins_fare': 8, 'preprocessing_n_bins_age': 5, 'preprocessing_transform_skewed_features_flag': True, 'preprocessing_ohe_min_frequency': 0.0010374540341296086, 'preprocessing_ohe_max_categories': 12, 'preprocessing_feature_selection_low_variance_flag': True, 'preprocessing_correlation': 0.8887074021835938, 'columnprep__transformers_num': 'MinMaxScaler', 'rfc_n_estimators': 168, 'rfc_max_depth': 12, 'rfc_min_samples_split': 0.11263473218638946, 'rfc_min_samples_leaf': 0.11112506794441507, 'rfc_criterion': 'gini', 'rfc_max_leaf_nodes': 3}. Best is trial 7 with value: 0.7949438202247191.\u001b[0m\n",
      "\u001b[32m[I 2023-01-05 17:46:12,294]\u001b[0m Trial 14 finished with value: 0.7921348314606742 and parameters: {'preprocessing_n_bins_fare': 5, 'preprocessing_n_bins_age': 9, 'preprocessing_transform_skewed_features_flag': True, 'preprocessing_ohe_min_frequency': 0.0016984884187683852, 'preprocessing_ohe_max_categories': 13, 'preprocessing_feature_selection_low_variance_flag': True, 'preprocessing_correlation': 0.9228317306718679, 'columnprep__transformers_num': 'MinMaxScaler', 'rfc_n_estimators': 3651, 'rfc_max_depth': 15, 'rfc_min_samples_split': 0.10744366229866531, 'rfc_min_samples_leaf': 0.10682278972064689, 'rfc_criterion': 'gini', 'rfc_max_leaf_nodes': 2}. Best is trial 7 with value: 0.7949438202247191.\u001b[0m\n",
      "\u001b[32m[I 2023-01-05 17:46:30,466]\u001b[0m Trial 17 finished with value: 0.797752808988764 and parameters: {'preprocessing_n_bins_fare': 5, 'preprocessing_n_bins_age': 15, 'preprocessing_transform_skewed_features_flag': True, 'preprocessing_ohe_min_frequency': 0.03972732430120279, 'preprocessing_ohe_max_categories': 12, 'preprocessing_feature_selection_low_variance_flag': True, 'preprocessing_correlation': 0.8831220081127671, 'columnprep__transformers_num': 'MinMaxScaler', 'rfc_n_estimators': 4880, 'rfc_max_depth': 16, 'rfc_min_samples_split': 0.10573150095019743, 'rfc_min_samples_leaf': 0.10886390227596773, 'rfc_criterion': 'gini', 'rfc_max_leaf_nodes': 9}. Best is trial 17 with value: 0.797752808988764.\u001b[0m\n",
      "\u001b[32m[I 2023-01-05 17:46:33,180]\u001b[0m Trial 18 finished with value: 0.7963483146067416 and parameters: {'preprocessing_n_bins_fare': 7, 'preprocessing_n_bins_age': 15, 'preprocessing_transform_skewed_features_flag': True, 'preprocessing_ohe_min_frequency': 0.040287607663136694, 'preprocessing_ohe_max_categories': 16, 'preprocessing_feature_selection_low_variance_flag': True, 'preprocessing_correlation': 0.8851646670921302, 'columnprep__transformers_num': 'MinMaxScaler', 'rfc_n_estimators': 3379, 'rfc_max_depth': 16, 'rfc_min_samples_split': 0.05266361289175249, 'rfc_min_samples_leaf': 0.052786113745662666, 'rfc_criterion': 'gini', 'rfc_max_leaf_nodes': 9}. Best is trial 17 with value: 0.797752808988764.\u001b[0m\n",
      "\u001b[32m[I 2023-01-05 17:46:41,775]\u001b[0m Trial 19 finished with value: 0.7949438202247191 and parameters: {'preprocessing_n_bins_fare': 7, 'preprocessing_n_bins_age': 15, 'preprocessing_transform_skewed_features_flag': True, 'preprocessing_ohe_min_frequency': 0.03239037683310196, 'preprocessing_ohe_max_categories': 11, 'preprocessing_feature_selection_low_variance_flag': True, 'preprocessing_correlation': 0.8773120190673821, 'columnprep__transformers_num': 'MinMaxScaler', 'rfc_n_estimators': 3195, 'rfc_max_depth': 12, 'rfc_min_samples_split': 0.05805866805217981, 'rfc_min_samples_leaf': 0.05665935070298155, 'rfc_criterion': 'gini', 'rfc_max_leaf_nodes': 4}. Best is trial 17 with value: 0.797752808988764.\u001b[0m\n",
      "\u001b[32m[I 2023-01-05 17:46:45,752]\u001b[0m Trial 20 finished with value: 0.7808988764044944 and parameters: {'preprocessing_n_bins_fare': 8, 'preprocessing_n_bins_age': 5, 'preprocessing_transform_skewed_features_flag': True, 'preprocessing_ohe_min_frequency': 0.028599732255861005, 'preprocessing_ohe_max_categories': 16, 'preprocessing_feature_selection_low_variance_flag': True, 'preprocessing_correlation': 0.8735447562989858, 'columnprep__transformers_num': 'MinMaxScaler', 'rfc_n_estimators': 1009, 'rfc_max_depth': 12, 'rfc_min_samples_split': 0.13323300845627511, 'rfc_min_samples_leaf': 0.1223652788777636, 'rfc_criterion': 'gini', 'rfc_max_leaf_nodes': 4}. Best is trial 17 with value: 0.797752808988764.\u001b[0m\n",
      "\u001b[32m[I 2023-01-05 17:46:57,431]\u001b[0m Trial 21 finished with value: 0.7851123595505618 and parameters: {'preprocessing_n_bins_fare': 7, 'preprocessing_n_bins_age': 15, 'preprocessing_transform_skewed_features_flag': True, 'preprocessing_ohe_min_frequency': 0.039579710710430704, 'preprocessing_ohe_max_categories': 20, 'preprocessing_feature_selection_low_variance_flag': True, 'preprocessing_correlation': 0.8650664451093264, 'columnprep__transformers_num': 'MinMaxScaler', 'rfc_n_estimators': 3043, 'rfc_max_depth': 16, 'rfc_min_samples_split': 0.05360348586982962, 'rfc_min_samples_leaf': 0.061363018960279056, 'rfc_criterion': 'gini', 'rfc_max_leaf_nodes': 10}. Best is trial 17 with value: 0.797752808988764.\u001b[0m\n",
      "\u001b[32m[I 2023-01-05 17:47:07,670]\u001b[0m Trial 22 finished with value: 0.776685393258427 and parameters: {'preprocessing_n_bins_fare': 7, 'preprocessing_n_bins_age': 15, 'preprocessing_transform_skewed_features_flag': True, 'preprocessing_ohe_min_frequency': 0.12195476108027653, 'preprocessing_ohe_max_categories': 20, 'preprocessing_feature_selection_low_variance_flag': True, 'preprocessing_correlation': 0.8615698456408745, 'columnprep__transformers_num': 'MinMaxScaler', 'rfc_n_estimators': 4916, 'rfc_max_depth': 16, 'rfc_min_samples_split': 0.050803924437322186, 'rfc_min_samples_leaf': 0.05748211050429055, 'rfc_criterion': 'gini', 'rfc_max_leaf_nodes': 10}. Best is trial 17 with value: 0.797752808988764.\u001b[0m\n",
      "\u001b[32m[I 2023-01-05 17:47:13,306]\u001b[0m Trial 23 finished with value: 0.7682584269662921 and parameters: {'preprocessing_n_bins_fare': 7, 'preprocessing_n_bins_age': 15, 'preprocessing_transform_skewed_features_flag': True, 'preprocessing_ohe_min_frequency': 0.11804642016144287, 'preprocessing_ohe_max_categories': 20, 'preprocessing_feature_selection_low_variance_flag': True, 'preprocessing_correlation': 0.7771023306604087, 'columnprep__transformers_num': 'MinMaxScaler', 'rfc_n_estimators': 3155, 'rfc_max_depth': 16, 'rfc_min_samples_split': 0.05248910238333649, 'rfc_min_samples_leaf': 0.05336110698681, 'rfc_criterion': 'gini', 'rfc_max_leaf_nodes': 10}. Best is trial 17 with value: 0.797752808988764.\u001b[0m\n",
      "\u001b[32m[I 2023-01-05 17:47:30,582]\u001b[0m Trial 24 finished with value: 0.7682584269662921 and parameters: {'preprocessing_n_bins_fare': 7, 'preprocessing_n_bins_age': 15, 'preprocessing_transform_skewed_features_flag': True, 'preprocessing_ohe_min_frequency': 0.06441443402658334, 'preprocessing_ohe_max_categories': 20, 'preprocessing_feature_selection_low_variance_flag': True, 'preprocessing_correlation': 0.8565686490582364, 'columnprep__transformers_num': 'MinMaxScaler', 'rfc_n_estimators': 4909, 'rfc_max_depth': 16, 'rfc_min_samples_split': 0.05234668203820465, 'rfc_min_samples_leaf': 0.09406741348414949, 'rfc_criterion': 'gini', 'rfc_max_leaf_nodes': 10}. Best is trial 17 with value: 0.797752808988764.\u001b[0m\n",
      "\u001b[32m[I 2023-01-05 17:47:42,371]\u001b[0m Trial 25 finished with value: 0.7724719101123596 and parameters: {'preprocessing_n_bins_fare': 6, 'preprocessing_n_bins_age': 15, 'preprocessing_transform_skewed_features_flag': True, 'preprocessing_ohe_min_frequency': 0.06383257433401085, 'preprocessing_ohe_max_categories': 11, 'preprocessing_feature_selection_low_variance_flag': True, 'preprocessing_correlation': 0.7749718479414927, 'columnprep__transformers_num': 'MinMaxScaler', 'rfc_n_estimators': 4841, 'rfc_max_depth': 16, 'rfc_min_samples_split': 0.05114426517195392, 'rfc_min_samples_leaf': 0.05087989183567464, 'rfc_criterion': 'gini', 'rfc_max_leaf_nodes': 9}. Best is trial 17 with value: 0.797752808988764.\u001b[0m\n",
      "\u001b[32m[I 2023-01-05 17:47:50,613]\u001b[0m Trial 26 finished with value: 0.773876404494382 and parameters: {'preprocessing_n_bins_fare': 6, 'preprocessing_n_bins_age': 14, 'preprocessing_transform_skewed_features_flag': True, 'preprocessing_ohe_min_frequency': 0.06002542904711198, 'preprocessing_ohe_max_categories': 11, 'preprocessing_feature_selection_low_variance_flag': True, 'preprocessing_correlation': 0.7875998127923055, 'columnprep__transformers_num': 'MinMaxScaler', 'rfc_n_estimators': 3073, 'rfc_max_depth': 16, 'rfc_min_samples_split': 0.06544728057441969, 'rfc_min_samples_leaf': 0.05064638582052569, 'rfc_criterion': 'gini', 'rfc_max_leaf_nodes': 8}. Best is trial 17 with value: 0.797752808988764.\u001b[0m\n",
      "\u001b[32m[I 2023-01-05 17:48:05,140]\u001b[0m Trial 27 finished with value: 0.7893258426966292 and parameters: {'preprocessing_n_bins_fare': 6, 'preprocessing_n_bins_age': 14, 'preprocessing_transform_skewed_features_flag': True, 'preprocessing_ohe_min_frequency': 0.06620684742408048, 'preprocessing_ohe_max_categories': 11, 'preprocessing_feature_selection_low_variance_flag': True, 'preprocessing_correlation': 0.9494909987897463, 'columnprep__transformers_num': 'MinMaxScaler', 'rfc_n_estimators': 4989, 'rfc_max_depth': 14, 'rfc_min_samples_split': 0.06692075418116493, 'rfc_min_samples_leaf': 0.06844244130666563, 'rfc_criterion': 'gini', 'rfc_max_leaf_nodes': 8}. Best is trial 17 with value: 0.797752808988764.\u001b[0m\n",
      "\u001b[32m[I 2023-01-05 17:48:08,950]\u001b[0m Trial 28 finished with value: 0.7865168539325843 and parameters: {'preprocessing_n_bins_fare': 6, 'preprocessing_n_bins_age': 14, 'preprocessing_transform_skewed_features_flag': True, 'preprocessing_ohe_min_frequency': 0.026189142277786015, 'preprocessing_ohe_max_categories': 11, 'preprocessing_feature_selection_low_variance_flag': True, 'preprocessing_correlation': 0.9472180924359984, 'columnprep__transformers_num': 'MinMaxScaler', 'rfc_n_estimators': 3100, 'rfc_max_depth': 14, 'rfc_min_samples_split': 0.07485205675079444, 'rfc_min_samples_leaf': 0.06492225775817771, 'rfc_criterion': 'gini', 'rfc_max_leaf_nodes': 8}. Best is trial 17 with value: 0.797752808988764.\u001b[0m\n",
      "\u001b[32m[I 2023-01-05 17:48:19,708]\u001b[0m Trial 29 finished with value: 0.7963483146067416 and parameters: {'preprocessing_n_bins_fare': 6, 'preprocessing_n_bins_age': 14, 'preprocessing_transform_skewed_features_flag': True, 'preprocessing_ohe_min_frequency': 0.024969828532805667, 'preprocessing_ohe_max_categories': 10, 'preprocessing_feature_selection_low_variance_flag': True, 'preprocessing_correlation': 0.9041846945126211, 'columnprep__transformers_num': 'MinMaxScaler', 'rfc_n_estimators': 2968, 'rfc_max_depth': 14, 'rfc_min_samples_split': 0.07247273175096167, 'rfc_min_samples_leaf': 0.06859017129153745, 'rfc_criterion': 'gini', 'rfc_max_leaf_nodes': 8}. Best is trial 17 with value: 0.797752808988764.\u001b[0m\n",
      "\u001b[32m[I 2023-01-05 17:48:28,459]\u001b[0m Trial 30 finished with value: 0.7963483146067416 and parameters: {'preprocessing_n_bins_fare': 9, 'preprocessing_n_bins_age': 14, 'preprocessing_transform_skewed_features_flag': True, 'preprocessing_ohe_min_frequency': 0.0217486742935991, 'preprocessing_ohe_max_categories': 7, 'preprocessing_feature_selection_low_variance_flag': False, 'preprocessing_correlation': 0.9034357759553125, 'columnprep__transformers_num': 'MinMaxScaler', 'rfc_n_estimators': 3514, 'rfc_max_depth': 14, 'rfc_min_samples_split': 0.09236334731659152, 'rfc_min_samples_leaf': 0.06850773754549869, 'rfc_criterion': 'gini', 'rfc_max_leaf_nodes': 8}. Best is trial 17 with value: 0.797752808988764.\u001b[0m\n",
      "\u001b[32m[I 2023-01-05 17:48:44,247]\u001b[0m Trial 31 finished with value: 0.7963483146067416 and parameters: {'preprocessing_n_bins_fare': 9, 'preprocessing_n_bins_age': 14, 'preprocessing_transform_skewed_features_flag': True, 'preprocessing_ohe_min_frequency': 0.02305490980160224, 'preprocessing_ohe_max_categories': 7, 'preprocessing_feature_selection_low_variance_flag': False, 'preprocessing_correlation': 0.9043273848632585, 'columnprep__transformers_num': 'MinMaxScaler', 'rfc_n_estimators': 3540, 'rfc_max_depth': 13, 'rfc_min_samples_split': 0.0933028135414629, 'rfc_min_samples_leaf': 0.06645424473048675, 'rfc_criterion': 'gini', 'rfc_max_leaf_nodes': 9}. Best is trial 17 with value: 0.797752808988764.\u001b[0m\n",
      "\u001b[32m[I 2023-01-05 17:48:58,810]\u001b[0m Trial 32 finished with value: 0.797752808988764 and parameters: {'preprocessing_n_bins_fare': 9, 'preprocessing_n_bins_age': 12, 'preprocessing_transform_skewed_features_flag': True, 'preprocessing_ohe_min_frequency': 0.02125019761461148, 'preprocessing_ohe_max_categories': 8, 'preprocessing_feature_selection_low_variance_flag': False, 'preprocessing_correlation': 0.9036862612531154, 'columnprep__transformers_num': 'MinMaxScaler', 'rfc_n_estimators': 3714, 'rfc_max_depth': 13, 'rfc_min_samples_split': 0.09687390862676185, 'rfc_min_samples_leaf': 0.08866134996486041, 'rfc_criterion': 'entropy', 'rfc_max_leaf_nodes': 9}. Best is trial 17 with value: 0.797752808988764.\u001b[0m\n",
      "\u001b[32m[I 2023-01-05 17:49:07,942]\u001b[0m Trial 33 finished with value: 0.797752808988764 and parameters: {'preprocessing_n_bins_fare': 9, 'preprocessing_n_bins_age': 12, 'preprocessing_transform_skewed_features_flag': True, 'preprocessing_ohe_min_frequency': 0.020402683454175653, 'preprocessing_ohe_max_categories': 8, 'preprocessing_feature_selection_low_variance_flag': False, 'preprocessing_correlation': 0.9020213019364514, 'columnprep__transformers_num': 'MinMaxScaler', 'rfc_n_estimators': 3739, 'rfc_max_depth': 13, 'rfc_min_samples_split': 0.09057991919413555, 'rfc_min_samples_leaf': 0.09072256551605175, 'rfc_criterion': 'entropy', 'rfc_max_leaf_nodes': 9}. Best is trial 17 with value: 0.797752808988764.\u001b[0m\n",
      "\u001b[32m[I 2023-01-05 17:49:24,778]\u001b[0m Trial 34 finished with value: 0.797752808988764 and parameters: {'preprocessing_n_bins_fare': 9, 'preprocessing_n_bins_age': 12, 'preprocessing_transform_skewed_features_flag': True, 'preprocessing_ohe_min_frequency': 0.018471478563366624, 'preprocessing_ohe_max_categories': 7, 'preprocessing_feature_selection_low_variance_flag': False, 'preprocessing_correlation': 0.9065505643477796, 'columnprep__transformers_num': 'MinMaxScaler', 'rfc_n_estimators': 3744, 'rfc_max_depth': 13, 'rfc_min_samples_split': 0.09534254166878363, 'rfc_min_samples_leaf': 0.0922001211029301, 'rfc_criterion': 'gini', 'rfc_max_leaf_nodes': 9}. Best is trial 17 with value: 0.797752808988764.\u001b[0m\n",
      "\u001b[32m[I 2023-01-05 17:49:34,009]\u001b[0m Trial 35 finished with value: 0.797752808988764 and parameters: {'preprocessing_n_bins_fare': 9, 'preprocessing_n_bins_age': 13, 'preprocessing_transform_skewed_features_flag': True, 'preprocessing_ohe_min_frequency': 0.01633029025546032, 'preprocessing_ohe_max_categories': 7, 'preprocessing_feature_selection_low_variance_flag': False, 'preprocessing_correlation': 0.9078692446703414, 'columnprep__transformers_num': 'MinMaxScaler', 'rfc_n_estimators': 3787, 'rfc_max_depth': 13, 'rfc_min_samples_split': 0.09998633792181, 'rfc_min_samples_leaf': 0.0882512775065228, 'rfc_criterion': 'gini', 'rfc_max_leaf_nodes': 9}. Best is trial 17 with value: 0.797752808988764.\u001b[0m\n",
      "\u001b[32m[I 2023-01-05 17:49:45,471]\u001b[0m Trial 36 finished with value: 0.7991573033707865 and parameters: {'preprocessing_n_bins_fare': 9, 'preprocessing_n_bins_age': 12, 'preprocessing_transform_skewed_features_flag': True, 'preprocessing_ohe_min_frequency': 0.01574855053361905, 'preprocessing_ohe_max_categories': 7, 'preprocessing_feature_selection_low_variance_flag': False, 'preprocessing_correlation': 0.9021986164565022, 'columnprep__transformers_num': 'MinMaxScaler', 'rfc_n_estimators': 3831, 'rfc_max_depth': 13, 'rfc_min_samples_split': 0.10268814237355214, 'rfc_min_samples_leaf': 0.08838216847057088, 'rfc_criterion': 'entropy', 'rfc_max_leaf_nodes': 7}. Best is trial 36 with value: 0.7991573033707865.\u001b[0m\n",
      "\u001b[32m[I 2023-01-05 17:49:59,926]\u001b[0m Trial 37 finished with value: 0.7696629213483146 and parameters: {'preprocessing_n_bins_fare': 9, 'preprocessing_n_bins_age': 12, 'preprocessing_transform_skewed_features_flag': True, 'preprocessing_ohe_min_frequency': 0.04798899173727409, 'preprocessing_ohe_max_categories': 6, 'preprocessing_feature_selection_low_variance_flag': False, 'preprocessing_correlation': 0.8332859508858219, 'columnprep__transformers_num': 'StandardScaler', 'rfc_n_estimators': 3845, 'rfc_max_depth': 11, 'rfc_min_samples_split': 0.10062479312088389, 'rfc_min_samples_leaf': 0.08758404873975824, 'rfc_criterion': 'entropy', 'rfc_max_leaf_nodes': 9}. Best is trial 36 with value: 0.7991573033707865.\u001b[0m\n",
      "\u001b[32m[I 2023-01-05 17:50:12,341]\u001b[0m Trial 38 finished with value: 0.773876404494382 and parameters: {'preprocessing_n_bins_fare': 9, 'preprocessing_n_bins_age': 11, 'preprocessing_transform_skewed_features_flag': True, 'preprocessing_ohe_min_frequency': 0.014926897844331922, 'preprocessing_ohe_max_categories': 6, 'preprocessing_feature_selection_low_variance_flag': False, 'preprocessing_correlation': 0.8369414410056459, 'columnprep__transformers_num': 'StandardScaler', 'rfc_n_estimators': 4497, 'rfc_max_depth': 11, 'rfc_min_samples_split': 0.10329189167935515, 'rfc_min_samples_leaf': 0.08736652576199581, 'rfc_criterion': 'entropy', 'rfc_max_leaf_nodes': 9}. Best is trial 36 with value: 0.7991573033707865.\u001b[0m\n",
      "\u001b[32m[I 2023-01-05 17:50:22,740]\u001b[0m Trial 39 finished with value: 0.7935393258426966 and parameters: {'preprocessing_n_bins_fare': 10, 'preprocessing_n_bins_age': 11, 'preprocessing_transform_skewed_features_flag': True, 'preprocessing_ohe_min_frequency': 0.047060360187779815, 'preprocessing_ohe_max_categories': 6, 'preprocessing_feature_selection_low_variance_flag': False, 'preprocessing_correlation': 0.9375178434481104, 'columnprep__transformers_num': 'StandardScaler', 'rfc_n_estimators': 4541, 'rfc_max_depth': 11, 'rfc_min_samples_split': 0.0817871214957091, 'rfc_min_samples_leaf': 0.12068289146428304, 'rfc_criterion': 'entropy', 'rfc_max_leaf_nodes': 7}. Best is trial 36 with value: 0.7991573033707865.\u001b[0m\n",
      "\u001b[32m[I 2023-01-05 17:50:42,448]\u001b[0m Trial 40 finished with value: 0.7668539325842697 and parameters: {'preprocessing_n_bins_fare': 10, 'preprocessing_n_bins_age': 11, 'preprocessing_transform_skewed_features_flag': False, 'preprocessing_ohe_min_frequency': 0.015283055763585934, 'preprocessing_ohe_max_categories': 6, 'preprocessing_feature_selection_low_variance_flag': False, 'preprocessing_correlation': 0.8442053960773237, 'columnprep__transformers_num': 'StandardScaler', 'rfc_n_estimators': 4524, 'rfc_max_depth': 11, 'rfc_min_samples_split': 0.08236050599081407, 'rfc_min_samples_leaf': 0.09191388756639261, 'rfc_criterion': 'entropy', 'rfc_max_leaf_nodes': 7}. Best is trial 36 with value: 0.7991573033707865.\u001b[0m\n",
      "\u001b[32m[I 2023-01-05 17:50:52,537]\u001b[0m Trial 41 finished with value: 0.7485955056179775 and parameters: {'preprocessing_n_bins_fare': 10, 'preprocessing_n_bins_age': 11, 'preprocessing_transform_skewed_features_flag': False, 'preprocessing_ohe_min_frequency': 0.015159577712841345, 'preprocessing_ohe_max_categories': 6, 'preprocessing_feature_selection_low_variance_flag': False, 'preprocessing_correlation': 0.8457844942874715, 'columnprep__transformers_num': 'StandardScaler', 'rfc_n_estimators': 4563, 'rfc_max_depth': 11, 'rfc_min_samples_split': 0.08347578284886722, 'rfc_min_samples_leaf': 0.11993906946061186, 'rfc_criterion': 'entropy', 'rfc_max_leaf_nodes': 7}. Best is trial 36 with value: 0.7991573033707865.\u001b[0m\n",
      "\u001b[32m[I 2023-01-05 17:50:59,351]\u001b[0m Trial 42 finished with value: 0.7893258426966292 and parameters: {'preprocessing_n_bins_fare': 10, 'preprocessing_n_bins_age': 10, 'preprocessing_transform_skewed_features_flag': False, 'preprocessing_ohe_min_frequency': 0.014533478402128886, 'preprocessing_ohe_max_categories': 6, 'preprocessing_feature_selection_low_variance_flag': False, 'preprocessing_correlation': 0.9160101207442906, 'columnprep__transformers_num': 'MinMaxScaler', 'rfc_n_estimators': 2793, 'rfc_max_depth': 13, 'rfc_min_samples_split': 0.08660638196788262, 'rfc_min_samples_leaf': 0.09593637469911064, 'rfc_criterion': 'entropy', 'rfc_max_leaf_nodes': 7}. Best is trial 36 with value: 0.7991573033707865.\u001b[0m\n",
      "\u001b[32m[I 2023-01-05 17:51:09,777]\u001b[0m Trial 43 finished with value: 0.7837078651685393 and parameters: {'preprocessing_n_bins_fare': 10, 'preprocessing_n_bins_age': 10, 'preprocessing_transform_skewed_features_flag': False, 'preprocessing_ohe_min_frequency': 0.015131478070792579, 'preprocessing_ohe_max_categories': 8, 'preprocessing_feature_selection_low_variance_flag': False, 'preprocessing_correlation': 0.9130215738574599, 'columnprep__transformers_num': 'MinMaxScaler', 'rfc_n_estimators': 2666, 'rfc_max_depth': 13, 'rfc_min_samples_split': 0.08415781303659635, 'rfc_min_samples_leaf': 0.07709662285407036, 'rfc_criterion': 'entropy', 'rfc_max_leaf_nodes': 7}. Best is trial 36 with value: 0.7991573033707865.\u001b[0m\n",
      "\u001b[32m[I 2023-01-05 17:51:23,062]\u001b[0m Trial 44 finished with value: 0.7963483146067416 and parameters: {'preprocessing_n_bins_fare': 10, 'preprocessing_n_bins_age': 10, 'preprocessing_transform_skewed_features_flag': True, 'preprocessing_ohe_min_frequency': 0.015998391692056937, 'preprocessing_ohe_max_categories': 8, 'preprocessing_feature_selection_low_variance_flag': False, 'preprocessing_correlation': 0.9165791402787848, 'columnprep__transformers_num': 'MinMaxScaler', 'rfc_n_estimators': 3920, 'rfc_max_depth': 13, 'rfc_min_samples_split': 0.09930351550904615, 'rfc_min_samples_leaf': 0.07803134161677963, 'rfc_criterion': 'entropy', 'rfc_max_leaf_nodes': 7}. Best is trial 36 with value: 0.7991573033707865.\u001b[0m\n",
      "\u001b[32m[I 2023-01-05 17:51:30,238]\u001b[0m Trial 45 finished with value: 0.797752808988764 and parameters: {'preprocessing_n_bins_fare': 11, 'preprocessing_n_bins_age': 13, 'preprocessing_transform_skewed_features_flag': True, 'preprocessing_ohe_min_frequency': 0.03757129788675321, 'preprocessing_ohe_max_categories': 9, 'preprocessing_feature_selection_low_variance_flag': False, 'preprocessing_correlation': 0.9165834922533851, 'columnprep__transformers_num': 'MinMaxScaler', 'rfc_n_estimators': 2665, 'rfc_max_depth': 13, 'rfc_min_samples_split': 0.10163225475126035, 'rfc_min_samples_leaf': 0.0795199976849418, 'rfc_criterion': 'entropy', 'rfc_max_leaf_nodes': 9}. Best is trial 36 with value: 0.7991573033707865.\u001b[0m\n",
      "\u001b[32m[I 2023-01-05 17:51:43,512]\u001b[0m Trial 46 finished with value: 0.797752808988764 and parameters: {'preprocessing_n_bins_fare': 11, 'preprocessing_n_bins_age': 13, 'preprocessing_transform_skewed_features_flag': True, 'preprocessing_ohe_min_frequency': 0.0371862495819986, 'preprocessing_ohe_max_categories': 9, 'preprocessing_feature_selection_low_variance_flag': False, 'preprocessing_correlation': 0.9133012839447827, 'columnprep__transformers_num': 'MinMaxScaler', 'rfc_n_estimators': 4003, 'rfc_max_depth': 9, 'rfc_min_samples_split': 0.12405696748415582, 'rfc_min_samples_leaf': 0.08041518195865152, 'rfc_criterion': 'entropy', 'rfc_max_leaf_nodes': 9}. Best is trial 36 with value: 0.7991573033707865.\u001b[0m\n",
      "\u001b[32m[I 2023-01-05 17:51:55,306]\u001b[0m Trial 47 finished with value: 0.797752808988764 and parameters: {'preprocessing_n_bins_fare': 11, 'preprocessing_n_bins_age': 12, 'preprocessing_transform_skewed_features_flag': True, 'preprocessing_ohe_min_frequency': 0.030244524317464855, 'preprocessing_ohe_max_categories': 8, 'preprocessing_feature_selection_low_variance_flag': False, 'preprocessing_correlation': 0.9028531940816424, 'columnprep__transformers_num': 'MinMaxScaler', 'rfc_n_estimators': 3917, 'rfc_max_depth': 13, 'rfc_min_samples_split': 0.09542975558442655, 'rfc_min_samples_leaf': 0.0762709446138502, 'rfc_criterion': 'entropy', 'rfc_max_leaf_nodes': 9}. Best is trial 36 with value: 0.7991573033707865.\u001b[0m\n",
      "\u001b[32m[I 2023-01-05 17:51:58,598]\u001b[0m Trial 48 finished with value: 0.7935393258426966 and parameters: {'preprocessing_n_bins_fare': 11, 'preprocessing_n_bins_age': 13, 'preprocessing_transform_skewed_features_flag': True, 'preprocessing_ohe_min_frequency': 0.07750862328092833, 'preprocessing_ohe_max_categories': 9, 'preprocessing_feature_selection_low_variance_flag': False, 'preprocessing_correlation': 0.8734664268419127, 'columnprep__transformers_num': 'MinMaxScaler', 'rfc_n_estimators': 2027, 'rfc_max_depth': 9, 'rfc_min_samples_split': 0.12208695324722965, 'rfc_min_samples_leaf': 0.09950881874517001, 'rfc_criterion': 'entropy', 'rfc_max_leaf_nodes': 9}. Best is trial 36 with value: 0.7991573033707865.\u001b[0m\n",
      "\u001b[32m[I 2023-01-05 17:52:14,507]\u001b[0m Trial 49 finished with value: 0.7907303370786517 and parameters: {'preprocessing_n_bins_fare': 11, 'preprocessing_n_bins_age': 13, 'preprocessing_transform_skewed_features_flag': True, 'preprocessing_ohe_min_frequency': 0.07380503404719466, 'preprocessing_ohe_max_categories': 9, 'preprocessing_feature_selection_low_variance_flag': False, 'preprocessing_correlation': 0.937704282666978, 'columnprep__transformers_num': 'MinMaxScaler', 'rfc_n_estimators': 4089, 'rfc_max_depth': 10, 'rfc_min_samples_split': 0.12632273629476157, 'rfc_min_samples_leaf': 0.1330803494820311, 'rfc_criterion': 'entropy', 'rfc_max_leaf_nodes': 10}. Best is trial 36 with value: 0.7991573033707865.\u001b[0m\n"
     ]
    },
    {
     "name": "stdout",
     "output_type": "stream",
     "text": [
      "Best trial:\n",
      "0.7991573033707865\n",
      "{'preprocessing_n_bins_fare': 9, 'preprocessing_n_bins_age': 12, 'preprocessing_transform_skewed_features_flag': True, 'preprocessing_ohe_min_frequency': 0.01574855053361905, 'preprocessing_ohe_max_categories': 7, 'preprocessing_feature_selection_low_variance_flag': False, 'preprocessing_correlation': 0.9021986164565022, 'columnprep__transformers_num': 'MinMaxScaler', 'rfc_n_estimators': 3831, 'rfc_max_depth': 13, 'rfc_min_samples_split': 0.10268814237355214, 'rfc_min_samples_leaf': 0.08838216847057088, 'rfc_criterion': 'entropy', 'rfc_max_leaf_nodes': 7}\n",
      "Log best parameters\n",
      "Save best model\n",
      "Fit best model\n",
      "[Pipeline] . (step 1 of 7) Processing biningtransformer, total=   0.0s\n",
      "[Pipeline]  (step 2 of 7) Processing skewedfeaturetransformer, total=   0.0s\n",
      "[Pipeline]  (step 3 of 7) Processing onehotencodertransformer, total=   0.0s\n",
      "[Pipeline]  (step 4 of 7) Processing lowvariancetransformer, total=   0.0s\n",
      "[Pipeline]  (step 5 of 7) Processing correlationtransformer, total=   0.0s\n",
      "[Pipeline] . (step 6 of 7) Processing scalertransformer, total=   0.0s\n",
      "[Pipeline]  (step 7 of 7) Processing randomforestclassifier, total=   6.6s\n",
      "Create submission\n",
      "Predict training outcome\n",
      "Evaluate model performance\n"
     ]
    },
    {
     "data": {
      "application/vnd.plotly.v1+json": {
       "config": {
        "plotlyServerURL": "https://plot.ly"
       },
       "data": [
        {
         "mode": "markers",
         "name": "Objective Value",
         "type": "scatter",
         "x": [
          0,
          1,
          2,
          3,
          4,
          5,
          6,
          7,
          8,
          9,
          10,
          11,
          12,
          13,
          14,
          15,
          16,
          17,
          18,
          19,
          20,
          21,
          22,
          23,
          24,
          25,
          26,
          27,
          28,
          29,
          30,
          31,
          32,
          33,
          34,
          35,
          36,
          37,
          38,
          39,
          40,
          41,
          42,
          43,
          44,
          45,
          46,
          47,
          48,
          49
         ],
         "y": [
          0.7668539325842697,
          0.7457865168539326,
          0.776685393258427,
          0.7528089887640449,
          0.7219101123595506,
          0.7387640449438202,
          0.6966292134831461,
          0.7949438202247191,
          0.773876404494382,
          0.7542134831460674,
          0.773876404494382,
          0.7626404494382022,
          0.7626404494382022,
          0.7935393258426966,
          0.7921348314606742,
          0.7865168539325843,
          0.7935393258426966,
          0.797752808988764,
          0.7963483146067416,
          0.7949438202247191,
          0.7808988764044944,
          0.7851123595505618,
          0.776685393258427,
          0.7682584269662921,
          0.7682584269662921,
          0.7724719101123596,
          0.773876404494382,
          0.7893258426966292,
          0.7865168539325843,
          0.7963483146067416,
          0.7963483146067416,
          0.7963483146067416,
          0.797752808988764,
          0.797752808988764,
          0.797752808988764,
          0.797752808988764,
          0.7991573033707865,
          0.7696629213483146,
          0.773876404494382,
          0.7935393258426966,
          0.7668539325842697,
          0.7485955056179775,
          0.7893258426966292,
          0.7837078651685393,
          0.7963483146067416,
          0.797752808988764,
          0.797752808988764,
          0.797752808988764,
          0.7935393258426966,
          0.7907303370786517
         ]
        },
        {
         "name": "Best Value",
         "type": "scatter",
         "x": [
          0,
          1,
          2,
          3,
          4,
          5,
          6,
          7,
          8,
          9,
          10,
          11,
          12,
          13,
          14,
          15,
          16,
          17,
          18,
          19,
          20,
          21,
          22,
          23,
          24,
          25,
          26,
          27,
          28,
          29,
          30,
          31,
          32,
          33,
          34,
          35,
          36,
          37,
          38,
          39,
          40,
          41,
          42,
          43,
          44,
          45,
          46,
          47,
          48,
          49
         ],
         "y": [
          0.7668539325842697,
          0.7668539325842697,
          0.776685393258427,
          0.776685393258427,
          0.776685393258427,
          0.776685393258427,
          0.776685393258427,
          0.7949438202247191,
          0.7949438202247191,
          0.7949438202247191,
          0.7949438202247191,
          0.7949438202247191,
          0.7949438202247191,
          0.7949438202247191,
          0.7949438202247191,
          0.7949438202247191,
          0.7949438202247191,
          0.797752808988764,
          0.797752808988764,
          0.797752808988764,
          0.797752808988764,
          0.797752808988764,
          0.797752808988764,
          0.797752808988764,
          0.797752808988764,
          0.797752808988764,
          0.797752808988764,
          0.797752808988764,
          0.797752808988764,
          0.797752808988764,
          0.797752808988764,
          0.797752808988764,
          0.797752808988764,
          0.797752808988764,
          0.797752808988764,
          0.797752808988764,
          0.7991573033707865,
          0.7991573033707865,
          0.7991573033707865,
          0.7991573033707865,
          0.7991573033707865,
          0.7991573033707865,
          0.7991573033707865,
          0.7991573033707865,
          0.7991573033707865,
          0.7991573033707865,
          0.7991573033707865,
          0.7991573033707865,
          0.7991573033707865,
          0.7991573033707865
         ]
        }
       ],
       "layout": {
        "template": {
         "data": {
          "bar": [
           {
            "error_x": {
             "color": "#2a3f5f"
            },
            "error_y": {
             "color": "#2a3f5f"
            },
            "marker": {
             "line": {
              "color": "#E5ECF6",
              "width": 0.5
             },
             "pattern": {
              "fillmode": "overlay",
              "size": 10,
              "solidity": 0.2
             }
            },
            "type": "bar"
           }
          ],
          "barpolar": [
           {
            "marker": {
             "line": {
              "color": "#E5ECF6",
              "width": 0.5
             },
             "pattern": {
              "fillmode": "overlay",
              "size": 10,
              "solidity": 0.2
             }
            },
            "type": "barpolar"
           }
          ],
          "carpet": [
           {
            "aaxis": {
             "endlinecolor": "#2a3f5f",
             "gridcolor": "white",
             "linecolor": "white",
             "minorgridcolor": "white",
             "startlinecolor": "#2a3f5f"
            },
            "baxis": {
             "endlinecolor": "#2a3f5f",
             "gridcolor": "white",
             "linecolor": "white",
             "minorgridcolor": "white",
             "startlinecolor": "#2a3f5f"
            },
            "type": "carpet"
           }
          ],
          "choropleth": [
           {
            "colorbar": {
             "outlinewidth": 0,
             "ticks": ""
            },
            "type": "choropleth"
           }
          ],
          "contour": [
           {
            "colorbar": {
             "outlinewidth": 0,
             "ticks": ""
            },
            "colorscale": [
             [
              0,
              "#0d0887"
             ],
             [
              0.1111111111111111,
              "#46039f"
             ],
             [
              0.2222222222222222,
              "#7201a8"
             ],
             [
              0.3333333333333333,
              "#9c179e"
             ],
             [
              0.4444444444444444,
              "#bd3786"
             ],
             [
              0.5555555555555556,
              "#d8576b"
             ],
             [
              0.6666666666666666,
              "#ed7953"
             ],
             [
              0.7777777777777778,
              "#fb9f3a"
             ],
             [
              0.8888888888888888,
              "#fdca26"
             ],
             [
              1,
              "#f0f921"
             ]
            ],
            "type": "contour"
           }
          ],
          "contourcarpet": [
           {
            "colorbar": {
             "outlinewidth": 0,
             "ticks": ""
            },
            "type": "contourcarpet"
           }
          ],
          "heatmap": [
           {
            "colorbar": {
             "outlinewidth": 0,
             "ticks": ""
            },
            "colorscale": [
             [
              0,
              "#0d0887"
             ],
             [
              0.1111111111111111,
              "#46039f"
             ],
             [
              0.2222222222222222,
              "#7201a8"
             ],
             [
              0.3333333333333333,
              "#9c179e"
             ],
             [
              0.4444444444444444,
              "#bd3786"
             ],
             [
              0.5555555555555556,
              "#d8576b"
             ],
             [
              0.6666666666666666,
              "#ed7953"
             ],
             [
              0.7777777777777778,
              "#fb9f3a"
             ],
             [
              0.8888888888888888,
              "#fdca26"
             ],
             [
              1,
              "#f0f921"
             ]
            ],
            "type": "heatmap"
           }
          ],
          "heatmapgl": [
           {
            "colorbar": {
             "outlinewidth": 0,
             "ticks": ""
            },
            "colorscale": [
             [
              0,
              "#0d0887"
             ],
             [
              0.1111111111111111,
              "#46039f"
             ],
             [
              0.2222222222222222,
              "#7201a8"
             ],
             [
              0.3333333333333333,
              "#9c179e"
             ],
             [
              0.4444444444444444,
              "#bd3786"
             ],
             [
              0.5555555555555556,
              "#d8576b"
             ],
             [
              0.6666666666666666,
              "#ed7953"
             ],
             [
              0.7777777777777778,
              "#fb9f3a"
             ],
             [
              0.8888888888888888,
              "#fdca26"
             ],
             [
              1,
              "#f0f921"
             ]
            ],
            "type": "heatmapgl"
           }
          ],
          "histogram": [
           {
            "marker": {
             "pattern": {
              "fillmode": "overlay",
              "size": 10,
              "solidity": 0.2
             }
            },
            "type": "histogram"
           }
          ],
          "histogram2d": [
           {
            "colorbar": {
             "outlinewidth": 0,
             "ticks": ""
            },
            "colorscale": [
             [
              0,
              "#0d0887"
             ],
             [
              0.1111111111111111,
              "#46039f"
             ],
             [
              0.2222222222222222,
              "#7201a8"
             ],
             [
              0.3333333333333333,
              "#9c179e"
             ],
             [
              0.4444444444444444,
              "#bd3786"
             ],
             [
              0.5555555555555556,
              "#d8576b"
             ],
             [
              0.6666666666666666,
              "#ed7953"
             ],
             [
              0.7777777777777778,
              "#fb9f3a"
             ],
             [
              0.8888888888888888,
              "#fdca26"
             ],
             [
              1,
              "#f0f921"
             ]
            ],
            "type": "histogram2d"
           }
          ],
          "histogram2dcontour": [
           {
            "colorbar": {
             "outlinewidth": 0,
             "ticks": ""
            },
            "colorscale": [
             [
              0,
              "#0d0887"
             ],
             [
              0.1111111111111111,
              "#46039f"
             ],
             [
              0.2222222222222222,
              "#7201a8"
             ],
             [
              0.3333333333333333,
              "#9c179e"
             ],
             [
              0.4444444444444444,
              "#bd3786"
             ],
             [
              0.5555555555555556,
              "#d8576b"
             ],
             [
              0.6666666666666666,
              "#ed7953"
             ],
             [
              0.7777777777777778,
              "#fb9f3a"
             ],
             [
              0.8888888888888888,
              "#fdca26"
             ],
             [
              1,
              "#f0f921"
             ]
            ],
            "type": "histogram2dcontour"
           }
          ],
          "mesh3d": [
           {
            "colorbar": {
             "outlinewidth": 0,
             "ticks": ""
            },
            "type": "mesh3d"
           }
          ],
          "parcoords": [
           {
            "line": {
             "colorbar": {
              "outlinewidth": 0,
              "ticks": ""
             }
            },
            "type": "parcoords"
           }
          ],
          "pie": [
           {
            "automargin": true,
            "type": "pie"
           }
          ],
          "scatter": [
           {
            "fillpattern": {
             "fillmode": "overlay",
             "size": 10,
             "solidity": 0.2
            },
            "type": "scatter"
           }
          ],
          "scatter3d": [
           {
            "line": {
             "colorbar": {
              "outlinewidth": 0,
              "ticks": ""
             }
            },
            "marker": {
             "colorbar": {
              "outlinewidth": 0,
              "ticks": ""
             }
            },
            "type": "scatter3d"
           }
          ],
          "scattercarpet": [
           {
            "marker": {
             "colorbar": {
              "outlinewidth": 0,
              "ticks": ""
             }
            },
            "type": "scattercarpet"
           }
          ],
          "scattergeo": [
           {
            "marker": {
             "colorbar": {
              "outlinewidth": 0,
              "ticks": ""
             }
            },
            "type": "scattergeo"
           }
          ],
          "scattergl": [
           {
            "marker": {
             "colorbar": {
              "outlinewidth": 0,
              "ticks": ""
             }
            },
            "type": "scattergl"
           }
          ],
          "scattermapbox": [
           {
            "marker": {
             "colorbar": {
              "outlinewidth": 0,
              "ticks": ""
             }
            },
            "type": "scattermapbox"
           }
          ],
          "scatterpolar": [
           {
            "marker": {
             "colorbar": {
              "outlinewidth": 0,
              "ticks": ""
             }
            },
            "type": "scatterpolar"
           }
          ],
          "scatterpolargl": [
           {
            "marker": {
             "colorbar": {
              "outlinewidth": 0,
              "ticks": ""
             }
            },
            "type": "scatterpolargl"
           }
          ],
          "scatterternary": [
           {
            "marker": {
             "colorbar": {
              "outlinewidth": 0,
              "ticks": ""
             }
            },
            "type": "scatterternary"
           }
          ],
          "surface": [
           {
            "colorbar": {
             "outlinewidth": 0,
             "ticks": ""
            },
            "colorscale": [
             [
              0,
              "#0d0887"
             ],
             [
              0.1111111111111111,
              "#46039f"
             ],
             [
              0.2222222222222222,
              "#7201a8"
             ],
             [
              0.3333333333333333,
              "#9c179e"
             ],
             [
              0.4444444444444444,
              "#bd3786"
             ],
             [
              0.5555555555555556,
              "#d8576b"
             ],
             [
              0.6666666666666666,
              "#ed7953"
             ],
             [
              0.7777777777777778,
              "#fb9f3a"
             ],
             [
              0.8888888888888888,
              "#fdca26"
             ],
             [
              1,
              "#f0f921"
             ]
            ],
            "type": "surface"
           }
          ],
          "table": [
           {
            "cells": {
             "fill": {
              "color": "#EBF0F8"
             },
             "line": {
              "color": "white"
             }
            },
            "header": {
             "fill": {
              "color": "#C8D4E3"
             },
             "line": {
              "color": "white"
             }
            },
            "type": "table"
           }
          ]
         },
         "layout": {
          "annotationdefaults": {
           "arrowcolor": "#2a3f5f",
           "arrowhead": 0,
           "arrowwidth": 1
          },
          "autotypenumbers": "strict",
          "coloraxis": {
           "colorbar": {
            "outlinewidth": 0,
            "ticks": ""
           }
          },
          "colorscale": {
           "diverging": [
            [
             0,
             "#8e0152"
            ],
            [
             0.1,
             "#c51b7d"
            ],
            [
             0.2,
             "#de77ae"
            ],
            [
             0.3,
             "#f1b6da"
            ],
            [
             0.4,
             "#fde0ef"
            ],
            [
             0.5,
             "#f7f7f7"
            ],
            [
             0.6,
             "#e6f5d0"
            ],
            [
             0.7,
             "#b8e186"
            ],
            [
             0.8,
             "#7fbc41"
            ],
            [
             0.9,
             "#4d9221"
            ],
            [
             1,
             "#276419"
            ]
           ],
           "sequential": [
            [
             0,
             "#0d0887"
            ],
            [
             0.1111111111111111,
             "#46039f"
            ],
            [
             0.2222222222222222,
             "#7201a8"
            ],
            [
             0.3333333333333333,
             "#9c179e"
            ],
            [
             0.4444444444444444,
             "#bd3786"
            ],
            [
             0.5555555555555556,
             "#d8576b"
            ],
            [
             0.6666666666666666,
             "#ed7953"
            ],
            [
             0.7777777777777778,
             "#fb9f3a"
            ],
            [
             0.8888888888888888,
             "#fdca26"
            ],
            [
             1,
             "#f0f921"
            ]
           ],
           "sequentialminus": [
            [
             0,
             "#0d0887"
            ],
            [
             0.1111111111111111,
             "#46039f"
            ],
            [
             0.2222222222222222,
             "#7201a8"
            ],
            [
             0.3333333333333333,
             "#9c179e"
            ],
            [
             0.4444444444444444,
             "#bd3786"
            ],
            [
             0.5555555555555556,
             "#d8576b"
            ],
            [
             0.6666666666666666,
             "#ed7953"
            ],
            [
             0.7777777777777778,
             "#fb9f3a"
            ],
            [
             0.8888888888888888,
             "#fdca26"
            ],
            [
             1,
             "#f0f921"
            ]
           ]
          },
          "colorway": [
           "#636efa",
           "#EF553B",
           "#00cc96",
           "#ab63fa",
           "#FFA15A",
           "#19d3f3",
           "#FF6692",
           "#B6E880",
           "#FF97FF",
           "#FECB52"
          ],
          "font": {
           "color": "#2a3f5f"
          },
          "geo": {
           "bgcolor": "white",
           "lakecolor": "white",
           "landcolor": "#E5ECF6",
           "showlakes": true,
           "showland": true,
           "subunitcolor": "white"
          },
          "hoverlabel": {
           "align": "left"
          },
          "hovermode": "closest",
          "mapbox": {
           "style": "light"
          },
          "paper_bgcolor": "white",
          "plot_bgcolor": "#E5ECF6",
          "polar": {
           "angularaxis": {
            "gridcolor": "white",
            "linecolor": "white",
            "ticks": ""
           },
           "bgcolor": "#E5ECF6",
           "radialaxis": {
            "gridcolor": "white",
            "linecolor": "white",
            "ticks": ""
           }
          },
          "scene": {
           "xaxis": {
            "backgroundcolor": "#E5ECF6",
            "gridcolor": "white",
            "gridwidth": 2,
            "linecolor": "white",
            "showbackground": true,
            "ticks": "",
            "zerolinecolor": "white"
           },
           "yaxis": {
            "backgroundcolor": "#E5ECF6",
            "gridcolor": "white",
            "gridwidth": 2,
            "linecolor": "white",
            "showbackground": true,
            "ticks": "",
            "zerolinecolor": "white"
           },
           "zaxis": {
            "backgroundcolor": "#E5ECF6",
            "gridcolor": "white",
            "gridwidth": 2,
            "linecolor": "white",
            "showbackground": true,
            "ticks": "",
            "zerolinecolor": "white"
           }
          },
          "shapedefaults": {
           "line": {
            "color": "#2a3f5f"
           }
          },
          "ternary": {
           "aaxis": {
            "gridcolor": "white",
            "linecolor": "white",
            "ticks": ""
           },
           "baxis": {
            "gridcolor": "white",
            "linecolor": "white",
            "ticks": ""
           },
           "bgcolor": "#E5ECF6",
           "caxis": {
            "gridcolor": "white",
            "linecolor": "white",
            "ticks": ""
           }
          },
          "title": {
           "x": 0.05
          },
          "xaxis": {
           "automargin": true,
           "gridcolor": "white",
           "linecolor": "white",
           "ticks": "",
           "title": {
            "standoff": 15
           },
           "zerolinecolor": "white",
           "zerolinewidth": 2
          },
          "yaxis": {
           "automargin": true,
           "gridcolor": "white",
           "linecolor": "white",
           "ticks": "",
           "title": {
            "standoff": 15
           },
           "zerolinecolor": "white",
           "zerolinewidth": 2
          }
         }
        },
        "title": {
         "text": "Optimization History Plot"
        },
        "xaxis": {
         "title": {
          "text": "#Trials"
         }
        },
        "yaxis": {
         "title": {
          "text": "Objective Value"
         }
        }
       }
      }
     },
     "metadata": {},
     "output_type": "display_data"
    }
   ],
   "source": [
    "study_svm = create_new_mlrun(model_type='RandomForestClassifier')\n",
    "optuna.visualization.plot_optimization_history(study_svm)"
   ]
  },
  {
   "cell_type": "code",
   "execution_count": 24,
   "metadata": {},
   "outputs": [],
   "source": [
    "mlflow.end_run()"
   ]
  },
  {
   "cell_type": "code",
   "execution_count": 25,
   "metadata": {},
   "outputs": [],
   "source": [
    "def add_Kaggle_score(run_id, kaggle_score):\n",
    "    # show if kaggle_score is already present\n",
    "    if \"kaggle_score\" not in dict(dict(mlflow.get_run(run_id))[\"data\"])[\"metrics\"].keys():\n",
    "        # if no kaggle_score is present, start run and write kaggle_score\n",
    "        with mlflow.start_run(run_id=run_id):\n",
    "            mlflow.log_metric(\"kaggle_score\", kaggle_score)"
   ]
  },
  {
   "cell_type": "code",
   "execution_count": 26,
   "metadata": {},
   "outputs": [],
   "source": [
    "add_Kaggle_score(run_id=\"5714c08f245d4b11b7e60fdb97fe5b3e\", kaggle_score=0.77751) # GradientBoostingClassifier\n",
    "add_Kaggle_score(run_id=\"ccbfc1e05dc4483aa8c3bbea4b78952b\", kaggle_score=0.73205) # SVC\n",
    "add_Kaggle_score(run_id=\"0f8ca2d31e2643f6ac443ecc38403150\", kaggle_score=0.78229) # LogisticRegression\n",
    "add_Kaggle_score(run_id=\"c878a11f9e964567aafea50532c590b7\", kaggle_score=0.78229) # DecisionTreeClassifier"
   ]
  },
  {
   "cell_type": "code",
   "execution_count": null,
   "metadata": {},
   "outputs": [],
   "source": []
  }
 ],
 "metadata": {
  "kernelspec": {
   "display_name": "Python 3.9.12 ('mlflow_optuna')",
   "language": "python",
   "name": "python3"
  },
  "language_info": {
   "codemirror_mode": {
    "name": "ipython",
    "version": 3
   },
   "file_extension": ".py",
   "mimetype": "text/x-python",
   "name": "python",
   "nbconvert_exporter": "python",
   "pygments_lexer": "ipython3",
   "version": "3.9.12"
  },
  "orig_nbformat": 4,
  "vscode": {
   "interpreter": {
    "hash": "4aa63c7bcea9117a32328ad03333d01dc516bdcdb33b6eb92ab7a393341400f2"
   }
  }
 },
 "nbformat": 4,
 "nbformat_minor": 2
}
