{
 "cells": [
  {
   "cell_type": "code",
   "execution_count": 1,
   "metadata": {},
   "outputs": [
    {
     "name": "stdout",
     "output_type": "stream",
     "text": [
      "pandas version: 1.4.3\n",
      "numpy version: 1.23.2\n",
      "sklearn version: 1.0.2\n",
      "keras version: 2.10.0\n",
      "tensorflow version: 2.10.0\n"
     ]
    },
    {
     "name": "stderr",
     "output_type": "stream",
     "text": [
      "e:\\programs\\anaconda3\\envs\\keras_mlflow\\lib\\site-packages\\tqdm\\auto.py:22: TqdmWarning: IProgress not found. Please update jupyter and ipywidgets. See https://ipywidgets.readthedocs.io/en/stable/user_install.html\n",
      "  from .autonotebook import tqdm as notebook_tqdm\n"
     ]
    },
    {
     "name": "stdout",
     "output_type": "stream",
     "text": [
      "optuna version: 3.0.1\n",
      "mlflow version: 1.28.0\n"
     ]
    }
   ],
   "source": [
    "import pandas as pd\n",
    "print(\"pandas version: {}\". format(pd.__version__))\n",
    "\n",
    "import numpy as np\n",
    "print(\"numpy version: {}\". format(np.__version__))\n",
    "\n",
    "import sklearn\n",
    "from sklearn.model_selection import ShuffleSplit, StratifiedShuffleSplit, train_test_split\n",
    "from sklearn.metrics import precision_recall_curve, roc_curve, confusion_matrix, roc_auc_score\n",
    "print(\"sklearn version: {}\". format(sklearn.__version__))\n",
    "\n",
    "import keras\n",
    "from keras.models import Sequential\n",
    "from keras.layers import Dense, Activation, Dropout, BatchNormalization\n",
    "print(\"keras version: {}\". format(keras.__version__))\n",
    "\n",
    "import tensorflow as tf\n",
    "print(\"tensorflow version: {}\". format(tf.__version__))\n",
    "\n",
    "import optuna\n",
    "print(\"optuna version: {}\". format(optuna.__version__))\n",
    "\n",
    "import mlflow\n",
    "from mlflow.utils.mlflow_tags import MLFLOW_PARENT_RUN_ID\n",
    "from mlflow.tracking import MlflowClient\n",
    "print(\"mlflow version: {}\". format(mlflow.__version__))\n",
    "\n",
    "import matplotlib.pyplot as plt\n",
    "import seaborn as sns\n",
    "\n",
    "from datetime import datetime\n",
    "import os\n",
    "import io\n",
    "import warnings\n",
    "warnings.simplefilter('ignore')"
   ]
  },
  {
   "cell_type": "code",
   "execution_count": 2,
   "metadata": {},
   "outputs": [],
   "source": [
    "RANDOM_STATE=42\n",
    "N_TRAILS=15 # run for x runs\n",
    "TIMEOUT=600 # run for max 10 minutes (if the last run at 9 minutes runs for 1h, the active run is not killed)"
   ]
  },
  {
   "cell_type": "code",
   "execution_count": 3,
   "metadata": {},
   "outputs": [],
   "source": [
    "client = MlflowClient()\n",
    "try:\n",
    "    experiment = client.create_experiment(\"Titanic\")\n",
    "except:\n",
    "    experiment = client.get_experiment_by_name(\"Titanic\").experiment_id\n",
    "\n",
    "parent_run = client.create_run(experiment_id=experiment)"
   ]
  },
  {
   "cell_type": "code",
   "execution_count": 4,
   "metadata": {},
   "outputs": [],
   "source": [
    "def load_data():\n",
    "    # load prepared training and test dataset\n",
    "    df_train = pd.read_pickle('../03_DataPreprocessing/df_train_prepared_reduced.pkl')\n",
    "    df_test = pd.read_pickle('../03_DataPreprocessing/df_test_prepared_reduced.pkl')\n",
    "\n",
    "    # split the training and test dataset to the input features (x_train, x_test) and the survival class (y_train)\n",
    "    y_train = df_train['Survived']\n",
    "    x_train = df_train.drop(['Survived'], axis=1)\n",
    "    x_test = df_test\n",
    "\n",
    "    x_train, x_validate, y_train, y_validate = train_test_split(x_train, y_train, test_size=0.3, stratify=y_train, random_state=RANDOM_STATE)\n",
    "\n",
    "    return x_train, y_train, x_validate, y_validate, x_test\n",
    "\n",
    "x_train, y_train, x_validate, y_validate, x_test = load_data()"
   ]
  },
  {
   "cell_type": "code",
   "execution_count": 5,
   "metadata": {},
   "outputs": [],
   "source": [
    "def evaluate_model(y_validate, y_validate_pred, y_validate_scores, child_run):\n",
    "    \"\"\"\n",
    "    evaluate the classification model with\n",
    "    - classification report\n",
    "    - precision-recall-curve\n",
    "    - ROC curve\n",
    "    \"\"\"\n",
    "\n",
    "\n",
    "    def plot_confusion_matrix(y_validate, y_validate_pred):\n",
    "        group_names = [\"True Neg\", \"False Pos\", \"False Neg\", \"True Pos\"]\n",
    "        group_counts = [\"{0:0.0f}\".format(value) for value in\n",
    "                        confusion_matrix(y_validate, y_validate_pred).flatten()]\n",
    "        group_percentages = [\"{0:.2%}\".format(value) for value in\n",
    "                             confusion_matrix(y_validate, y_validate_pred).flatten()/np.sum(confusion_matrix(y_validate, y_validate_pred))]\n",
    "        labels = [f\"{v1}\\n{v2}\\n{v3}\" for v1, v2, v3 in\n",
    "                  zip(group_names,group_counts,group_percentages)]\n",
    "        labels = np.asarray(labels).reshape(2,2)\n",
    "\n",
    "        fig2, ax2 = plt.subplots()\n",
    "        sns.heatmap(confusion_matrix(y_validate, y_validate_pred), annot=labels, fmt=\"\", cmap='Blues')\n",
    "        plt.xlabel('Predicted Label')\n",
    "        plt.ylabel('True Label')\n",
    "        client.log_figure(child_run.info.run_id, fig2, 'plot_confusion_matrix.png')\n",
    "        plt.close()\n",
    "\n",
    "\n",
    "    def plot_precision_recall_vs_threshold(y_validate, y_scores, child_run):\n",
    "        precisions, recalls, thresholds = precision_recall_curve(y_validate, y_scores)\n",
    "\n",
    "        # convert to f score\n",
    "        fscore = (2 * precisions * recalls) / (precisions + recalls)\n",
    "        # locate the index of the largest f score\n",
    "        ix = np.argmax(fscore)\n",
    "        \n",
    "        client.log_metric(child_run.info.run_id, \"f1_score\", round(fscore[ix], 5))\n",
    "\n",
    "        fig3, ax3 = plt.subplots()\n",
    "        ax3.plot(thresholds, precisions[:-1], \"b\", label=\"Precision\")\n",
    "        ax3.plot(thresholds, recalls[:-1], \"g\", label=\"Recall\")\n",
    "        ax3.plot(thresholds, fscore[:-1], \"r\", label=\"F1 Score\")\n",
    "        ax3.axvline(x=thresholds[ix], color='red', linestyle='--')\n",
    "        plt.axhline(y=precisions[ix], color='b', linestyle='--')\n",
    "        plt.axhline(y=recalls[ix], color='g', linestyle='--')\n",
    "        ax3.set_xlabel(\"Threshold\")\n",
    "        ax3.legend(loc=\"upper left\")\n",
    "        ax3.set_ylim([0,1])\n",
    "        client.log_figure(child_run.info.run_id, fig3, 'plot_f1.png')\n",
    "        plt.close()\n",
    "\n",
    "        fig4, ax4 = plt.subplots()\n",
    "        ax4.plot(recalls, precisions, marker='.', label='Logistic')\n",
    "        ax4.scatter(recalls[ix], precisions[ix], 200, marker='o', color='red', label='Best')\n",
    "        ax4.set_xlabel('Recall')\n",
    "        ax4.set_ylabel('Precision')\n",
    "        client.log_figure(child_run.info.run_id, fig4, 'plot_precision_recall.png')\n",
    "        plt.close()\n",
    "        \n",
    "\n",
    "    def plot_roc_curve(y_validate, y_scores, child_run):\n",
    "        fpr, tpr, thresholds = roc_curve(y_validate, y_scores)\n",
    "\n",
    "        roc_auc = round(roc_auc_score(y_validate, y_scores), 3)\n",
    "        \n",
    "        optimal_idx = np.argmax(tpr - fpr)\n",
    "\n",
    "        fig5, ax5 = plt.subplots()\n",
    "        ax5.plot(fpr, tpr, linewidth=2)\n",
    "        ax5.plot([0,1], [0,1], 'k--')\n",
    "        ax5.axis([0,1,0,1])\n",
    "        ax5.scatter(fpr[optimal_idx], tpr[optimal_idx], 200, marker='o', color='red', label='Best')\n",
    "        ax5.set_xlabel('False Positive Rate')\n",
    "        ax5.set_ylabel('True Positive Rate')\n",
    "        client.log_figure(child_run.info.run_id, fig5, 'plot_roc_curve.png')\n",
    "        plt.close()\n",
    "\n",
    "        client.log_metric(child_run.info.run_id, \"roc_auc\", roc_auc)\n",
    "\n",
    "        \n",
    "\n",
    "    plot_confusion_matrix(y_validate, y_validate_pred)\n",
    "    plot_precision_recall_vs_threshold(y_validate, y_validate_scores, child_run)\n",
    "    plot_roc_curve(y_validate, y_validate_scores, child_run)"
   ]
  },
  {
   "cell_type": "code",
   "execution_count": 6,
   "metadata": {},
   "outputs": [],
   "source": [
    "def create_model(trial):\n",
    "\n",
    "    child_run = client.create_run(\n",
    "        experiment_id=experiment,\n",
    "        tags={\n",
    "            MLFLOW_PARENT_RUN_ID: parent_run.info.run_id\n",
    "        }\n",
    "    )\n",
    "\n",
    "\n",
    "    model = Sequential()\n",
    "    model.add(keras.Input(shape=(x_train.shape[1],)))\n",
    "\n",
    "    n_layers = trial.suggest_int('n_layers', 2, 4)\n",
    "    client.log_param(child_run.info.run_id, \"n_layers\", n_layers-1)\n",
    "\n",
    "    for layer in range(1,n_layers):\n",
    "        n_units = trial.suggest_int('n_units_'+str(layer), 2, 20)\n",
    "        client.log_param(child_run.info.run_id, 'n_units_'+str(layer), n_units)\n",
    "        activation = trial.suggest_categorical('activation_'+str(layer), ['relu', 'tanh', 'elu'])\n",
    "        client.log_param(child_run.info.run_id, 'activation_'+str(layer), activation)\n",
    "        dropout = trial.suggest_float('dropout', 0.1, 0.6, log=False)\n",
    "        client.log_param(child_run.info.run_id, 'dropout_'+str(layer), dropout)\n",
    "\n",
    "        model.add(Dense(units=n_units))\n",
    "        model.add(BatchNormalization())\n",
    "        model.add(Activation(activation))\n",
    "        model.add(Dropout(dropout))\n",
    "\n",
    "    model.add(Dense(1, activation='sigmoid'))\n",
    "\n",
    "\n",
    "    lr =  trial.suggest_float('lr', 0.001, 1, log=True)\n",
    "    client.log_param(child_run.info.run_id, 'lr', lr)\n",
    "    beta_1 = trial.suggest_float('beta_1', 0.07, 0.999, log=False)\n",
    "    client.log_param(child_run.info.run_id, 'beta_1', beta_1)\n",
    "    beta_2 = trial.suggest_float('beta_2', 0.07, 0.999, log=False)\n",
    "    client.log_param(child_run.info.run_id, 'beta_2', beta_2)\n",
    "\n",
    "    adam = keras.optimizers.Adam(\n",
    "        lr=lr,\n",
    "        beta_1=beta_1,\n",
    "        beta_2=beta_2,\n",
    "        amsgrad=False\n",
    "        )\n",
    "\n",
    "    # compile the keras model\n",
    "    model.compile(\n",
    "        loss='binary_crossentropy',\n",
    "        optimizer=adam,\n",
    "        metrics=['accuracy']\n",
    "        )\n",
    "\n",
    "    return model, child_run"
   ]
  },
  {
   "cell_type": "code",
   "execution_count": 7,
   "metadata": {},
   "outputs": [],
   "source": [
    "class Objective:\n",
    "    \n",
    "    def __init__(self):\n",
    "        self.best_model = None\n",
    "        self._model = None\n",
    "\n",
    "    \n",
    "    def __call__(self, trial):\n",
    "    \n",
    "        model, child_run = create_model(trial)\n",
    "        self._model = model\n",
    "\n",
    "        tensorboard_identifier = datetime.now().strftime('%Y-%m-%d_%H-%M-%S')\n",
    "        logdir = os.path.join('tensorboard', tensorboard_identifier)\n",
    "        client.log_param(child_run.info.run_id, \"tensorboard\", tensorboard_identifier)\n",
    "        # file_writer_cm = tf.summary.create_file_writer(logdir + '/cm')\n",
    "\n",
    "        tensorboard_callback = keras.callbacks.TensorBoard(log_dir=logdir, histogram_freq=1)\n",
    "\n",
    "\n",
    "        def log_confusion_matrix(epoch, logs):\n",
    "            y_validate_scores = model.predict(x_validate)\n",
    "            y_validate_pred = tf.greater(y_validate_scores, .5)\n",
    "\n",
    "            # con_mat = tf.math.confusion_matrix(labels=y_validate, predictions=y_validate_pred).numpy()\n",
    "            con_mat = tf.math.confusion_matrix(labels=y_validate, predictions=y_validate_pred)\n",
    "            con_mat_norm = np.around(con_mat.astype('float') / con_mat.sum(axis=1)[:, np.newaxis], decimals=2)\n",
    "\n",
    "            con_mat_df = pd.DataFrame(con_mat_norm, index=[0,1], columns=[0,1])\n",
    "\n",
    "            figure = plt.figure(figsize=(8, 8))\n",
    "            # sns.heatmap(con_mat_df, annot=True,cmap=plt.cm.Blues)\n",
    "            sns.heatmap(con_mat_df, annot=True,cmap=plt.cm.Blues)\n",
    "            plt.tight_layout()\n",
    "            plt.ylabel('True label')\n",
    "            plt.xlabel('Predicted label')\n",
    "\n",
    "            plt.close()\n",
    "\n",
    "            return figure\n",
    "\n",
    "        cm_callback = keras.callbacks.LambdaCallback(on_epoch_end=log_confusion_matrix)\n",
    "\n",
    "        # early stopping\n",
    "        earlystopping = keras.callbacks.EarlyStopping(\n",
    "            monitor='accuracy',\n",
    "            patience=50,\n",
    "            verbose=1,\n",
    "            mode='min'\n",
    "            )\n",
    "\n",
    "\n",
    "        # fit the keras model on the dataset\n",
    "        model.fit(\n",
    "            x_train, y_train,\n",
    "            epochs=500,\n",
    "            verbose=0,\n",
    "            batch_size=10,\n",
    "            callbacks=[earlystopping, tensorboard_callback],\n",
    "            validation_data=(x_validate, y_validate)\n",
    "        )\n",
    "\n",
    "\n",
    "        # evaluate the keras model\n",
    "        _, accuracy = model.evaluate(x_validate, y_validate)\n",
    "        client.log_metric(child_run.info.run_id, \"cv_score\", accuracy)\n",
    "\n",
    "        # Keras maodel predicts the probabilities instead of the classes\n",
    "        y_validate_scores = model.predict(x_validate)\n",
    "\n",
    "        # set the thresholds for the classes to 0.5 to get the prediction from the probabilities\n",
    "        y_validate_pred = tf.greater(y_validate_scores, .5)\n",
    "\n",
    "        evaluate_model(y_validate, y_validate_pred, y_validate_scores, child_run)\n",
    "\n",
    "\n",
    "\n",
    "        return accuracy\n",
    "\n",
    "    def callback(self, study, trial):\n",
    "        if study.best_trial == trial:\n",
    "            self.best_model = self._model\n"
   ]
  },
  {
   "cell_type": "code",
   "execution_count": 8,
   "metadata": {},
   "outputs": [
    {
     "name": "stderr",
     "output_type": "stream",
     "text": [
      "\u001b[32m[I 2022-12-21 16:01:36,172]\u001b[0m A new study created in memory with name: no-name-881711d0-0c45-4e58-854a-072b827898d6\u001b[0m\n"
     ]
    },
    {
     "name": "stdout",
     "output_type": "stream",
     "text": [
      "Epoch 51: early stopping\n",
      "9/9 [==============================] - 0s 11ms/step - loss: 0.4228 - accuracy: 0.8209\n",
      "9/9 [==============================] - 0s 6ms/step\n"
     ]
    },
    {
     "name": "stderr",
     "output_type": "stream",
     "text": [
      "\u001b[32m[I 2022-12-21 16:03:17,064]\u001b[0m Trial 2 finished with value: 0.8208954930305481 and parameters: {'n_layers': 3, 'n_units_1': 18, 'activation_1': 'elu', 'dropout': 0.3779191572184276, 'n_units_2': 9, 'activation_2': 'elu', 'lr': 0.0010111987333253133, 'beta_1': 0.143768801912389, 'beta_2': 0.8853502781328588}. Best is trial 2 with value: 0.8208954930305481.\u001b[0m\n"
     ]
    },
    {
     "name": "stdout",
     "output_type": "stream",
     "text": [
      "Epoch 51: early stopping\n",
      "9/9 [==============================] - 0s 11ms/step - loss: 0.4216 - accuracy: 0.8321\n",
      "9/9 [==============================] - 1s 14ms/step\n",
      "Epoch 51: early stopping\n",
      "9/9 [==============================] - 0s 14ms/step - loss: 0.4297 - accuracy: 0.8246\n",
      "Epoch 51: early stopping\n",
      "3/9 [=========>....................] - ETA: 0s"
     ]
    },
    {
     "name": "stderr",
     "output_type": "stream",
     "text": [
      "\u001b[32m[I 2022-12-21 16:03:50,690]\u001b[0m Trial 1 finished with value: 0.8320895433425903 and parameters: {'n_layers': 4, 'n_units_1': 16, 'activation_1': 'elu', 'dropout': 0.5683430274460587, 'n_units_2': 10, 'activation_2': 'elu', 'n_units_3': 12, 'activation_3': 'relu', 'lr': 0.0037239342799583195, 'beta_1': 0.7324227022960905, 'beta_2': 0.4064271364405164}. Best is trial 1 with value: 0.8320895433425903.\u001b[0m\n"
     ]
    },
    {
     "name": "stdout",
     "output_type": "stream",
     "text": [
      "9/9 [==============================] - 1s 23ms/step\n",
      "9/9 [==============================] - 0s 18ms/step - loss: 1.9799 - accuracy: 0.3843\n",
      "9/9 [==============================] - 0s 7ms/step\n"
     ]
    },
    {
     "name": "stderr",
     "output_type": "stream",
     "text": [
      "\u001b[32m[I 2022-12-21 16:03:53,029]\u001b[0m Trial 3 finished with value: 0.8246268630027771 and parameters: {'n_layers': 4, 'n_units_1': 4, 'activation_1': 'elu', 'dropout': 0.5895037358489195, 'n_units_2': 7, 'activation_2': 'relu', 'n_units_3': 12, 'activation_3': 'tanh', 'lr': 0.005747690769275089, 'beta_1': 0.12269449796367704, 'beta_2': 0.8512358165851126}. Best is trial 1 with value: 0.8320895433425903.\u001b[0m\n",
      "\u001b[32m[I 2022-12-21 16:03:53,716]\u001b[0m Trial 0 finished with value: 0.38432836532592773 and parameters: {'n_layers': 4, 'n_units_1': 15, 'activation_1': 'tanh', 'dropout': 0.2536531284787026, 'n_units_2': 18, 'activation_2': 'relu', 'n_units_3': 19, 'activation_3': 'elu', 'lr': 0.34846146998420796, 'beta_1': 0.3059587284215278, 'beta_2': 0.16876721565856231}. Best is trial 1 with value: 0.8320895433425903.\u001b[0m\n"
     ]
    },
    {
     "name": "stdout",
     "output_type": "stream",
     "text": [
      "Epoch 51: early stopping\n",
      "9/9 [==============================] - 0s 12ms/step - loss: 0.4899 - accuracy: 0.7985\n",
      "9/9 [==============================] - 0s 7ms/step\n"
     ]
    },
    {
     "name": "stderr",
     "output_type": "stream",
     "text": [
      "\u001b[32m[I 2022-12-21 16:05:13,504]\u001b[0m Trial 4 finished with value: 0.7985074520111084 and parameters: {'n_layers': 3, 'n_units_1': 9, 'activation_1': 'elu', 'dropout': 0.29750147594934895, 'n_units_2': 6, 'activation_2': 'relu', 'lr': 0.15970982734446193, 'beta_1': 0.3853410690185057, 'beta_2': 0.5811693357912586}. Best is trial 1 with value: 0.8320895433425903.\u001b[0m\n"
     ]
    },
    {
     "name": "stdout",
     "output_type": "stream",
     "text": [
      "Epoch 51: early stopping\n",
      "9/9 [==============================] - 0s 10ms/step - loss: 0.4189 - accuracy: 0.8284\n",
      "9/9 [==============================] - 0s 6ms/step\n"
     ]
    },
    {
     "name": "stderr",
     "output_type": "stream",
     "text": [
      "\u001b[32m[I 2022-12-21 16:06:12,218]\u001b[0m Trial 6 finished with value: 0.8283582329750061 and parameters: {'n_layers': 4, 'n_units_1': 16, 'activation_1': 'relu', 'dropout': 0.1934842975066838, 'n_units_2': 19, 'activation_2': 'tanh', 'n_units_3': 10, 'activation_3': 'tanh', 'lr': 0.022156683988772834, 'beta_1': 0.22350593063400473, 'beta_2': 0.9203210781045341}. Best is trial 1 with value: 0.8320895433425903.\u001b[0m\n"
     ]
    },
    {
     "name": "stdout",
     "output_type": "stream",
     "text": [
      "Epoch 101: early stopping\n",
      "9/9 [==============================] - 0s 10ms/step - loss: 0.6333 - accuracy: 0.6157\n",
      "9/9 [==============================] - 1s 6ms/step\n"
     ]
    },
    {
     "name": "stderr",
     "output_type": "stream",
     "text": [
      "\u001b[32m[I 2022-12-21 16:06:46,543]\u001b[0m Trial 5 finished with value: 0.6156716346740723 and parameters: {'n_layers': 2, 'n_units_1': 7, 'activation_1': 'tanh', 'dropout': 0.4488819880300666, 'lr': 0.21375310386529037, 'beta_1': 0.7818501873952599, 'beta_2': 0.2747653319555869}. Best is trial 1 with value: 0.8320895433425903.\u001b[0m\n"
     ]
    },
    {
     "name": "stdout",
     "output_type": "stream",
     "text": [
      "Epoch 70: early stopping\n",
      "9/9 [==============================] - 0s 13ms/step - loss: 1084458.6250 - accuracy: 0.6157\n",
      "9/9 [==============================] - 1s 7ms/step\n"
     ]
    },
    {
     "name": "stderr",
     "output_type": "stream",
     "text": [
      "\u001b[32m[I 2022-12-21 16:07:04,727]\u001b[0m Trial 7 finished with value: 0.6156716346740723 and parameters: {'n_layers': 4, 'n_units_1': 10, 'activation_1': 'elu', 'dropout': 0.4709470046803286, 'n_units_2': 14, 'activation_2': 'elu', 'n_units_3': 11, 'activation_3': 'relu', 'lr': 0.3396087698935784, 'beta_1': 0.964796220425802, 'beta_2': 0.7750375432278382}. Best is trial 1 with value: 0.8320895433425903.\u001b[0m\n"
     ]
    },
    {
     "name": "stdout",
     "output_type": "stream",
     "text": [
      "Epoch 59: early stopping\n",
      "9/9 [==============================] - 0s 16ms/step - loss: 0.6692 - accuracy: 0.6157\n",
      "9/9 [==============================] - 1s 10ms/step\n"
     ]
    },
    {
     "name": "stderr",
     "output_type": "stream",
     "text": [
      "\u001b[32m[I 2022-12-21 16:07:43,569]\u001b[0m Trial 8 finished with value: 0.6156716346740723 and parameters: {'n_layers': 4, 'n_units_1': 2, 'activation_1': 'tanh', 'dropout': 0.14632122345738033, 'n_units_2': 13, 'activation_2': 'relu', 'n_units_3': 2, 'activation_3': 'relu', 'lr': 0.4035938299156219, 'beta_1': 0.10942466587181997, 'beta_2': 0.445072843797815}. Best is trial 1 with value: 0.8320895433425903.\u001b[0m\n"
     ]
    },
    {
     "name": "stdout",
     "output_type": "stream",
     "text": [
      "Epoch 51: early stopping\n",
      "9/9 [==============================] - 0s 13ms/step - loss: 0.4229 - accuracy: 0.8321\n",
      "9/9 [==============================] - 1s 6ms/step\n"
     ]
    },
    {
     "name": "stderr",
     "output_type": "stream",
     "text": [
      "\u001b[32m[I 2022-12-21 16:08:22,288]\u001b[0m Trial 9 finished with value: 0.8320895433425903 and parameters: {'n_layers': 4, 'n_units_1': 19, 'activation_1': 'elu', 'dropout': 0.13983720885701026, 'n_units_2': 3, 'activation_2': 'relu', 'n_units_3': 14, 'activation_3': 'tanh', 'lr': 0.0023934986093148026, 'beta_1': 0.54165851190686, 'beta_2': 0.18093510265496526}. Best is trial 1 with value: 0.8320895433425903.\u001b[0m\n"
     ]
    },
    {
     "name": "stdout",
     "output_type": "stream",
     "text": [
      "Epoch 51: early stopping\n",
      "9/9 [==============================] - 0s 10ms/step - loss: 0.4233 - accuracy: 0.8321\n",
      "9/9 [==============================] - 0s 5ms/step\n"
     ]
    },
    {
     "name": "stderr",
     "output_type": "stream",
     "text": [
      "\u001b[32m[I 2022-12-21 16:08:55,079]\u001b[0m Trial 10 finished with value: 0.8320895433425903 and parameters: {'n_layers': 4, 'n_units_1': 20, 'activation_1': 'relu', 'dropout': 0.39593075007526035, 'n_units_2': 9, 'activation_2': 'tanh', 'n_units_3': 14, 'activation_3': 'elu', 'lr': 0.0292863122058019, 'beta_1': 0.1976044375875237, 'beta_2': 0.8171166867458859}. Best is trial 1 with value: 0.8320895433425903.\u001b[0m\n"
     ]
    },
    {
     "name": "stdout",
     "output_type": "stream",
     "text": [
      "Epoch 51: early stopping\n",
      "9/9 [==============================] - 0s 7ms/step - loss: 0.5320 - accuracy: 0.8358\n",
      "9/9 [==============================] - 0s 5ms/step\n"
     ]
    },
    {
     "name": "stderr",
     "output_type": "stream",
     "text": [
      "\u001b[32m[I 2022-12-21 16:09:40,916]\u001b[0m Trial 13 finished with value: 0.8358209133148193 and parameters: {'n_layers': 2, 'n_units_1': 13, 'activation_1': 'relu', 'dropout': 0.5930212250055682, 'lr': 0.016921437444966523, 'beta_1': 0.6038741027426374, 'beta_2': 0.46375704065030976}. Best is trial 13 with value: 0.8358209133148193.\u001b[0m\n"
     ]
    },
    {
     "name": "stdout",
     "output_type": "stream",
     "text": [
      "Epoch 59: early stopping\n",
      "9/9 [==============================] - 0s 11ms/step - loss: 0.9515 - accuracy: 0.6157\n",
      "9/9 [==============================] - 0s 5ms/step\n"
     ]
    },
    {
     "name": "stderr",
     "output_type": "stream",
     "text": [
      "\u001b[32m[I 2022-12-21 16:10:11,525]\u001b[0m Trial 12 finished with value: 0.6156716346740723 and parameters: {'n_layers': 4, 'n_units_1': 18, 'activation_1': 'elu', 'dropout': 0.2985476157071377, 'n_units_2': 5, 'activation_2': 'relu', 'n_units_3': 8, 'activation_3': 'tanh', 'lr': 0.45298553213259596, 'beta_1': 0.9484008114205389, 'beta_2': 0.6660456847883547}. Best is trial 13 with value: 0.8358209133148193.\u001b[0m\n"
     ]
    },
    {
     "name": "stdout",
     "output_type": "stream",
     "text": [
      "Epoch 51: early stopping\n",
      "9/9 [==============================] - 0s 8ms/step - loss: 0.4358 - accuracy: 0.8172\n",
      "9/9 [==============================] - 0s 5ms/step\n"
     ]
    },
    {
     "name": "stderr",
     "output_type": "stream",
     "text": [
      "\u001b[32m[I 2022-12-21 16:10:22,571]\u001b[0m Trial 14 finished with value: 0.8171641826629639 and parameters: {'n_layers': 3, 'n_units_1': 14, 'activation_1': 'elu', 'dropout': 0.5897613566173392, 'n_units_2': 3, 'activation_2': 'elu', 'lr': 0.0015648931714226583, 'beta_1': 0.6211998306894324, 'beta_2': 0.07487705569906473}. Best is trial 13 with value: 0.8358209133148193.\u001b[0m\n"
     ]
    },
    {
     "name": "stdout",
     "output_type": "stream",
     "text": [
      "Epoch 94: early stopping\n",
      "9/9 [==============================] - 0s 4ms/step - loss: 0.8426 - accuracy: 0.3321\n",
      "9/9 [==============================] - 0s 3ms/step\n"
     ]
    },
    {
     "name": "stderr",
     "output_type": "stream",
     "text": [
      "\u001b[32m[I 2022-12-21 16:10:28,661]\u001b[0m Trial 11 finished with value: 0.33208954334259033 and parameters: {'n_layers': 4, 'n_units_1': 10, 'activation_1': 'relu', 'dropout': 0.37945740575737663, 'n_units_2': 14, 'activation_2': 'relu', 'n_units_3': 4, 'activation_3': 'elu', 'lr': 0.48449485245617707, 'beta_1': 0.6353848847220178, 'beta_2': 0.44247648956535984}. Best is trial 13 with value: 0.8358209133148193.\u001b[0m\n"
     ]
    },
    {
     "name": "stdout",
     "output_type": "stream",
     "text": [
      "Study statistics: \n",
      "Number of finished trials:  15\n",
      "Best trial:\n",
      "0.8358209133148193\n",
      "{'n_layers': 2, 'n_units_1': 13, 'activation_1': 'relu', 'dropout': 0.5930212250055682, 'lr': 0.016921437444966523, 'beta_1': 0.6038741027426374, 'beta_2': 0.46375704065030976}\n"
     ]
    }
   ],
   "source": [
    "objective = Objective()\n",
    "\n",
    "study = optuna.create_study(direction=\"maximize\")\n",
    "\n",
    "study.optimize(\n",
    "  objective,\n",
    "  n_trials=N_TRAILS,\n",
    "  timeout=TIMEOUT,\n",
    "  n_jobs=-1,\n",
    "  callbacks=[objective.callback]\n",
    "  )\n",
    "\n",
    "print(\"Study statistics: \")\n",
    "print(\"Number of finished trials: \", len(study.trials))\n",
    "\n",
    "print(\"Best trial:\")\n",
    "print(study.best_value)\n",
    "print(study.best_params)\n",
    "\n",
    "client.log_metric(parent_run.info.run_id, \"best_cv_score\", round(study.best_value, 3))\n",
    "\n",
    "for param in study.best_params:\n",
    "  client.log_param(parent_run.info.run_id, param, study.best_params[param])\n",
    "\n",
    "\n",
    "mlflow.end_run()"
   ]
  },
  {
   "cell_type": "code",
   "execution_count": null,
   "metadata": {},
   "outputs": [],
   "source": []
  }
 ],
 "metadata": {
  "kernelspec": {
   "display_name": "Python 3.10.4 ('keras_mlflow')",
   "language": "python",
   "name": "python3"
  },
  "language_info": {
   "codemirror_mode": {
    "name": "ipython",
    "version": 3
   },
   "file_extension": ".py",
   "mimetype": "text/x-python",
   "name": "python",
   "nbconvert_exporter": "python",
   "pygments_lexer": "ipython3",
   "version": "3.10.4"
  },
  "orig_nbformat": 4,
  "vscode": {
   "interpreter": {
    "hash": "cef7139f413ee8669f71b8d6b763807270aeae07ebea74ef0e203b1537bbec5c"
   }
  }
 },
 "nbformat": 4,
 "nbformat_minor": 2
}
