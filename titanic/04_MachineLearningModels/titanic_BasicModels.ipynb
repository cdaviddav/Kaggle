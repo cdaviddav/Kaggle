{
 "cells": [
  {
   "cell_type": "markdown",
   "metadata": {},
   "source": [
    "# Build basic ML models incl. pipeline and validation strategy\n",
    "Build , test and evaluate multiple basic ML models regarding\n",
    "- which kinds of models have the best performance?\n",
    "- which metrics are requested by the Kaggle competition?\n",
    "- which settings in the data preprocessing stage increate the model performance?\n",
    "- which validation strategy works the best?"
   ]
  },
  {
   "cell_type": "code",
   "execution_count": 42,
   "metadata": {},
   "outputs": [
    {
     "name": "stdout",
     "output_type": "stream",
     "text": [
      "pandas version: 1.4.3\n",
      "numpy version: 1.21.5\n",
      "sklearn version: 1.1.1\n",
      "optuna version: 2.10.1\n",
      "mlflow version: 1.28.0\n"
     ]
    }
   ],
   "source": [
    "import pandas as pd\n",
    "print(\"pandas version: {}\". format(pd.__version__))\n",
    "\n",
    "# numpy: support for large, multi-dimensional arrays and matrices and high-level mathematical functions\n",
    "import numpy as np\n",
    "print(\"numpy version: {}\". format(np.__version__))\n",
    "\n",
    "import sklearn\n",
    "from sklearn.preprocessing import StandardScaler, MinMaxScaler\n",
    "from sklearn.linear_model import LogisticRegression\n",
    "from sklearn.tree import DecisionTreeClassifier\n",
    "from sklearn.ensemble import ExtraTreesClassifier, GradientBoostingClassifier, RandomForestClassifier\n",
    "from sklearn.svm import SVC\n",
    "from sklearn.compose import ColumnTransformer\n",
    "from sklearn.pipeline import Pipeline\n",
    "from sklearn.decomposition import PCA\n",
    "from sklearn.model_selection import ShuffleSplit, StratifiedShuffleSplit, train_test_split, cross_val_score, learning_curve\n",
    "from sklearn.feature_selection import VarianceThreshold\n",
    "from sklearn.metrics import precision_recall_curve, roc_curve, confusion_matrix, roc_auc_score\n",
    "print(\"sklearn version: {}\". format(sklearn.__version__))\n",
    "\n",
    "import optuna\n",
    "print(\"optuna version: {}\". format(optuna.__version__))\n",
    "\n",
    "import mlflow\n",
    "from mlflow.utils.mlflow_tags import MLFLOW_PARENT_RUN_ID\n",
    "from mlflow.tracking import MlflowClient\n",
    "print(\"mlflow version: {}\". format(mlflow.__version__))\n",
    "\n",
    "import matplotlib.pyplot as plt\n",
    "import seaborn as sns\n",
    "\n",
    "from datetime import datetime\n",
    "import warnings\n",
    "warnings.simplefilter('ignore')\n",
    "\n",
    "\n",
    "import yaml\n",
    "with open('ml_parameter.yaml') as file:\n",
    "  config_data= yaml.safe_load(file)"
   ]
  },
  {
   "cell_type": "code",
   "execution_count": 43,
   "metadata": {},
   "outputs": [],
   "source": [
    "client = MlflowClient()\n",
    "try:\n",
    "    experiment = client.create_experiment(config_data[\"experiment_name\"])\n",
    "except:\n",
    "    experiment = client.get_experiment_by_name(config_data[\"experiment_name\"]).experiment_id\n",
    "\n",
    "parent_run = client.create_run(experiment_id=experiment)"
   ]
  },
  {
   "cell_type": "code",
   "execution_count": 44,
   "metadata": {},
   "outputs": [],
   "source": [
    "def load_data():\n",
    "    # load prepared training and test dataset\n",
    "    df_train = pd.read_pickle(config_data['path_df_train'])\n",
    "    df_test = pd.read_pickle(config_data['path_df_test'])\n",
    "\n",
    "    # split the training and test dataset to the input features (x_train, x_test) and the survival class (y_train)\n",
    "    y_train = df_train['Survived']\n",
    "    x_train = df_train.drop(['Survived'], axis=1)\n",
    "    x_test = df_test\n",
    "\n",
    "    x_train, x_validate, y_train, y_validate = train_test_split(x_train, y_train, test_size=0.3, stratify = y_train, random_state = 42)\n",
    "\n",
    "    return x_train, y_train, x_validate, y_validate, x_test\n",
    "\n",
    "x_train, y_train, x_validate, y_validate, x_test = load_data()"
   ]
  },
  {
   "cell_type": "code",
   "execution_count": 45,
   "metadata": {},
   "outputs": [],
   "source": [
    "# only scale the features that are not one-hot-encoded [0,1]\n",
    "transformer_num = [\n",
    "    \"Pclass\",\n",
    "    \"SibSp\",\n",
    "    \"Parch\",\n",
    "    \"Family\",\n",
    "    \"TNlen\",\n",
    "    \"LeadingDigit\",\n",
    "    \"Fare_bin\",\n",
    "    \"Age_bin\",\n",
    "    ]\n",
    "\n",
    "\n",
    "\n",
    "# define cross validation\n",
    "cv = ShuffleSplit(\n",
    "    n_splits = 5,\n",
    "    test_size = 0.3,\n",
    "    train_size = 0.7,\n",
    "    random_state = config_data[\"RANDOM_STATE\"]\n",
    "    )"
   ]
  },
  {
   "cell_type": "code",
   "execution_count": 46,
   "metadata": {},
   "outputs": [],
   "source": [
    "def create_model(trial):   \n",
    "\n",
    "    child_run = client.create_run(\n",
    "        experiment_id=experiment,\n",
    "        tags={\n",
    "            MLFLOW_PARENT_RUN_ID: parent_run.info.run_id\n",
    "        }\n",
    "    )\n",
    "\n",
    "\n",
    "\n",
    "    ''' columnprep '''\n",
    "    columnprep__transformers_num = trial.suggest_categorical(\"columnprep__transformers_num\", [\"StandardScaler\", \"MinMaxScaler\"])\n",
    "\n",
    "    if columnprep__transformers_num == \"StandardScaler\":\n",
    "        col_transform = ColumnTransformer(\n",
    "                    transformers=[\n",
    "                        ('num', StandardScaler(), transformer_num)\n",
    "                    ], remainder='passthrough'\n",
    "                )\n",
    "    elif columnprep__transformers_num == \"MinMaxScaler\":\n",
    "        col_transform = ColumnTransformer(\n",
    "            transformers=[\n",
    "                ('num', MinMaxScaler(), transformer_num)\n",
    "            ], remainder='passthrough'\n",
    "        )\n",
    "\n",
    "\n",
    "\n",
    "    ''' algo '''\n",
    "    model_type = trial.suggest_categorical('model_type',\n",
    "        [\n",
    "            'svm',\n",
    "            'logistic-regression',\n",
    "            'decision-tree'\n",
    "            ]\n",
    "        )\n",
    "\n",
    "\n",
    "    if model_type == 'svm':\n",
    "        svm_kernel = trial.suggest_categorical('svm_kernel', config_data[\"svm_kernel\"])\n",
    "        svm_C = trial.suggest_float('svm_C', config_data[\"svm_C\"][0], config_data[\"svm_C\"][1], log=True)\n",
    "        svm_degree = trial.suggest_discrete_uniform('svm_degree', config_data[\"svm_degree\"][0], config_data[\"svm_degree\"][1], config_data[\"svm_degree\"][2])\n",
    "        \n",
    "        model = SVC(\n",
    "            kernel=svm_kernel,\n",
    "            C=svm_C,\n",
    "            degree=svm_degree,\n",
    "            probability=True,\n",
    "            random_state=config_data[\"RANDOM_STATE\"]\n",
    "        )\n",
    "\n",
    "        client.log_param(child_run.info.run_id, \"svm_kernel\", svm_kernel)\n",
    "        client.log_param(child_run.info.run_id, \"svm_C\", svm_C)\n",
    "        client.log_param(child_run.info.run_id, \"svm_degree\", svm_degree)\n",
    "    \n",
    "\n",
    "    if model_type == 'logistic-regression':\n",
    "        lr_C = trial.suggest_float(\"lr_C\", config_data[\"lr_C\"][0], config_data[\"lr_C\"][1], log=True)\n",
    "        lr_penalty = trial.suggest_categorical('lr_penalty', config_data[\"lr_penalty\"])\n",
    "        if lr_penalty == 'l1':\n",
    "            lr_solver = 'saga'\n",
    "        else:\n",
    "            lr_solver = 'lbfgs'\n",
    "        \n",
    "        model = LogisticRegression(\n",
    "            C=lr_C,\n",
    "            penalty=lr_penalty,\n",
    "            solver=lr_solver,\n",
    "            random_state=config_data[\"RANDOM_STATE\"],\n",
    "            n_jobs=-1\n",
    "        )\n",
    "\n",
    "        client.log_param(child_run.info.run_id, \"lr_C\", lr_C)\n",
    "        client.log_param(child_run.info.run_id, \"lr_penalty\", lr_penalty)\n",
    "        client.log_param(child_run.info.run_id, \"lr_solver\", lr_solver)\n",
    "\n",
    "\n",
    "    if model_type == 'decision-tree':\n",
    "        dt_max_depth = trial.suggest_int('dt_max_depth', config_data[\"dt_max_depth\"][0], x_train.shape[1])\n",
    "        dt_criterion = trial.suggest_categorical(\"dt_criterion\", config_data[\"dt_criterion\"])\n",
    "        dt_max_leaf_nodes = trial.suggest_int(\"dt_max_leaf_nodes\", config_data[\"dt_max_leaf_nodes\"][0], config_data[\"dt_max_leaf_nodes\"][1])\n",
    "        \n",
    "        model = DecisionTreeClassifier(\n",
    "            max_depth=dt_max_depth,\n",
    "            criterion=dt_criterion,\n",
    "            max_leaf_nodes=dt_max_leaf_nodes,\n",
    "            random_state=config_data[\"RANDOM_STATE\"]\n",
    "          )\n",
    "    \n",
    "        client.log_param(child_run.info.run_id, \"dt_max_depth\", dt_max_depth)\n",
    "        client.log_param(child_run.info.run_id, \"dt_criterion\", dt_criterion)\n",
    "        client.log_param(child_run.info.run_id, \"dt_max_leaf_nodes\", dt_max_leaf_nodes)\n",
    "\n",
    "\n",
    "\n",
    "\n",
    "    ''' create pipeline '''\n",
    "    client.log_param(child_run.info.run_id, \"algo\", model.__class__.__name__)\n",
    "\n",
    "\n",
    "    pipeline = Pipeline(steps=[\n",
    "        ('columnprep', col_transform),\n",
    "        ('algo', model)\n",
    "    ])\n",
    "\n",
    "            \n",
    "    return pipeline, child_run"
   ]
  },
  {
   "cell_type": "code",
   "execution_count": 47,
   "metadata": {},
   "outputs": [],
   "source": [
    "def evaluate_model(x_train, y_train, y_validate, y_validate_pred, y_validate_scores, pipeline, child_run):\n",
    "    \"\"\"\n",
    "    evaluate the classification model with\n",
    "    - classification report\n",
    "    - precision-recall-curve\n",
    "    - ROC curve\n",
    "    \"\"\"\n",
    "\n",
    "    def plot_learning_curve(pipeline, x_train, y_train):\n",
    "\n",
    "        train_sizes, train_scores, test_scores = learning_curve(\n",
    "            pipeline,\n",
    "            x_train,\n",
    "            y_train,\n",
    "            cv=5,\n",
    "            n_jobs=-1,\n",
    "            train_sizes=np.linspace(.1, 1.0, 8)\n",
    "            )\n",
    "\n",
    "\n",
    "        fig1, ax1 = plt.subplots()\n",
    "        ax1.set_xlabel(\"Training examples\")\n",
    "        ax1.set_ylabel(\"Score\")\n",
    "        train_scores_mean = np.mean(train_scores, axis=1)\n",
    "        train_scores_std = np.std(train_scores, axis=1)\n",
    "        test_scores_mean = np.mean(test_scores, axis=1)\n",
    "        test_scores_std = np.std(test_scores, axis=1)\n",
    "        ax1.grid()\n",
    "\n",
    "        ax1.fill_between(train_sizes, train_scores_mean - train_scores_std,\n",
    "                        train_scores_mean + train_scores_std, alpha=0.1,\n",
    "                        color=\"r\")\n",
    "        ax1.fill_between(train_sizes, test_scores_mean - test_scores_std,\n",
    "                        test_scores_mean + test_scores_std, alpha=0.1, color=\"g\")\n",
    "        ax1.plot(train_sizes, train_scores_mean, 'o-', color=\"r\",\n",
    "                label=\"Training score\")\n",
    "        ax1.plot(train_sizes, test_scores_mean, 'o-', color=\"g\",\n",
    "                label=\"Cross-validation score\")\n",
    "\n",
    "        ax1.legend(loc=\"best\")\n",
    "        ax1.set_title(\"Difference between training and CV: \"\\\n",
    "            + str(round(test_scores_mean[7] / train_scores_mean[7] * 100, 2))\\\n",
    "            + \"%\")\n",
    "        client.log_figure(child_run.info.run_id, fig1, 'plot_learning_curve.png')\n",
    "        plt.close()\n",
    "\n",
    "\n",
    "    def plot_confusion_matrix(y_validate, y_validate_pred):\n",
    "        group_names = [\"True Neg\", \"False Pos\", \"False Neg\", \"True Pos\"]\n",
    "        group_counts = [\"{0:0.0f}\".format(value) for value in\n",
    "                        confusion_matrix(y_validate, y_validate_pred).flatten()]\n",
    "        group_percentages = [\"{0:.2%}\".format(value) for value in\n",
    "                             confusion_matrix(y_validate, y_validate_pred).flatten()/np.sum(confusion_matrix(y_validate, y_validate_pred))]\n",
    "        labels = [f\"{v1}\\n{v2}\\n{v3}\" for v1, v2, v3 in\n",
    "                  zip(group_names,group_counts,group_percentages)]\n",
    "        labels = np.asarray(labels).reshape(2,2)\n",
    "\n",
    "        fig2, ax2 = plt.subplots()\n",
    "        sns.heatmap(confusion_matrix(y_validate, y_validate_pred), annot=labels, fmt=\"\", cmap='Blues')\n",
    "        plt.xlabel('Predicted Label')\n",
    "        plt.ylabel('True Label')\n",
    "        client.log_figure(child_run.info.run_id, fig2, 'plot_confusion_matrix.png')\n",
    "        plt.close()\n",
    "\n",
    "\n",
    "    def plot_precision_recall_vs_threshold(y_validate, y_scores, child_run):\n",
    "        precisions, recalls, thresholds = precision_recall_curve(y_validate, y_scores)\n",
    "\n",
    "        # convert to f score\n",
    "        fscore = (2 * precisions * recalls) / (precisions + recalls)\n",
    "        # locate the index of the largest f score\n",
    "        ix = np.argmax(fscore)\n",
    "        \n",
    "        client.log_metric(child_run.info.run_id, \"f1_score\", round(fscore[ix], 5))\n",
    "\n",
    "        fig3, ax3 = plt.subplots()\n",
    "        ax3.plot(thresholds, precisions[:-1], \"b\", label=\"Precision\")\n",
    "        ax3.plot(thresholds, recalls[:-1], \"g\", label=\"Recall\")\n",
    "        ax3.plot(thresholds, fscore[:-1], \"r\", label=\"F1 Score\")\n",
    "        ax3.axvline(x=thresholds[ix], color='red', linestyle='--')\n",
    "        plt.axhline(y=precisions[ix], color='b', linestyle='--')\n",
    "        plt.axhline(y=recalls[ix], color='g', linestyle='--')\n",
    "        ax3.set_xlabel(\"Threshold\")\n",
    "        ax3.legend(loc=\"upper left\")\n",
    "        ax3.set_ylim([0,1])\n",
    "        client.log_figure(child_run.info.run_id, fig3, 'plot_f1.png')\n",
    "        plt.close()\n",
    "\n",
    "        fig4, ax4 = plt.subplots()\n",
    "        ax4.plot(recalls, precisions, marker='.', label='Logistic')\n",
    "        ax4.scatter(recalls[ix], precisions[ix], 200, marker='o', color='red', label='Best')\n",
    "        ax4.set_xlabel('Recall')\n",
    "        ax4.set_ylabel('Precision')\n",
    "        client.log_figure(child_run.info.run_id, fig4, 'plot_precision_recall.png')\n",
    "        plt.close()\n",
    "        \n",
    "\n",
    "    def plot_roc_curve(y_validate, y_scores, child_run):\n",
    "        fpr, tpr, thresholds = roc_curve(y_validate, y_scores)\n",
    "\n",
    "        roc_auc = round(roc_auc_score(y_validate, y_scores), 3)\n",
    "        \n",
    "        optimal_idx = np.argmax(tpr - fpr)\n",
    "\n",
    "        fig5, ax5 = plt.subplots()\n",
    "        ax5.plot(fpr, tpr, linewidth=2)\n",
    "        ax5.plot([0,1], [0,1], 'k--')\n",
    "        ax5.axis([0,1,0,1])\n",
    "        ax5.scatter(fpr[optimal_idx], tpr[optimal_idx], 200, marker='o', color='red', label='Best')\n",
    "        ax5.set_xlabel('False Positive Rate')\n",
    "        ax5.set_ylabel('True Positive Rate')\n",
    "        client.log_figure(child_run.info.run_id, fig5, 'plot_roc_curve.png')\n",
    "        plt.close()\n",
    "\n",
    "        client.log_metric(child_run.info.run_id, \"roc_auc\", roc_auc)\n",
    "\n",
    "        \n",
    "\n",
    "    plot_confusion_matrix(y_validate, y_validate_pred)\n",
    "    plot_precision_recall_vs_threshold(y_validate, y_validate_scores, child_run)\n",
    "    plot_roc_curve(y_validate, y_validate_scores, child_run)\n",
    "    plot_learning_curve(pipeline, x_train, y_train)"
   ]
  },
  {
   "cell_type": "code",
   "execution_count": 48,
   "metadata": {},
   "outputs": [],
   "source": [
    "class Objective:\n",
    "    \n",
    "    def __init__(self):\n",
    "        self.best_model = None\n",
    "        self._model = None\n",
    "\n",
    "    \n",
    "    def __call__(self, trial):\n",
    "    \n",
    "        pipeline, child_run = create_model(trial)\n",
    "\n",
    "        score = cross_val_score(\n",
    "            pipeline,\n",
    "            x_train,\n",
    "            y_train,\n",
    "            cv=cv,\n",
    "            scoring=\"accuracy\",\n",
    "            n_jobs=-1\n",
    "        ).mean()\n",
    "\n",
    "        client.log_metric(child_run.info.run_id, \"cv_score\", score)\n",
    "\n",
    "\n",
    "        # fit the pipeline to compute the validation results\n",
    "        pipeline.fit(x_train, y_train)\n",
    "        self._model = pipeline\n",
    "\n",
    "        # predict the training outcome\n",
    "        y_validate_pred = pipeline.predict(x_validate)\n",
    "\n",
    "        # predict probabilities\n",
    "        y_validate_proba = pipeline.predict_proba(x_validate)\n",
    "        # keep probabilities for the positive outcome only\n",
    "        y_validate_scores = y_validate_proba[:, 1]\n",
    "\n",
    "        evaluate_model(x_train, y_train, y_validate, y_validate_pred, y_validate_scores, pipeline, child_run)\n",
    "\n",
    "\n",
    "        return score\n",
    "\n",
    "    def callback(self, study, trial):\n",
    "        if study.best_trial == trial:\n",
    "            self.best_model = self._model\n"
   ]
  },
  {
   "cell_type": "code",
   "execution_count": 49,
   "metadata": {},
   "outputs": [],
   "source": [
    "def create_submission(best_model, x_test, name=None):\n",
    "    # predict the test values with the training classification model\n",
    "    y_pred = best_model.predict(x_test).astype(int)\n",
    "    \n",
    "    df_submission = pd.read_csv(\"../01_RawData/gender_submission.csv\")\n",
    "    df_submission['Survived'] = y_pred\n",
    "    \n",
    "    if name == None:\n",
    "        df_submission.to_csv('submissions/%s.csv'%parent_run.info.run_id, index=False)\n",
    "    else:\n",
    "        df_submission.to_csv('submissions/%s.csv'%name, index=False)\n"
   ]
  },
  {
   "cell_type": "code",
   "execution_count": 50,
   "metadata": {},
   "outputs": [
    {
     "name": "stderr",
     "output_type": "stream",
     "text": [
      "\u001b[32m[I 2022-10-18 21:09:52,089]\u001b[0m A new study created in memory with name: no-name-3d8adceb-3ce6-4f18-86f8-b08f26e558aa\u001b[0m\n",
      "\u001b[32m[I 2022-10-18 21:09:54,384]\u001b[0m Trial 0 finished with value: 0.8128342245989305 and parameters: {'columnprep__transformers_num': 'StandardScaler', 'model_type': 'decision-tree', 'dt_max_depth': 13, 'dt_criterion': 'gini', 'dt_max_leaf_nodes': 5}. Best is trial 0 with value: 0.8128342245989305.\u001b[0m\n",
      "\u001b[32m[I 2022-10-18 21:09:54,960]\u001b[0m Trial 2 finished with value: 0.8352941176470589 and parameters: {'columnprep__transformers_num': 'StandardScaler', 'model_type': 'decision-tree', 'dt_max_depth': 16, 'dt_criterion': 'entropy', 'dt_max_leaf_nodes': 9}. Best is trial 2 with value: 0.8352941176470589.\u001b[0m\n",
      "\u001b[32m[I 2022-10-18 21:09:56,923]\u001b[0m Trial 3 finished with value: 0.8310160427807487 and parameters: {'columnprep__transformers_num': 'MinMaxScaler', 'model_type': 'logistic-regression', 'lr_C': 107.89050384952444, 'lr_penalty': 'l1'}. Best is trial 2 with value: 0.8352941176470589.\u001b[0m\n",
      "\u001b[32m[I 2022-10-18 21:09:57,081]\u001b[0m Trial 5 finished with value: 0.8267379679144383 and parameters: {'columnprep__transformers_num': 'StandardScaler', 'model_type': 'decision-tree', 'dt_max_depth': 7, 'dt_criterion': 'gini', 'dt_max_leaf_nodes': 8}. Best is trial 2 with value: 0.8352941176470589.\u001b[0m\n",
      "\u001b[32m[I 2022-10-18 21:09:57,574]\u001b[0m Trial 4 finished with value: 0.797860962566845 and parameters: {'columnprep__transformers_num': 'StandardScaler', 'model_type': 'svm', 'svm_kernel': 'poly', 'svm_C': 40.517910525701765, 'svm_degree': 5.0}. Best is trial 2 with value: 0.8352941176470589.\u001b[0m\n",
      "\u001b[32m[I 2022-10-18 21:09:58,097]\u001b[0m Trial 1 finished with value: 0.8310160427807487 and parameters: {'columnprep__transformers_num': 'MinMaxScaler', 'model_type': 'logistic-regression', 'lr_C': 375.7961174688677, 'lr_penalty': 'l1'}. Best is trial 2 with value: 0.8352941176470589.\u001b[0m\n",
      "\u001b[32m[I 2022-10-18 21:10:01,424]\u001b[0m Trial 6 finished with value: 0.8320855614973262 and parameters: {'columnprep__transformers_num': 'StandardScaler', 'model_type': 'logistic-regression', 'lr_C': 4.941348412544302, 'lr_penalty': 'l2'}. Best is trial 2 with value: 0.8352941176470589.\u001b[0m\n",
      "\u001b[32m[I 2022-10-18 21:10:01,779]\u001b[0m Trial 8 finished with value: 0.8427807486631016 and parameters: {'columnprep__transformers_num': 'MinMaxScaler', 'model_type': 'svm', 'svm_kernel': 'linear', 'svm_C': 3.116740293548292, 'svm_degree': 5.0}. Best is trial 8 with value: 0.8427807486631016.\u001b[0m\n",
      "\u001b[32m[I 2022-10-18 21:10:04,021]\u001b[0m Trial 9 finished with value: 0.8299465240641712 and parameters: {'columnprep__transformers_num': 'MinMaxScaler', 'model_type': 'logistic-regression', 'lr_C': 15.437375979497673, 'lr_penalty': 'l1'}. Best is trial 8 with value: 0.8427807486631016.\u001b[0m\n",
      "\u001b[32m[I 2022-10-18 21:10:05,917]\u001b[0m Trial 12 finished with value: 0.7871657754010696 and parameters: {'columnprep__transformers_num': 'MinMaxScaler', 'model_type': 'decision-tree', 'dt_max_depth': 11, 'dt_criterion': 'entropy', 'dt_max_leaf_nodes': 3}. Best is trial 8 with value: 0.8427807486631016.\u001b[0m\n",
      "\u001b[32m[I 2022-10-18 21:10:08,222]\u001b[0m Trial 10 finished with value: 0.8310160427807487 and parameters: {'columnprep__transformers_num': 'MinMaxScaler', 'model_type': 'logistic-regression', 'lr_C': 370.8586503016314, 'lr_penalty': 'l1'}. Best is trial 8 with value: 0.8427807486631016.\u001b[0m\n",
      "\u001b[32m[I 2022-10-18 21:10:09,264]\u001b[0m Trial 11 finished with value: 0.8331550802139038 and parameters: {'columnprep__transformers_num': 'StandardScaler', 'model_type': 'logistic-regression', 'lr_C': 167.28324786443764, 'lr_penalty': 'l1'}. Best is trial 8 with value: 0.8427807486631016.\u001b[0m\n",
      "\u001b[32m[I 2022-10-18 21:10:16,320]\u001b[0m Trial 7 finished with value: 0.8417112299465241 and parameters: {'columnprep__transformers_num': 'StandardScaler', 'model_type': 'svm', 'svm_kernel': 'linear', 'svm_C': 86.41255907399628, 'svm_degree': 3.0}. Best is trial 8 with value: 0.8427807486631016.\u001b[0m\n",
      "\u001b[32m[I 2022-10-18 21:10:16,852]\u001b[0m Trial 13 finished with value: 0.8427807486631016 and parameters: {'columnprep__transformers_num': 'MinMaxScaler', 'model_type': 'svm', 'svm_kernel': 'linear', 'svm_C': 1.1804520089454875, 'svm_degree': 4.0}. Best is trial 8 with value: 0.8427807486631016.\u001b[0m\n",
      "\u001b[32m[I 2022-10-18 21:10:18,062]\u001b[0m Trial 14 finished with value: 0.8427807486631016 and parameters: {'columnprep__transformers_num': 'StandardScaler', 'model_type': 'svm', 'svm_kernel': 'linear', 'svm_C': 1.6995628111738905, 'svm_degree': 2.0}. Best is trial 8 with value: 0.8427807486631016.\u001b[0m\n",
      "\u001b[32m[I 2022-10-18 21:10:19,037]\u001b[0m Trial 15 finished with value: 0.8427807486631016 and parameters: {'columnprep__transformers_num': 'StandardScaler', 'model_type': 'svm', 'svm_kernel': 'linear', 'svm_C': 1.0307895343082767, 'svm_degree': 5.0}. Best is trial 8 with value: 0.8427807486631016.\u001b[0m\n",
      "\u001b[32m[I 2022-10-18 21:10:19,713]\u001b[0m Trial 16 finished with value: 0.8427807486631016 and parameters: {'columnprep__transformers_num': 'MinMaxScaler', 'model_type': 'svm', 'svm_kernel': 'linear', 'svm_C': 1.0358477187415724, 'svm_degree': 3.0}. Best is trial 8 with value: 0.8427807486631016.\u001b[0m\n",
      "\u001b[32m[I 2022-10-18 21:10:20,099]\u001b[0m Trial 17 finished with value: 0.8427807486631016 and parameters: {'columnprep__transformers_num': 'MinMaxScaler', 'model_type': 'svm', 'svm_kernel': 'linear', 'svm_C': 1.0912242111314785, 'svm_degree': 5.0}. Best is trial 8 with value: 0.8427807486631016.\u001b[0m\n",
      "\u001b[32m[I 2022-10-18 21:10:21,086]\u001b[0m Trial 18 finished with value: 0.8427807486631016 and parameters: {'columnprep__transformers_num': 'MinMaxScaler', 'model_type': 'svm', 'svm_kernel': 'rbf', 'svm_C': 1.1597400289681197, 'svm_degree': 5.0}. Best is trial 8 with value: 0.8427807486631016.\u001b[0m\n",
      "\u001b[32m[I 2022-10-18 21:10:22,807]\u001b[0m Trial 19 finished with value: 0.8224598930481284 and parameters: {'columnprep__transformers_num': 'MinMaxScaler', 'model_type': 'svm', 'svm_kernel': 'rbf', 'svm_C': 5.782293191585222, 'svm_degree': 4.0}. Best is trial 8 with value: 0.8427807486631016.\u001b[0m\n",
      "\u001b[32m[I 2022-10-18 21:10:23,328]\u001b[0m Trial 20 finished with value: 0.7347593582887699 and parameters: {'columnprep__transformers_num': 'MinMaxScaler', 'model_type': 'svm', 'svm_kernel': 'sigmoid', 'svm_C': 7.37337186637279, 'svm_degree': 1.0}. Best is trial 8 with value: 0.8427807486631016.\u001b[0m\n",
      "\u001b[32m[I 2022-10-18 21:10:24,307]\u001b[0m Trial 21 finished with value: 0.8288770053475936 and parameters: {'columnprep__transformers_num': 'StandardScaler', 'model_type': 'svm', 'svm_kernel': 'rbf', 'svm_C': 8.848078094517975, 'svm_degree': 5.0}. Best is trial 8 with value: 0.8427807486631016.\u001b[0m\n",
      "\u001b[32m[I 2022-10-18 21:10:25,044]\u001b[0m Trial 22 finished with value: 0.8224598930481284 and parameters: {'columnprep__transformers_num': 'MinMaxScaler', 'model_type': 'svm', 'svm_kernel': 'rbf', 'svm_C': 7.865207164043931, 'svm_degree': 1.0}. Best is trial 8 with value: 0.8427807486631016.\u001b[0m\n",
      "\u001b[32m[I 2022-10-18 21:10:25,905]\u001b[0m Trial 23 finished with value: 0.7368983957219252 and parameters: {'columnprep__transformers_num': 'MinMaxScaler', 'model_type': 'svm', 'svm_kernel': 'sigmoid', 'svm_C': 8.044198935310282, 'svm_degree': 4.0}. Best is trial 8 with value: 0.8427807486631016.\u001b[0m\n",
      "\u001b[32m[I 2022-10-18 21:12:46,586]\u001b[0m Trial 24 finished with value: 0.8427807486631016 and parameters: {'columnprep__transformers_num': 'MinMaxScaler', 'model_type': 'svm', 'svm_kernel': 'linear', 'svm_C': 3.9480473481027927, 'svm_degree': 2.0}. Best is trial 8 with value: 0.8427807486631016.\u001b[0m\n",
      "\u001b[32m[I 2022-10-18 21:12:49,131]\u001b[0m Trial 25 finished with value: 0.829946524064171 and parameters: {'columnprep__transformers_num': 'MinMaxScaler', 'model_type': 'svm', 'svm_kernel': 'rbf', 'svm_C': 3.02376099858806, 'svm_degree': 4.0}. Best is trial 8 with value: 0.8427807486631016.\u001b[0m\n",
      "\u001b[32m[I 2022-10-18 21:13:34,036]\u001b[0m Trial 27 finished with value: 0.8288770053475936 and parameters: {'columnprep__transformers_num': 'MinMaxScaler', 'model_type': 'svm', 'svm_kernel': 'poly', 'svm_C': 2.4791992209983915, 'svm_degree': 3.0}. Best is trial 8 with value: 0.8427807486631016.\u001b[0m\n",
      "\u001b[32m[I 2022-10-18 21:13:37,078]\u001b[0m Trial 29 finished with value: 0.8171122994652406 and parameters: {'columnprep__transformers_num': 'MinMaxScaler', 'model_type': 'svm', 'svm_kernel': 'poly', 'svm_C': 2.608510305030476, 'svm_degree': 5.0}. Best is trial 8 with value: 0.8427807486631016.\u001b[0m\n",
      "\u001b[32m[I 2022-10-18 21:13:38,857]\u001b[0m Trial 30 finished with value: 0.8427807486631016 and parameters: {'columnprep__transformers_num': 'StandardScaler', 'model_type': 'svm', 'svm_kernel': 'linear', 'svm_C': 1.6380203815680048, 'svm_degree': 2.0}. Best is trial 8 with value: 0.8427807486631016.\u001b[0m\n",
      "\u001b[32m[I 2022-10-18 21:14:09,569]\u001b[0m Trial 32 finished with value: 0.7989304812834225 and parameters: {'columnprep__transformers_num': 'StandardScaler', 'model_type': 'decision-tree', 'dt_max_depth': 22, 'dt_criterion': 'gini', 'dt_max_leaf_nodes': 3}. Best is trial 8 with value: 0.8427807486631016.\u001b[0m\n",
      "\u001b[32m[I 2022-10-18 21:14:14,728]\u001b[0m Trial 33 finished with value: 0.7871657754010696 and parameters: {'columnprep__transformers_num': 'StandardScaler', 'model_type': 'svm', 'svm_kernel': 'rbf', 'svm_C': 401.40871715434247, 'svm_degree': 2.0}. Best is trial 8 with value: 0.8427807486631016.\u001b[0m\n",
      "\u001b[32m[I 2022-10-18 21:14:17,783]\u001b[0m Trial 34 finished with value: 0.8427807486631016 and parameters: {'columnprep__transformers_num': 'MinMaxScaler', 'model_type': 'svm', 'svm_kernel': 'linear', 'svm_C': 1.060532019753188, 'svm_degree': 5.0}. Best is trial 8 with value: 0.8427807486631016.\u001b[0m\n",
      "\u001b[32m[I 2022-10-18 21:14:20,450]\u001b[0m Trial 35 finished with value: 0.8427807486631016 and parameters: {'columnprep__transformers_num': 'StandardScaler', 'model_type': 'svm', 'svm_kernel': 'linear', 'svm_C': 2.009202595766869, 'svm_degree': 2.0}. Best is trial 8 with value: 0.8427807486631016.\u001b[0m\n",
      "\u001b[32m[I 2022-10-18 21:14:23,098]\u001b[0m Trial 36 finished with value: 0.8427807486631016 and parameters: {'columnprep__transformers_num': 'MinMaxScaler', 'model_type': 'svm', 'svm_kernel': 'linear', 'svm_C': 4.259481760278609, 'svm_degree': 2.0}. Best is trial 8 with value: 0.8427807486631016.\u001b[0m\n",
      "\u001b[32m[I 2022-10-18 21:14:24,119]\u001b[0m Trial 37 finished with value: 0.8331550802139038 and parameters: {'columnprep__transformers_num': 'MinMaxScaler', 'model_type': 'decision-tree', 'dt_max_depth': 5, 'dt_criterion': 'entropy', 'dt_max_leaf_nodes': 10}. Best is trial 8 with value: 0.8427807486631016.\u001b[0m\n",
      "\u001b[32m[I 2022-10-18 21:14:26,673]\u001b[0m Trial 38 finished with value: 0.8427807486631016 and parameters: {'columnprep__transformers_num': 'StandardScaler', 'model_type': 'svm', 'svm_kernel': 'linear', 'svm_C': 1.8121458968924444, 'svm_degree': 1.0}. Best is trial 8 with value: 0.8427807486631016.\u001b[0m\n",
      "\u001b[32m[I 2022-10-18 21:14:28,885]\u001b[0m Trial 39 finished with value: 0.8417112299465241 and parameters: {'columnprep__transformers_num': 'MinMaxScaler', 'model_type': 'svm', 'svm_kernel': 'linear', 'svm_C': 13.362536872615085, 'svm_degree': 2.0}. Best is trial 8 with value: 0.8427807486631016.\u001b[0m\n",
      "\u001b[32m[I 2022-10-18 21:14:29,865]\u001b[0m Trial 40 finished with value: 0.8128342245989305 and parameters: {'columnprep__transformers_num': 'MinMaxScaler', 'model_type': 'decision-tree', 'dt_max_depth': 22, 'dt_criterion': 'gini', 'dt_max_leaf_nodes': 6}. Best is trial 8 with value: 0.8427807486631016.\u001b[0m\n",
      "\u001b[32m[I 2022-10-18 21:14:31,446]\u001b[0m Trial 41 finished with value: 0.7336898395721925 and parameters: {'columnprep__transformers_num': 'MinMaxScaler', 'model_type': 'svm', 'svm_kernel': 'sigmoid', 'svm_C': 4.232375670231417, 'svm_degree': 2.0}. Best is trial 8 with value: 0.8427807486631016.\u001b[0m\n",
      "\u001b[32m[I 2022-10-18 21:14:36,447]\u001b[0m Trial 42 finished with value: 0.8310160427807485 and parameters: {'columnprep__transformers_num': 'StandardScaler', 'model_type': 'logistic-regression', 'lr_C': 1.2101931996081268, 'lr_penalty': 'l2'}. Best is trial 8 with value: 0.8427807486631016.\u001b[0m\n",
      "\u001b[32m[I 2022-10-18 21:14:38,259]\u001b[0m Trial 43 finished with value: 0.8427807486631016 and parameters: {'columnprep__transformers_num': 'MinMaxScaler', 'model_type': 'svm', 'svm_kernel': 'linear', 'svm_C': 1.6979981161723205, 'svm_degree': 4.0}. Best is trial 8 with value: 0.8427807486631016.\u001b[0m\n",
      "\u001b[32m[I 2022-10-18 21:14:40,653]\u001b[0m Trial 44 finished with value: 0.8427807486631016 and parameters: {'columnprep__transformers_num': 'StandardScaler', 'model_type': 'svm', 'svm_kernel': 'linear', 'svm_C': 4.196482905736767, 'svm_degree': 1.0}. Best is trial 8 with value: 0.8427807486631016.\u001b[0m\n",
      "\u001b[32m[I 2022-10-18 21:14:42,926]\u001b[0m Trial 45 finished with value: 0.8427807486631016 and parameters: {'columnprep__transformers_num': 'StandardScaler', 'model_type': 'svm', 'svm_kernel': 'linear', 'svm_C': 1.8350039968648149, 'svm_degree': 1.0}. Best is trial 8 with value: 0.8427807486631016.\u001b[0m\n",
      "\u001b[32m[I 2022-10-18 21:14:45,344]\u001b[0m Trial 46 finished with value: 0.8427807486631016 and parameters: {'columnprep__transformers_num': 'StandardScaler', 'model_type': 'svm', 'svm_kernel': 'linear', 'svm_C': 4.266514819704644, 'svm_degree': 1.0}. Best is trial 8 with value: 0.8427807486631016.\u001b[0m\n",
      "\u001b[32m[I 2022-10-18 21:14:49,354]\u001b[0m Trial 47 finished with value: 0.8417112299465241 and parameters: {'columnprep__transformers_num': 'StandardScaler', 'model_type': 'svm', 'svm_kernel': 'linear', 'svm_C': 16.569908551717365, 'svm_degree': 1.0}. Best is trial 8 with value: 0.8427807486631016.\u001b[0m\n",
      "\u001b[32m[I 2022-10-18 21:14:52,570]\u001b[0m Trial 48 finished with value: 0.8310160427807487 and parameters: {'columnprep__transformers_num': 'StandardScaler', 'model_type': 'logistic-regression', 'lr_C': 34.63843347361216, 'lr_penalty': 'l2'}. Best is trial 8 with value: 0.8427807486631016.\u001b[0m\n",
      "\u001b[32m[I 2022-10-18 21:16:29,226]\u001b[0m Trial 28 finished with value: 0.8417112299465241 and parameters: {'columnprep__transformers_num': 'MinMaxScaler', 'model_type': 'svm', 'svm_kernel': 'linear', 'svm_C': 308.8988874847422, 'svm_degree': 2.0}. Best is trial 8 with value: 0.8427807486631016.\u001b[0m\n",
      "\u001b[32m[I 2022-10-18 21:17:05,812]\u001b[0m Trial 49 finished with value: 0.8417112299465241 and parameters: {'columnprep__transformers_num': 'MinMaxScaler', 'model_type': 'svm', 'svm_kernel': 'linear', 'svm_C': 44.984597629363975, 'svm_degree': 3.0}. Best is trial 8 with value: 0.8427807486631016.\u001b[0m\n",
      "\u001b[32m[I 2022-10-18 21:17:28,569]\u001b[0m Trial 31 finished with value: 0.8417112299465241 and parameters: {'columnprep__transformers_num': 'MinMaxScaler', 'model_type': 'svm', 'svm_kernel': 'linear', 'svm_C': 293.185360673247, 'svm_degree': 4.0}. Best is trial 8 with value: 0.8427807486631016.\u001b[0m\n",
      "\u001b[32m[I 2022-10-18 21:28:14,015]\u001b[0m Trial 26 finished with value: 0.8417112299465241 and parameters: {'columnprep__transformers_num': 'StandardScaler', 'model_type': 'svm', 'svm_kernel': 'linear', 'svm_C': 472.01445295627207, 'svm_degree': 2.0}. Best is trial 8 with value: 0.8427807486631016.\u001b[0m\n"
     ]
    },
    {
     "name": "stdout",
     "output_type": "stream",
     "text": [
      "Best trial:\n",
      "0.8427807486631016\n",
      "{'columnprep__transformers_num': 'MinMaxScaler', 'model_type': 'svm', 'svm_kernel': 'linear', 'svm_C': 3.116740293548292, 'svm_degree': 5.0}\n"
     ]
    },
    {
     "ename": "OSError",
     "evalue": "Cannot save file into a non-existent directory: 'submissions'",
     "output_type": "error",
     "traceback": [
      "\u001b[1;31m---------------------------------------------------------------------------\u001b[0m",
      "\u001b[1;31mOSError\u001b[0m                                   Traceback (most recent call last)",
      "\u001b[1;32me:\\Data Science Projects\\90_Kaggle\\titanic\\04_MachineLearningModels\\titanic_BasicModels.ipynb Cell 10\u001b[0m in \u001b[0;36m<cell line: 37>\u001b[1;34m()\u001b[0m\n\u001b[0;32m     <a href='vscode-notebook-cell:/e%3A/Data%20Science%20Projects/90_Kaggle/titanic/04_MachineLearningModels/titanic_BasicModels.ipynb#X22sZmlsZQ%3D%3D?line=33'>34</a>\u001b[0m mlflow\u001b[39m.\u001b[39msklearn\u001b[39m.\u001b[39msave_model(best_model, \u001b[39m\"\u001b[39m\u001b[39mmodels/\u001b[39m\u001b[39m%s\u001b[39;00m\u001b[39m/\u001b[39m\u001b[39m\"\u001b[39m\u001b[39m%\u001b[39mparent_run\u001b[39m.\u001b[39minfo\u001b[39m.\u001b[39mrun_id)\n\u001b[0;32m     <a href='vscode-notebook-cell:/e%3A/Data%20Science%20Projects/90_Kaggle/titanic/04_MachineLearningModels/titanic_BasicModels.ipynb#X22sZmlsZQ%3D%3D?line=35'>36</a>\u001b[0m \u001b[39m# create submission of best model\u001b[39;00m\n\u001b[1;32m---> <a href='vscode-notebook-cell:/e%3A/Data%20Science%20Projects/90_Kaggle/titanic/04_MachineLearningModels/titanic_BasicModels.ipynb#X22sZmlsZQ%3D%3D?line=36'>37</a>\u001b[0m create_submission(best_model, x_test)\n\u001b[0;32m     <a href='vscode-notebook-cell:/e%3A/Data%20Science%20Projects/90_Kaggle/titanic/04_MachineLearningModels/titanic_BasicModels.ipynb#X22sZmlsZQ%3D%3D?line=39'>40</a>\u001b[0m mlflow\u001b[39m.\u001b[39mend_run()\n",
      "\u001b[1;32me:\\Data Science Projects\\90_Kaggle\\titanic\\04_MachineLearningModels\\titanic_BasicModels.ipynb Cell 10\u001b[0m in \u001b[0;36mcreate_submission\u001b[1;34m(best_model, x_test, name)\u001b[0m\n\u001b[0;32m      <a href='vscode-notebook-cell:/e%3A/Data%20Science%20Projects/90_Kaggle/titanic/04_MachineLearningModels/titanic_BasicModels.ipynb#X22sZmlsZQ%3D%3D?line=5'>6</a>\u001b[0m df_submission[\u001b[39m'\u001b[39m\u001b[39mSurvived\u001b[39m\u001b[39m'\u001b[39m] \u001b[39m=\u001b[39m y_pred\n\u001b[0;32m      <a href='vscode-notebook-cell:/e%3A/Data%20Science%20Projects/90_Kaggle/titanic/04_MachineLearningModels/titanic_BasicModels.ipynb#X22sZmlsZQ%3D%3D?line=7'>8</a>\u001b[0m \u001b[39mif\u001b[39;00m name \u001b[39m==\u001b[39m \u001b[39mNone\u001b[39;00m:\n\u001b[1;32m----> <a href='vscode-notebook-cell:/e%3A/Data%20Science%20Projects/90_Kaggle/titanic/04_MachineLearningModels/titanic_BasicModels.ipynb#X22sZmlsZQ%3D%3D?line=8'>9</a>\u001b[0m     df_submission\u001b[39m.\u001b[39;49mto_csv(\u001b[39m'\u001b[39;49m\u001b[39msubmissions/\u001b[39;49m\u001b[39m%s\u001b[39;49;00m\u001b[39m.csv\u001b[39;49m\u001b[39m'\u001b[39;49m\u001b[39m%\u001b[39;49mparent_run\u001b[39m.\u001b[39;49minfo\u001b[39m.\u001b[39;49mrun_id, index\u001b[39m=\u001b[39;49m\u001b[39mFalse\u001b[39;49;00m)\n\u001b[0;32m     <a href='vscode-notebook-cell:/e%3A/Data%20Science%20Projects/90_Kaggle/titanic/04_MachineLearningModels/titanic_BasicModels.ipynb#X22sZmlsZQ%3D%3D?line=9'>10</a>\u001b[0m \u001b[39melse\u001b[39;00m:\n\u001b[0;32m     <a href='vscode-notebook-cell:/e%3A/Data%20Science%20Projects/90_Kaggle/titanic/04_MachineLearningModels/titanic_BasicModels.ipynb#X22sZmlsZQ%3D%3D?line=10'>11</a>\u001b[0m     df_submission\u001b[39m.\u001b[39mto_csv(\u001b[39m'\u001b[39m\u001b[39msubmissions/\u001b[39m\u001b[39m%s\u001b[39;00m\u001b[39m.csv\u001b[39m\u001b[39m'\u001b[39m\u001b[39m%\u001b[39mname, index\u001b[39m=\u001b[39m\u001b[39mFalse\u001b[39;00m)\n",
      "File \u001b[1;32me:\\programs\\anaconda3\\envs\\mlflow_optuna\\lib\\site-packages\\pandas\\core\\generic.py:3551\u001b[0m, in \u001b[0;36mNDFrame.to_csv\u001b[1;34m(self, path_or_buf, sep, na_rep, float_format, columns, header, index, index_label, mode, encoding, compression, quoting, quotechar, line_terminator, chunksize, date_format, doublequote, escapechar, decimal, errors, storage_options)\u001b[0m\n\u001b[0;32m   3540\u001b[0m df \u001b[39m=\u001b[39m \u001b[39mself\u001b[39m \u001b[39mif\u001b[39;00m \u001b[39misinstance\u001b[39m(\u001b[39mself\u001b[39m, ABCDataFrame) \u001b[39melse\u001b[39;00m \u001b[39mself\u001b[39m\u001b[39m.\u001b[39mto_frame()\n\u001b[0;32m   3542\u001b[0m formatter \u001b[39m=\u001b[39m DataFrameFormatter(\n\u001b[0;32m   3543\u001b[0m     frame\u001b[39m=\u001b[39mdf,\n\u001b[0;32m   3544\u001b[0m     header\u001b[39m=\u001b[39mheader,\n\u001b[1;32m   (...)\u001b[0m\n\u001b[0;32m   3548\u001b[0m     decimal\u001b[39m=\u001b[39mdecimal,\n\u001b[0;32m   3549\u001b[0m )\n\u001b[1;32m-> 3551\u001b[0m \u001b[39mreturn\u001b[39;00m DataFrameRenderer(formatter)\u001b[39m.\u001b[39;49mto_csv(\n\u001b[0;32m   3552\u001b[0m     path_or_buf,\n\u001b[0;32m   3553\u001b[0m     line_terminator\u001b[39m=\u001b[39;49mline_terminator,\n\u001b[0;32m   3554\u001b[0m     sep\u001b[39m=\u001b[39;49msep,\n\u001b[0;32m   3555\u001b[0m     encoding\u001b[39m=\u001b[39;49mencoding,\n\u001b[0;32m   3556\u001b[0m     errors\u001b[39m=\u001b[39;49merrors,\n\u001b[0;32m   3557\u001b[0m     compression\u001b[39m=\u001b[39;49mcompression,\n\u001b[0;32m   3558\u001b[0m     quoting\u001b[39m=\u001b[39;49mquoting,\n\u001b[0;32m   3559\u001b[0m     columns\u001b[39m=\u001b[39;49mcolumns,\n\u001b[0;32m   3560\u001b[0m     index_label\u001b[39m=\u001b[39;49mindex_label,\n\u001b[0;32m   3561\u001b[0m     mode\u001b[39m=\u001b[39;49mmode,\n\u001b[0;32m   3562\u001b[0m     chunksize\u001b[39m=\u001b[39;49mchunksize,\n\u001b[0;32m   3563\u001b[0m     quotechar\u001b[39m=\u001b[39;49mquotechar,\n\u001b[0;32m   3564\u001b[0m     date_format\u001b[39m=\u001b[39;49mdate_format,\n\u001b[0;32m   3565\u001b[0m     doublequote\u001b[39m=\u001b[39;49mdoublequote,\n\u001b[0;32m   3566\u001b[0m     escapechar\u001b[39m=\u001b[39;49mescapechar,\n\u001b[0;32m   3567\u001b[0m     storage_options\u001b[39m=\u001b[39;49mstorage_options,\n\u001b[0;32m   3568\u001b[0m )\n",
      "File \u001b[1;32me:\\programs\\anaconda3\\envs\\mlflow_optuna\\lib\\site-packages\\pandas\\io\\formats\\format.py:1180\u001b[0m, in \u001b[0;36mDataFrameRenderer.to_csv\u001b[1;34m(self, path_or_buf, encoding, sep, columns, index_label, mode, compression, quoting, quotechar, line_terminator, chunksize, date_format, doublequote, escapechar, errors, storage_options)\u001b[0m\n\u001b[0;32m   1159\u001b[0m     created_buffer \u001b[39m=\u001b[39m \u001b[39mFalse\u001b[39;00m\n\u001b[0;32m   1161\u001b[0m csv_formatter \u001b[39m=\u001b[39m CSVFormatter(\n\u001b[0;32m   1162\u001b[0m     path_or_buf\u001b[39m=\u001b[39mpath_or_buf,\n\u001b[0;32m   1163\u001b[0m     line_terminator\u001b[39m=\u001b[39mline_terminator,\n\u001b[1;32m   (...)\u001b[0m\n\u001b[0;32m   1178\u001b[0m     formatter\u001b[39m=\u001b[39m\u001b[39mself\u001b[39m\u001b[39m.\u001b[39mfmt,\n\u001b[0;32m   1179\u001b[0m )\n\u001b[1;32m-> 1180\u001b[0m csv_formatter\u001b[39m.\u001b[39;49msave()\n\u001b[0;32m   1182\u001b[0m \u001b[39mif\u001b[39;00m created_buffer:\n\u001b[0;32m   1183\u001b[0m     \u001b[39massert\u001b[39;00m \u001b[39misinstance\u001b[39m(path_or_buf, StringIO)\n",
      "File \u001b[1;32me:\\programs\\anaconda3\\envs\\mlflow_optuna\\lib\\site-packages\\pandas\\io\\formats\\csvs.py:241\u001b[0m, in \u001b[0;36mCSVFormatter.save\u001b[1;34m(self)\u001b[0m\n\u001b[0;32m    237\u001b[0m \u001b[39m\"\"\"\u001b[39;00m\n\u001b[0;32m    238\u001b[0m \u001b[39mCreate the writer & save.\u001b[39;00m\n\u001b[0;32m    239\u001b[0m \u001b[39m\"\"\"\u001b[39;00m\n\u001b[0;32m    240\u001b[0m \u001b[39m# apply compression and byte/text conversion\u001b[39;00m\n\u001b[1;32m--> 241\u001b[0m \u001b[39mwith\u001b[39;00m get_handle(\n\u001b[0;32m    242\u001b[0m     \u001b[39mself\u001b[39;49m\u001b[39m.\u001b[39;49mfilepath_or_buffer,\n\u001b[0;32m    243\u001b[0m     \u001b[39mself\u001b[39;49m\u001b[39m.\u001b[39;49mmode,\n\u001b[0;32m    244\u001b[0m     encoding\u001b[39m=\u001b[39;49m\u001b[39mself\u001b[39;49m\u001b[39m.\u001b[39;49mencoding,\n\u001b[0;32m    245\u001b[0m     errors\u001b[39m=\u001b[39;49m\u001b[39mself\u001b[39;49m\u001b[39m.\u001b[39;49merrors,\n\u001b[0;32m    246\u001b[0m     compression\u001b[39m=\u001b[39;49m\u001b[39mself\u001b[39;49m\u001b[39m.\u001b[39;49mcompression,\n\u001b[0;32m    247\u001b[0m     storage_options\u001b[39m=\u001b[39;49m\u001b[39mself\u001b[39;49m\u001b[39m.\u001b[39;49mstorage_options,\n\u001b[0;32m    248\u001b[0m ) \u001b[39mas\u001b[39;00m handles:\n\u001b[0;32m    249\u001b[0m \n\u001b[0;32m    250\u001b[0m     \u001b[39m# Note: self.encoding is irrelevant here\u001b[39;00m\n\u001b[0;32m    251\u001b[0m     \u001b[39mself\u001b[39m\u001b[39m.\u001b[39mwriter \u001b[39m=\u001b[39m csvlib\u001b[39m.\u001b[39mwriter(\n\u001b[0;32m    252\u001b[0m         handles\u001b[39m.\u001b[39mhandle,\n\u001b[0;32m    253\u001b[0m         lineterminator\u001b[39m=\u001b[39m\u001b[39mself\u001b[39m\u001b[39m.\u001b[39mline_terminator,\n\u001b[1;32m   (...)\u001b[0m\n\u001b[0;32m    258\u001b[0m         quotechar\u001b[39m=\u001b[39m\u001b[39mself\u001b[39m\u001b[39m.\u001b[39mquotechar,\n\u001b[0;32m    259\u001b[0m     )\n\u001b[0;32m    261\u001b[0m     \u001b[39mself\u001b[39m\u001b[39m.\u001b[39m_save()\n",
      "File \u001b[1;32me:\\programs\\anaconda3\\envs\\mlflow_optuna\\lib\\site-packages\\pandas\\io\\common.py:694\u001b[0m, in \u001b[0;36mget_handle\u001b[1;34m(path_or_buf, mode, encoding, compression, memory_map, is_text, errors, storage_options)\u001b[0m\n\u001b[0;32m    692\u001b[0m \u001b[39m# Only for write methods\u001b[39;00m\n\u001b[0;32m    693\u001b[0m \u001b[39mif\u001b[39;00m \u001b[39m\"\u001b[39m\u001b[39mr\u001b[39m\u001b[39m\"\u001b[39m \u001b[39mnot\u001b[39;00m \u001b[39min\u001b[39;00m mode \u001b[39mand\u001b[39;00m is_path:\n\u001b[1;32m--> 694\u001b[0m     check_parent_directory(\u001b[39mstr\u001b[39;49m(handle))\n\u001b[0;32m    696\u001b[0m \u001b[39mif\u001b[39;00m compression:\n\u001b[0;32m    697\u001b[0m     \u001b[39mif\u001b[39;00m compression \u001b[39m!=\u001b[39m \u001b[39m\"\u001b[39m\u001b[39mzstd\u001b[39m\u001b[39m\"\u001b[39m:\n\u001b[0;32m    698\u001b[0m         \u001b[39m# compression libraries do not like an explicit text-mode\u001b[39;00m\n",
      "File \u001b[1;32me:\\programs\\anaconda3\\envs\\mlflow_optuna\\lib\\site-packages\\pandas\\io\\common.py:568\u001b[0m, in \u001b[0;36mcheck_parent_directory\u001b[1;34m(path)\u001b[0m\n\u001b[0;32m    566\u001b[0m parent \u001b[39m=\u001b[39m Path(path)\u001b[39m.\u001b[39mparent\n\u001b[0;32m    567\u001b[0m \u001b[39mif\u001b[39;00m \u001b[39mnot\u001b[39;00m parent\u001b[39m.\u001b[39mis_dir():\n\u001b[1;32m--> 568\u001b[0m     \u001b[39mraise\u001b[39;00m \u001b[39mOSError\u001b[39;00m(\u001b[39mrf\u001b[39m\u001b[39m\"\u001b[39m\u001b[39mCannot save file into a non-existent directory: \u001b[39m\u001b[39m'\u001b[39m\u001b[39m{\u001b[39;00mparent\u001b[39m}\u001b[39;00m\u001b[39m'\u001b[39m\u001b[39m\"\u001b[39m)\n",
      "\u001b[1;31mOSError\u001b[0m: Cannot save file into a non-existent directory: 'submissions'"
     ]
    }
   ],
   "source": [
    "objective = Objective()\n",
    "\n",
    "study = optuna.create_study(\n",
    "  sampler = optuna.samplers.TPESampler(),\n",
    "  direction=\"maximize\"\n",
    "  )\n",
    "\n",
    "study.optimize(\n",
    "  objective,\n",
    "  n_trials=config_data[\"N_TRAILS\"],\n",
    "  timeout=config_data[\"TIMEOUT\"],\n",
    "  n_jobs=-1,\n",
    "  callbacks=[objective.callback]\n",
    "  )\n",
    "\n",
    "print(\"Best trial:\")\n",
    "print(study.best_value)\n",
    "print(study.best_params)\n",
    "\n",
    "client.log_metric(parent_run.info.run_id, \"best_cv_score\", round(study.best_value, 3))\n",
    "client.log_param(parent_run.info.run_id, \"transformer_num\", str(transformer_num))\n",
    "\n",
    "client.log_param(parent_run.info.run_id, \"cv_n_splits\", cv.n_splits)\n",
    "client.log_param(parent_run.info.run_id, \"cv_train_size\", cv.train_size)\n",
    "client.log_param(parent_run.info.run_id, \"cv_test_size\", cv.test_size)\n",
    "client.log_param(parent_run.info.run_id, \"cv_random_state\", cv.random_state)\n",
    "\n",
    "for param in study.best_params:\n",
    "  client.log_param(parent_run.info.run_id, param, study.best_params[param])\n",
    "\n",
    "\n",
    "# save the best model as file\n",
    "best_model = objective.best_model\n",
    "mlflow.sklearn.save_model(best_model, \"models/%s/\"%parent_run.info.run_id)\n",
    "\n",
    "# create submission of best model\n",
    "create_submission(best_model, x_test)\n",
    "\n",
    "\n",
    "mlflow.end_run()"
   ]
  },
  {
   "cell_type": "code",
   "execution_count": 51,
   "metadata": {},
   "outputs": [],
   "source": [
    "mlflow.end_run()"
   ]
  },
  {
   "cell_type": "code",
   "execution_count": 52,
   "metadata": {},
   "outputs": [
    {
     "data": {
      "application/vnd.plotly.v1+json": {
       "config": {
        "plotlyServerURL": "https://plot.ly"
       },
       "data": [
        {
         "mode": "markers",
         "name": "Objective Value",
         "type": "scatter",
         "x": [
          0,
          1,
          2,
          3,
          4,
          5,
          6,
          7,
          8,
          9,
          10,
          11,
          12,
          13,
          14,
          15,
          16,
          17,
          18,
          19,
          20,
          21,
          22,
          23,
          24,
          25,
          26,
          27,
          28,
          29,
          30,
          31,
          32,
          33,
          34,
          35,
          36,
          37,
          38,
          39,
          40,
          41,
          42,
          43,
          44,
          45,
          46,
          47,
          48,
          49
         ],
         "y": [
          0.8128342245989305,
          0.8310160427807487,
          0.8352941176470589,
          0.8310160427807487,
          0.797860962566845,
          0.8267379679144383,
          0.8320855614973262,
          0.8417112299465241,
          0.8427807486631016,
          0.8299465240641712,
          0.8310160427807487,
          0.8331550802139038,
          0.7871657754010696,
          0.8427807486631016,
          0.8427807486631016,
          0.8427807486631016,
          0.8427807486631016,
          0.8427807486631016,
          0.8427807486631016,
          0.8224598930481284,
          0.7347593582887699,
          0.8288770053475936,
          0.8224598930481284,
          0.7368983957219252,
          0.8427807486631016,
          0.829946524064171,
          0.8417112299465241,
          0.8288770053475936,
          0.8417112299465241,
          0.8171122994652406,
          0.8427807486631016,
          0.8417112299465241,
          0.7989304812834225,
          0.7871657754010696,
          0.8427807486631016,
          0.8427807486631016,
          0.8427807486631016,
          0.8331550802139038,
          0.8427807486631016,
          0.8417112299465241,
          0.8128342245989305,
          0.7336898395721925,
          0.8310160427807485,
          0.8427807486631016,
          0.8427807486631016,
          0.8427807486631016,
          0.8427807486631016,
          0.8417112299465241,
          0.8310160427807487,
          0.8417112299465241
         ]
        },
        {
         "name": "Best Value",
         "type": "scatter",
         "x": [
          0,
          1,
          2,
          3,
          4,
          5,
          6,
          7,
          8,
          9,
          10,
          11,
          12,
          13,
          14,
          15,
          16,
          17,
          18,
          19,
          20,
          21,
          22,
          23,
          24,
          25,
          26,
          27,
          28,
          29,
          30,
          31,
          32,
          33,
          34,
          35,
          36,
          37,
          38,
          39,
          40,
          41,
          42,
          43,
          44,
          45,
          46,
          47,
          48,
          49
         ],
         "y": [
          0.8128342245989305,
          0.8310160427807487,
          0.8352941176470589,
          0.8352941176470589,
          0.8352941176470589,
          0.8352941176470589,
          0.8352941176470589,
          0.8417112299465241,
          0.8427807486631016,
          0.8427807486631016,
          0.8427807486631016,
          0.8427807486631016,
          0.8427807486631016,
          0.8427807486631016,
          0.8427807486631016,
          0.8427807486631016,
          0.8427807486631016,
          0.8427807486631016,
          0.8427807486631016,
          0.8427807486631016,
          0.8427807486631016,
          0.8427807486631016,
          0.8427807486631016,
          0.8427807486631016,
          0.8427807486631016,
          0.8427807486631016,
          0.8427807486631016,
          0.8427807486631016,
          0.8427807486631016,
          0.8427807486631016,
          0.8427807486631016,
          0.8427807486631016,
          0.8427807486631016,
          0.8427807486631016,
          0.8427807486631016,
          0.8427807486631016,
          0.8427807486631016,
          0.8427807486631016,
          0.8427807486631016,
          0.8427807486631016,
          0.8427807486631016,
          0.8427807486631016,
          0.8427807486631016,
          0.8427807486631016,
          0.8427807486631016,
          0.8427807486631016,
          0.8427807486631016,
          0.8427807486631016,
          0.8427807486631016,
          0.8427807486631016
         ]
        }
       ],
       "layout": {
        "template": {
         "data": {
          "bar": [
           {
            "error_x": {
             "color": "#2a3f5f"
            },
            "error_y": {
             "color": "#2a3f5f"
            },
            "marker": {
             "line": {
              "color": "#E5ECF6",
              "width": 0.5
             },
             "pattern": {
              "fillmode": "overlay",
              "size": 10,
              "solidity": 0.2
             }
            },
            "type": "bar"
           }
          ],
          "barpolar": [
           {
            "marker": {
             "line": {
              "color": "#E5ECF6",
              "width": 0.5
             },
             "pattern": {
              "fillmode": "overlay",
              "size": 10,
              "solidity": 0.2
             }
            },
            "type": "barpolar"
           }
          ],
          "carpet": [
           {
            "aaxis": {
             "endlinecolor": "#2a3f5f",
             "gridcolor": "white",
             "linecolor": "white",
             "minorgridcolor": "white",
             "startlinecolor": "#2a3f5f"
            },
            "baxis": {
             "endlinecolor": "#2a3f5f",
             "gridcolor": "white",
             "linecolor": "white",
             "minorgridcolor": "white",
             "startlinecolor": "#2a3f5f"
            },
            "type": "carpet"
           }
          ],
          "choropleth": [
           {
            "colorbar": {
             "outlinewidth": 0,
             "ticks": ""
            },
            "type": "choropleth"
           }
          ],
          "contour": [
           {
            "colorbar": {
             "outlinewidth": 0,
             "ticks": ""
            },
            "colorscale": [
             [
              0,
              "#0d0887"
             ],
             [
              0.1111111111111111,
              "#46039f"
             ],
             [
              0.2222222222222222,
              "#7201a8"
             ],
             [
              0.3333333333333333,
              "#9c179e"
             ],
             [
              0.4444444444444444,
              "#bd3786"
             ],
             [
              0.5555555555555556,
              "#d8576b"
             ],
             [
              0.6666666666666666,
              "#ed7953"
             ],
             [
              0.7777777777777778,
              "#fb9f3a"
             ],
             [
              0.8888888888888888,
              "#fdca26"
             ],
             [
              1,
              "#f0f921"
             ]
            ],
            "type": "contour"
           }
          ],
          "contourcarpet": [
           {
            "colorbar": {
             "outlinewidth": 0,
             "ticks": ""
            },
            "type": "contourcarpet"
           }
          ],
          "heatmap": [
           {
            "colorbar": {
             "outlinewidth": 0,
             "ticks": ""
            },
            "colorscale": [
             [
              0,
              "#0d0887"
             ],
             [
              0.1111111111111111,
              "#46039f"
             ],
             [
              0.2222222222222222,
              "#7201a8"
             ],
             [
              0.3333333333333333,
              "#9c179e"
             ],
             [
              0.4444444444444444,
              "#bd3786"
             ],
             [
              0.5555555555555556,
              "#d8576b"
             ],
             [
              0.6666666666666666,
              "#ed7953"
             ],
             [
              0.7777777777777778,
              "#fb9f3a"
             ],
             [
              0.8888888888888888,
              "#fdca26"
             ],
             [
              1,
              "#f0f921"
             ]
            ],
            "type": "heatmap"
           }
          ],
          "heatmapgl": [
           {
            "colorbar": {
             "outlinewidth": 0,
             "ticks": ""
            },
            "colorscale": [
             [
              0,
              "#0d0887"
             ],
             [
              0.1111111111111111,
              "#46039f"
             ],
             [
              0.2222222222222222,
              "#7201a8"
             ],
             [
              0.3333333333333333,
              "#9c179e"
             ],
             [
              0.4444444444444444,
              "#bd3786"
             ],
             [
              0.5555555555555556,
              "#d8576b"
             ],
             [
              0.6666666666666666,
              "#ed7953"
             ],
             [
              0.7777777777777778,
              "#fb9f3a"
             ],
             [
              0.8888888888888888,
              "#fdca26"
             ],
             [
              1,
              "#f0f921"
             ]
            ],
            "type": "heatmapgl"
           }
          ],
          "histogram": [
           {
            "marker": {
             "pattern": {
              "fillmode": "overlay",
              "size": 10,
              "solidity": 0.2
             }
            },
            "type": "histogram"
           }
          ],
          "histogram2d": [
           {
            "colorbar": {
             "outlinewidth": 0,
             "ticks": ""
            },
            "colorscale": [
             [
              0,
              "#0d0887"
             ],
             [
              0.1111111111111111,
              "#46039f"
             ],
             [
              0.2222222222222222,
              "#7201a8"
             ],
             [
              0.3333333333333333,
              "#9c179e"
             ],
             [
              0.4444444444444444,
              "#bd3786"
             ],
             [
              0.5555555555555556,
              "#d8576b"
             ],
             [
              0.6666666666666666,
              "#ed7953"
             ],
             [
              0.7777777777777778,
              "#fb9f3a"
             ],
             [
              0.8888888888888888,
              "#fdca26"
             ],
             [
              1,
              "#f0f921"
             ]
            ],
            "type": "histogram2d"
           }
          ],
          "histogram2dcontour": [
           {
            "colorbar": {
             "outlinewidth": 0,
             "ticks": ""
            },
            "colorscale": [
             [
              0,
              "#0d0887"
             ],
             [
              0.1111111111111111,
              "#46039f"
             ],
             [
              0.2222222222222222,
              "#7201a8"
             ],
             [
              0.3333333333333333,
              "#9c179e"
             ],
             [
              0.4444444444444444,
              "#bd3786"
             ],
             [
              0.5555555555555556,
              "#d8576b"
             ],
             [
              0.6666666666666666,
              "#ed7953"
             ],
             [
              0.7777777777777778,
              "#fb9f3a"
             ],
             [
              0.8888888888888888,
              "#fdca26"
             ],
             [
              1,
              "#f0f921"
             ]
            ],
            "type": "histogram2dcontour"
           }
          ],
          "mesh3d": [
           {
            "colorbar": {
             "outlinewidth": 0,
             "ticks": ""
            },
            "type": "mesh3d"
           }
          ],
          "parcoords": [
           {
            "line": {
             "colorbar": {
              "outlinewidth": 0,
              "ticks": ""
             }
            },
            "type": "parcoords"
           }
          ],
          "pie": [
           {
            "automargin": true,
            "type": "pie"
           }
          ],
          "scatter": [
           {
            "fillpattern": {
             "fillmode": "overlay",
             "size": 10,
             "solidity": 0.2
            },
            "type": "scatter"
           }
          ],
          "scatter3d": [
           {
            "line": {
             "colorbar": {
              "outlinewidth": 0,
              "ticks": ""
             }
            },
            "marker": {
             "colorbar": {
              "outlinewidth": 0,
              "ticks": ""
             }
            },
            "type": "scatter3d"
           }
          ],
          "scattercarpet": [
           {
            "marker": {
             "colorbar": {
              "outlinewidth": 0,
              "ticks": ""
             }
            },
            "type": "scattercarpet"
           }
          ],
          "scattergeo": [
           {
            "marker": {
             "colorbar": {
              "outlinewidth": 0,
              "ticks": ""
             }
            },
            "type": "scattergeo"
           }
          ],
          "scattergl": [
           {
            "marker": {
             "colorbar": {
              "outlinewidth": 0,
              "ticks": ""
             }
            },
            "type": "scattergl"
           }
          ],
          "scattermapbox": [
           {
            "marker": {
             "colorbar": {
              "outlinewidth": 0,
              "ticks": ""
             }
            },
            "type": "scattermapbox"
           }
          ],
          "scatterpolar": [
           {
            "marker": {
             "colorbar": {
              "outlinewidth": 0,
              "ticks": ""
             }
            },
            "type": "scatterpolar"
           }
          ],
          "scatterpolargl": [
           {
            "marker": {
             "colorbar": {
              "outlinewidth": 0,
              "ticks": ""
             }
            },
            "type": "scatterpolargl"
           }
          ],
          "scatterternary": [
           {
            "marker": {
             "colorbar": {
              "outlinewidth": 0,
              "ticks": ""
             }
            },
            "type": "scatterternary"
           }
          ],
          "surface": [
           {
            "colorbar": {
             "outlinewidth": 0,
             "ticks": ""
            },
            "colorscale": [
             [
              0,
              "#0d0887"
             ],
             [
              0.1111111111111111,
              "#46039f"
             ],
             [
              0.2222222222222222,
              "#7201a8"
             ],
             [
              0.3333333333333333,
              "#9c179e"
             ],
             [
              0.4444444444444444,
              "#bd3786"
             ],
             [
              0.5555555555555556,
              "#d8576b"
             ],
             [
              0.6666666666666666,
              "#ed7953"
             ],
             [
              0.7777777777777778,
              "#fb9f3a"
             ],
             [
              0.8888888888888888,
              "#fdca26"
             ],
             [
              1,
              "#f0f921"
             ]
            ],
            "type": "surface"
           }
          ],
          "table": [
           {
            "cells": {
             "fill": {
              "color": "#EBF0F8"
             },
             "line": {
              "color": "white"
             }
            },
            "header": {
             "fill": {
              "color": "#C8D4E3"
             },
             "line": {
              "color": "white"
             }
            },
            "type": "table"
           }
          ]
         },
         "layout": {
          "annotationdefaults": {
           "arrowcolor": "#2a3f5f",
           "arrowhead": 0,
           "arrowwidth": 1
          },
          "autotypenumbers": "strict",
          "coloraxis": {
           "colorbar": {
            "outlinewidth": 0,
            "ticks": ""
           }
          },
          "colorscale": {
           "diverging": [
            [
             0,
             "#8e0152"
            ],
            [
             0.1,
             "#c51b7d"
            ],
            [
             0.2,
             "#de77ae"
            ],
            [
             0.3,
             "#f1b6da"
            ],
            [
             0.4,
             "#fde0ef"
            ],
            [
             0.5,
             "#f7f7f7"
            ],
            [
             0.6,
             "#e6f5d0"
            ],
            [
             0.7,
             "#b8e186"
            ],
            [
             0.8,
             "#7fbc41"
            ],
            [
             0.9,
             "#4d9221"
            ],
            [
             1,
             "#276419"
            ]
           ],
           "sequential": [
            [
             0,
             "#0d0887"
            ],
            [
             0.1111111111111111,
             "#46039f"
            ],
            [
             0.2222222222222222,
             "#7201a8"
            ],
            [
             0.3333333333333333,
             "#9c179e"
            ],
            [
             0.4444444444444444,
             "#bd3786"
            ],
            [
             0.5555555555555556,
             "#d8576b"
            ],
            [
             0.6666666666666666,
             "#ed7953"
            ],
            [
             0.7777777777777778,
             "#fb9f3a"
            ],
            [
             0.8888888888888888,
             "#fdca26"
            ],
            [
             1,
             "#f0f921"
            ]
           ],
           "sequentialminus": [
            [
             0,
             "#0d0887"
            ],
            [
             0.1111111111111111,
             "#46039f"
            ],
            [
             0.2222222222222222,
             "#7201a8"
            ],
            [
             0.3333333333333333,
             "#9c179e"
            ],
            [
             0.4444444444444444,
             "#bd3786"
            ],
            [
             0.5555555555555556,
             "#d8576b"
            ],
            [
             0.6666666666666666,
             "#ed7953"
            ],
            [
             0.7777777777777778,
             "#fb9f3a"
            ],
            [
             0.8888888888888888,
             "#fdca26"
            ],
            [
             1,
             "#f0f921"
            ]
           ]
          },
          "colorway": [
           "#636efa",
           "#EF553B",
           "#00cc96",
           "#ab63fa",
           "#FFA15A",
           "#19d3f3",
           "#FF6692",
           "#B6E880",
           "#FF97FF",
           "#FECB52"
          ],
          "font": {
           "color": "#2a3f5f"
          },
          "geo": {
           "bgcolor": "white",
           "lakecolor": "white",
           "landcolor": "#E5ECF6",
           "showlakes": true,
           "showland": true,
           "subunitcolor": "white"
          },
          "hoverlabel": {
           "align": "left"
          },
          "hovermode": "closest",
          "mapbox": {
           "style": "light"
          },
          "paper_bgcolor": "white",
          "plot_bgcolor": "#E5ECF6",
          "polar": {
           "angularaxis": {
            "gridcolor": "white",
            "linecolor": "white",
            "ticks": ""
           },
           "bgcolor": "#E5ECF6",
           "radialaxis": {
            "gridcolor": "white",
            "linecolor": "white",
            "ticks": ""
           }
          },
          "scene": {
           "xaxis": {
            "backgroundcolor": "#E5ECF6",
            "gridcolor": "white",
            "gridwidth": 2,
            "linecolor": "white",
            "showbackground": true,
            "ticks": "",
            "zerolinecolor": "white"
           },
           "yaxis": {
            "backgroundcolor": "#E5ECF6",
            "gridcolor": "white",
            "gridwidth": 2,
            "linecolor": "white",
            "showbackground": true,
            "ticks": "",
            "zerolinecolor": "white"
           },
           "zaxis": {
            "backgroundcolor": "#E5ECF6",
            "gridcolor": "white",
            "gridwidth": 2,
            "linecolor": "white",
            "showbackground": true,
            "ticks": "",
            "zerolinecolor": "white"
           }
          },
          "shapedefaults": {
           "line": {
            "color": "#2a3f5f"
           }
          },
          "ternary": {
           "aaxis": {
            "gridcolor": "white",
            "linecolor": "white",
            "ticks": ""
           },
           "baxis": {
            "gridcolor": "white",
            "linecolor": "white",
            "ticks": ""
           },
           "bgcolor": "#E5ECF6",
           "caxis": {
            "gridcolor": "white",
            "linecolor": "white",
            "ticks": ""
           }
          },
          "title": {
           "x": 0.05
          },
          "xaxis": {
           "automargin": true,
           "gridcolor": "white",
           "linecolor": "white",
           "ticks": "",
           "title": {
            "standoff": 15
           },
           "zerolinecolor": "white",
           "zerolinewidth": 2
          },
          "yaxis": {
           "automargin": true,
           "gridcolor": "white",
           "linecolor": "white",
           "ticks": "",
           "title": {
            "standoff": 15
           },
           "zerolinecolor": "white",
           "zerolinewidth": 2
          }
         }
        },
        "title": {
         "text": "Optimization History Plot"
        },
        "xaxis": {
         "title": {
          "text": "#Trials"
         }
        },
        "yaxis": {
         "title": {
          "text": "Objective Value"
         }
        }
       }
      }
     },
     "metadata": {},
     "output_type": "display_data"
    }
   ],
   "source": [
    "optuna.visualization.plot_optimization_history(study)"
   ]
  },
  {
   "cell_type": "code",
   "execution_count": null,
   "metadata": {},
   "outputs": [],
   "source": []
  }
 ],
 "metadata": {
  "kernelspec": {
   "display_name": "Python 3.9.12 ('mlflow_optuna')",
   "language": "python",
   "name": "python3"
  },
  "language_info": {
   "codemirror_mode": {
    "name": "ipython",
    "version": 3
   },
   "file_extension": ".py",
   "mimetype": "text/x-python",
   "name": "python",
   "nbconvert_exporter": "python",
   "pygments_lexer": "ipython3",
   "version": "3.9.12"
  },
  "orig_nbformat": 4,
  "vscode": {
   "interpreter": {
    "hash": "4aa63c7bcea9117a32328ad03333d01dc516bdcdb33b6eb92ab7a393341400f2"
   }
  }
 },
 "nbformat": 4,
 "nbformat_minor": 2
}
