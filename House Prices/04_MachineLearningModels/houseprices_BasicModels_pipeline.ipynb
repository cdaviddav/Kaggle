{
 "cells": [
  {
   "attachments": {},
   "cell_type": "markdown",
   "metadata": {},
   "source": [
    "# Basic ML Models of the Kaggle House Price Dataset"
   ]
  },
  {
   "cell_type": "code",
   "execution_count": 1,
   "metadata": {},
   "outputs": [
    {
     "name": "stdout",
     "output_type": "stream",
     "text": [
      "pandas version: 1.5.2\n",
      "numpy version: 1.23.5\n",
      "sklearn version: 1.2.0\n"
     ]
    },
    {
     "name": "stderr",
     "output_type": "stream",
     "text": [
      "e:\\programs\\anaconda3\\envs\\mlflow_optuna\\lib\\site-packages\\tqdm\\auto.py:22: TqdmWarning: IProgress not found. Please update jupyter and ipywidgets. See https://ipywidgets.readthedocs.io/en/stable/user_install.html\n",
      "  from .autonotebook import tqdm as notebook_tqdm\n"
     ]
    },
    {
     "name": "stdout",
     "output_type": "stream",
     "text": [
      "optuna version: 2.10.1\n",
      "mlflow version: 2.1.1\n"
     ]
    }
   ],
   "source": [
    "import pandas as pd\n",
    "print(\"pandas version: {}\". format(pd.__version__))\n",
    "\n",
    "# numpy: support for large, multi-dimensional arrays and matrices and high-level mathematical functions\n",
    "import numpy as np\n",
    "print(\"numpy version: {}\". format(np.__version__))\n",
    "\n",
    "import sklearn\n",
    "from sklearn.base import BaseEstimator, TransformerMixin\n",
    "from sklearn.preprocessing import StandardScaler, MinMaxScaler, OneHotEncoder\n",
    "from sklearn.pipeline import Pipeline\n",
    "from sklearn.decomposition import PCA\n",
    "from sklearn.linear_model import Lasso, Ridge, BayesianRidge, ElasticNet\n",
    "from sklearn.ensemble import GradientBoostingRegressor, RandomForestRegressor\n",
    "from sklearn.model_selection import ShuffleSplit, train_test_split, cross_val_score, learning_curve\n",
    "from sklearn.feature_selection import VarianceThreshold\n",
    "from sklearn.compose import TransformedTargetRegressor\n",
    "from sklearn.impute import SimpleImputer\n",
    "from sklearn.pipeline import make_pipeline\n",
    "print(\"sklearn version: {}\". format(sklearn.__version__))\n",
    "\n",
    "import optuna\n",
    "print(\"optuna version: {}\". format(optuna.__version__))\n",
    "\n",
    "import mlflow\n",
    "from mlflow.utils.mlflow_tags import MLFLOW_PARENT_RUN_ID\n",
    "from mlflow.tracking import MlflowClient\n",
    "print(\"mlflow version: {}\". format(mlflow.__version__))\n",
    "\n",
    "import matplotlib.pyplot as plt\n",
    "import seaborn as sns\n",
    "\n",
    "import os\n",
    "from datetime import datetime\n",
    "from typing import Optional\n",
    "import warnings\n",
    "warnings.simplefilter('ignore')\n",
    "\n",
    "import yaml\n",
    "with open('ml_parameter.yaml') as file:\n",
    "  config_data= yaml.safe_load(file)\n",
    "\n",
    "\n",
    "from create_algorithm import create_algorithm\n",
    "import pipeline_classes"
   ]
  },
  {
   "cell_type": "code",
   "execution_count": 2,
   "metadata": {},
   "outputs": [],
   "source": [
    "VERSION = 0.5\n",
    "SCRIPT = \"houseprices_BasicModels_pipeline\"\n",
    "\n",
    "client = MlflowClient()\n",
    "try:\n",
    "    experiment = client.create_experiment(f\"{SCRIPT}_{VERSION}\")\n",
    "except:\n",
    "    experiment = client.get_experiment_by_name(f\"{SCRIPT}_{VERSION}\").experiment_id\n",
    "\n",
    "\n",
    "# define cross validation\n",
    "cv = ShuffleSplit(\n",
    "    n_splits = 10,\n",
    "    test_size = 0.2,\n",
    "    random_state = 42\n",
    "    )"
   ]
  },
  {
   "cell_type": "code",
   "execution_count": 3,
   "metadata": {},
   "outputs": [],
   "source": [
    "def load_data():\n",
    "    # load raw training and test dataset\n",
    "    df_train = pd.read_csv(\"../01_RawData/train.csv\")\n",
    "    df_test = pd.read_csv(\"../01_RawData/test.csv\")\n",
    "\n",
    "    # drop features with more then 30% of missing values\n",
    "    df_train = df_train.drop([\"Id\", \"PoolQC\", \"MiscFeature\", \"Alley\", \"Fence\", \"FireplaceQu\"], axis=1)\n",
    "    df_test = df_test.drop([\"Id\", \"PoolQC\", \"MiscFeature\", \"Alley\", \"Fence\", \"FireplaceQu\"], axis=1)\n",
    "\n",
    "    # split the training and test dataset to the input features (x_train, x_test) and the survival class (y_train)\n",
    "    y_train = df_train['SalePrice']\n",
    "    x_train = df_train.drop(['SalePrice'], axis=1)\n",
    "    x_test = df_test\n",
    "\n",
    "    x_train, x_validate, y_train, y_validate = train_test_split(x_train, y_train, test_size=0.2, random_state=42)\n",
    "\n",
    "    return x_train, y_train, x_validate, y_validate, x_test\n",
    "\n",
    "x_train, y_train, x_validate, y_validate, x_test = load_data()"
   ]
  },
  {
   "cell_type": "code",
   "execution_count": 4,
   "metadata": {},
   "outputs": [],
   "source": [
    "def create_model(self, trial):\n",
    "\n",
    "    child_run = client.create_run(\n",
    "        experiment_id=experiment,\n",
    "        tags={\n",
    "            MLFLOW_PARENT_RUN_ID: self.parent_run.info.run_id\n",
    "        }\n",
    "    )\n",
    "\n",
    "    model = create_algorithm(self.model_type, trial, client, child_run, config_data)\n",
    "\n",
    "    # create parameter for data preprocessing pipeline\n",
    "    imputer_function_numeric=trial.suggest_categorical(\"preprocessing_imputer_function_numeric\", [\"SimpleImputer\", \"KNNImputer\"])\n",
    "    transform_skewed_features_flag=trial.suggest_categorical(\"preprocessing_transform_skewed_features_flag\", [True, False])\n",
    "    ohe_min_frequency=trial.suggest_float(\"preprocessing_ohe_min_frequency\", 0, 0.2, log=False)\n",
    "    ohe_max_categories=trial.suggest_int('preprocessing_ohe_max_categories', 5, 20)\n",
    "    feature_selection_low_variance_flag=trial.suggest_float(\"preprocessing_feature_selection_low_variance_flag\", 0.7, 0.99, log=False)\n",
    "    correlation=trial.suggest_float(\"preprocessing_correlation\", 0.7, 0.99, log=False)\n",
    "    scaler = trial.suggest_categorical(\"columnprep__transformers_num\", [\"StandardScaler\", \"MinMaxScaler\"])\n",
    "    pca_n_components = trial.suggest_float('pca_n_components', 0, 1)\n",
    "\n",
    "    # log all parameters of the data preprocessing with mlflow\n",
    "    client.log_param(child_run.info.run_id, \"preprocessing_imputer_function_numeric\", imputer_function_numeric)\n",
    "    client.log_param(child_run.info.run_id, \"preprocessing_transform_skewed_features_flag\", transform_skewed_features_flag)\n",
    "    client.log_param(child_run.info.run_id, \"preprocessing_ohe_min_frequency\", ohe_min_frequency)\n",
    "    client.log_param(child_run.info.run_id, \"preprocessing_ohe_max_categories\", ohe_max_categories)\n",
    "    client.log_param(child_run.info.run_id, \"preprocessing_feature_selection_low_variance_flag\", feature_selection_low_variance_flag)\n",
    "    client.log_param(child_run.info.run_id, \"preprocessing_correlation\", correlation)\n",
    "    client.log_param(child_run.info.run_id, \"preprocessing_scaler\", scaler)  \n",
    "    client.log_param(child_run.info.run_id, \"pca_n_components\", pca_n_components)\n",
    "\n",
    "\n",
    "    pipeline = make_pipeline(\n",
    "            pipeline_classes.ImputMissingValuesNumeric(imputer_function=imputer_function_numeric),\n",
    "            pipeline_classes.ImputMissingValuesCategoric(),\n",
    "            pipeline_classes.CreateNewFeatures(),\n",
    "            pipeline_classes.ImputMissingValuesNumeric(imputer_function=imputer_function_numeric),\n",
    "            pipeline_classes.SkewedFeatureTransformer(transform_skewed_features_flag=transform_skewed_features_flag),\n",
    "            pipeline_classes.LabelEncoderTransformer(),\n",
    "            pipeline_classes.OneHotEncoderTransformer(ohe_min_frequency=ohe_min_frequency, ohe_max_categories=ohe_max_categories),\n",
    "            pipeline_classes.LowVarianceTransformer(variance_threshold=feature_selection_low_variance_flag),\n",
    "            pipeline_classes.CorrelationTransformer(correlation_threshold=correlation),\n",
    "            pipeline_classes.ScalerTransformer(columnprep__transformers_num=scaler),\n",
    "            PCA(n_components=pca_n_components),\n",
    "            model\n",
    "    )\n",
    "\n",
    "    return pipeline, child_run"
   ]
  },
  {
   "cell_type": "code",
   "execution_count": 5,
   "metadata": {},
   "outputs": [],
   "source": [
    "def create_submission(best_model, x_test, parent_run, study):\n",
    "    # check if folder exists\n",
    "    if not os.path.exists(f'submissions/{SCRIPT}/{VERSION}'):\n",
    "        os.makedirs(f'submissions/{SCRIPT}/{VERSION}')\n",
    "    \n",
    "    # predict the test values with the training classification model\n",
    "    if study.best_params[\"log_transform_salePrice\"] == True:\n",
    "        y_pred = np.expm1(best_model.predict(x_test))\n",
    "    else:\n",
    "        y_pred = best_model.predict(x_test)\n",
    "    \n",
    "    df_submission = pd.read_csv(\"../01_RawData/sample_submission.csv\")\n",
    "    df_submission.iloc[:, 1] = y_pred\n",
    "    \n",
    "    df_submission.to_csv(f'submissions/{SCRIPT}/{VERSION}/{parent_run.info.run_id}.csv', index=False)"
   ]
  },
  {
   "cell_type": "code",
   "execution_count": 6,
   "metadata": {},
   "outputs": [],
   "source": [
    "def evaluate_model(x_train, y_train, y_validate, y_validate_pred, pipeline, parent_run):\n",
    "\n",
    "    def plot_learning_curve(pipeline, x_train, y_train, cv=cv, train_sizes=np.linspace(.1, 1.0, 50)):\n",
    "        train_sizes, train_scores, test_scores = learning_curve(\n",
    "            pipeline,\n",
    "            x_train,\n",
    "            y_train,\n",
    "            cv=cv,\n",
    "            n_jobs=-1,\n",
    "            train_sizes=np.linspace(.1, 1.0, 8)\n",
    "            )\n",
    "\n",
    "\n",
    "        fig1, ax1 = plt.subplots()\n",
    "        ax1.set_xlabel(\"Training examples\")\n",
    "        ax1.set_ylabel(\"Score\")\n",
    "        train_scores_mean = np.mean(train_scores, axis=1)\n",
    "        train_scores_std = np.std(train_scores, axis=1)\n",
    "        test_scores_mean = np.mean(test_scores, axis=1)\n",
    "        test_scores_std = np.std(test_scores, axis=1)\n",
    "        ax1.grid()\n",
    "\n",
    "        ax1.fill_between(train_sizes, train_scores_mean - train_scores_std,\n",
    "                        train_scores_mean + train_scores_std, alpha=0.1,\n",
    "                        color=\"r\")\n",
    "        ax1.fill_between(train_sizes, test_scores_mean - test_scores_std,\n",
    "                        test_scores_mean + test_scores_std, alpha=0.1, color=\"g\")\n",
    "        ax1.plot(train_sizes, train_scores_mean, 'o-', color=\"r\",\n",
    "                label=\"Training score\")\n",
    "        ax1.plot(train_sizes, test_scores_mean, 'o-', color=\"g\",\n",
    "                label=\"Cross-validation score\")\n",
    "\n",
    "        ax1.legend(loc=\"best\")\n",
    "        ax1.set_title(\"Difference between training and CV: \"\\\n",
    "            + str(round(test_scores_mean[7] / train_scores_mean[7] * 100, 2))\\\n",
    "            + \"%\")\n",
    "        client.log_figure(parent_run.info.run_id, fig1, 'plot_learning_curve.png')\n",
    "        plt.close()\n",
    "\n",
    "    plot_learning_curve(pipeline, x_train, y_train)\n",
    "\n",
    "\n",
    "    def plot_scatter(y_true, y_pred):\n",
    "        fig2, ax2 = plt.subplots()\n",
    "        ax2.scatter(y_pred, y_true.values)\n",
    "        ax2.plot([min(y_pred), max(y_pred)], [min(y_pred), max(y_pred)], c=\"red\")\n",
    "        client.log_figure(parent_run.info.run_id, fig2, 'plot_regression.png')\n",
    "        plt.close()\n",
    "\n",
    "    plot_scatter(y_validate, y_validate_pred)"
   ]
  },
  {
   "cell_type": "code",
   "execution_count": 7,
   "metadata": {},
   "outputs": [],
   "source": [
    "class Objective:\n",
    "    \n",
    "    def __init__(self, model_type, parent_run):\n",
    "        self.best_model = None\n",
    "        self._model = None\n",
    "        self.model_type = model_type\n",
    "        self.parent_run = parent_run\n",
    "\n",
    "    \n",
    "    def __call__(self, trial):\n",
    "    \n",
    "        pipeline, child_run = create_model(self, trial)\n",
    "        self._model = pipeline\n",
    "\n",
    "        log_transform_salePrice=trial.suggest_categorical(\"log_transform_salePrice\", [True, False])\n",
    "        client.log_param(child_run.info.run_id, \"log_transform_salePrice\", log_transform_salePrice)\n",
    "\n",
    "        if log_transform_salePrice == True:\n",
    "            rmse = np.sqrt(\n",
    "                -cross_val_score(\n",
    "                    TransformedTargetRegressor(\n",
    "                        regressor=pipeline,\n",
    "                        func=np.log,\n",
    "                        inverse_func=np.exp\n",
    "                        ),\n",
    "                    x_train, y_train,\n",
    "                    cv=cv,\n",
    "                    scoring=\"neg_mean_squared_error\",\n",
    "                    n_jobs=-1\n",
    "                    )\n",
    "                ).mean()\n",
    "        \n",
    "        else:\n",
    "            rmse = np.sqrt(\n",
    "                -cross_val_score(\n",
    "                    pipeline,\n",
    "                    x_train, y_train,\n",
    "                    cv=cv,\n",
    "                    scoring=\"neg_mean_squared_error\",\n",
    "                    n_jobs=-1\n",
    "                    )\n",
    "                ).mean()\n",
    "\n",
    "        client.log_metric(child_run.info.run_id, \"cv_rmse\", rmse)\n",
    "\n",
    "        return rmse\n",
    "\n",
    "    def callback(self, study, trial):\n",
    "        if study.best_trial == trial:\n",
    "            self.best_model = self._model"
   ]
  },
  {
   "cell_type": "code",
   "execution_count": 8,
   "metadata": {},
   "outputs": [
    {
     "name": "stderr",
     "output_type": "stream",
     "text": [
      "\u001b[32m[I 2023-02-18 16:34:27,898]\u001b[0m A new study created in memory with name: no-name-90c86a8c-09c1-443e-ae8d-fddaf380d05f\u001b[0m\n",
      "\u001b[32m[I 2023-02-18 16:35:16,926]\u001b[0m Trial 0 finished with value: 72604.67374527066 and parameters: {'rfr_n_estimators': 418, 'rfr_min_samples_split': 0.4448309238958331, 'rfr_min_samples_leaf': 0.23505611903153373, 'rfr_max_depth': 4, 'rfr_max_features': 0.19562271364252226, 'rfr_max_leaf_nodes': 6, 'preprocessing_imputer_function_numeric': 'SimpleImputer', 'preprocessing_transform_skewed_features_flag': True, 'preprocessing_ohe_min_frequency': 0.052810998151184285, 'preprocessing_ohe_max_categories': 11, 'preprocessing_feature_selection_low_variance_flag': 0.8255675300441065, 'preprocessing_correlation': 0.8763541761244833, 'columnprep__transformers_num': 'StandardScaler', 'pca_n_components': 0.9321806192506334, 'log_transform_salePrice': False}. Best is trial 0 with value: 72604.67374527066.\u001b[0m\n",
      "\u001b[32m[I 2023-02-18 16:35:26,156]\u001b[0m Trial 2 finished with value: 80187.40861281288 and parameters: {'rfr_n_estimators': 3049, 'rfr_min_samples_split': 0.4981025249074472, 'rfr_min_samples_leaf': 0.45742941301146633, 'rfr_max_depth': 10, 'rfr_max_features': 0.868823334336165, 'rfr_max_leaf_nodes': 3, 'preprocessing_imputer_function_numeric': 'SimpleImputer', 'preprocessing_transform_skewed_features_flag': False, 'preprocessing_ohe_min_frequency': 0.19353784315535966, 'preprocessing_ohe_max_categories': 16, 'preprocessing_feature_selection_low_variance_flag': 0.9108384540716137, 'preprocessing_correlation': 0.9612271822134772, 'columnprep__transformers_num': 'MinMaxScaler', 'pca_n_components': 0.4560497306055372, 'log_transform_salePrice': True}. Best is trial 0 with value: 72604.67374527066.\u001b[0m\n",
      "\u001b[32m[I 2023-02-18 16:35:27,723]\u001b[0m Trial 1 finished with value: 71998.11434863973 and parameters: {'rfr_n_estimators': 3439, 'rfr_min_samples_split': 0.044831810295193064, 'rfr_min_samples_leaf': 0.20760830103000133, 'rfr_max_depth': 4, 'rfr_max_features': 0.3023433286777313, 'rfr_max_leaf_nodes': 2, 'preprocessing_imputer_function_numeric': 'SimpleImputer', 'preprocessing_transform_skewed_features_flag': False, 'preprocessing_ohe_min_frequency': 0.07263561981051014, 'preprocessing_ohe_max_categories': 8, 'preprocessing_feature_selection_low_variance_flag': 0.7711212823929393, 'preprocessing_correlation': 0.9777058062488098, 'columnprep__transformers_num': 'StandardScaler', 'pca_n_components': 0.7748554211255357, 'log_transform_salePrice': True}. Best is trial 1 with value: 71998.11434863973.\u001b[0m\n",
      "\u001b[32m[I 2023-02-18 16:35:31,418]\u001b[0m Trial 3 finished with value: 60461.89384209927 and parameters: {'rfr_n_estimators': 2288, 'rfr_min_samples_split': 0.4908860509853052, 'rfr_min_samples_leaf': 0.16996000782232307, 'rfr_max_depth': 9, 'rfr_max_features': 0.8773702606315136, 'rfr_max_leaf_nodes': 2, 'preprocessing_imputer_function_numeric': 'KNNImputer', 'preprocessing_transform_skewed_features_flag': False, 'preprocessing_ohe_min_frequency': 0.17551404593909486, 'preprocessing_ohe_max_categories': 7, 'preprocessing_feature_selection_low_variance_flag': 0.7622200894852955, 'preprocessing_correlation': 0.7322589791294213, 'columnprep__transformers_num': 'StandardScaler', 'pca_n_components': 0.5129995930429243, 'log_transform_salePrice': True}. Best is trial 3 with value: 60461.89384209927.\u001b[0m\n",
      "\u001b[32m[I 2023-02-18 16:36:01,729]\u001b[0m Trial 5 finished with value: 56885.36182650032 and parameters: {'rfr_n_estimators': 897, 'rfr_min_samples_split': 0.03360078069430428, 'rfr_min_samples_leaf': 0.21889930697000548, 'rfr_max_depth': 9, 'rfr_max_features': 0.9524853097565884, 'rfr_max_leaf_nodes': 2, 'preprocessing_imputer_function_numeric': 'SimpleImputer', 'preprocessing_transform_skewed_features_flag': True, 'preprocessing_ohe_min_frequency': 0.03830290195400379, 'preprocessing_ohe_max_categories': 5, 'preprocessing_feature_selection_low_variance_flag': 0.7358742012791979, 'preprocessing_correlation': 0.7417204870705791, 'columnprep__transformers_num': 'StandardScaler', 'pca_n_components': 0.6280926828935395, 'log_transform_salePrice': False}. Best is trial 5 with value: 56885.36182650032.\u001b[0m\n",
      "\u001b[32m[I 2023-02-18 16:36:04,064]\u001b[0m Trial 6 finished with value: 52550.46643444151 and parameters: {'rfr_n_estimators': 309, 'rfr_min_samples_split': 0.10348466825906738, 'rfr_min_samples_leaf': 0.006328754330967135, 'rfr_max_depth': 7, 'rfr_max_features': 0.5557862495688275, 'rfr_max_leaf_nodes': 7, 'preprocessing_imputer_function_numeric': 'SimpleImputer', 'preprocessing_transform_skewed_features_flag': False, 'preprocessing_ohe_min_frequency': 0.04849227401105419, 'preprocessing_ohe_max_categories': 12, 'preprocessing_feature_selection_low_variance_flag': 0.8361403979526906, 'preprocessing_correlation': 0.8154192235050541, 'columnprep__transformers_num': 'MinMaxScaler', 'pca_n_components': 0.6766994986277817, 'log_transform_salePrice': False}. Best is trial 6 with value: 52550.46643444151.\u001b[0m\n",
      "\u001b[32m[I 2023-02-18 16:36:05,895]\u001b[0m Trial 7 finished with value: 80189.74433086129 and parameters: {'rfr_n_estimators': 236, 'rfr_min_samples_split': 0.47390428829626274, 'rfr_min_samples_leaf': 0.37897308164882404, 'rfr_max_depth': 9, 'rfr_max_features': 0.9872278016774584, 'rfr_max_leaf_nodes': 9, 'preprocessing_imputer_function_numeric': 'SimpleImputer', 'preprocessing_transform_skewed_features_flag': True, 'preprocessing_ohe_min_frequency': 0.0420262309498344, 'preprocessing_ohe_max_categories': 18, 'preprocessing_feature_selection_low_variance_flag': 0.769559623122652, 'preprocessing_correlation': 0.9280652489761878, 'columnprep__transformers_num': 'MinMaxScaler', 'pca_n_components': 0.8608481166348665, 'log_transform_salePrice': True}. Best is trial 6 with value: 52550.46643444151.\u001b[0m\n",
      "\u001b[32m[I 2023-02-18 16:36:06,959]\u001b[0m Trial 4 finished with value: 80186.72838217235 and parameters: {'rfr_n_estimators': 3248, 'rfr_min_samples_split': 0.2320688389789075, 'rfr_min_samples_leaf': 0.45378541983486587, 'rfr_max_depth': 10, 'rfr_max_features': 0.5930262822618533, 'rfr_max_leaf_nodes': 4, 'preprocessing_imputer_function_numeric': 'KNNImputer', 'preprocessing_transform_skewed_features_flag': True, 'preprocessing_ohe_min_frequency': 0.08885966660177887, 'preprocessing_ohe_max_categories': 12, 'preprocessing_feature_selection_low_variance_flag': 0.987647173161767, 'preprocessing_correlation': 0.9774342332492909, 'columnprep__transformers_num': 'MinMaxScaler', 'pca_n_components': 0.25639027298793415, 'log_transform_salePrice': True}. Best is trial 6 with value: 52550.46643444151.\u001b[0m\n",
      "\u001b[32m[I 2023-02-18 16:36:51,427]\u001b[0m Trial 9 finished with value: 78872.33832702122 and parameters: {'rfr_n_estimators': 1723, 'rfr_min_samples_split': 0.02291763713593009, 'rfr_min_samples_leaf': 0.4986954336787129, 'rfr_max_depth': 3, 'rfr_max_features': 0.847874465919053, 'rfr_max_leaf_nodes': 5, 'preprocessing_imputer_function_numeric': 'SimpleImputer', 'preprocessing_transform_skewed_features_flag': False, 'preprocessing_ohe_min_frequency': 0.1588086322933627, 'preprocessing_ohe_max_categories': 14, 'preprocessing_feature_selection_low_variance_flag': 0.7976119622313258, 'preprocessing_correlation': 0.7374529237590979, 'columnprep__transformers_num': 'StandardScaler', 'pca_n_components': 0.9601376653230769, 'log_transform_salePrice': False}. Best is trial 6 with value: 52550.46643444151.\u001b[0m\n",
      "\u001b[32m[I 2023-02-18 16:36:54,587]\u001b[0m Trial 10 finished with value: 77831.03288272844 and parameters: {'rfr_n_estimators': 280, 'rfr_min_samples_split': 0.3306864565207246, 'rfr_min_samples_leaf': 0.22626943589365162, 'rfr_max_depth': 6, 'rfr_max_features': 0.023338952584362027, 'rfr_max_leaf_nodes': 2, 'preprocessing_imputer_function_numeric': 'SimpleImputer', 'preprocessing_transform_skewed_features_flag': True, 'preprocessing_ohe_min_frequency': 0.14499042856355915, 'preprocessing_ohe_max_categories': 20, 'preprocessing_feature_selection_low_variance_flag': 0.9291521227879975, 'preprocessing_correlation': 0.7099974079496717, 'columnprep__transformers_num': 'StandardScaler', 'pca_n_components': 0.8117083064993874, 'log_transform_salePrice': False}. Best is trial 6 with value: 52550.46643444151.\u001b[0m\n",
      "\u001b[32m[I 2023-02-18 16:36:56,174]\u001b[0m Trial 8 finished with value: 68231.27502210464 and parameters: {'rfr_n_estimators': 4008, 'rfr_min_samples_split': 0.24777696523089282, 'rfr_min_samples_leaf': 0.23101993866851256, 'rfr_max_depth': 8, 'rfr_max_features': 0.4358583989127164, 'rfr_max_leaf_nodes': 9, 'preprocessing_imputer_function_numeric': 'SimpleImputer', 'preprocessing_transform_skewed_features_flag': True, 'preprocessing_ohe_min_frequency': 0.07253788683809943, 'preprocessing_ohe_max_categories': 17, 'preprocessing_feature_selection_low_variance_flag': 0.8319692113196835, 'preprocessing_correlation': 0.9545198010992053, 'columnprep__transformers_num': 'StandardScaler', 'pca_n_components': 0.529591915386705, 'log_transform_salePrice': True}. Best is trial 6 with value: 52550.46643444151.\u001b[0m\n",
      "\u001b[32m[I 2023-02-18 16:36:59,024]\u001b[0m Trial 11 finished with value: 55993.936216050075 and parameters: {'rfr_n_estimators': 834, 'rfr_min_samples_split': 0.37117200032778674, 'rfr_min_samples_leaf': 0.052766219339848874, 'rfr_max_depth': 9, 'rfr_max_features': 0.41060424571830756, 'rfr_max_leaf_nodes': 9, 'preprocessing_imputer_function_numeric': 'KNNImputer', 'preprocessing_transform_skewed_features_flag': True, 'preprocessing_ohe_min_frequency': 0.013158420970002194, 'preprocessing_ohe_max_categories': 16, 'preprocessing_feature_selection_low_variance_flag': 0.7703602953877008, 'preprocessing_correlation': 0.9347170140428422, 'columnprep__transformers_num': 'StandardScaler', 'pca_n_components': 0.834875394207596, 'log_transform_salePrice': False}. Best is trial 6 with value: 52550.46643444151.\u001b[0m\n",
      "\u001b[32m[I 2023-02-18 16:37:39,586]\u001b[0m Trial 12 finished with value: 48652.80806948643 and parameters: {'rfr_n_estimators': 612, 'rfr_min_samples_split': 0.012095243073971251, 'rfr_min_samples_leaf': 0.12032087146146508, 'rfr_max_depth': 5, 'rfr_max_features': 0.9934936808775071, 'rfr_max_leaf_nodes': 4, 'preprocessing_imputer_function_numeric': 'SimpleImputer', 'preprocessing_transform_skewed_features_flag': False, 'preprocessing_ohe_min_frequency': 0.05232386897332602, 'preprocessing_ohe_max_categories': 12, 'preprocessing_feature_selection_low_variance_flag': 0.7017146458163257, 'preprocessing_correlation': 0.7471204041053634, 'columnprep__transformers_num': 'StandardScaler', 'pca_n_components': 0.6722529231440829, 'log_transform_salePrice': False}. Best is trial 12 with value: 48652.80806948643.\u001b[0m\n",
      "\u001b[32m[I 2023-02-18 16:37:55,735]\u001b[0m Trial 14 finished with value: 53861.43125944336 and parameters: {'rfr_n_estimators': 1246, 'rfr_min_samples_split': 0.12687375634618264, 'rfr_min_samples_leaf': 0.001812341626375287, 'rfr_max_depth': 7, 'rfr_max_features': 0.6574222888724525, 'rfr_max_leaf_nodes': 7, 'preprocessing_imputer_function_numeric': 'KNNImputer', 'preprocessing_transform_skewed_features_flag': False, 'preprocessing_ohe_min_frequency': 0.008367965402923144, 'preprocessing_ohe_max_categories': 5, 'preprocessing_feature_selection_low_variance_flag': 0.7026341063496082, 'preprocessing_correlation': 0.7980276477240542, 'columnprep__transformers_num': 'MinMaxScaler', 'pca_n_components': 0.6589985027842467, 'log_transform_salePrice': False}. Best is trial 12 with value: 48652.80806948643.\u001b[0m\n",
      "\u001b[32m[I 2023-02-18 16:38:03,682]\u001b[0m Trial 13 finished with value: 55248.62412653384 and parameters: {'rfr_n_estimators': 4786, 'rfr_min_samples_split': 0.14605726637827365, 'rfr_min_samples_leaf': 0.011556328148898008, 'rfr_max_depth': 6, 'rfr_max_features': 0.5874980537254785, 'rfr_max_leaf_nodes': 9, 'preprocessing_imputer_function_numeric': 'KNNImputer', 'preprocessing_transform_skewed_features_flag': False, 'preprocessing_ohe_min_frequency': 0.008674139473745013, 'preprocessing_ohe_max_categories': 9, 'preprocessing_feature_selection_low_variance_flag': 0.8699863008009924, 'preprocessing_correlation': 0.8081479024497491, 'columnprep__transformers_num': 'MinMaxScaler', 'pca_n_components': 0.032300962594098814, 'log_transform_salePrice': False}. Best is trial 12 with value: 48652.80806948643.\u001b[0m\n",
      "\u001b[32m[I 2023-02-18 16:38:13,780]\u001b[0m Trial 15 finished with value: 54050.98562982385 and parameters: {'rfr_n_estimators': 1265, 'rfr_min_samples_split': 0.13574326342622506, 'rfr_min_samples_leaf': 0.0031993968022649595, 'rfr_max_depth': 7, 'rfr_max_features': 0.6220153342172686, 'rfr_max_leaf_nodes': 8, 'preprocessing_imputer_function_numeric': 'KNNImputer', 'preprocessing_transform_skewed_features_flag': False, 'preprocessing_ohe_min_frequency': 0.003832946102980024, 'preprocessing_ohe_max_categories': 14, 'preprocessing_feature_selection_low_variance_flag': 0.7095904901995833, 'preprocessing_correlation': 0.8185179923348656, 'columnprep__transformers_num': 'MinMaxScaler', 'pca_n_components': 0.6860344675542505, 'log_transform_salePrice': False}. Best is trial 12 with value: 48652.80806948643.\u001b[0m\n",
      "\u001b[32m[I 2023-02-18 16:38:25,683]\u001b[0m Trial 16 finished with value: 56546.71569214565 and parameters: {'rfr_n_estimators': 1616, 'rfr_min_samples_split': 0.12112169571692423, 'rfr_min_samples_leaf': 0.009322064961185157, 'rfr_max_depth': 6, 'rfr_max_features': 0.6379059463054878, 'rfr_max_leaf_nodes': 7, 'preprocessing_imputer_function_numeric': 'SimpleImputer', 'preprocessing_transform_skewed_features_flag': False, 'preprocessing_ohe_min_frequency': 0.12149061965321849, 'preprocessing_ohe_max_categories': 11, 'preprocessing_feature_selection_low_variance_flag': 0.7133952095342392, 'preprocessing_correlation': 0.7950662309155255, 'columnprep__transformers_num': 'MinMaxScaler', 'pca_n_components': 0.3098081444241739, 'log_transform_salePrice': False}. Best is trial 12 with value: 48652.80806948643.\u001b[0m\n",
      "\u001b[32m[I 2023-02-18 16:38:51,895]\u001b[0m Trial 17 finished with value: 57903.60057184473 and parameters: {'rfr_n_estimators': 1631, 'rfr_min_samples_split': 0.13502630060101006, 'rfr_min_samples_leaf': 0.11204900263339022, 'rfr_max_depth': 6, 'rfr_max_features': 0.6619312445958109, 'rfr_max_leaf_nodes': 7, 'preprocessing_imputer_function_numeric': 'SimpleImputer', 'preprocessing_transform_skewed_features_flag': False, 'preprocessing_ohe_min_frequency': 0.12498229033197317, 'preprocessing_ohe_max_categories': 9, 'preprocessing_feature_selection_low_variance_flag': 0.8775705899079921, 'preprocessing_correlation': 0.832412237876063, 'columnprep__transformers_num': 'MinMaxScaler', 'pca_n_components': 0.04979398812119534, 'log_transform_salePrice': False}. Best is trial 12 with value: 48652.80806948643.\u001b[0m\n",
      "\u001b[32m[I 2023-02-18 16:39:09,115]\u001b[0m Trial 18 finished with value: 59640.63313294803 and parameters: {'rfr_n_estimators': 1847, 'rfr_min_samples_split': 0.12185015327922727, 'rfr_min_samples_leaf': 0.11068048102301217, 'rfr_max_depth': 5, 'rfr_max_features': 0.7291589758633459, 'rfr_max_leaf_nodes': 7, 'preprocessing_imputer_function_numeric': 'SimpleImputer', 'preprocessing_transform_skewed_features_flag': False, 'preprocessing_ohe_min_frequency': 0.09894923507010091, 'preprocessing_ohe_max_categories': 13, 'preprocessing_feature_selection_low_variance_flag': 0.7030077351350048, 'preprocessing_correlation': 0.7939317258188534, 'columnprep__transformers_num': 'MinMaxScaler', 'pca_n_components': 0.34956593329602015, 'log_transform_salePrice': False}. Best is trial 12 with value: 48652.80806948643.\u001b[0m\n",
      "\u001b[32m[I 2023-02-18 16:39:12,062]\u001b[0m Trial 19 finished with value: 56338.85798024433 and parameters: {'rfr_n_estimators': 2129, 'rfr_min_samples_split': 0.09715807912189924, 'rfr_min_samples_leaf': 0.10018166872411163, 'rfr_max_depth': 5, 'rfr_max_features': 0.7626083234551299, 'rfr_max_leaf_nodes': 5, 'preprocessing_imputer_function_numeric': 'SimpleImputer', 'preprocessing_transform_skewed_features_flag': False, 'preprocessing_ohe_min_frequency': 0.1240749663354273, 'preprocessing_ohe_max_categories': 10, 'preprocessing_feature_selection_low_variance_flag': 0.8721016730604708, 'preprocessing_correlation': 0.7787596572864299, 'columnprep__transformers_num': 'MinMaxScaler', 'pca_n_components': 0.3999972968935469, 'log_transform_salePrice': False}. Best is trial 12 with value: 48652.80806948643.\u001b[0m\n",
      "\u001b[32m[I 2023-02-18 16:39:28,096]\u001b[0m Trial 20 finished with value: 58114.97339166305 and parameters: {'rfr_n_estimators': 2320, 'rfr_min_samples_split': 0.06921464033762276, 'rfr_min_samples_leaf': 0.10006167834406648, 'rfr_max_depth': 5, 'rfr_max_features': 0.763897901023767, 'rfr_max_leaf_nodes': 5, 'preprocessing_imputer_function_numeric': 'SimpleImputer', 'preprocessing_transform_skewed_features_flag': False, 'preprocessing_ohe_min_frequency': 0.11141125852249142, 'preprocessing_ohe_max_categories': 10, 'preprocessing_feature_selection_low_variance_flag': 0.9166346851003335, 'preprocessing_correlation': 0.8622662713646874, 'columnprep__transformers_num': 'MinMaxScaler', 'pca_n_components': 0.39862747273311916, 'log_transform_salePrice': False}. Best is trial 12 with value: 48652.80806948643.\u001b[0m\n",
      "\u001b[32m[I 2023-02-18 16:39:47,641]\u001b[0m Trial 21 finished with value: 50936.942534499816 and parameters: {'rfr_n_estimators': 2271, 'rfr_min_samples_split': 0.086780462681747, 'rfr_min_samples_leaf': 0.10843157934608445, 'rfr_max_depth': 2, 'rfr_max_features': 0.7616996127122473, 'rfr_max_leaf_nodes': 5, 'preprocessing_imputer_function_numeric': 'SimpleImputer', 'preprocessing_transform_skewed_features_flag': False, 'preprocessing_ohe_min_frequency': 0.1010596353477532, 'preprocessing_ohe_max_categories': 14, 'preprocessing_feature_selection_low_variance_flag': 0.9612561320048698, 'preprocessing_correlation': 0.8707192168655328, 'columnprep__transformers_num': 'StandardScaler', 'pca_n_components': 0.37531958249512676, 'log_transform_salePrice': False}. Best is trial 12 with value: 48652.80806948643.\u001b[0m\n",
      "\u001b[32m[I 2023-02-18 16:39:52,454]\u001b[0m Trial 23 finished with value: 75416.80460929402 and parameters: {'rfr_n_estimators': 40, 'rfr_min_samples_split': 0.19712309489634872, 'rfr_min_samples_leaf': 0.2927488104839815, 'rfr_max_depth': 3, 'rfr_max_features': 0.1018486241428711, 'rfr_max_leaf_nodes': 4, 'preprocessing_imputer_function_numeric': 'SimpleImputer', 'preprocessing_transform_skewed_features_flag': False, 'preprocessing_ohe_min_frequency': 0.03467823572196184, 'preprocessing_ohe_max_categories': 14, 'preprocessing_feature_selection_low_variance_flag': 0.8059039385348523, 'preprocessing_correlation': 0.8730689377151042, 'columnprep__transformers_num': 'StandardScaler', 'pca_n_components': 0.587326054892807, 'log_transform_salePrice': False}. Best is trial 12 with value: 48652.80806948643.\u001b[0m\n",
      "\u001b[32m[I 2023-02-18 16:39:55,902]\u001b[0m Trial 24 finished with value: 68968.78942730278 and parameters: {'rfr_n_estimators': 856, 'rfr_min_samples_split': 0.1768197442491423, 'rfr_min_samples_leaf': 0.3085110496648841, 'rfr_max_depth': 7, 'rfr_max_features': 0.5018380343111136, 'rfr_max_leaf_nodes': 6, 'preprocessing_imputer_function_numeric': 'KNNImputer', 'preprocessing_transform_skewed_features_flag': False, 'preprocessing_ohe_min_frequency': 0.027702872205611948, 'preprocessing_ohe_max_categories': 5, 'preprocessing_feature_selection_low_variance_flag': 0.7376378876428221, 'preprocessing_correlation': 0.7682520339591705, 'columnprep__transformers_num': 'MinMaxScaler', 'pca_n_components': 0.6376583205016557, 'log_transform_salePrice': False}. Best is trial 12 with value: 48652.80806948643.\u001b[0m\n",
      "\u001b[32m[I 2023-02-18 16:39:56,958]\u001b[0m Trial 22 finished with value: 74874.8344571173 and parameters: {'rfr_n_estimators': 2532, 'rfr_min_samples_split': 0.00043825933872651546, 'rfr_min_samples_leaf': 0.320388826005754, 'rfr_max_depth': 2, 'rfr_max_features': 0.7850299231076969, 'rfr_max_leaf_nodes': 5, 'preprocessing_imputer_function_numeric': 'SimpleImputer', 'preprocessing_transform_skewed_features_flag': False, 'preprocessing_ohe_min_frequency': 0.06414691230808688, 'preprocessing_ohe_max_categories': 10, 'preprocessing_feature_selection_low_variance_flag': 0.9596273489921547, 'preprocessing_correlation': 0.8805728191148116, 'columnprep__transformers_num': 'StandardScaler', 'pca_n_components': 0.7183638741004845, 'log_transform_salePrice': False}. Best is trial 12 with value: 48652.80806948643.\u001b[0m\n",
      "\u001b[32m[I 2023-02-18 16:40:33,487]\u001b[0m Trial 25 finished with value: 56497.19608094489 and parameters: {'rfr_n_estimators': 689, 'rfr_min_samples_split': 0.19404679066272856, 'rfr_min_samples_leaf': 0.16983377931247048, 'rfr_max_depth': 2, 'rfr_max_features': 0.5001471985472825, 'rfr_max_leaf_nodes': 4, 'preprocessing_imputer_function_numeric': 'SimpleImputer', 'preprocessing_transform_skewed_features_flag': False, 'preprocessing_ohe_min_frequency': 0.06777099935601863, 'preprocessing_ohe_max_categories': 15, 'preprocessing_feature_selection_low_variance_flag': 0.9645583635695291, 'preprocessing_correlation': 0.8876799355541807, 'columnprep__transformers_num': 'StandardScaler', 'pca_n_components': 0.1731668086297472, 'log_transform_salePrice': False}. Best is trial 12 with value: 48652.80806948643.\u001b[0m\n",
      "\u001b[32m[I 2023-02-18 16:40:38,770]\u001b[0m Trial 26 finished with value: 65144.93284189986 and parameters: {'rfr_n_estimators': 2794, 'rfr_min_samples_split': 0.002669006999118609, 'rfr_min_samples_leaf': 0.3057463869857595, 'rfr_max_depth': 2, 'rfr_max_features': 0.5217117315090865, 'rfr_max_leaf_nodes': 4, 'preprocessing_imputer_function_numeric': 'SimpleImputer', 'preprocessing_transform_skewed_features_flag': False, 'preprocessing_ohe_min_frequency': 0.07073884481699702, 'preprocessing_ohe_max_categories': 13, 'preprocessing_feature_selection_low_variance_flag': 0.952247321557778, 'preprocessing_correlation': 0.9090453338070114, 'columnprep__transformers_num': 'StandardScaler', 'pca_n_components': 0.19051242959169248, 'log_transform_salePrice': False}. Best is trial 12 with value: 48652.80806948643.\u001b[0m\n",
      "\u001b[32m[I 2023-02-18 16:40:40,079]\u001b[0m Trial 27 finished with value: 60376.628169425996 and parameters: {'rfr_n_estimators': 2677, 'rfr_min_samples_split': 0.009973132118394241, 'rfr_min_samples_leaf': 0.17058843735178747, 'rfr_max_depth': 2, 'rfr_max_features': 0.5059207028773919, 'rfr_max_leaf_nodes': 4, 'preprocessing_imputer_function_numeric': 'SimpleImputer', 'preprocessing_transform_skewed_features_flag': False, 'preprocessing_ohe_min_frequency': 0.06444716931482135, 'preprocessing_ohe_max_categories': 13, 'preprocessing_feature_selection_low_variance_flag': 0.9890078292506899, 'preprocessing_correlation': 0.8495407822387857, 'columnprep__transformers_num': 'StandardScaler', 'pca_n_components': 0.22186408591326315, 'log_transform_salePrice': False}. Best is trial 12 with value: 48652.80806948643.\u001b[0m\n",
      "\u001b[32m[I 2023-02-18 16:40:41,504]\u001b[0m Trial 28 finished with value: 56750.85484057943 and parameters: {'rfr_n_estimators': 617, 'rfr_min_samples_split': 0.07645708795116427, 'rfr_min_samples_leaf': 0.16592106204146712, 'rfr_max_depth': 2, 'rfr_max_features': 0.5059789499787612, 'rfr_max_leaf_nodes': 4, 'preprocessing_imputer_function_numeric': 'SimpleImputer', 'preprocessing_transform_skewed_features_flag': False, 'preprocessing_ohe_min_frequency': 0.0894087750835709, 'preprocessing_ohe_max_categories': 13, 'preprocessing_feature_selection_low_variance_flag': 0.9496408538207226, 'preprocessing_correlation': 0.8365953418886, 'columnprep__transformers_num': 'StandardScaler', 'pca_n_components': 0.18342723968452684, 'log_transform_salePrice': False}. Best is trial 12 with value: 48652.80806948643.\u001b[0m\n",
      "\u001b[32m[I 2023-02-18 16:42:20,154]\u001b[0m Trial 29 finished with value: 41499.666371069514 and parameters: {'rfr_n_estimators': 1244, 'rfr_min_samples_split': 0.08047395025384636, 'rfr_min_samples_leaf': 0.05603323411030883, 'rfr_max_depth': 3, 'rfr_max_features': 0.9178439698743321, 'rfr_max_leaf_nodes': 10, 'preprocessing_imputer_function_numeric': 'SimpleImputer', 'preprocessing_transform_skewed_features_flag': False, 'preprocessing_ohe_min_frequency': 0.0897282695188415, 'preprocessing_ohe_max_categories': 12, 'preprocessing_feature_selection_low_variance_flag': 0.8973778719225021, 'preprocessing_correlation': 0.84831096378309, 'columnprep__transformers_num': 'StandardScaler', 'pca_n_components': 0.567777957519887, 'log_transform_salePrice': False}. Best is trial 29 with value: 41499.666371069514.\u001b[0m\n",
      "\u001b[32m[I 2023-02-18 16:42:37,353]\u001b[0m Trial 30 finished with value: 40701.72480622899 and parameters: {'rfr_n_estimators': 3855, 'rfr_min_samples_split': 0.07514076778393401, 'rfr_min_samples_leaf': 0.06051599674055905, 'rfr_max_depth': 4, 'rfr_max_features': 0.9209279350880388, 'rfr_max_leaf_nodes': 10, 'preprocessing_imputer_function_numeric': 'SimpleImputer', 'preprocessing_transform_skewed_features_flag': False, 'preprocessing_ohe_min_frequency': 0.0883248699843571, 'preprocessing_ohe_max_categories': 19, 'preprocessing_feature_selection_low_variance_flag': 0.8537609064624805, 'preprocessing_correlation': 0.84678370662852, 'columnprep__transformers_num': 'StandardScaler', 'pca_n_components': 0.5812283253591746, 'log_transform_salePrice': False}. Best is trial 30 with value: 40701.72480622899.\u001b[0m\n",
      "\u001b[32m[I 2023-02-18 16:42:37,760]\u001b[0m Trial 31 finished with value: 45403.024943808035 and parameters: {'rfr_n_estimators': 3877, 'rfr_min_samples_split': 0.07612219855139031, 'rfr_min_samples_leaf': 0.04979381597278016, 'rfr_max_depth': 4, 'rfr_max_features': 0.9119946733455642, 'rfr_max_leaf_nodes': 3, 'preprocessing_imputer_function_numeric': 'SimpleImputer', 'preprocessing_transform_skewed_features_flag': False, 'preprocessing_ohe_min_frequency': 0.08874569197341552, 'preprocessing_ohe_max_categories': 12, 'preprocessing_feature_selection_low_variance_flag': 0.8535974069657715, 'preprocessing_correlation': 0.8350352601614653, 'columnprep__transformers_num': 'StandardScaler', 'pca_n_components': 0.5352425137654414, 'log_transform_salePrice': False}. Best is trial 30 with value: 40701.72480622899.\u001b[0m\n",
      "\u001b[32m[I 2023-02-18 16:42:42,970]\u001b[0m Trial 32 finished with value: 47606.28269720653 and parameters: {'rfr_n_estimators': 1258, 'rfr_min_samples_split': 0.33821897888012575, 'rfr_min_samples_leaf': 0.05090884005528458, 'rfr_max_depth': 4, 'rfr_max_features': 0.9165698158336013, 'rfr_max_leaf_nodes': 6, 'preprocessing_imputer_function_numeric': 'SimpleImputer', 'preprocessing_transform_skewed_features_flag': False, 'preprocessing_ohe_min_frequency': 0.04661927338213004, 'preprocessing_ohe_max_categories': 12, 'preprocessing_feature_selection_low_variance_flag': 0.8488617938453509, 'preprocessing_correlation': 0.7713078719570798, 'columnprep__transformers_num': 'StandardScaler', 'pca_n_components': 0.5739124650554923, 'log_transform_salePrice': False}. Best is trial 30 with value: 40701.72480622899.\u001b[0m\n",
      "\u001b[32m[I 2023-02-18 16:44:12,164]\u001b[0m Trial 33 finished with value: 47917.89014113066 and parameters: {'rfr_n_estimators': 1281, 'rfr_min_samples_split': 0.29711976902002496, 'rfr_min_samples_leaf': 0.05291162512062156, 'rfr_max_depth': 3, 'rfr_max_features': 0.9345017597428938, 'rfr_max_leaf_nodes': 10, 'preprocessing_imputer_function_numeric': 'SimpleImputer', 'preprocessing_transform_skewed_features_flag': False, 'preprocessing_ohe_min_frequency': 0.08610843335539442, 'preprocessing_ohe_max_categories': 11, 'preprocessing_feature_selection_low_variance_flag': 0.890234854396937, 'preprocessing_correlation': 0.8902904242229676, 'columnprep__transformers_num': 'StandardScaler', 'pca_n_components': 0.4743380661147595, 'log_transform_salePrice': False}. Best is trial 30 with value: 40701.72480622899.\u001b[0m\n",
      "\u001b[32m[I 2023-02-18 16:44:57,052]\u001b[0m Trial 34 finished with value: 41286.06592272 and parameters: {'rfr_n_estimators': 3634, 'rfr_min_samples_split': 0.06418322834667449, 'rfr_min_samples_leaf': 0.0615545675116299, 'rfr_max_depth': 3, 'rfr_max_features': 0.9330928682922641, 'rfr_max_leaf_nodes': 10, 'preprocessing_imputer_function_numeric': 'SimpleImputer', 'preprocessing_transform_skewed_features_flag': False, 'preprocessing_ohe_min_frequency': 0.08860919340159301, 'preprocessing_ohe_max_categories': 11, 'preprocessing_feature_selection_low_variance_flag': 0.855348536841968, 'preprocessing_correlation': 0.897759074270512, 'columnprep__transformers_num': 'StandardScaler', 'pca_n_components': 0.5718022684621139, 'log_transform_salePrice': False}. Best is trial 30 with value: 40701.72480622899.\u001b[0m\n",
      "\u001b[32m[I 2023-02-18 16:45:07,891]\u001b[0m Trial 35 finished with value: 39395.796530591884 and parameters: {'rfr_n_estimators': 3902, 'rfr_min_samples_split': 0.058908362725242844, 'rfr_min_samples_leaf': 0.05243126887558759, 'rfr_max_depth': 4, 'rfr_max_features': 0.9373722000494422, 'rfr_max_leaf_nodes': 10, 'preprocessing_imputer_function_numeric': 'SimpleImputer', 'preprocessing_transform_skewed_features_flag': False, 'preprocessing_ohe_min_frequency': 0.08888746332342105, 'preprocessing_ohe_max_categories': 11, 'preprocessing_feature_selection_low_variance_flag': 0.8534990727247982, 'preprocessing_correlation': 0.9038726420286336, 'columnprep__transformers_num': 'StandardScaler', 'pca_n_components': 0.5692185561696994, 'log_transform_salePrice': False}. Best is trial 35 with value: 39395.796530591884.\u001b[0m\n",
      "\u001b[32m[I 2023-02-18 16:45:39,303]\u001b[0m Trial 36 finished with value: 48201.423686917 and parameters: {'rfr_n_estimators': 3828, 'rfr_min_samples_split': 0.36846890538703037, 'rfr_min_samples_leaf': 0.05389752126164967, 'rfr_max_depth': 4, 'rfr_max_features': 0.9170691313867927, 'rfr_max_leaf_nodes': 10, 'preprocessing_imputer_function_numeric': 'SimpleImputer', 'preprocessing_transform_skewed_features_flag': False, 'preprocessing_ohe_min_frequency': 0.08676262431121182, 'preprocessing_ohe_max_categories': 19, 'preprocessing_feature_selection_low_variance_flag': 0.8542758144245787, 'preprocessing_correlation': 0.8515678579641298, 'columnprep__transformers_num': 'StandardScaler', 'pca_n_components': 0.566154739425703, 'log_transform_salePrice': False}. Best is trial 35 with value: 39395.796530591884.\u001b[0m\n",
      "\u001b[32m[I 2023-02-18 16:45:45,432]\u001b[0m Trial 37 finished with value: 58732.34117377127 and parameters: {'rfr_n_estimators': 3871, 'rfr_min_samples_split': 0.41769238015438676, 'rfr_min_samples_leaf': 0.05407857533115764, 'rfr_max_depth': 4, 'rfr_max_features': 0.8863737533167808, 'rfr_max_leaf_nodes': 10, 'preprocessing_imputer_function_numeric': 'SimpleImputer', 'preprocessing_transform_skewed_features_flag': False, 'preprocessing_ohe_min_frequency': 0.14057620934997345, 'preprocessing_ohe_max_categories': 20, 'preprocessing_feature_selection_low_variance_flag': 0.8507161266986729, 'preprocessing_correlation': 0.8400419982356921, 'columnprep__transformers_num': 'StandardScaler', 'pca_n_components': 0.549046867650967, 'log_transform_salePrice': True}. Best is trial 35 with value: 39395.796530591884.\u001b[0m\n"
     ]
    },
    {
     "name": "stdout",
     "output_type": "stream",
     "text": [
      "Best trial:\n",
      "39395.796530591884\n",
      "{'rfr_n_estimators': 3902, 'rfr_min_samples_split': 0.058908362725242844, 'rfr_min_samples_leaf': 0.05243126887558759, 'rfr_max_depth': 4, 'rfr_max_features': 0.9373722000494422, 'rfr_max_leaf_nodes': 10, 'preprocessing_imputer_function_numeric': 'SimpleImputer', 'preprocessing_transform_skewed_features_flag': False, 'preprocessing_ohe_min_frequency': 0.08888746332342105, 'preprocessing_ohe_max_categories': 11, 'preprocessing_feature_selection_low_variance_flag': 0.8534990727247982, 'preprocessing_correlation': 0.9038726420286336, 'columnprep__transformers_num': 'StandardScaler', 'pca_n_components': 0.5692185561696994, 'log_transform_salePrice': False}\n",
      "Log CV Params\n",
      "Fit Best Model\n",
      "Predict Best Model\n",
      "Evaluate Best Model\n",
      "Create submission\n"
     ]
    }
   ],
   "source": [
    "# model_type='Lasso'\n",
    "# model_type='Ridge'\n",
    "# model_type='BayesianRidge'\n",
    "# model_type='ElasticNet'\n",
    "# model_type='GradientBoostingRegressor'\n",
    "model_type='RandomForestRegressor'\n",
    "\n",
    "\n",
    "\n",
    "\n",
    "\n",
    "parent_run = client.create_run(\n",
    "    experiment_id=experiment, \n",
    "    tags={\"script_name\": SCRIPT, \"script_version\": VERSION}\n",
    "    )\n",
    "\n",
    "objective = Objective(model_type, parent_run)\n",
    "\n",
    "study = optuna.create_study(direction=\"minimize\")\n",
    "\n",
    "study.optimize(\n",
    "    objective,\n",
    "    n_trials=config_data[\"N_TRAILS\"],\n",
    "    timeout=config_data[\"TIMEOUT\"],\n",
    "    n_jobs=-1,\n",
    "    callbacks=[objective.callback]\n",
    "    )\n",
    "\n",
    "print(\"Best trial:\")\n",
    "print(study.best_value)\n",
    "print(study.best_params)\n",
    "\n",
    "print(\"Log CV Params\")\n",
    "client.log_metric(parent_run.info.run_id, \"best_cv_score\", round(study.best_value, 3))\n",
    "# client.log_param(parent_run.info.run_id, \"transformer_num\", str(transformer_num))\n",
    "\n",
    "client.log_param(parent_run.info.run_id, \"cv_n_splits\", cv.n_splits)\n",
    "client.log_param(parent_run.info.run_id, \"cv_train_size\", cv.train_size)\n",
    "client.log_param(parent_run.info.run_id, \"cv_test_size\", cv.test_size)\n",
    "client.log_param(parent_run.info.run_id, \"cv_random_state\", cv.random_state)\n",
    "\n",
    "for param in study.best_params:\n",
    "    client.log_param(parent_run.info.run_id, param, study.best_params[param])\n",
    "\n",
    "best_model = objective.best_model\n",
    "client.log_param(parent_run.info.run_id, \"algo\", best_model.get_params()[\"steps\"][-1][1].__class__.__name__)\n",
    "\n",
    "\n",
    "# fit the pipeline to compute the validation results\n",
    "print(\"Fit Best Model\")\n",
    "best_model.fit(x_train, y_train)\n",
    "\n",
    "# predict the training outcome\n",
    "print(\"Predict Best Model\")\n",
    "if study.best_params[\"log_transform_salePrice\"] == True:\n",
    "    y_validate_pred = np.expm1(best_model.predict(x_validate))\n",
    "else:\n",
    "    y_validate_pred = best_model.predict(x_validate)\n",
    "\n",
    "\n",
    "# evaluate model\n",
    "print(\"Evaluate Best Model\")\n",
    "evaluate_model(x_train, y_train, y_validate, y_validate_pred, best_model, parent_run)\n",
    "\n",
    "# # create submission of best model\n",
    "print(\"Create submission\")\n",
    "create_submission(best_model, x_test, parent_run, study)\n",
    "\n",
    "mlflow.end_run()"
   ]
  },
  {
   "cell_type": "code",
   "execution_count": 2,
   "metadata": {},
   "outputs": [],
   "source": [
    "def add_Kaggle_score(run_id, kaggle_score):\n",
    "    # show if kaggle_score is already present\n",
    "    if \"kaggle_score\" not in dict(dict(mlflow.get_run(run_id))[\"data\"])[\"metrics\"].keys():\n",
    "        # if no kaggle_score is present, start run and write kaggle_score\n",
    "        with mlflow.start_run(run_id=run_id):\n",
    "            mlflow.log_metric(\"kaggle_score\", kaggle_score)"
   ]
  },
  {
   "cell_type": "code",
   "execution_count": 3,
   "metadata": {},
   "outputs": [],
   "source": [
    "# Version 0.5\n",
    "add_Kaggle_score(run_id=\"82a292f0aad446139c4c91a06b2b4778\", kaggle_score=0.2621) # Lasso\n",
    "add_Kaggle_score(run_id=\"76548b96d89f422fa7ffbe4121882f83\", kaggle_score=0.22585) # Ridge\n",
    "add_Kaggle_score(run_id=\"20c743d91b884f93b7b96713ddc1043e\", kaggle_score=1) # BayesianRidge -> inf\n",
    "add_Kaggle_score(run_id=\"df553097911c4b7b885c03524fc77015\", kaggle_score=0.17173) # ElasticNet\n",
    "add_Kaggle_score(run_id=\"db2445f0589148e3b2bd203910c6a305\", kaggle_score=1) # GradientBoostingRegressor -> inf\n",
    "add_Kaggle_score(run_id=\"6ce64e8bb0c8455580d74c2ee069085d\", kaggle_score=0.23861) # RandomForestRegressor"
   ]
  },
  {
   "cell_type": "code",
   "execution_count": 10,
   "metadata": {},
   "outputs": [],
   "source": [
    "# add_Kaggle_score(run_id=\"eab21fd5a7f94493925c987347293087\", kaggle_score=0.13808) # Ridge\n",
    "# add_Kaggle_score(run_id=\"6f25f31ec3e146818f7279cb16cccaa6\", kaggle_score=0.13304) # Ridge -> Position 1207\n",
    "# add_Kaggle_score(run_id=\"3e6489469e424c9fbba08a232940e2c3\", kaggle_score=0.26041) # Lasso\n",
    "# add_Kaggle_score(run_id=\"3724cc35ec0b440d89b307e39c302261\", kaggle_score=0.13313) # BayesianRidge\n",
    "# add_Kaggle_score(run_id=\"90e0b665fb8c4367ae99691fb788eabc\", kaggle_score=0.16332) # ElasticNet\n",
    "# add_Kaggle_score(run_id=\"da0a81cd09fe4ddab4924118843fab6a\", kaggle_score=0) # GradientBoostingRegressor -> inf\n",
    "# add_Kaggle_score(run_id=\"467208197c064ef292167f0ad24f4484\", kaggle_score=0.16307) # GradientBoostingRegressor\n",
    "# add_Kaggle_score(run_id=\"a4941fe4f93846fd8cd559a94291532a\", kaggle_score=0.27496) # RandomForestRegressor"
   ]
  },
  {
   "cell_type": "code",
   "execution_count": 9,
   "metadata": {},
   "outputs": [],
   "source": [
    "list_runs = (\n",
    "    \"82a292f0aad446139c4c91a06b2b4778\",\n",
    "    \"76548b96d89f422fa7ffbe4121882f83\",\n",
    "    \"20c743d91b884f93b7b96713ddc1043e\",\n",
    "    \"df553097911c4b7b885c03524fc77015\",\n",
    "    \"db2445f0589148e3b2bd203910c6a305\",\n",
    "    \"6ce64e8bb0c8455580d74c2ee069085d\"\n",
    ")\n",
    "\n",
    "compare_scores = pd.DataFrame(columns=['algo','best_cv_score','kaggle_score'])\n",
    "compare_scores = compare_scores.set_index(\"algo\")\n",
    "\n",
    "for run in list_runs:\n",
    "    algo = dict(dict(mlflow.get_run(run))[\"data\"])[\"params\"][\"algo\"]\n",
    "    best_cv_score = dict(dict(mlflow.get_run(run))[\"data\"])[\"metrics\"][\"best_cv_score\"]\n",
    "    kaggle_score = dict(dict(mlflow.get_run(run))[\"data\"])[\"metrics\"][\"kaggle_score\"]\n",
    "\n",
    "    compare_scores.loc[algo] = [best_cv_score, kaggle_score]\n",
    "\n",
    "compare_scores"
   ]
  },
  {
   "cell_type": "code",
   "execution_count": 10,
   "metadata": {},
   "outputs": [
    {
     "data": {
      "text/html": [
       "<div>\n",
       "<style scoped>\n",
       "    .dataframe tbody tr th:only-of-type {\n",
       "        vertical-align: middle;\n",
       "    }\n",
       "\n",
       "    .dataframe tbody tr th {\n",
       "        vertical-align: top;\n",
       "    }\n",
       "\n",
       "    .dataframe thead th {\n",
       "        text-align: right;\n",
       "    }\n",
       "</style>\n",
       "<table border=\"1\" class=\"dataframe\">\n",
       "  <thead>\n",
       "    <tr style=\"text-align: right;\">\n",
       "      <th></th>\n",
       "      <th>best_cv_score</th>\n",
       "      <th>kaggle_score</th>\n",
       "    </tr>\n",
       "    <tr>\n",
       "      <th>algo</th>\n",
       "      <th></th>\n",
       "      <th></th>\n",
       "    </tr>\n",
       "  </thead>\n",
       "  <tbody>\n",
       "    <tr>\n",
       "      <th>Lasso</th>\n",
       "      <td>34468.873</td>\n",
       "      <td>0.26210</td>\n",
       "    </tr>\n",
       "    <tr>\n",
       "      <th>Ridge</th>\n",
       "      <td>33513.204</td>\n",
       "      <td>0.22585</td>\n",
       "    </tr>\n",
       "    <tr>\n",
       "      <th>BayesianRidge</th>\n",
       "      <td>33211.310</td>\n",
       "      <td>1.00000</td>\n",
       "    </tr>\n",
       "    <tr>\n",
       "      <th>ElasticNet</th>\n",
       "      <td>34739.049</td>\n",
       "      <td>0.17173</td>\n",
       "    </tr>\n",
       "    <tr>\n",
       "      <th>GradientBoostingRegressor</th>\n",
       "      <td>29702.171</td>\n",
       "      <td>1.00000</td>\n",
       "    </tr>\n",
       "    <tr>\n",
       "      <th>RandomForestRegressor</th>\n",
       "      <td>39395.797</td>\n",
       "      <td>0.23861</td>\n",
       "    </tr>\n",
       "  </tbody>\n",
       "</table>\n",
       "</div>"
      ],
      "text/plain": [
       "                           best_cv_score  kaggle_score\n",
       "algo                                                  \n",
       "Lasso                          34468.873       0.26210\n",
       "Ridge                          33513.204       0.22585\n",
       "BayesianRidge                  33211.310       1.00000\n",
       "ElasticNet                     34739.049       0.17173\n",
       "GradientBoostingRegressor      29702.171       1.00000\n",
       "RandomForestRegressor          39395.797       0.23861"
      ]
     },
     "execution_count": 10,
     "metadata": {},
     "output_type": "execute_result"
    }
   ],
   "source": [
    "compare_scores"
   ]
  },
  {
   "cell_type": "code",
   "execution_count": 11,
   "metadata": {},
   "outputs": [
    {
     "data": {
      "text/plain": [
       "<AxesSubplot:xlabel='best_cv_score', ylabel='kaggle_score'>"
      ]
     },
     "execution_count": 11,
     "metadata": {},
     "output_type": "execute_result"
    },
    {
     "data": {
      "image/png": "[encoded data removed]",
      "text/plain": [
       "<Figure size 432x288 with 1 Axes>"
      ]
     },
     "metadata": {
      "needs_background": "light"
     },
     "output_type": "display_data"
    }
   ],
   "source": [
    "sns.scatterplot(data=compare_scores, x=\"best_cv_score\", y=\"kaggle_score\", hue=compare_scores.index)"
   ]
  },
  {
   "cell_type": "code",
   "execution_count": 13,
   "metadata": {},
   "outputs": [
    {
     "data": {
      "text/plain": [
       "<AxesSubplot:xlabel='best_cv_score', ylabel='kaggle_score'>"
      ]
     },
     "execution_count": 13,
     "metadata": {},
     "output_type": "execute_result"
    },
    {
     "data": {
      "image/png": "[encoded data removed]",
      "text/plain": [
       "<Figure size 432x288 with 1 Axes>"
      ]
     },
     "metadata": {
      "needs_background": "light"
     },
     "output_type": "display_data"
    }
   ],
   "source": [
    "sns.scatterplot(data=compare_scores[compare_scores.kaggle_score != 1], x=\"best_cv_score\", y=\"kaggle_score\", hue=compare_scores[compare_scores.kaggle_score != 1].index)"
   ]
  },
  {
   "cell_type": "code",
   "execution_count": null,
   "metadata": {},
   "outputs": [],
   "source": []
  }
 ],
 "metadata": {
  "kernelspec": {
   "display_name": "mlflow_optuna",
   "language": "python",
   "name": "python3"
  },
  "language_info": {
   "codemirror_mode": {
    "name": "ipython",
    "version": 3
   },
   "file_extension": ".py",
   "mimetype": "text/x-python",
   "name": "python",
   "nbconvert_exporter": "python",
   "pygments_lexer": "ipython3",
   "version": "3.9.12"
  },
  "orig_nbformat": 4,
  "vscode": {
   "interpreter": {
    "hash": "4aa63c7bcea9117a32328ad03333d01dc516bdcdb33b6eb92ab7a393341400f2"
   }
  }
 },
 "nbformat": 4,
 "nbformat_minor": 2
}
