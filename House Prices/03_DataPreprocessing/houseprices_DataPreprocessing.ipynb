{
 "cells": [
  {
   "cell_type": "markdown",
   "metadata": {},
   "source": [
    "# Data Preprocessing of the Kaggle House Price Dataset"
   ]
  },
  {
   "cell_type": "markdown",
   "metadata": {},
   "source": [
    "# Import all Libraries"
   ]
  },
  {
   "cell_type": "code",
   "execution_count": 1,
   "metadata": {},
   "outputs": [
    {
     "name": "stdout",
     "output_type": "stream",
     "text": [
      "pandas version: 1.4.2\n",
      "numpy version: 1.21.5\n",
      "sklearn version: 1.0.2\n",
      "matplotlib version: 3.5.1\n",
      "seaborn version: 0.11.2\n"
     ]
    }
   ],
   "source": [
    "# pandas: handle the datasets in the pandas dataframe for data processing and analysis\n",
    "import pandas as pd\n",
    "print(\"pandas version: {}\". format(pd.__version__))\n",
    "\n",
    "# numpy: apply high-level mathematical functions\n",
    "import numpy as np\n",
    "print(\"numpy version: {}\". format(np.__version__))\n",
    "\n",
    "import sklearn\n",
    "print(\"sklearn version: {}\". format(sklearn.__version__))\n",
    "\n",
    "# matplotlib: standard library to create visualizations\n",
    "import matplotlib\n",
    "import matplotlib.pyplot as plt\n",
    "print(\"matplotlib version: {}\". format(matplotlib.__version__))\n",
    "\n",
    "# seaborn: advanced visualization library to create more advanced charts\n",
    "import seaborn as sns\n",
    "print(\"seaborn version: {}\". format(sns.__version__))\n",
    "\n",
    "# turn out warnings for better reading in the Jupyter notebbok\n",
    "pd.options.mode.chained_assignment = None  # default='warn'"
   ]
  },
  {
   "attachments": {},
   "cell_type": "markdown",
   "metadata": {},
   "source": [
    "# Load Training and Test Dataset"
   ]
  },
  {
   "cell_type": "code",
   "execution_count": 2,
   "metadata": {},
   "outputs": [],
   "source": [
    "# load training and test dataset\n",
    "df_train = pd.read_csv('../01_RawData/train.csv')\n",
    "df_test = pd.read_csv('../01_RawData/test.csv')"
   ]
  },
  {
   "attachments": {},
   "cell_type": "markdown",
   "metadata": {},
   "source": [
    "# Fix or Remove Missing Values\n",
    "From the statistic report we already saw that there are missing values in the training and test dataset. With the following function you get a better overview of the missing values."
   ]
  },
  {
   "cell_type": "code",
   "execution_count": 3,
   "metadata": {},
   "outputs": [],
   "source": [
    "def find_missing_values(df):\n",
    "    \"\"\"\n",
    "    find missing values in the dataframe\n",
    "    return the features with missing values, the total number of missing values and the percentage of missing values\n",
    "    \"\"\"\n",
    "    total = df.isnull().sum().sort_values(ascending=False) # compute the total number of missing values\n",
    "    percent = (df.isnull().sum()/df.isnull().count()).sort_values(ascending=False) # compute the percentage of missing values\n",
    "    missing_data = pd.concat([total, percent], axis=1, keys=['Total', 'Percent']) # add all information to one dataframe\n",
    "    missing_data = missing_data[missing_data['Total']>0] # filter the dataframe to only the features with missing values\n",
    "    return missing_data"
   ]
  },
  {
   "attachments": {},
   "cell_type": "markdown",
   "metadata": {},
   "source": [
    "For features with more then 30% of missing values, we have to delete them, because there is no way to imput the missing values with confidence.\n",
    "\n",
    "For the rest of the missing values, we will try to imput the missing values either with imputation methods or via an algorithm."
   ]
  },
  {
   "cell_type": "code",
   "execution_count": 4,
   "metadata": {},
   "outputs": [
    {
     "data": {
      "text/html": [
       "<div>\n",
       "<style scoped>\n",
       "    .dataframe tbody tr th:only-of-type {\n",
       "        vertical-align: middle;\n",
       "    }\n",
       "\n",
       "    .dataframe tbody tr th {\n",
       "        vertical-align: top;\n",
       "    }\n",
       "\n",
       "    .dataframe thead th {\n",
       "        text-align: right;\n",
       "    }\n",
       "</style>\n",
       "<table border=\"1\" class=\"dataframe\">\n",
       "  <thead>\n",
       "    <tr style=\"text-align: right;\">\n",
       "      <th></th>\n",
       "      <th>Total</th>\n",
       "      <th>Percent</th>\n",
       "    </tr>\n",
       "  </thead>\n",
       "  <tbody>\n",
       "    <tr>\n",
       "      <th>PoolQC</th>\n",
       "      <td>1453</td>\n",
       "      <td>0.995205</td>\n",
       "    </tr>\n",
       "    <tr>\n",
       "      <th>MiscFeature</th>\n",
       "      <td>1406</td>\n",
       "      <td>0.963014</td>\n",
       "    </tr>\n",
       "    <tr>\n",
       "      <th>Alley</th>\n",
       "      <td>1369</td>\n",
       "      <td>0.937671</td>\n",
       "    </tr>\n",
       "    <tr>\n",
       "      <th>Fence</th>\n",
       "      <td>1179</td>\n",
       "      <td>0.807534</td>\n",
       "    </tr>\n",
       "    <tr>\n",
       "      <th>FireplaceQu</th>\n",
       "      <td>690</td>\n",
       "      <td>0.472603</td>\n",
       "    </tr>\n",
       "    <tr>\n",
       "      <th>LotFrontage</th>\n",
       "      <td>259</td>\n",
       "      <td>0.177397</td>\n",
       "    </tr>\n",
       "    <tr>\n",
       "      <th>GarageYrBlt</th>\n",
       "      <td>81</td>\n",
       "      <td>0.055479</td>\n",
       "    </tr>\n",
       "    <tr>\n",
       "      <th>GarageCond</th>\n",
       "      <td>81</td>\n",
       "      <td>0.055479</td>\n",
       "    </tr>\n",
       "    <tr>\n",
       "      <th>GarageType</th>\n",
       "      <td>81</td>\n",
       "      <td>0.055479</td>\n",
       "    </tr>\n",
       "    <tr>\n",
       "      <th>GarageFinish</th>\n",
       "      <td>81</td>\n",
       "      <td>0.055479</td>\n",
       "    </tr>\n",
       "    <tr>\n",
       "      <th>GarageQual</th>\n",
       "      <td>81</td>\n",
       "      <td>0.055479</td>\n",
       "    </tr>\n",
       "    <tr>\n",
       "      <th>BsmtFinType2</th>\n",
       "      <td>38</td>\n",
       "      <td>0.026027</td>\n",
       "    </tr>\n",
       "    <tr>\n",
       "      <th>BsmtExposure</th>\n",
       "      <td>38</td>\n",
       "      <td>0.026027</td>\n",
       "    </tr>\n",
       "    <tr>\n",
       "      <th>BsmtQual</th>\n",
       "      <td>37</td>\n",
       "      <td>0.025342</td>\n",
       "    </tr>\n",
       "    <tr>\n",
       "      <th>BsmtCond</th>\n",
       "      <td>37</td>\n",
       "      <td>0.025342</td>\n",
       "    </tr>\n",
       "    <tr>\n",
       "      <th>BsmtFinType1</th>\n",
       "      <td>37</td>\n",
       "      <td>0.025342</td>\n",
       "    </tr>\n",
       "    <tr>\n",
       "      <th>MasVnrArea</th>\n",
       "      <td>8</td>\n",
       "      <td>0.005479</td>\n",
       "    </tr>\n",
       "    <tr>\n",
       "      <th>MasVnrType</th>\n",
       "      <td>8</td>\n",
       "      <td>0.005479</td>\n",
       "    </tr>\n",
       "    <tr>\n",
       "      <th>Electrical</th>\n",
       "      <td>1</td>\n",
       "      <td>0.000685</td>\n",
       "    </tr>\n",
       "  </tbody>\n",
       "</table>\n",
       "</div>"
      ],
      "text/plain": [
       "              Total   Percent\n",
       "PoolQC         1453  0.995205\n",
       "MiscFeature    1406  0.963014\n",
       "Alley          1369  0.937671\n",
       "Fence          1179  0.807534\n",
       "FireplaceQu     690  0.472603\n",
       "LotFrontage     259  0.177397\n",
       "GarageYrBlt      81  0.055479\n",
       "GarageCond       81  0.055479\n",
       "GarageType       81  0.055479\n",
       "GarageFinish     81  0.055479\n",
       "GarageQual       81  0.055479\n",
       "BsmtFinType2     38  0.026027\n",
       "BsmtExposure     38  0.026027\n",
       "BsmtQual         37  0.025342\n",
       "BsmtCond         37  0.025342\n",
       "BsmtFinType1     37  0.025342\n",
       "MasVnrArea        8  0.005479\n",
       "MasVnrType        8  0.005479\n",
       "Electrical        1  0.000685"
      ]
     },
     "execution_count": 4,
     "metadata": {},
     "output_type": "execute_result"
    }
   ],
   "source": [
    "df_missing_values_train = find_missing_values(df_train)\n",
    "df_missing_values_train"
   ]
  },
  {
   "cell_type": "code",
   "execution_count": 5,
   "metadata": {},
   "outputs": [
    {
     "data": {
      "text/html": [
       "<div>\n",
       "<style scoped>\n",
       "    .dataframe tbody tr th:only-of-type {\n",
       "        vertical-align: middle;\n",
       "    }\n",
       "\n",
       "    .dataframe tbody tr th {\n",
       "        vertical-align: top;\n",
       "    }\n",
       "\n",
       "    .dataframe thead th {\n",
       "        text-align: right;\n",
       "    }\n",
       "</style>\n",
       "<table border=\"1\" class=\"dataframe\">\n",
       "  <thead>\n",
       "    <tr style=\"text-align: right;\">\n",
       "      <th></th>\n",
       "      <th>Total</th>\n",
       "      <th>Percent</th>\n",
       "    </tr>\n",
       "  </thead>\n",
       "  <tbody>\n",
       "    <tr>\n",
       "      <th>PoolQC</th>\n",
       "      <td>1456</td>\n",
       "      <td>0.997944</td>\n",
       "    </tr>\n",
       "    <tr>\n",
       "      <th>MiscFeature</th>\n",
       "      <td>1408</td>\n",
       "      <td>0.965045</td>\n",
       "    </tr>\n",
       "    <tr>\n",
       "      <th>Alley</th>\n",
       "      <td>1352</td>\n",
       "      <td>0.926662</td>\n",
       "    </tr>\n",
       "    <tr>\n",
       "      <th>Fence</th>\n",
       "      <td>1169</td>\n",
       "      <td>0.801234</td>\n",
       "    </tr>\n",
       "    <tr>\n",
       "      <th>FireplaceQu</th>\n",
       "      <td>730</td>\n",
       "      <td>0.500343</td>\n",
       "    </tr>\n",
       "    <tr>\n",
       "      <th>LotFrontage</th>\n",
       "      <td>227</td>\n",
       "      <td>0.155586</td>\n",
       "    </tr>\n",
       "    <tr>\n",
       "      <th>GarageYrBlt</th>\n",
       "      <td>78</td>\n",
       "      <td>0.053461</td>\n",
       "    </tr>\n",
       "    <tr>\n",
       "      <th>GarageQual</th>\n",
       "      <td>78</td>\n",
       "      <td>0.053461</td>\n",
       "    </tr>\n",
       "    <tr>\n",
       "      <th>GarageFinish</th>\n",
       "      <td>78</td>\n",
       "      <td>0.053461</td>\n",
       "    </tr>\n",
       "    <tr>\n",
       "      <th>GarageCond</th>\n",
       "      <td>78</td>\n",
       "      <td>0.053461</td>\n",
       "    </tr>\n",
       "    <tr>\n",
       "      <th>GarageType</th>\n",
       "      <td>76</td>\n",
       "      <td>0.052090</td>\n",
       "    </tr>\n",
       "    <tr>\n",
       "      <th>BsmtCond</th>\n",
       "      <td>45</td>\n",
       "      <td>0.030843</td>\n",
       "    </tr>\n",
       "    <tr>\n",
       "      <th>BsmtQual</th>\n",
       "      <td>44</td>\n",
       "      <td>0.030158</td>\n",
       "    </tr>\n",
       "    <tr>\n",
       "      <th>BsmtExposure</th>\n",
       "      <td>44</td>\n",
       "      <td>0.030158</td>\n",
       "    </tr>\n",
       "    <tr>\n",
       "      <th>BsmtFinType1</th>\n",
       "      <td>42</td>\n",
       "      <td>0.028787</td>\n",
       "    </tr>\n",
       "    <tr>\n",
       "      <th>BsmtFinType2</th>\n",
       "      <td>42</td>\n",
       "      <td>0.028787</td>\n",
       "    </tr>\n",
       "    <tr>\n",
       "      <th>MasVnrType</th>\n",
       "      <td>16</td>\n",
       "      <td>0.010966</td>\n",
       "    </tr>\n",
       "    <tr>\n",
       "      <th>MasVnrArea</th>\n",
       "      <td>15</td>\n",
       "      <td>0.010281</td>\n",
       "    </tr>\n",
       "    <tr>\n",
       "      <th>MSZoning</th>\n",
       "      <td>4</td>\n",
       "      <td>0.002742</td>\n",
       "    </tr>\n",
       "    <tr>\n",
       "      <th>BsmtHalfBath</th>\n",
       "      <td>2</td>\n",
       "      <td>0.001371</td>\n",
       "    </tr>\n",
       "    <tr>\n",
       "      <th>Utilities</th>\n",
       "      <td>2</td>\n",
       "      <td>0.001371</td>\n",
       "    </tr>\n",
       "    <tr>\n",
       "      <th>Functional</th>\n",
       "      <td>2</td>\n",
       "      <td>0.001371</td>\n",
       "    </tr>\n",
       "    <tr>\n",
       "      <th>BsmtFullBath</th>\n",
       "      <td>2</td>\n",
       "      <td>0.001371</td>\n",
       "    </tr>\n",
       "    <tr>\n",
       "      <th>BsmtFinSF1</th>\n",
       "      <td>1</td>\n",
       "      <td>0.000685</td>\n",
       "    </tr>\n",
       "    <tr>\n",
       "      <th>BsmtFinSF2</th>\n",
       "      <td>1</td>\n",
       "      <td>0.000685</td>\n",
       "    </tr>\n",
       "    <tr>\n",
       "      <th>BsmtUnfSF</th>\n",
       "      <td>1</td>\n",
       "      <td>0.000685</td>\n",
       "    </tr>\n",
       "    <tr>\n",
       "      <th>KitchenQual</th>\n",
       "      <td>1</td>\n",
       "      <td>0.000685</td>\n",
       "    </tr>\n",
       "    <tr>\n",
       "      <th>TotalBsmtSF</th>\n",
       "      <td>1</td>\n",
       "      <td>0.000685</td>\n",
       "    </tr>\n",
       "    <tr>\n",
       "      <th>Exterior2nd</th>\n",
       "      <td>1</td>\n",
       "      <td>0.000685</td>\n",
       "    </tr>\n",
       "    <tr>\n",
       "      <th>GarageCars</th>\n",
       "      <td>1</td>\n",
       "      <td>0.000685</td>\n",
       "    </tr>\n",
       "    <tr>\n",
       "      <th>Exterior1st</th>\n",
       "      <td>1</td>\n",
       "      <td>0.000685</td>\n",
       "    </tr>\n",
       "    <tr>\n",
       "      <th>GarageArea</th>\n",
       "      <td>1</td>\n",
       "      <td>0.000685</td>\n",
       "    </tr>\n",
       "    <tr>\n",
       "      <th>SaleType</th>\n",
       "      <td>1</td>\n",
       "      <td>0.000685</td>\n",
       "    </tr>\n",
       "  </tbody>\n",
       "</table>\n",
       "</div>"
      ],
      "text/plain": [
       "              Total   Percent\n",
       "PoolQC         1456  0.997944\n",
       "MiscFeature    1408  0.965045\n",
       "Alley          1352  0.926662\n",
       "Fence          1169  0.801234\n",
       "FireplaceQu     730  0.500343\n",
       "LotFrontage     227  0.155586\n",
       "GarageYrBlt      78  0.053461\n",
       "GarageQual       78  0.053461\n",
       "GarageFinish     78  0.053461\n",
       "GarageCond       78  0.053461\n",
       "GarageType       76  0.052090\n",
       "BsmtCond         45  0.030843\n",
       "BsmtQual         44  0.030158\n",
       "BsmtExposure     44  0.030158\n",
       "BsmtFinType1     42  0.028787\n",
       "BsmtFinType2     42  0.028787\n",
       "MasVnrType       16  0.010966\n",
       "MasVnrArea       15  0.010281\n",
       "MSZoning          4  0.002742\n",
       "BsmtHalfBath      2  0.001371\n",
       "Utilities         2  0.001371\n",
       "Functional        2  0.001371\n",
       "BsmtFullBath      2  0.001371\n",
       "BsmtFinSF1        1  0.000685\n",
       "BsmtFinSF2        1  0.000685\n",
       "BsmtUnfSF         1  0.000685\n",
       "KitchenQual       1  0.000685\n",
       "TotalBsmtSF       1  0.000685\n",
       "Exterior2nd       1  0.000685\n",
       "GarageCars        1  0.000685\n",
       "Exterior1st       1  0.000685\n",
       "GarageArea        1  0.000685\n",
       "SaleType          1  0.000685"
      ]
     },
     "execution_count": 5,
     "metadata": {},
     "output_type": "execute_result"
    }
   ],
   "source": [
    "df_missing_values_test = find_missing_values(df_test)\n",
    "df_missing_values_test"
   ]
  },
  {
   "attachments": {},
   "cell_type": "markdown",
   "metadata": {},
   "source": [
    "## Drop features with more then 30% of missing values"
   ]
  },
  {
   "cell_type": "code",
   "execution_count": 6,
   "metadata": {},
   "outputs": [],
   "source": [
    "# drop features with more then 30% of missing values\n",
    "df_train = df_train.drop([\"PoolQC\", \"MiscFeature\", \"Alley\", \"Fence\", \"FireplaceQu\"], axis=1)\n",
    "df_test = df_test.drop([\"PoolQC\", \"MiscFeature\", \"Alley\", \"Fence\", \"FireplaceQu\"], axis=1)"
   ]
  },
  {
   "attachments": {},
   "cell_type": "markdown",
   "metadata": {},
   "source": [
    "## Imput Numeric and Categoric Features"
   ]
  },
  {
   "cell_type": "code",
   "execution_count": 7,
   "metadata": {},
   "outputs": [],
   "source": [
    "num_features = list(df_test.describe())\n",
    "cat_features = list(df_test.describe(include=['O']))"
   ]
  },
  {
   "cell_type": "code",
   "execution_count": 8,
   "metadata": {},
   "outputs": [],
   "source": [
    "from sklearn.impute import SimpleImputer\n",
    "imputer = SimpleImputer(strategy='mean', missing_values=np.nan)\n",
    "\n",
    "df_missing_values_all_num = list(set(list(df_missing_values_train.index) + list(df_missing_values_test.index)).intersection(num_features))\n",
    "\n",
    "imputer_num = imputer.fit(df_train[df_missing_values_all_num])\n",
    "\n",
    "df_train[df_missing_values_all_num] = imputer_num.transform(df_train[df_missing_values_all_num])\n",
    "df_test[df_missing_values_all_num] = imputer_num.transform(df_test[df_missing_values_all_num])"
   ]
  },
  {
   "cell_type": "code",
   "execution_count": 9,
   "metadata": {},
   "outputs": [],
   "source": [
    "imputer = SimpleImputer(strategy='most_frequent', missing_values=np.nan)\n",
    "\n",
    "df_missing_values_all_cat = list(set(list(df_missing_values_train.index) + list(df_missing_values_test.index)).intersection(cat_features))\n",
    "\n",
    "imputer_cat = imputer.fit(df_train[df_missing_values_all_cat])\n",
    "\n",
    "df_train[df_missing_values_all_cat] = imputer_cat.transform(df_train[df_missing_values_all_cat])\n",
    "df_test[df_missing_values_all_cat] = imputer_cat.transform(df_test[df_missing_values_all_cat])"
   ]
  },
  {
   "attachments": {},
   "cell_type": "markdown",
   "metadata": {},
   "source": [
    "# Feature Engineering"
   ]
  },
  {
   "cell_type": "code",
   "execution_count": 10,
   "metadata": {},
   "outputs": [],
   "source": [
    "def find_season(month, hemisphere):\n",
    "    if hemisphere == 'Southern':\n",
    "        season_month_south = {\n",
    "            12:'Summer', 1:'Summer', 2:'Summer',\n",
    "            3:'Autumn', 4:'Autumn', 5:'Autumn',\n",
    "            6:'Winter', 7:'Winter', 8:'Winter',\n",
    "            9:'Spring', 10:'Spring', 11:'Spring'}\n",
    "        return season_month_south.get(month)\n",
    "        \n",
    "    elif hemisphere == 'Northern':\n",
    "        season_month_north = {\n",
    "            12:'Winter', 1:'Winter', 2:'Winter',\n",
    "            3:'Spring', 4:'Spring', 5:'Spring',\n",
    "            6:'Summer', 7:'Summer', 8:'Summer',\n",
    "            9:'Autumn', 10:'Autumn', 11:'Autumn'}\n",
    "        return season_month_north.get(month)\n",
    "    else:\n",
    "        print('Invalid selection. Please select a hemisphere and try again')"
   ]
  },
  {
   "cell_type": "code",
   "execution_count": 11,
   "metadata": {},
   "outputs": [],
   "source": [
    "def percentage(row):\n",
    "    type_count = row[0]\n",
    "    total_types = row[1]\n",
    "    if total_types is None or total_types == 0:\n",
    "        return 0\n",
    "    else:\n",
    "        return 100 * (int(type_count) / int(total_types))"
   ]
  },
  {
   "cell_type": "code",
   "execution_count": 12,
   "metadata": {},
   "outputs": [],
   "source": [
    "df_train[\"TotalFS\"] = df_train[\"1stFlrSF\"] + df_train[\"2ndFlrSF\"] + df_train[\"GrLivArea\"]\n",
    "df_test[\"TotalFS\"] = df_test[\"1stFlrSF\"] + df_test[\"2ndFlrSF\"] + df_test[\"GrLivArea\"]\n",
    "\n",
    "df_train[\"MeanSFRoom\"] = round(df_train[\"TotalFS\"] / df_train[\"TotRmsAbvGrd\"], 0)\n",
    "df_test[\"MeanSFRoom\"] = round(df_test[\"TotalFS\"] / df_test[\"TotRmsAbvGrd\"], 0)\n",
    "\n",
    "df_train[\"YearsBeforeWork\"] = df_train[\"YearRemodAdd\"] - df_train[\"YearBuilt\"]\n",
    "df_test[\"YearsBeforeWork\"] = df_test[\"YearRemodAdd\"] - df_test[\"YearBuilt\"]\n",
    "\n",
    "df_train[\"TotalBath\"] = df_train[\"FullBath\"] + 0.5*df_train[\"HalfBath\"] + df_train[\"BsmtFullBath\"] + 0.5*df_train[\"BsmtHalfBath\"]\n",
    "df_test[\"TotalBath\"] = df_test[\"FullBath\"] + 0.5*df_test[\"HalfBath\"] + df_test[\"BsmtFullBath\"] + 0.5*df_test[\"BsmtHalfBath\"]\n",
    "\n",
    "df_train[\"TotalFS_TotalBath\"] = df_train[\"TotalFS\"] / df_train[\"TotalBath\"]\n",
    "df_test[\"TotalFS_TotalBath\"] = df_test[\"TotalFS\"] / df_test[\"TotalBath\"]\n",
    "\n",
    "df_train[\"GarageArea_GarageCars\"] = df_train[\"GarageArea\"] / df_train[\"GarageCars\"]\n",
    "df_test[\"GarageArea_GarageCars\"] = df_test[\"GarageArea\"] / df_test[\"GarageCars\"]\n",
    "\n",
    "df_train[\"TotalPorchSF\"] = df_train[\"OpenPorchSF\"] + df_train[\"EnclosedPorch\"] + df_train[\"3SsnPorch\"] + df_train[\"ScreenPorch\"]\n",
    "df_test[\"TotalPorchSF\"] = df_test[\"OpenPorchSF\"] + df_test[\"EnclosedPorch\"] + df_test[\"3SsnPorch\"] + df_test[\"ScreenPorch\"]\n",
    "\n",
    "df_train[\"YearsBeforeSold\"] = df_train[\"YrSold\"] - df_train[\"YearBuilt\"]\n",
    "df_test[\"YearsBeforeSold\"] = df_test[\"YrSold\"] - df_test[\"YearBuilt\"]\n",
    "\n",
    "df_train[\"SeasonSold\"] = df_train[\"MoSold\"].apply(lambda x: find_season(x, \"Northern\"))\n",
    "df_test[\"SeasonSold\"] = df_test[\"MoSold\"].apply(lambda x: find_season(x, \"Northern\"))\n",
    "\n",
    "\n",
    "df_train['PoolArea_bin'] = df_train['PoolArea'].apply(lambda x: 1 if x>0 else 0)\n",
    "df_test['PoolArea_bin'] = df_test['PoolArea'].apply(lambda x: 1 if x>0 else 0)\n",
    "\n",
    "df_train['TotalPorchSF_bin'] = df_train['TotalPorchSF'].apply(lambda x: 1 if x>0 else 0)\n",
    "df_test['TotalPorchSF_bin'] = df_test['TotalPorchSF'].apply(lambda x: 1 if x>0 else 0)\n",
    "\n",
    "df_train['GarageArea_bin'] = df_train['GarageArea'].apply(lambda x: 1 if x>0 else 0)\n",
    "df_test['GarageArea_bin'] = df_test['GarageArea'].apply(lambda x: 1 if x>0 else 0)\n",
    "\n",
    "df_train['MiscVal_bin'] = df_train['MiscVal'].apply(lambda x: 1 if x>0 else 0)\n",
    "df_test['MiscVal_bin'] = df_test['MiscVal'].apply(lambda x: 1 if x>0 else 0)\n",
    "\n",
    "\n",
    "df_train.replace([np.inf, -np.inf], 0, inplace=True)\n",
    "df_test.replace([np.inf, -np.inf], 0, inplace=True)"
   ]
  },
  {
   "attachments": {},
   "cell_type": "markdown",
   "metadata": {},
   "source": [
    "# Fix Skewed Features"
   ]
  },
  {
   "cell_type": "code",
   "execution_count": 13,
   "metadata": {},
   "outputs": [],
   "source": [
    "from scipy.stats import skew\n",
    "def compute_skewed_features(df):\n",
    "    \"\"\"\n",
    "    compute the skewness of all numeric features and the total number of unique values\n",
    "    return only the features that have a relevant skewness\n",
    "    \"\"\"\n",
    "    numeric_feats = df.dtypes[df.dtypes != \"object\"].index\n",
    "    skewed_feats = pd.DataFrame(index=numeric_feats, columns=['skewness', 'unique_values'])\n",
    "    skewed_feats['skewness'] = df[numeric_feats].apply(lambda x: skew(x))\n",
    "    skewed_feats['unique_values'] = df.nunique()\n",
    "    skewed_feats['percentage_0'] = df[df == 0].count(axis=0)/len(df.index)\n",
    "    skewed_feats = skewed_feats[\n",
    "        ((skewed_feats['skewness'] > 3) | (skewed_feats['skewness'] < -3)) & \n",
    "        (skewed_feats['unique_values'] > 10) &\n",
    "        (skewed_feats['percentage_0'] < 0.5)\n",
    "        ]\n",
    "\n",
    "    return skewed_feats"
   ]
  },
  {
   "cell_type": "code",
   "execution_count": 14,
   "metadata": {},
   "outputs": [
    {
     "data": {
      "text/html": [
       "<div>\n",
       "<style scoped>\n",
       "    .dataframe tbody tr th:only-of-type {\n",
       "        vertical-align: middle;\n",
       "    }\n",
       "\n",
       "    .dataframe tbody tr th {\n",
       "        vertical-align: top;\n",
       "    }\n",
       "\n",
       "    .dataframe thead th {\n",
       "        text-align: right;\n",
       "    }\n",
       "</style>\n",
       "<table border=\"1\" class=\"dataframe\">\n",
       "  <thead>\n",
       "    <tr style=\"text-align: right;\">\n",
       "      <th></th>\n",
       "      <th>skewness</th>\n",
       "      <th>unique_values</th>\n",
       "      <th>percentage_0</th>\n",
       "    </tr>\n",
       "  </thead>\n",
       "  <tbody>\n",
       "    <tr>\n",
       "      <th>LotArea</th>\n",
       "      <td>12.195142</td>\n",
       "      <td>1073</td>\n",
       "      <td>0.0</td>\n",
       "    </tr>\n",
       "  </tbody>\n",
       "</table>\n",
       "</div>"
      ],
      "text/plain": [
       "          skewness  unique_values  percentage_0\n",
       "LotArea  12.195142           1073           0.0"
      ]
     },
     "execution_count": 14,
     "metadata": {},
     "output_type": "execute_result"
    }
   ],
   "source": [
    "skewed_feats = compute_skewed_features(df_train)\n",
    "skewed_feats"
   ]
  },
  {
   "cell_type": "code",
   "execution_count": 15,
   "metadata": {},
   "outputs": [
    {
     "data": {
      "image/png": "[encoded data removed]",
      "text/plain": [
       "<Figure size 360x360 with 1 Axes>"
      ]
     },
     "metadata": {
      "needs_background": "light"
     },
     "output_type": "display_data"
    },
    {
     "data": {
      "image/png": "[encoded data removed]",
      "text/plain": [
       "<Figure size 360x360 with 1 Axes>"
      ]
     },
     "metadata": {
      "needs_background": "light"
     },
     "output_type": "display_data"
    }
   ],
   "source": [
    "for feature in list(skewed_feats.index):\n",
    "    \n",
    "    # view the distribution of Fare after the log transformation with the skewness\n",
    "    g = sns.displot(df_train[feature])\n",
    "    plt.title(\"Skewness : %.2f\"%(df_train[feature].skew()))\n",
    "    plt.show()\n",
    "    \n",
    "    # apply log transformation\n",
    "    # the not transformed data that contains 0\n",
    "    # after the transformation we have -inf values that have to be replaced by 0\n",
    "    df_train[feature] = df_train[feature].apply(np.log)\n",
    "    df_train[feature][np.isneginf(df_train[feature])]=0\n",
    "    \n",
    "    if feature != \"SalePrice\":\n",
    "        df_test[feature] = df_test[feature].apply(np.log)\n",
    "        df_test[feature][np.isneginf(df_test[feature])]=0\n",
    "\n",
    "    # view the distribution of Fare after the log transformation with the skewness\n",
    "    g = sns.displot(df_train[feature])\n",
    "    plt.title(\"Skewness : %.2f\"%(df_train[feature].skew()))\n",
    "    plt.show()"
   ]
  },
  {
   "attachments": {},
   "cell_type": "markdown",
   "metadata": {},
   "source": [
    "# Feature Selection"
   ]
  },
  {
   "cell_type": "code",
   "execution_count": 16,
   "metadata": {},
   "outputs": [],
   "source": [
    "df_train.drop(['Id'], axis=1, inplace=True)\n",
    "df_test.drop(['Id'], axis=1, inplace=True)"
   ]
  },
  {
   "attachments": {},
   "cell_type": "markdown",
   "metadata": {},
   "source": [
    "# Transform Categoric Features into Numeric"
   ]
  },
  {
   "cell_type": "code",
   "execution_count": 17,
   "metadata": {},
   "outputs": [],
   "source": [
    "# features for Label Encoder with inherent order to the categorical values\n",
    "\n",
    "map_Utilities = {\n",
    "    'ELO': 0,\n",
    "    'NoSeWa': 1,\n",
    "    'NoSewr': 2,\n",
    "    'AllPub': 3\n",
    "}\n",
    "df_train[\"Utilities\"] = df_train[\"Utilities\"].map(map_Utilities)\n",
    "df_test[\"Utilities\"] = df_test[\"Utilities\"].map(map_Utilities)\n",
    "\n",
    "\n",
    "map_LandSlope = {\n",
    "    'Gtl': 0,\n",
    "    'Mod': 1,\n",
    "    'Sev': 2\n",
    "}\n",
    "df_train[\"LandSlope\"] = df_train[\"LandSlope\"].map(map_LandSlope)\n",
    "df_test[\"LandSlope\"] = df_test[\"LandSlope\"].map(map_LandSlope)\n",
    "\n",
    "\n",
    "map_HouseStyle = {\n",
    "    '1Story': 0,\n",
    "    '1.5Fin': 1,\n",
    "    '1.5Unf': 2,\n",
    "    '2Story': 3,\n",
    "    '2.5Fin': 4,\n",
    "    '2.5Unf': 5,\n",
    "    'SFoyer': 6,\n",
    "    'SLvl': 7\n",
    "}\n",
    "df_train[\"HouseStyle\"] = df_train[\"HouseStyle\"].map(map_HouseStyle)\n",
    "df_test[\"HouseStyle\"] = df_test[\"HouseStyle\"].map(map_HouseStyle)\n",
    "\n",
    "\n",
    "map_ExterQual = {\n",
    "    'Po': 0,\n",
    "    'Fa': 1,\n",
    "    'TA': 2,\n",
    "    'Gd': 3,\n",
    "    'Ex': 4\n",
    "}\n",
    "df_train[\"ExterQual\"] = df_train[\"ExterQual\"].map(map_ExterQual)\n",
    "df_test[\"ExterQual\"] = df_test[\"ExterQual\"].map(map_ExterQual)\n",
    "\n",
    "df_train[\"ExterCond\"] = df_train[\"ExterCond\"].map(map_ExterQual)\n",
    "df_test[\"ExterCond\"] = df_test[\"ExterCond\"].map(map_ExterQual)\n",
    "\n",
    "\n",
    "map_BsmtQual = {\n",
    "    'NA': 0,\n",
    "    'Po': 1,\n",
    "    'Fa': 2,\n",
    "    'TA': 3,\n",
    "    'Gd': 4,\n",
    "    'Ex': 5\n",
    "}\n",
    "df_train[\"BsmtQual\"] = df_train[\"BsmtQual\"].map(map_BsmtQual)\n",
    "df_test[\"BsmtQual\"] = df_test[\"BsmtQual\"].map(map_BsmtQual)\n",
    "\n",
    "df_train[\"BsmtCond\"] = df_train[\"BsmtCond\"].map(map_BsmtQual)\n",
    "df_test[\"BsmtCond\"] = df_test[\"BsmtCond\"].map(map_BsmtQual)\n",
    "\n",
    "# df_train[\"FireplaceQu\"] = df_train[\"FireplaceQu\"].map(map_BsmtQual)\n",
    "# df_test[\"FireplaceQu\"] = df_test[\"FireplaceQu\"].map(map_BsmtQual)\n",
    "\n",
    "df_train[\"GarageQual\"] = df_train[\"GarageQual\"].map(map_BsmtQual)\n",
    "df_test[\"GarageQual\"] = df_test[\"GarageQual\"].map(map_BsmtQual)\n",
    "\n",
    "df_train[\"GarageCond\"] = df_train[\"GarageCond\"].map(map_BsmtQual)\n",
    "df_test[\"GarageCond\"] = df_test[\"GarageCond\"].map(map_BsmtQual)\n",
    "\n",
    "\n",
    "map_BsmtExposure = {\n",
    "    'NA': 0,\n",
    "    'No': 1,\n",
    "    'Mn': 2,\n",
    "    'Av': 3,\n",
    "    'Gd': 4\n",
    "}\n",
    "df_train[\"BsmtExposure\"] = df_train[\"BsmtExposure\"].map(map_BsmtExposure)\n",
    "df_test[\"BsmtExposure\"] = df_test[\"BsmtExposure\"].map(map_BsmtExposure)\n",
    "\n",
    "\n",
    "map_BsmtFinType1 = {\n",
    "    'NA': 0,\n",
    "    'Unf': 1,\n",
    "    'LwQ': 2,\n",
    "    'Rec': 3,\n",
    "    'BLQ': 4,\n",
    "    'ALQ': 5,\n",
    "    'GLQ': 6\n",
    "}\n",
    "df_train[\"BsmtFinType1\"] = df_train[\"BsmtFinType1\"].map(map_BsmtFinType1)\n",
    "df_test[\"BsmtFinType1\"] = df_test[\"BsmtFinType1\"].map(map_BsmtFinType1)\n",
    "\n",
    "df_train[\"BsmtFinType2\"] = df_train[\"BsmtFinType2\"].map(map_BsmtFinType1)\n",
    "df_test[\"BsmtFinType2\"] = df_test[\"BsmtFinType2\"].map(map_BsmtFinType1)\n",
    "\n",
    "\n",
    "map_HeatingQC = {\n",
    "    'Po': 0,\n",
    "    'Fa': 1,\n",
    "    'TA': 2,\n",
    "    'Gd': 3,\n",
    "    'Ex': 4\n",
    "}\n",
    "df_train[\"HeatingQC\"] = df_train[\"HeatingQC\"].map(map_HeatingQC)\n",
    "df_test[\"HeatingQC\"] = df_test[\"HeatingQC\"].map(map_HeatingQC)\n",
    "\n",
    "df_train[\"KitchenQual\"] = df_train[\"KitchenQual\"].map(map_HeatingQC)\n",
    "df_test[\"KitchenQual\"] = df_test[\"KitchenQual\"].map(map_HeatingQC)\n",
    "\n",
    "\n",
    "map_Functional = {\n",
    "    'Sal': 0,\n",
    "    'Sev': 1,\n",
    "    'Maj2': 2,\n",
    "    'Maj1': 3,\n",
    "    'Mod': 4,\n",
    "    'Min2': 5,\n",
    "    'Min1': 6,\n",
    "    'Typ': 7\n",
    "}\n",
    "df_train[\"Functional\"] = df_train[\"Functional\"].map(map_Functional)\n",
    "df_test[\"Functional\"] = df_test[\"Functional\"].map(map_Functional)\n",
    "\n",
    "\n",
    "map_GarageFinish = {\n",
    "    'NA': 0,\n",
    "    'Unf': 1,\n",
    "    'RFn': 2,\n",
    "    'Fin': 3\n",
    "}\n",
    "df_train[\"GarageFinish\"] = df_train[\"GarageFinish\"].map(map_GarageFinish)\n",
    "df_test[\"GarageFinish\"] = df_test[\"GarageFinish\"].map(map_GarageFinish)\n",
    "\n",
    "\n",
    "map_PavedDrive = {\n",
    "    'Y': 0,\n",
    "    'P': 1,\n",
    "    'N': 2\n",
    "}\n",
    "df_train[\"PavedDrive\"] = df_train[\"PavedDrive\"].map(map_PavedDrive)\n",
    "df_test[\"PavedDrive\"] = df_test[\"PavedDrive\"].map(map_PavedDrive)\n",
    "\n",
    "\n",
    "map_PoolQC = {\n",
    "    'NA': 0,\n",
    "    'Fa': 1,\n",
    "    'TA': 2,\n",
    "    'Gd': 3,\n",
    "    'Ex': 4\n",
    "}\n",
    "# df_train[\"PoolQC\"] = df_train[\"PoolQC\"].map(map_PoolQC)\n",
    "# df_test[\"PoolQC\"] = df_test[\"PoolQC\"].map(map_PoolQC)\n",
    "\n",
    "\n",
    "map_Fence = {\n",
    "    'NA': 0,\n",
    "    'MnWw': 1,\n",
    "    'GdWo': 2,\n",
    "    'MnPrv': 3,\n",
    "    'GdPrv': 4\n",
    "}\n",
    "# df_train[\"Fence\"] = df_train[\"Fence\"].map(map_Fence)\n",
    "# df_test[\"Fence\"] = df_test[\"Fence\"].map(map_Fence)\n",
    "\n",
    "\n",
    "map_SeasonSold = {\n",
    "    'Winter': 0,\n",
    "    'Spring': 1,\n",
    "    'Summer': 2,\n",
    "    'Autumn': 3\n",
    "}\n",
    "df_train[\"SeasonSold\"] = df_train[\"SeasonSold\"].map(map_SeasonSold)\n",
    "df_test[\"SeasonSold\"] = df_test[\"SeasonSold\"].map(map_SeasonSold)\n",
    "\n",
    "\n"
   ]
  },
  {
   "cell_type": "code",
   "execution_count": 18,
   "metadata": {},
   "outputs": [
    {
     "data": {
      "text/plain": [
       "MSZoning          5\n",
       "Street            2\n",
       "LotShape          4\n",
       "LandContour       4\n",
       "LotConfig         5\n",
       "Neighborhood     25\n",
       "Condition1        9\n",
       "Condition2        8\n",
       "BldgType          5\n",
       "RoofStyle         6\n",
       "RoofMatl          8\n",
       "Exterior1st      15\n",
       "Exterior2nd      16\n",
       "MasVnrType        4\n",
       "Foundation        6\n",
       "Heating           6\n",
       "CentralAir        2\n",
       "Electrical        5\n",
       "GarageType        6\n",
       "SaleType          9\n",
       "SaleCondition     6\n",
       "dtype: int64"
      ]
     },
     "execution_count": 18,
     "metadata": {},
     "output_type": "execute_result"
    }
   ],
   "source": [
    "df_train[df_train.dtypes[df_train.dtypes == \"object\"].index].nunique()"
   ]
  },
  {
   "cell_type": "code",
   "execution_count": 19,
   "metadata": {},
   "outputs": [
    {
     "name": "stdout",
     "output_type": "stream",
     "text": [
      "df_train old shape: (1460, 88)\n",
      "ohe_train old shape: (1460, 154)\n",
      "df_train new shape: (1460, 221)\n",
      "df_test old shape: (1459, 87)\n",
      "ohe_test old shape: (1459, 154)\n",
      "df_test new shape: (1459, 220)\n"
     ]
    },
    {
     "name": "stderr",
     "output_type": "stream",
     "text": [
      "e:\\programs\\anaconda3\\lib\\site-packages\\sklearn\\utils\\deprecation.py:87: FutureWarning: Function get_feature_names is deprecated; get_feature_names is deprecated in 1.0 and will be removed in 1.2. Please use get_feature_names_out instead.\n",
      "  warnings.warn(msg, category=FutureWarning)\n",
      "e:\\programs\\anaconda3\\lib\\site-packages\\sklearn\\utils\\deprecation.py:87: FutureWarning: Function get_feature_names is deprecated; get_feature_names is deprecated in 1.0 and will be removed in 1.2. Please use get_feature_names_out instead.\n",
      "  warnings.warn(msg, category=FutureWarning)\n"
     ]
    }
   ],
   "source": [
    "from sklearn.preprocessing import OneHotEncoder\n",
    "\n",
    "enc = OneHotEncoder(\n",
    "    handle_unknown='ignore',\n",
    "    sparse=False,\n",
    "    drop=\"if_binary\",\n",
    "    )\n",
    "cat_vars = df_train.dtypes[df_train.dtypes == \"object\"].index\n",
    "\n",
    "ohe_train = pd.DataFrame(enc.fit_transform(df_train[cat_vars]), columns=enc.get_feature_names())\n",
    "print(\"df_train old shape: \" + str(df_train.shape))\n",
    "print(\"ohe_train old shape: \" + str(ohe_train.shape))\n",
    "df_train = pd.concat([df_train, ohe_train], axis=1).drop(cat_vars, axis=1)\n",
    "print(\"df_train new shape: \" + str(df_train.shape))\n",
    "\n",
    "ohe_test = pd.DataFrame(enc.transform(df_test[cat_vars]), columns=enc.get_feature_names())\n",
    "print(\"df_test old shape: \" + str(df_test.shape))\n",
    "print(\"ohe_test old shape: \" + str(ohe_test.shape))\n",
    "df_test = pd.concat([df_test, ohe_test], axis=1).drop(cat_vars, axis=1)\n",
    "print(\"df_test new shape: \" + str(df_test.shape))"
   ]
  },
  {
   "attachments": {},
   "cell_type": "markdown",
   "metadata": {},
   "source": [
    "# Feature Selection"
   ]
  },
  {
   "cell_type": "code",
   "execution_count": 20,
   "metadata": {},
   "outputs": [],
   "source": [
    "from sklearn.feature_selection import VarianceThreshold\n",
    "\n",
    "# remove all features that are either one or zero in more than 95% of the samples\n",
    "sel = VarianceThreshold(threshold=(.95 * (1 - .95)))\n",
    "sel_features = list(df_train)\n",
    "\n",
    "# remove the label from the list of columns\n",
    "sel_features.remove(\"SalePrice\")\n",
    "\n",
    "# fit the VarianceThreshold object to the training data\n",
    "sel.fit(df_train[sel_features])\n",
    "\n",
    "# get the column names after the variance threshold reduction\n",
    "sel_features_reduced = [sel_features[i] for i in sel.get_support(indices=True)]\n",
    "\n",
    "# create the training and test dataset by transform the datasets to the variance threshold object\n",
    "df_train_ = pd.DataFrame(sel.transform(df_train[sel_features]), columns=sel_features_reduced)\n",
    "# dont forget to join the label back to the training data\n",
    "df_train = pd.concat([df_train_, df_train[\"SalePrice\"]], axis=1)\n",
    "df_test = pd.DataFrame(sel.transform(df_test[sel_features]), columns=sel_features_reduced)"
   ]
  },
  {
   "cell_type": "code",
   "execution_count": 21,
   "metadata": {},
   "outputs": [
    {
     "name": "stdout",
     "output_type": "stream",
     "text": [
      "df_train shape: (1460, 113)\n",
      "df_test shape: (1459, 112)\n"
     ]
    }
   ],
   "source": [
    "print(f\"df_train shape: {df_train.shape}\")\n",
    "print(f\"df_test shape: {df_test.shape}\")"
   ]
  },
  {
   "cell_type": "code",
   "execution_count": 22,
   "metadata": {},
   "outputs": [
    {
     "name": "stderr",
     "output_type": "stream",
     "text": [
      "C:\\Users\\chris\\AppData\\Local\\Temp\\ipykernel_26780\\1501349958.py:4: DeprecationWarning: `np.bool` is a deprecated alias for the builtin `bool`. To silence this warning, use `bool` by itself. Doing this will not modify any behavior and is safe. If you specifically wanted the numpy scalar type, use `np.bool_` here.\n",
      "Deprecated in NumPy 1.20; for more details and guidance: https://numpy.org/devdocs/release/1.20.0-notes.html#deprecations\n",
      "  upper = corr_matrix.where(np.triu(np.ones(corr_matrix.shape), k=1).astype(np.bool))\n"
     ]
    },
    {
     "name": "stdout",
     "output_type": "stream",
     "text": [
      "TotalFS <-> GrLivArea: 0.9989376478274354\n",
      "YearsBeforeSold <-> YearBuilt: -0.9990359444033197\n",
      "x2_Reg <-> x2_IR1: -0.9259589789196655\n",
      "x9_Hip <-> x9_Gable: -0.9334615823692294\n",
      "x12_MetalSd <-> x11_MetalSd: 0.9730651937625284\n",
      "x12_VinylSd <-> x11_VinylSd: 0.9775248873036368\n",
      "x20_Partial <-> x19_New: 0.9868189596845173\n"
     ]
    }
   ],
   "source": [
    "corr_matrix = df_train.corr().abs()\n",
    "\n",
    "# Select upper triangle of correlation matrix\n",
    "upper = corr_matrix.where(np.triu(np.ones(corr_matrix.shape), k=1).astype(np.bool))\n",
    "\n",
    "# Find features with correlation higher than 0.9 or lower -0.9\n",
    "to_drop = [column for column in upper.columns if any((upper[column] > 0.9) | (upper[column] < -0.9))]\n",
    "\n",
    "for element in to_drop:\n",
    "    column_list = list(df_train.columns[np.where(\n",
    "        (df_train.corrwith(df_train[element]) > 0.9) |\n",
    "        (df_train.corrwith(df_train[element]) < -0.9))])\n",
    "    column_list.remove(element)\n",
    "    for column in column_list:\n",
    "        print(str(element) + \" <-> \" + str(column) + \": \" + str(df_train[element].corr(df_train[column])))"
   ]
  },
  {
   "cell_type": "code",
   "execution_count": 23,
   "metadata": {},
   "outputs": [],
   "source": [
    "df_train.drop(['GrLivArea', 'YearBuilt', 'x2_IR1', 'x9_Gable', 'x11_MetalSd', 'x11_VinylSd', 'x19_New'], axis=1, inplace=True)\n",
    "df_test.drop(['GrLivArea', 'YearBuilt', 'x2_IR1', 'x9_Gable', 'x11_MetalSd', 'x11_VinylSd', 'x19_New'], axis=1, inplace=True)"
   ]
  },
  {
   "cell_type": "code",
   "execution_count": 24,
   "metadata": {},
   "outputs": [
    {
     "name": "stdout",
     "output_type": "stream",
     "text": [
      "df_train shape: (1460, 106)\n",
      "df_test shape: (1459, 105)\n"
     ]
    }
   ],
   "source": [
    "print(f\"df_train shape: {df_train.shape}\")\n",
    "print(f\"df_test shape: {df_test.shape}\")"
   ]
  },
  {
   "attachments": {},
   "cell_type": "markdown",
   "metadata": {},
   "source": [
    "# Fix or Remove Missing Values"
   ]
  },
  {
   "cell_type": "code",
   "execution_count": 25,
   "metadata": {},
   "outputs": [
    {
     "data": {
      "text/html": [
       "<div>\n",
       "<style scoped>\n",
       "    .dataframe tbody tr th:only-of-type {\n",
       "        vertical-align: middle;\n",
       "    }\n",
       "\n",
       "    .dataframe tbody tr th {\n",
       "        vertical-align: top;\n",
       "    }\n",
       "\n",
       "    .dataframe thead th {\n",
       "        text-align: right;\n",
       "    }\n",
       "</style>\n",
       "<table border=\"1\" class=\"dataframe\">\n",
       "  <thead>\n",
       "    <tr style=\"text-align: right;\">\n",
       "      <th></th>\n",
       "      <th>Total</th>\n",
       "      <th>Percent</th>\n",
       "    </tr>\n",
       "  </thead>\n",
       "  <tbody>\n",
       "    <tr>\n",
       "      <th>GarageArea_GarageCars</th>\n",
       "      <td>81</td>\n",
       "      <td>0.055479</td>\n",
       "    </tr>\n",
       "  </tbody>\n",
       "</table>\n",
       "</div>"
      ],
      "text/plain": [
       "                       Total   Percent\n",
       "GarageArea_GarageCars     81  0.055479"
      ]
     },
     "execution_count": 25,
     "metadata": {},
     "output_type": "execute_result"
    }
   ],
   "source": [
    "df_missing_values_train = find_missing_values(df_train)\n",
    "df_missing_values_train"
   ]
  },
  {
   "cell_type": "code",
   "execution_count": 26,
   "metadata": {},
   "outputs": [
    {
     "data": {
      "text/html": [
       "<div>\n",
       "<style scoped>\n",
       "    .dataframe tbody tr th:only-of-type {\n",
       "        vertical-align: middle;\n",
       "    }\n",
       "\n",
       "    .dataframe tbody tr th {\n",
       "        vertical-align: top;\n",
       "    }\n",
       "\n",
       "    .dataframe thead th {\n",
       "        text-align: right;\n",
       "    }\n",
       "</style>\n",
       "<table border=\"1\" class=\"dataframe\">\n",
       "  <thead>\n",
       "    <tr style=\"text-align: right;\">\n",
       "      <th></th>\n",
       "      <th>Total</th>\n",
       "      <th>Percent</th>\n",
       "    </tr>\n",
       "  </thead>\n",
       "  <tbody>\n",
       "    <tr>\n",
       "      <th>GarageArea_GarageCars</th>\n",
       "      <td>81</td>\n",
       "      <td>0.055479</td>\n",
       "    </tr>\n",
       "  </tbody>\n",
       "</table>\n",
       "</div>"
      ],
      "text/plain": [
       "                       Total   Percent\n",
       "GarageArea_GarageCars     81  0.055479"
      ]
     },
     "execution_count": 26,
     "metadata": {},
     "output_type": "execute_result"
    }
   ],
   "source": [
    "df_missing_values_train = find_missing_values(df_train)\n",
    "df_missing_values_train"
   ]
  },
  {
   "cell_type": "code",
   "execution_count": 27,
   "metadata": {},
   "outputs": [],
   "source": [
    "df_train[\"GarageArea_GarageCars\"].fillna(0, inplace=True)\n",
    "df_test[\"GarageArea_GarageCars\"].fillna(0, inplace=True)"
   ]
  },
  {
   "attachments": {},
   "cell_type": "markdown",
   "metadata": {},
   "source": [
    "# Save Prepared Dataset after Complete Data Preprocessing"
   ]
  },
  {
   "cell_type": "code",
   "execution_count": 28,
   "metadata": {},
   "outputs": [],
   "source": [
    "# save prepared dataset as pickle file\n",
    "df_train.to_pickle('df_train_prepared_reduced.pkl')\n",
    "df_test.to_pickle('df_test_prepared_reduced.pkl')"
   ]
  },
  {
   "cell_type": "code",
   "execution_count": null,
   "metadata": {},
   "outputs": [],
   "source": []
  }
 ],
 "metadata": {
  "kernelspec": {
   "display_name": "base",
   "language": "python",
   "name": "python3"
  },
  "language_info": {
   "codemirror_mode": {
    "name": "ipython",
    "version": 3
   },
   "file_extension": ".py",
   "mimetype": "text/x-python",
   "name": "python",
   "nbconvert_exporter": "python",
   "pygments_lexer": "ipython3",
   "version": "3.9.12"
  },
  "orig_nbformat": 4,
  "vscode": {
   "interpreter": {
    "hash": "30d15984fd22aa96de85f16433eec91bbe2faea5d46ed3d4d24713e4f4ec970c"
   }
  }
 },
 "nbformat": 4,
 "nbformat_minor": 2
}
